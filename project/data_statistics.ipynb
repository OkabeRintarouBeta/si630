{
 "cells": [
  {
   "cell_type": "code",
   "execution_count": 2,
   "id": "d5fde6ed",
   "metadata": {},
   "outputs": [],
   "source": [
    "import os\n",
    "import re\n",
    "import json"
   ]
  },
  {
   "cell_type": "code",
   "execution_count": 6,
   "id": "88fc616f",
   "metadata": {},
   "outputs": [
    {
     "name": "stdout",
     "output_type": "stream",
     "text": [
      "blank_question_num: 14178\n",
      "direct_question_num 11243\n",
      "5445 6705 7006 6265\n"
     ]
    }
   ],
   "source": [
    "train_middle_data_path=r'../code/data/train/middle'\n",
    "train_high_data_path=r'../code/data/train/high'\n",
    "\n",
    "# count the number of \"_\" question and \"?\" question\n",
    "blank_question_num=0\n",
    "direct_question_num=0\n",
    "correct_A=0\n",
    "correct_B=0\n",
    "correct_C=0\n",
    "correct_D=0\n",
    "\n",
    "correct_A_list=[]\n",
    "\n",
    "\n",
    "\n",
    "for filename in os.listdir(train_middle_data_path):\n",
    "    file_path=train_middle_data_path+\"/\"+filename\n",
    "    with open(file_path,'r') as f:\n",
    "        json_text=json.loads(f.read())\n",
    "        correct_answers=json_text['answers']\n",
    "        options_list=json_text['options']\n",
    "        questions_list=json_text['questions']\n",
    "        article=json_text['article']\n",
    "\n",
    "        for i in range(len(questions_list)):\n",
    "            correct_answer=correct_answers[i]\n",
    "            question=questions_list[i]\n",
    "            correct=correct_answers[i]\n",
    "            \n",
    "            if len(re.findall('_',question))==0:\n",
    "                direct_question_num+=1\n",
    "            else:\n",
    "                blank_question_num+=1\n",
    "            \n",
    "            if correct=='A':\n",
    "                correct_A+=1\n",
    "            elif correct=='B':\n",
    "                correct_B+=1\n",
    "            elif correct=='C':\n",
    "                correct_C+=1\n",
    "            else:\n",
    "                correct_D+=1\n",
    "                \n",
    "print(\"blank_question_num:\",blank_question_num)\n",
    "print(\"direct_question_num\",direct_question_num)\n",
    "print(correct_A,correct_B,correct_C,correct_D)"
   ]
  },
  {
   "cell_type": "code",
   "execution_count": 7,
   "id": "32bc42e5",
   "metadata": {},
   "outputs": [
    {
     "name": "stdout",
     "output_type": "stream",
     "text": [
      "blank_question_num: 31897\n",
      "direct_question_num 30548\n",
      "13701 16021 16885 15838\n"
     ]
    }
   ],
   "source": [
    "train_middle_data_path=r'../code/data/train/middle'\n",
    "train_high_data_path=r'../code/data/train/high'\n",
    "\n",
    "# count the number of \"_\" question and \"?\" question\n",
    "blank_question_num=0\n",
    "direct_question_num=0\n",
    "correct_A=0\n",
    "correct_B=0\n",
    "correct_C=0\n",
    "correct_D=0\n",
    "\n",
    "\n",
    "\n",
    "for filename in os.listdir(train_high_data_path):\n",
    "    file_path=train_high_data_path+\"/\"+filename\n",
    "    with open(file_path,'r') as f:\n",
    "        json_text=json.loads(f.read())\n",
    "        correct_answers=json_text['answers']\n",
    "        options_list=json_text['options']\n",
    "        questions_list=json_text['questions']\n",
    "        article=json_text['article']\n",
    "\n",
    "        for i in range(len(questions_list)):\n",
    "            correct_answer=correct_answers[i]\n",
    "            question=questions_list[i]\n",
    "            correct=correct_answers[i]\n",
    "            \n",
    "            if len(re.findall('_',question))==0:\n",
    "                direct_question_num+=1\n",
    "            else:\n",
    "                blank_question_num+=1\n",
    "            \n",
    "            if correct=='A':\n",
    "                correct_A+=1\n",
    "            elif correct=='B':\n",
    "                correct_B+=1\n",
    "            elif correct=='C':\n",
    "                correct_C+=1\n",
    "            else:\n",
    "                correct_D+=1\n",
    "                \n",
    "print(\"blank_question_num:\",blank_question_num)\n",
    "print(\"direct_question_num\",direct_question_num)\n",
    "print(correct_A,correct_B,correct_C,correct_D)"
   ]
  },
  {
   "cell_type": "code",
   "execution_count": 6,
   "id": "fafec2f9",
   "metadata": {},
   "outputs": [],
   "source": [
    "import seaborn as sns\n",
    "import pandas as pd\n",
    "import matplotlib.pyplot as plt"
   ]
  },
  {
   "cell_type": "code",
   "execution_count": 17,
   "id": "c19e0d76",
   "metadata": {},
   "outputs": [
    {
     "data": {
      "text/html": [
       "<div>\n",
       "<style scoped>\n",
       "    .dataframe tbody tr th:only-of-type {\n",
       "        vertical-align: middle;\n",
       "    }\n",
       "\n",
       "    .dataframe tbody tr th {\n",
       "        vertical-align: top;\n",
       "    }\n",
       "\n",
       "    .dataframe thead th {\n",
       "        text-align: right;\n",
       "    }\n",
       "</style>\n",
       "<table border=\"1\" class=\"dataframe\">\n",
       "  <thead>\n",
       "    <tr style=\"text-align: right;\">\n",
       "      <th></th>\n",
       "      <th>Number</th>\n",
       "      <th>Choice</th>\n",
       "      <th>category</th>\n",
       "    </tr>\n",
       "  </thead>\n",
       "  <tbody>\n",
       "    <tr>\n",
       "      <th>0</th>\n",
       "      <td>5445</td>\n",
       "      <td>A</td>\n",
       "      <td>middle</td>\n",
       "    </tr>\n",
       "    <tr>\n",
       "      <th>1</th>\n",
       "      <td>6705</td>\n",
       "      <td>B</td>\n",
       "      <td>middle</td>\n",
       "    </tr>\n",
       "    <tr>\n",
       "      <th>2</th>\n",
       "      <td>7006</td>\n",
       "      <td>C</td>\n",
       "      <td>middle</td>\n",
       "    </tr>\n",
       "    <tr>\n",
       "      <th>3</th>\n",
       "      <td>6265</td>\n",
       "      <td>D</td>\n",
       "      <td>middle</td>\n",
       "    </tr>\n",
       "    <tr>\n",
       "      <th>4</th>\n",
       "      <td>13701</td>\n",
       "      <td>A</td>\n",
       "      <td>high</td>\n",
       "    </tr>\n",
       "    <tr>\n",
       "      <th>5</th>\n",
       "      <td>16021</td>\n",
       "      <td>B</td>\n",
       "      <td>high</td>\n",
       "    </tr>\n",
       "    <tr>\n",
       "      <th>6</th>\n",
       "      <td>16885</td>\n",
       "      <td>C</td>\n",
       "      <td>high</td>\n",
       "    </tr>\n",
       "    <tr>\n",
       "      <th>7</th>\n",
       "      <td>15838</td>\n",
       "      <td>D</td>\n",
       "      <td>high</td>\n",
       "    </tr>\n",
       "  </tbody>\n",
       "</table>\n",
       "</div>"
      ],
      "text/plain": [
       "   Number Choice category\n",
       "0    5445      A   middle\n",
       "1    6705      B   middle\n",
       "2    7006      C   middle\n",
       "3    6265      D   middle\n",
       "4   13701      A     high\n",
       "5   16021      B     high\n",
       "6   16885      C     high\n",
       "7   15838      D     high"
      ]
     },
     "execution_count": 17,
     "metadata": {},
     "output_type": "execute_result"
    }
   ],
   "source": [
    "nums=[5445,6705,7006,6265,13701,16021,16885,15838]\n",
    "choices=['A','B','C','D','A','B','C','D']\n",
    "categories=['middle','middle','middle','middle','high','high','high','high']\n",
    "data=list(zip(nums,choices,categories))\n",
    "choices_df=pd.DataFrame(data,columns=['Number','Choice','category'])\n",
    "choices_df"
   ]
  },
  {
   "cell_type": "code",
   "execution_count": 19,
   "id": "5fa6bcc3",
   "metadata": {},
   "outputs": [
    {
     "data": {
      "image/png": "[encoded data removed]",
      "text/plain": [
       "<Figure size 432x288 with 1 Axes>"
      ]
     },
     "metadata": {
      "needs_background": "light"
     },
     "output_type": "display_data"
    }
   ],
   "source": [
    "ax = sns.barplot(x=\"Choice\", y=\"Number\", hue=\"category\", data=choices_df)\n",
    "plt.legend(bbox_to_anchor=(1.02, 1), loc='upper left', borderaxespad=0)\n",
    "for container in ax.containers:\n",
    "    ax.bar_label(container)"
   ]
  },
  {
   "cell_type": "code",
   "execution_count": 33,
   "id": "5e4e174e",
   "metadata": {},
   "outputs": [
    {
     "data": {
      "text/html": [
       "<div>\n",
       "<style scoped>\n",
       "    .dataframe tbody tr th:only-of-type {\n",
       "        vertical-align: middle;\n",
       "    }\n",
       "\n",
       "    .dataframe tbody tr th {\n",
       "        vertical-align: top;\n",
       "    }\n",
       "\n",
       "    .dataframe thead th {\n",
       "        text-align: right;\n",
       "    }\n",
       "</style>\n",
       "<table border=\"1\" class=\"dataframe\">\n",
       "  <thead>\n",
       "    <tr style=\"text-align: right;\">\n",
       "      <th></th>\n",
       "      <th>Number</th>\n",
       "      <th>Type</th>\n",
       "      <th>Category</th>\n",
       "    </tr>\n",
       "  </thead>\n",
       "  <tbody>\n",
       "    <tr>\n",
       "      <th>0</th>\n",
       "      <td>14178</td>\n",
       "      <td>blank</td>\n",
       "      <td>middle</td>\n",
       "    </tr>\n",
       "    <tr>\n",
       "      <th>1</th>\n",
       "      <td>11243</td>\n",
       "      <td>direct</td>\n",
       "      <td>middle</td>\n",
       "    </tr>\n",
       "    <tr>\n",
       "      <th>2</th>\n",
       "      <td>31897</td>\n",
       "      <td>blank</td>\n",
       "      <td>high</td>\n",
       "    </tr>\n",
       "    <tr>\n",
       "      <th>3</th>\n",
       "      <td>30548</td>\n",
       "      <td>direct</td>\n",
       "      <td>high</td>\n",
       "    </tr>\n",
       "  </tbody>\n",
       "</table>\n",
       "</div>"
      ],
      "text/plain": [
       "   Number    Type Category\n",
       "0   14178   blank   middle\n",
       "1   11243  direct   middle\n",
       "2   31897   blank     high\n",
       "3   30548  direct     high"
      ]
     },
     "execution_count": 33,
     "metadata": {},
     "output_type": "execute_result"
    }
   ],
   "source": [
    "nums=[14178,11243,31897,30548]\n",
    "problem_type=['blank','direct','blank','direct']\n",
    "categories=['middle','middle','high','high']\n",
    "data=list(zip(nums,problem_type,categories))\n",
    "choices_df=pd.DataFrame(data,columns=['Number','Type','Category'])\n",
    "choices_df"
   ]
  },
  {
   "cell_type": "code",
   "execution_count": 34,
   "id": "dad6f8d3",
   "metadata": {},
   "outputs": [
    {
     "data": {
      "image/png": "[encoded data removed]",
      "text/plain": [
       "<Figure size 432x288 with 1 Axes>"
      ]
     },
     "metadata": {
      "needs_background": "light"
     },
     "output_type": "display_data"
    }
   ],
   "source": [
    "ax = sns.barplot(x=\"Category\", y=\"Number\", hue=\"Type\", data=choices_df)\n",
    "plt.legend(bbox_to_anchor=(1.02, 1), loc='upper left', borderaxespad=0)\n",
    "for container in ax.containers:\n",
    "    ax.bar_label(container)"
   ]
  },
  {
   "cell_type": "code",
   "execution_count": 37,
   "id": "ae6db0ef",
   "metadata": {},
   "outputs": [
    {
     "name": "stdout",
     "output_type": "stream",
     "text": [
      "blank_question_num: 805\n",
      "direct_question_num 631\n",
      "311 384 386 355\n"
     ]
    }
   ],
   "source": [
    "dev_middle_data_path=r'../code/data/dev/middle'\n",
    "dev_high_data_path=r'../code/data/dev/high'\n",
    "\n",
    "# count the number of \"_\" question and \"?\" question\n",
    "blank_question_num=0\n",
    "direct_question_num=0\n",
    "correct_A=0\n",
    "correct_B=0\n",
    "correct_C=0\n",
    "correct_D=0\n",
    "\n",
    "\n",
    "\n",
    "for filename in os.listdir(dev_middle_data_path):\n",
    "    file_path=dev_middle_data_path+\"/\"+filename\n",
    "    with open(file_path,'r') as f:\n",
    "        json_text=json.loads(f.read())\n",
    "        correct_answers=json_text['answers']\n",
    "        options_list=json_text['options']\n",
    "        questions_list=json_text['questions']\n",
    "        article=json_text['article']\n",
    "\n",
    "        for i in range(len(questions_list)):\n",
    "            correct_answer=correct_answers[i]\n",
    "            question=questions_list[i]\n",
    "            correct=correct_answers[i]\n",
    "            \n",
    "            if len(re.findall('_',question))==0:\n",
    "                direct_question_num+=1\n",
    "            else:\n",
    "                blank_question_num+=1\n",
    "            \n",
    "            if correct=='A':\n",
    "                correct_A+=1\n",
    "            elif correct=='B':\n",
    "                correct_B+=1\n",
    "            elif correct=='C':\n",
    "                correct_C+=1\n",
    "            else:\n",
    "                correct_D+=1\n",
    "                \n",
    "print(\"blank_question_num:\",blank_question_num)\n",
    "print(\"direct_question_num\",direct_question_num)\n",
    "print(correct_A,correct_B,correct_C,correct_D)"
   ]
  },
  {
   "cell_type": "code",
   "execution_count": 36,
   "id": "96b94f55",
   "metadata": {},
   "outputs": [
    {
     "name": "stdout",
     "output_type": "stream",
     "text": [
      "blank_question_num: 1770\n",
      "direct_question_num 1681\n",
      "756 907 917 871\n"
     ]
    }
   ],
   "source": [
    "dev_middle_data_path=r'../code/data/dev/middle'\n",
    "dev_high_data_path=r'../code/data/dev/high'\n",
    "\n",
    "# count the number of \"_\" question and \"?\" question\n",
    "blank_question_num=0\n",
    "direct_question_num=0\n",
    "correct_A=0\n",
    "correct_B=0\n",
    "correct_C=0\n",
    "correct_D=0\n",
    "\n",
    "\n",
    "\n",
    "for filename in os.listdir(dev_high_data_path):\n",
    "    file_path=dev_high_data_path+\"/\"+filename\n",
    "    with open(file_path,'r') as f:\n",
    "        json_text=json.loads(f.read())\n",
    "        correct_answers=json_text['answers']\n",
    "        options_list=json_text['options']\n",
    "        questions_list=json_text['questions']\n",
    "        article=json_text['article']\n",
    "\n",
    "        for i in range(len(questions_list)):\n",
    "            correct_answer=correct_answers[i]\n",
    "            question=questions_list[i]\n",
    "            correct=correct_answers[i]\n",
    "            \n",
    "            if len(re.findall('_',question))==0:\n",
    "                direct_question_num+=1\n",
    "            else:\n",
    "                blank_question_num+=1\n",
    "            \n",
    "            if correct=='A':\n",
    "                correct_A+=1\n",
    "            elif correct=='B':\n",
    "                correct_B+=1\n",
    "            elif correct=='C':\n",
    "                correct_C+=1\n",
    "            else:\n",
    "                correct_D+=1\n",
    "                \n",
    "print(\"blank_question_num:\",blank_question_num)\n",
    "print(\"direct_question_num\",direct_question_num)\n",
    "print(correct_A,correct_B,correct_C,correct_D)"
   ]
  },
  {
   "cell_type": "code",
   "execution_count": 39,
   "id": "21664375",
   "metadata": {},
   "outputs": [
    {
     "data": {
      "image/png": "[encoded data removed]",
      "text/plain": [
       "<Figure size 432x288 with 1 Axes>"
      ]
     },
     "metadata": {
      "needs_background": "light"
     },
     "output_type": "display_data"
    }
   ],
   "source": [
    "nums=[805,631,1770,1681]\n",
    "problem_type=['blank','direct','blank','direct']\n",
    "categories=['middle','middle','high','high']\n",
    "data=list(zip(nums,problem_type,categories))\n",
    "choices_df=pd.DataFrame(data,columns=['Number','Type','Category'])\n",
    "ax = sns.barplot(x=\"Category\", y=\"Number\", hue=\"Type\", data=choices_df)\n",
    "plt.legend(bbox_to_anchor=(1.02, 1), loc='upper left', borderaxespad=0)\n",
    "for container in ax.containers:\n",
    "    ax.bar_label(container)"
   ]
  },
  {
   "cell_type": "code",
   "execution_count": 41,
   "id": "8107251d",
   "metadata": {},
   "outputs": [
    {
     "data": {
      "image/png": "[encoded data removed]",
      "text/plain": [
       "<Figure size 432x288 with 1 Axes>"
      ]
     },
     "metadata": {
      "needs_background": "light"
     },
     "output_type": "display_data"
    }
   ],
   "source": [
    "nums=[311,384,386,355,756,907,917,871]\n",
    "choices=['A','B','C','D','A','B','C','D']\n",
    "categories=['middle','middle','middle','middle','high','high','high','high']\n",
    "data=list(zip(nums,choices,categories))\n",
    "choices_df=pd.DataFrame(data,columns=['Number','Choice','category'])\n",
    "ax = sns.barplot(x=\"Choice\", y=\"Number\", hue=\"category\", data=choices_df)\n",
    "plt.legend(bbox_to_anchor=(1.02, 1), loc='upper left', borderaxespad=0)\n",
    "for container in ax.containers:\n",
    "    ax.bar_label(container)"
   ]
  },
  {
   "cell_type": "code",
   "execution_count": 3,
   "id": "241131e0",
   "metadata": {},
   "outputs": [
    {
     "name": "stdout",
     "output_type": "stream",
     "text": [
      "blank_question_num: 792\n",
      "direct_question_num 644\n",
      "309 388 374 365\n"
     ]
    }
   ],
   "source": [
    "train_middle_data_path=r'../code/data/test/middle'\n",
    "train_high_data_path=r'../code/data/test/high'\n",
    "\n",
    "# count the number of \"_\" question and \"?\" question\n",
    "blank_question_num=0\n",
    "direct_question_num=0\n",
    "correct_A=0\n",
    "correct_B=0\n",
    "correct_C=0\n",
    "correct_D=0\n",
    "\n",
    "correct_A_list=[]\n",
    "\n",
    "\n",
    "\n",
    "for filename in os.listdir(train_middle_data_path):\n",
    "    file_path=train_middle_data_path+\"/\"+filename\n",
    "    with open(file_path,'r') as f:\n",
    "        json_text=json.loads(f.read())\n",
    "        correct_answers=json_text['answers']\n",
    "        options_list=json_text['options']\n",
    "        questions_list=json_text['questions']\n",
    "        article=json_text['article']\n",
    "\n",
    "        for i in range(len(questions_list)):\n",
    "            correct_answer=correct_answers[i]\n",
    "            question=questions_list[i]\n",
    "            correct=correct_answers[i]\n",
    "            \n",
    "            if len(re.findall('_',question))==0:\n",
    "                direct_question_num+=1\n",
    "            else:\n",
    "                blank_question_num+=1\n",
    "            \n",
    "            if correct=='A':\n",
    "                correct_A+=1\n",
    "            elif correct=='B':\n",
    "                correct_B+=1\n",
    "            elif correct=='C':\n",
    "                correct_C+=1\n",
    "            else:\n",
    "                correct_D+=1\n",
    "                \n",
    "print(\"blank_question_num:\",blank_question_num)\n",
    "print(\"direct_question_num\",direct_question_num)\n",
    "print(correct_A,correct_B,correct_C,correct_D)"
   ]
  },
  {
   "cell_type": "code",
   "execution_count": 4,
   "id": "d8ee8f16",
   "metadata": {},
   "outputs": [
    {
     "name": "stdout",
     "output_type": "stream",
     "text": [
      "blank_question_num: 1848\n",
      "direct_question_num 1650\n",
      "754 935 950 859\n"
     ]
    }
   ],
   "source": [
    "train_middle_data_path=r'../code/data/test/middle'\n",
    "train_high_data_path=r'../code/data/test/high'\n",
    "\n",
    "# count the number of \"_\" question and \"?\" question\n",
    "blank_question_num=0\n",
    "direct_question_num=0\n",
    "correct_A=0\n",
    "correct_B=0\n",
    "correct_C=0\n",
    "correct_D=0\n",
    "\n",
    "correct_A_list=[]\n",
    "\n",
    "\n",
    "\n",
    "for filename in os.listdir(train_high_data_path):\n",
    "    file_path=train_high_data_path+\"/\"+filename\n",
    "    with open(file_path,'r') as f:\n",
    "        json_text=json.loads(f.read())\n",
    "        correct_answers=json_text['answers']\n",
    "        options_list=json_text['options']\n",
    "        questions_list=json_text['questions']\n",
    "        article=json_text['article']\n",
    "\n",
    "        for i in range(len(questions_list)):\n",
    "            correct_answer=correct_answers[i]\n",
    "            question=questions_list[i]\n",
    "            correct=correct_answers[i]\n",
    "            \n",
    "            if len(re.findall('_',question))==0:\n",
    "                direct_question_num+=1\n",
    "            else:\n",
    "                blank_question_num+=1\n",
    "            \n",
    "            if correct=='A':\n",
    "                correct_A+=1\n",
    "            elif correct=='B':\n",
    "                correct_B+=1\n",
    "            elif correct=='C':\n",
    "                correct_C+=1\n",
    "            else:\n",
    "                correct_D+=1\n",
    "                \n",
    "print(\"blank_question_num:\",blank_question_num)\n",
    "print(\"direct_question_num\",direct_question_num)\n",
    "print(correct_A,correct_B,correct_C,correct_D)"
   ]
  },
  {
   "cell_type": "code",
   "execution_count": 7,
   "id": "5e8f8821",
   "metadata": {},
   "outputs": [
    {
     "data": {
      "image/png": "[encoded data removed]",
      "text/plain": [
       "<Figure size 432x288 with 1 Axes>"
      ]
     },
     "metadata": {
      "needs_background": "light"
     },
     "output_type": "display_data"
    }
   ],
   "source": [
    "nums=[309,388,374,365,754,935,950,859]\n",
    "choices=['A','B','C','D','A','B','C','D']\n",
    "categories=['middle','middle','middle','middle','high','high','high','high']\n",
    "data=list(zip(nums,choices,categories))\n",
    "choices_df=pd.DataFrame(data,columns=['Number','Choice','category'])\n",
    "ax = sns.barplot(x=\"Choice\", y=\"Number\", hue=\"category\", data=choices_df)\n",
    "plt.legend(bbox_to_anchor=(1.02, 1), loc='upper left', borderaxespad=0)\n",
    "for container in ax.containers:\n",
    "    ax.bar_label(container)"
   ]
  },
  {
   "cell_type": "code",
   "execution_count": null,
   "id": "8b67ab91",
   "metadata": {},
   "outputs": [],
   "source": []
  }
 ],
 "metadata": {
  "kernelspec": {
   "display_name": "Python 3 (ipykernel)",
   "language": "python",
   "name": "python3"
  },
  "language_info": {
   "codemirror_mode": {
    "name": "ipython",
    "version": 3
   },
   "file_extension": ".py",
   "mimetype": "text/x-python",
   "name": "python",
   "nbconvert_exporter": "python",
   "pygments_lexer": "ipython3",
   "version": "3.7.11"
  }
 },
 "nbformat": 4,
 "nbformat_minor": 5
}
