{
 "cells": [
  {
   "cell_type": "code",
   "execution_count": 5,
   "id": "b295a594",
   "metadata": {},
   "outputs": [
    {
     "name": "stdout",
     "output_type": "stream",
     "text": [
      "Defaulting to user installation because normal site-packages is not writeable\n",
      "Requirement already satisfied: torch in /home/zihuiliu/.local/lib/python3.8/site-packages (1.10.2)\n",
      "Requirement already satisfied: typing-extensions in /sw/arcts/centos7/python3.8-anaconda/2021.05/lib/python3.8/site-packages (from torch) (3.7.4.3)\n"
     ]
    }
   ],
   "source": [
    "!pip install torch"
   ]
  },
  {
   "cell_type": "code",
   "execution_count": 1,
   "id": "6b9f853d",
   "metadata": {
    "scrolled": true
   },
   "outputs": [],
   "source": [
    "import torch"
   ]
  },
  {
   "cell_type": "code",
   "execution_count": 2,
   "id": "0aeb18f7",
   "metadata": {},
   "outputs": [
    {
     "data": {
      "text/plain": [
       "True"
      ]
     },
     "execution_count": 2,
     "metadata": {},
     "output_type": "execute_result"
    }
   ],
   "source": [
    "torch.cuda.is_available()"
   ]
  },
  {
   "cell_type": "code",
   "execution_count": 3,
   "id": "79e57870",
   "metadata": {},
   "outputs": [],
   "source": [
    "device=torch.device(\"cuda\" if torch.cuda.is_available else \"cpu\")"
   ]
  },
  {
   "cell_type": "code",
   "execution_count": 4,
   "id": "cf320beb",
   "metadata": {},
   "outputs": [
    {
     "data": {
      "text/plain": [
       "device(type='cuda')"
      ]
     },
     "execution_count": 4,
     "metadata": {},
     "output_type": "execute_result"
    }
   ],
   "source": [
    "device"
   ]
  },
  {
   "cell_type": "code",
   "execution_count": 4,
   "id": "d7bed128",
   "metadata": {},
   "outputs": [
    {
     "name": "stdout",
     "output_type": "stream",
     "text": [
      "Defaulting to user installation because normal site-packages is not writeable\n",
      "Requirement already satisfied: transformers in /home/zihuiliu/.local/lib/python3.8/site-packages (4.17.0)\n",
      "Requirement already satisfied: filelock in /sw/arcts/centos7/python3.8-anaconda/2021.05/lib/python3.8/site-packages (from transformers) (3.0.12)\n",
      "Requirement already satisfied: pyyaml>=5.1 in /sw/arcts/centos7/python3.8-anaconda/2021.05/lib/python3.8/site-packages (from transformers) (5.4.1)\n",
      "Requirement already satisfied: packaging>=20.0 in /sw/arcts/centos7/python3.8-anaconda/2021.05/lib/python3.8/site-packages (from transformers) (20.9)\n",
      "Requirement already satisfied: regex!=2019.12.17 in /sw/arcts/centos7/python3.8-anaconda/2021.05/lib/python3.8/site-packages (from transformers) (2021.4.4)\n",
      "Requirement already satisfied: tokenizers!=0.11.3,>=0.11.1 in /home/zihuiliu/.local/lib/python3.8/site-packages (from transformers) (0.11.6)\n",
      "Requirement already satisfied: sacremoses in /home/zihuiliu/.local/lib/python3.8/site-packages (from transformers) (0.0.47)\n",
      "Requirement already satisfied: tqdm>=4.27 in /sw/arcts/centos7/python3.8-anaconda/2021.05/lib/python3.8/site-packages (from transformers) (4.59.0)\n",
      "Requirement already satisfied: numpy>=1.17 in /sw/arcts/centos7/python3.8-anaconda/2021.05/lib/python3.8/site-packages (from transformers) (1.20.1)\n",
      "Requirement already satisfied: huggingface-hub<1.0,>=0.1.0 in /home/zihuiliu/.local/lib/python3.8/site-packages (from transformers) (0.4.0)\n",
      "Requirement already satisfied: requests in /sw/arcts/centos7/python3.8-anaconda/2021.05/lib/python3.8/site-packages (from transformers) (2.25.1)\n",
      "Requirement already satisfied: typing-extensions>=3.7.4.3 in /sw/arcts/centos7/python3.8-anaconda/2021.05/lib/python3.8/site-packages (from huggingface-hub<1.0,>=0.1.0->transformers) (3.7.4.3)\n",
      "Requirement already satisfied: pyparsing>=2.0.2 in /sw/arcts/centos7/python3.8-anaconda/2021.05/lib/python3.8/site-packages (from packaging>=20.0->transformers) (2.4.7)\n",
      "Requirement already satisfied: idna<3,>=2.5 in /sw/arcts/centos7/python3.8-anaconda/2021.05/lib/python3.8/site-packages (from requests->transformers) (2.10)\n",
      "Requirement already satisfied: chardet<5,>=3.0.2 in /sw/arcts/centos7/python3.8-anaconda/2021.05/lib/python3.8/site-packages (from requests->transformers) (4.0.0)\n",
      "Requirement already satisfied: certifi>=2017.4.17 in /sw/arcts/centos7/python3.8-anaconda/2021.05/lib/python3.8/site-packages (from requests->transformers) (2020.12.5)\n",
      "Requirement already satisfied: urllib3<1.27,>=1.21.1 in /sw/arcts/centos7/python3.8-anaconda/2021.05/lib/python3.8/site-packages (from requests->transformers) (1.26.4)\n",
      "Requirement already satisfied: click in /sw/arcts/centos7/python3.8-anaconda/2021.05/lib/python3.8/site-packages (from sacremoses->transformers) (7.1.2)\n",
      "Requirement already satisfied: six in /sw/arcts/centos7/python3.8-anaconda/2021.05/lib/python3.8/site-packages (from sacremoses->transformers) (1.15.0)\n",
      "Requirement already satisfied: joblib in /sw/arcts/centos7/python3.8-anaconda/2021.05/lib/python3.8/site-packages (from sacremoses->transformers) (1.0.1)\n"
     ]
    }
   ],
   "source": [
    "!pip install transformers"
   ]
  },
  {
   "cell_type": "code",
   "execution_count": 5,
   "id": "21604650",
   "metadata": {},
   "outputs": [],
   "source": [
    "import logging\n",
    "import os\n",
    "import argparse\n",
    "import random\n",
    "import json\n",
    "import numpy as np\n",
    "import torch\n",
    "import glob\n",
    "from torch.utils.data import TensorDataset, DataLoader, RandomSampler, SequentialSampler\n",
    "# from utiles import read_race_examples,convert_examples_to_features,accuracy,select_field\n",
    "from pytorch_pretrained_bert.tokenization import BertTokenizer\n",
    "from pytorch_pretrained_bert.modeling import BertForMultipleChoice\n",
    "from pytorch_pretrained_bert.optimization import BertAdam\n",
    "from pytorch_pretrained_bert.file_utils import PYTORCH_PRETRAINED_BERT_CACHE\n",
    "from tqdm import tqdm\n",
    "from transformers import BertModel, BertTokenizer\n",
    "\n"
   ]
  },
  {
   "cell_type": "code",
   "execution_count": 6,
   "id": "83f0c306",
   "metadata": {},
   "outputs": [],
   "source": [
    "class RaceSequence(object):\n",
    "    def __init__(self,article,question,option1,option2,option3,option4,label = None):\n",
    "        self.article = article\n",
    "        self.question=question\n",
    "        self.options=[option1,option2,option3,option4]\n",
    "        self.label = label\n",
    "        \n",
    "\n",
    "class InputSequence(object):\n",
    "    def __init__(self,sequence_list,label):\n",
    "        self.choices_sequence = [\n",
    "            {\n",
    "                'input_sequence': input_sequence,\n",
    "                'segment_id': segment_id,\n",
    "                'mask_id': mask_id\n",
    "            }\n",
    "            for input_sequence,segment_id,mask_id in sequence_list\n",
    "        ]\n",
    "        self.label = label\n"
   ]
  },
  {
   "cell_type": "code",
   "execution_count": 7,
   "id": "ce55fcea",
   "metadata": {},
   "outputs": [],
   "source": [
    "def to_input(input_path):\n",
    "    cloze_input_list=[]\n",
    "    direct_input_list=[]\n",
    "    for filename in os.listdir(input_path):\n",
    "        file_path=input_path+\"/\"+filename\n",
    "        # print(file_path)\n",
    "        with open(file_path,'r',encoding='utf-8') as f:\n",
    "            json_text=json.loads(f.read())\n",
    "            correct_answers=json_text['answers']\n",
    "            options_list=json_text['options']\n",
    "            questions_list=json_text['questions']\n",
    "            article=json_text['article']\n",
    "\n",
    "            for i in range(len(questions_list)):\n",
    "                correct_answer=correct_answers[i]\n",
    "                label=ord(correct_answer)-ord('A')\n",
    "                options=options_list[i]\n",
    "                question=questions_list[i]\n",
    "                if '_' in question:\n",
    "                    case=RaceSequence(article,question,options[0],options[1],options[2],options[3],label)\n",
    "                    cloze_input_list.append(case)\n",
    "                else:\n",
    "                    case=RaceSequence(article,question,options[0],options[1],options[2],options[3],label)\n",
    "                    direct_input_list.append(case)\n",
    "    return cloze_input_list,direct_input_list"
   ]
  },
  {
   "cell_type": "code",
   "execution_count": 8,
   "id": "2708b8b4",
   "metadata": {},
   "outputs": [],
   "source": [
    "def input_to_sequence_question(input_list,max_length,tokenizer,is_training):\n",
    "\n",
    "    choice_list = []\n",
    "    for case in input_list:\n",
    "#         print(case.article)\n",
    "        article_token = tokenizer.tokenize(case.article)\n",
    "        question_token = tokenizer.tokenize(case.question)\n",
    "        \n",
    "        sequence_list = []\n",
    "        for option in case.options:\n",
    "            \n",
    "            question_answer_token = question_token + tokenizer.tokenize(option)\n",
    "            \n",
    "            while len(article_token)+len(question_answer_token)>max_length-3:\n",
    "                if  len(article_token)>len(question_answer_token):\n",
    "                    article_token.pop()\n",
    "                else:\n",
    "                    question_answer_token.pop()\n",
    "            \n",
    "            sequence_token = [\"[CLS]\"] + article_token + [\"[SEP]\"] + question_answer_token + [\"[SEP]\"]\n",
    "            segment_id = [0] * (len(article_token) + 2) + [1] * (len(question_answer_token) + 1)\n",
    "            input_sequence = tokenizer.convert_tokens_to_ids(sequence_token)\n",
    "            mask_id = [1] * len(input_sequence)\n",
    "\n",
    "            # Zero-pad up to the sequence length.\n",
    "            for i in range(max_length-len(input_sequence)):\n",
    "                input_sequence+=[0]\n",
    "                mask_id+=[0]\n",
    "                segment_id+=[0]\n",
    "\n",
    "            sequence_list.append((input_sequence,segment_id,mask_id))\n",
    "\n",
    "        label = case.label\n",
    "\n",
    "        choice_list.append(InputSequence(sequence_list,label))\n",
    "\n",
    "    return choice_list\n",
    "\n",
    "\n",
    "\n",
    "\n",
    "\n",
    "\n",
    "def input_to_sequence_cloze(input_list,max_length,tokenizer,is_training):\n",
    "\n",
    "    choice_list = []\n",
    "    for case in input_list:\n",
    "#         print(case.article)\n",
    "        article_token = tokenizer.tokenize(case.article)\n",
    "#         question_token = tokenizer.tokenize(case.question)\n",
    "        \n",
    "        sequence_list = []\n",
    "        for option in case.options:\n",
    "            question_answer=case.question.replace(\"_\",option)\n",
    "            \n",
    "            question_answer_token = tokenizer.tokenize(question_answer)\n",
    "            \n",
    "            while len(article_token)+len(question_answer_token)>max_length-3:\n",
    "                if  len(article_token)>len(question_answer_token):\n",
    "                    article_token.pop()\n",
    "                else:\n",
    "                    question_answer_token.pop()\n",
    "            \n",
    "            sequence_token = [\"[CLS]\"] + article_token + [\"[SEP]\"] + question_answer_token + [\"[SEP]\"]\n",
    "            segment_id = [0] * (len(article_token) + 2) + [1] * (len(question_answer_token) + 1)\n",
    "            input_sequence = tokenizer.convert_tokens_to_ids(sequence_token)\n",
    "            mask_id = [1] * len(input_sequence)\n",
    "\n",
    "            # Zero-pad up to the sequence length.\n",
    "            for i in range(max_length-len(input_sequence)):\n",
    "                input_sequence+=[0]\n",
    "                mask_id+=[0]\n",
    "                segment_id+=[0]\n",
    "\n",
    "            sequence_list.append((input_sequence,segment_id,mask_id))\n",
    "\n",
    "        label = case.label\n",
    "\n",
    "        choice_list.append(InputSequence(sequence_list,label))\n",
    "\n",
    "    return choice_list\n"
   ]
  },
  {
   "cell_type": "code",
   "execution_count": 9,
   "id": "81bf03cf",
   "metadata": {},
   "outputs": [
    {
     "name": "stdout",
     "output_type": "stream",
     "text": [
      "train_input completed!\n"
     ]
    }
   ],
   "source": [
    "train_middle_path='data/train/middle'\n",
    "train_high_path='data/train/high'\n",
    "\n",
    "max_seq_length=360\n",
    "is_training=True\n",
    "tokenizer = BertTokenizer.from_pretrained(\"bert-base-uncased\")\n",
    "\n",
    "\n",
    "train_input_cloze,train_input_direct=to_input(train_middle_path)\n",
    "train_input_high_cloze,train_input_high_direct=to_input(train_high_path)\n",
    "train_input_cloze+=train_input_high_cloze\n",
    "train_input_direct+=train_input_high_direct\n",
    "print(\"train_input completed!\")\n",
    "input_sequences_question=input_to_sequence_question(train_input_direct, max_seq_length,tokenizer,is_training)\n",
    "input_sequences_cloze=input_to_sequence_cloze(train_input_cloze, max_seq_length,tokenizer,is_training)"
   ]
  },
  {
   "cell_type": "code",
   "execution_count": 10,
   "id": "e8cdc77b",
   "metadata": {},
   "outputs": [],
   "source": [
    "train_input=train_input_cloze+train_input_direct"
   ]
  },
  {
   "cell_type": "code",
   "execution_count": 11,
   "id": "33ef5c60",
   "metadata": {},
   "outputs": [],
   "source": [
    "input_sequences=input_sequences_question+input_sequences_cloze"
   ]
  },
  {
   "cell_type": "code",
   "execution_count": 12,
   "id": "0dfc43e3",
   "metadata": {},
   "outputs": [],
   "source": [
    "eval_middle_path='data/dev/middle'\n",
    "max_seq_length=360\n",
    "is_training=False\n",
    "# tokenizer = BertTokenizer.from_pretrained(\"bert-base-uncased\")\n",
    "\n",
    "eval_input_middle_cloze,eval_input_middle_direct=to_input(eval_middle_path)\n",
    "\n",
    "input_sequences_eval_middle_cloze=input_to_sequence_cloze(eval_input_middle_cloze, max_seq_length,tokenizer,is_training)\n",
    "input_sequences_eval_middle_direct=input_to_sequence_question(eval_input_middle_direct, max_seq_length,tokenizer,is_training)\n",
    "input_sequences_eval_middle=input_sequences_eval_middle_cloze+input_sequences_eval_middle_direct"
   ]
  },
  {
   "cell_type": "code",
   "execution_count": 13,
   "id": "e37fef81",
   "metadata": {},
   "outputs": [],
   "source": [
    "def warmup_linear(x, warmup=0.002):\n",
    "    if x < warmup:\n",
    "        return x/warmup\n",
    "    return 1.0 - x\n",
    "\n",
    "\n",
    "def accuracy(out, labels):\n",
    "    outputs = np.argmax(out, axis=1)\n",
    "    return np.sum(outputs == labels)"
   ]
  },
  {
   "cell_type": "code",
   "execution_count": 14,
   "id": "51190fbe",
   "metadata": {},
   "outputs": [],
   "source": [
    "def to_all_tensor(input_sequences,key):\n",
    "    all_input_sequences=[]\n",
    "    for input_sequence in input_sequences:\n",
    "        lst=[]\n",
    "        for case in input_sequence.choices_sequence:\n",
    "            lst.append(case[key])\n",
    "        all_input_sequences.append(lst)\n",
    "    return torch.tensor(all_input_sequences,dtype=torch.long)"
   ]
  },
  {
   "cell_type": "code",
   "execution_count": 15,
   "id": "6247024a",
   "metadata": {},
   "outputs": [],
   "source": [
    "train_input_sequence=to_all_tensor(input_sequences,'input_sequence')\n",
    "train_segment_id=to_all_tensor(input_sequences,'segment_id')\n",
    "train_mask_id=to_all_tensor(input_sequences,'mask_id')\n",
    "train_label=torch.tensor([case.label for case in input_sequences],dtype=torch.long)"
   ]
  },
  {
   "cell_type": "code",
   "execution_count": 16,
   "id": "5e1fd37d",
   "metadata": {},
   "outputs": [],
   "source": [
    "eval_input_sequence_middle=to_all_tensor(input_sequences_eval_middle,'input_sequence')\n",
    "eval_segment_id_middle=to_all_tensor(input_sequences_eval_middle,'segment_id')\n",
    "eval_mask_id_middle=to_all_tensor(input_sequences_eval_middle,'mask_id')\n",
    "eval_label_middle=torch.tensor([case.label for case in input_sequences_eval_middle],dtype=torch.long)"
   ]
  },
  {
   "cell_type": "code",
   "execution_count": 17,
   "id": "8bb9db17",
   "metadata": {
    "scrolled": true
   },
   "outputs": [
    {
     "data": {
      "text/plain": [
       "torch.Size([1436, 4, 360])"
      ]
     },
     "execution_count": 17,
     "metadata": {},
     "output_type": "execute_result"
    }
   ],
   "source": [
    "eval_input_sequence_middle.shape"
   ]
  },
  {
   "cell_type": "code",
   "execution_count": 18,
   "id": "a1c5b96f",
   "metadata": {},
   "outputs": [
    {
     "data": {
      "text/plain": [
       "torch.Size([87866, 4, 360])"
      ]
     },
     "execution_count": 18,
     "metadata": {},
     "output_type": "execute_result"
    }
   ],
   "source": [
    "train_input_sequence.shape"
   ]
  },
  {
   "cell_type": "code",
   "execution_count": 19,
   "id": "f8719e87",
   "metadata": {},
   "outputs": [],
   "source": [
    "device=torch.device(\"cuda\" if torch.cuda.is_available else \"cpu\")\n",
    "\n",
    "model = BertForMultipleChoice.from_pretrained(\"MiniLM-L6-H384-distilled-from-BERT-Base\",\n",
    "        cache_dir=os.path.join(str(PYTORCH_PRETRAINED_BERT_CACHE), 'distributed_{}'.format(-1)),\n",
    "        num_choices=4).to(device)"
   ]
  },
  {
   "cell_type": "code",
   "execution_count": 20,
   "id": "f58cf0ea",
   "metadata": {},
   "outputs": [],
   "source": [
    "from pytorch_pretrained_bert.optimization import BertAdam, WarmupLinearSchedule\n",
    "\n",
    "\n",
    "learning_rate=2.7e-5\n",
    "warmup_proportion=0.05\n",
    "batch_size=4\n",
    "gradient_accumulation_steps=5\n",
    "# train_batch_size=int(batch_size/gradient_accumulation_steps)\n",
    "train_batch_size=batch_size\n",
    "eval_batch_size=4\n",
    "\n",
    "num_train_steps=len(train_input)\n",
    "\n",
    "n_gpu=torch.cuda.device_count()\n",
    "epoch_num=5\n",
    "\n",
    "\n",
    "device=torch.device(\"cuda\" if torch.cuda.is_available else \"cpu\")\n",
    "\n",
    "model = BertForMultipleChoice.from_pretrained(\"MiniLM-L6-H384-distilled-from-BERT-Base\",\n",
    "        cache_dir=os.path.join(str(PYTORCH_PRETRAINED_BERT_CACHE), 'distributed_{}'.format(-1)),\n",
    "        num_choices=4).to(device)\n",
    "\n",
    "param_optimizer=list(model.named_parameters())\n",
    "no_decay = ['bias', 'LayerNorm.bias', 'LayerNorm.weight']\n",
    "optimizer_grouped_parameters = [\n",
    "        {'params': [p for n, p in param_optimizer if not any(nd in n for nd in no_decay)], 'weight_decay': 0.01},\n",
    "        {'params': [p for n, p in param_optimizer if any(nd in n for nd in no_decay)], 'weight_decay': 0.0}\n",
    "        ]\n",
    "\n",
    "optimizer = BertAdam(optimizer_grouped_parameters,\n",
    "                    lr=learning_rate,\n",
    "                    warmup=warmup_proportion,\n",
    "                    t_total=num_train_steps)\n",
    "\n",
    "# optimizer = BertAdam(model.parameters(),lr=learning_rate,schedule='warmup_linear',warmup=warmup_proportion,t_total=num_train_steps)\n",
    "\n",
    "train_dataset=TensorDataset(train_input_sequence,train_segment_id,train_mask_id,train_label)\n",
    "train_sampler=RandomSampler(train_dataset)\n",
    "train_data=DataLoader(train_dataset,sampler=train_sampler, batch_size=train_batch_size)\n",
    "\n",
    "eval_dataset=TensorDataset(eval_input_sequence_middle,eval_segment_id_middle,eval_mask_id_middle,eval_label_middle)\n",
    "eval_sampler=RandomSampler(eval_dataset)\n",
    "eval_data=DataLoader(eval_dataset,sampler=eval_sampler, batch_size=eval_batch_size)"
   ]
  },
  {
   "cell_type": "code",
   "execution_count": 21,
   "id": "f6b3c385",
   "metadata": {},
   "outputs": [
    {
     "data": {
      "text/plain": [
       "87866"
      ]
     },
     "execution_count": 21,
     "metadata": {},
     "output_type": "execute_result"
    }
   ],
   "source": [
    "num_train_steps"
   ]
  },
  {
   "cell_type": "code",
   "execution_count": 22,
   "id": "14ffeaae",
   "metadata": {},
   "outputs": [],
   "source": [
    "def val_race(eval_dataloader,device,model,global_step,tr_loss,nb_tr_steps):\n",
    "    print(\"begin evaluation!!!\")\n",
    "    eval_loss, eval_accuracy = 0, 0\n",
    "    nb_eval_steps, nb_eval_examples = 0, 0\n",
    "    for step, batch in enumerate(eval_dataloader):\n",
    "        batch = tuple(t.to(device) for t in batch)\n",
    "        input_ids, segment_ids, input_mask, label_ids = batch\n",
    "\n",
    "        with torch.no_grad():\n",
    "            tmp_eval_loss = model(input_ids, segment_ids, input_mask, label_ids)\n",
    "            logits = model(input_ids, segment_ids, input_mask)\n",
    "\n",
    "        logits = logits.detach().cpu().numpy()\n",
    "        label_ids = label_ids.to('cpu').numpy()\n",
    "        tmp_eval_accuracy = accuracy(logits, label_ids)\n",
    "\n",
    "        eval_loss += tmp_eval_loss.mean().item()\n",
    "        eval_accuracy += tmp_eval_accuracy\n",
    "\n",
    "        nb_eval_examples += input_ids.size(0)\n",
    "        nb_eval_steps += 1\n",
    "\n",
    "    eval_loss = eval_loss / nb_eval_steps\n",
    "    eval_accuracy = eval_accuracy / nb_eval_examples\n",
    "    print(\"eval_loss:\",eval_loss)\n",
    "    print(\"eval_accuracy:\",eval_accuracy)\n",
    "\n",
    "    result = {'dev_eval_loss': eval_loss,\n",
    "              'dev_eval_accuracy': eval_accuracy,\n",
    "              'global_step': global_step}\n",
    "\n",
    "    output_eval_file = os.path.join('output', \"eval_results.txt\")\n",
    "    with open(output_eval_file, \"a+\") as writer:\n",
    "        for key in sorted(result.keys()):\n",
    "            writer.write(\"%s = %s\\n\" % (key, str(result[key])))"
   ]
  },
  {
   "cell_type": "code",
   "execution_count": 23,
   "id": "27be166a",
   "metadata": {},
   "outputs": [],
   "source": [
    "def train_race(train_dataloader,device,n_gpu,model,optimizer,global_step,t_total,tr_loss,nb_tr_examples,nb_tr_steps):\n",
    "    for step, data in enumerate(tqdm(train_dataloader)):\n",
    "        data = tuple(t.to(device) for t in data)\n",
    "        input_ids, segment_ids,input_mask, label_ids = data\n",
    "#         print(segment_ids)\n",
    "        loss = model(input_ids, segment_ids, input_mask, label_ids)\n",
    "        \n",
    "        tr_loss += loss.item()\n",
    "        nb_tr_examples += input_ids.size(0)\n",
    "        nb_tr_steps += 1\n",
    "\n",
    "        loss.backward()\n",
    "\n",
    "        \n",
    "         # modify learning rate with special warm up BERT uses\n",
    "        if (step + 1) % gradient_accumulation_steps == 0:\n",
    "            lr_this_step = learning_rate * warmup_linear(global_step / t_total, warmup_proportion)\n",
    "#             print(warmup_proportion)\n",
    "            for param_group in optimizer.param_groups:\n",
    "                param_group['lr'] = lr_this_step\n",
    "            optimizer.step()\n",
    "            optimizer.zero_grad()\n",
    "            global_step += 1\n",
    "#             print(\"Training loss: {}, global step: {}\".format(tr_loss / nb_tr_steps, global_step))\n",
    "\n",
    "        if (global_step+1) % 100 == 0:\n",
    "            print(\"Training loss: {}, global step: {}\".format(tr_loss / nb_tr_steps, global_step))\n",
    "            \n",
    "            "
   ]
  },
  {
   "cell_type": "code",
   "execution_count": 24,
   "id": "42442923",
   "metadata": {},
   "outputs": [
    {
     "data": {
      "text/plain": [
       "1"
      ]
     },
     "execution_count": 24,
     "metadata": {},
     "output_type": "execute_result"
    }
   ],
   "source": [
    "n_gpu"
   ]
  },
  {
   "cell_type": "code",
   "execution_count": 25,
   "id": "61f98ec3",
   "metadata": {
    "scrolled": true
   },
   "outputs": [
    {
     "name": "stderr",
     "output_type": "stream",
     "text": [
      "\r",
      "  0%|          | 0/21967 [00:00<?, ?it/s]"
     ]
    },
    {
     "name": "stdout",
     "output_type": "stream",
     "text": [
      "Training Epoch: 1/5\n"
     ]
    },
    {
     "name": "stderr",
     "output_type": "stream",
     "text": [
      "  0%|          | 3/21967 [00:00<2:29:31,  2.45it/s]/home/zihuiliu/.local/lib/python3.8/site-packages/pytorch_pretrained_bert/optimization.py:275: UserWarning: This overload of add_ is deprecated:\n",
      "\tadd_(Number alpha, Tensor other)\n",
      "Consider using one of the following signatures instead:\n",
      "\tadd_(Tensor other, *, Number alpha) (Triggered internally at  ../torch/csrc/utils/python_arg_parser.cpp:1055.)\n",
      "  next_m.mul_(beta1).add_(1 - beta1, grad)\n",
      "  2%|▏         | 496/21967 [00:45<32:52, 10.88it/s] "
     ]
    },
    {
     "name": "stdout",
     "output_type": "stream",
     "text": [
      "Training loss: 1.3861530354528717, global step: 99\n",
      "Training loss: 1.386131798307742, global step: 99\n",
      "Training loss: 1.386140676331472, global step: 99\n"
     ]
    },
    {
     "name": "stderr",
     "output_type": "stream",
     "text": [
      "  2%|▏         | 500/21967 [00:45<33:08, 10.79it/s]"
     ]
    },
    {
     "name": "stdout",
     "output_type": "stream",
     "text": [
      "Training loss: 1.3861455953264812, global step: 99\n",
      "Training loss: 1.3861441069948888, global step: 99\n"
     ]
    },
    {
     "name": "stderr",
     "output_type": "stream",
     "text": [
      "  5%|▍         | 996/21967 [01:30<32:03, 10.90it/s]"
     ]
    },
    {
     "name": "stdout",
     "output_type": "stream",
     "text": [
      "Training loss: 1.3864296860431307, global step: 199\n",
      "Training loss: 1.3864285357027168, global step: 199\n",
      "Training loss: 1.3864201469909223, global step: 199\n"
     ]
    },
    {
     "name": "stderr",
     "output_type": "stream",
     "text": [
      "  5%|▍         | 1000/21967 [01:31<32:18, 10.82it/s]"
     ]
    },
    {
     "name": "stdout",
     "output_type": "stream",
     "text": [
      "Training loss: 1.3864225503915775, global step: 199\n",
      "Training loss: 1.3864180970120359, global step: 199\n"
     ]
    },
    {
     "name": "stderr",
     "output_type": "stream",
     "text": [
      "  7%|▋         | 1496/21967 [02:16<31:21, 10.88it/s]"
     ]
    },
    {
     "name": "stdout",
     "output_type": "stream",
     "text": [
      "Training loss: 1.386398455929198, global step: 299\n",
      "Training loss: 1.3864005926777334, global step: 299\n",
      "Training loss: 1.3863989977973576, global step: 299\n"
     ]
    },
    {
     "name": "stderr",
     "output_type": "stream",
     "text": [
      "  7%|▋         | 1500/21967 [02:16<31:35, 10.80it/s]"
     ]
    },
    {
     "name": "stdout",
     "output_type": "stream",
     "text": [
      "Training loss: 1.386393082396529, global step: 299\n",
      "Training loss: 1.3863959675872222, global step: 299\n"
     ]
    },
    {
     "name": "stderr",
     "output_type": "stream",
     "text": [
      "  9%|▉         | 1996/21967 [03:01<30:31, 10.90it/s]"
     ]
    },
    {
     "name": "stdout",
     "output_type": "stream",
     "text": [
      "Training loss: 1.3863897420409927, global step: 399\n",
      "Training loss: 1.3863846914682216, global step: 399\n",
      "Training loss: 1.3863849860761066, global step: 399\n"
     ]
    },
    {
     "name": "stderr",
     "output_type": "stream",
     "text": [
      "  9%|▉         | 2000/21967 [03:02<30:44, 10.82it/s]"
     ]
    },
    {
     "name": "stdout",
     "output_type": "stream",
     "text": [
      "Training loss: 1.3863805879701723, global step: 399\n",
      "Training loss: 1.3863823100767951, global step: 399\n"
     ]
    },
    {
     "name": "stderr",
     "output_type": "stream",
     "text": [
      " 11%|█▏        | 2496/21967 [03:46<29:45, 10.91it/s]"
     ]
    },
    {
     "name": "stdout",
     "output_type": "stream",
     "text": [
      "Training loss: 1.3863916308225277, global step: 499\n",
      "Training loss: 1.3863931501714082, global step: 499\n",
      "Training loss: 1.3863900154172586, global step: 499\n"
     ]
    },
    {
     "name": "stderr",
     "output_type": "stream",
     "text": [
      " 11%|█▏        | 2500/21967 [03:47<29:58, 10.82it/s]"
     ]
    },
    {
     "name": "stdout",
     "output_type": "stream",
     "text": [
      "Training loss: 1.3863906611720498, global step: 499\n",
      "Training loss: 1.3863891827292134, global step: 499\n"
     ]
    },
    {
     "name": "stderr",
     "output_type": "stream",
     "text": [
      " 14%|█▎        | 2996/21967 [04:32<29:00, 10.90it/s]"
     ]
    },
    {
     "name": "stdout",
     "output_type": "stream",
     "text": [
      "Training loss: 1.3863511831016095, global step: 599\n",
      "Training loss: 1.3863487458117654, global step: 599\n",
      "Training loss: 1.3863498571915829, global step: 599\n"
     ]
    },
    {
     "name": "stderr",
     "output_type": "stream",
     "text": [
      " 14%|█▎        | 3000/21967 [04:32<29:14, 10.81it/s]"
     ]
    },
    {
     "name": "stdout",
     "output_type": "stream",
     "text": [
      "Training loss: 1.3863495547346785, global step: 599\n",
      "Training loss: 1.3863502125137446, global step: 599\n"
     ]
    },
    {
     "name": "stderr",
     "output_type": "stream",
     "text": [
      " 16%|█▌        | 3496/21967 [05:17<28:14, 10.90it/s]"
     ]
    },
    {
     "name": "stdout",
     "output_type": "stream",
     "text": [
      "Training loss: 1.3863209377883672, global step: 699\n",
      "Training loss: 1.3863221341467014, global step: 699\n",
      "Training loss: 1.3863206109149748, global step: 699\n"
     ]
    },
    {
     "name": "stderr",
     "output_type": "stream",
     "text": [
      " 16%|█▌        | 3500/21967 [05:17<28:27, 10.81it/s]"
     ]
    },
    {
     "name": "stdout",
     "output_type": "stream",
     "text": [
      "Training loss: 1.3863203860201654, global step: 699\n",
      "Training loss: 1.3863193376229879, global step: 699\n"
     ]
    },
    {
     "name": "stderr",
     "output_type": "stream",
     "text": [
      " 18%|█▊        | 3996/21967 [06:02<27:29, 10.90it/s]"
     ]
    },
    {
     "name": "stdout",
     "output_type": "stream",
     "text": [
      "Training loss: 1.3862554158078266, global step: 799\n",
      "Training loss: 1.3862544312491432, global step: 799\n",
      "Training loss: 1.3862549830353914, global step: 799\n"
     ]
    },
    {
     "name": "stderr",
     "output_type": "stream",
     "text": [
      " 18%|█▊        | 4000/21967 [06:03<27:41, 10.81it/s]"
     ]
    },
    {
     "name": "stdout",
     "output_type": "stream",
     "text": [
      "Training loss: 1.386255755222935, global step: 799\n",
      "Training loss: 1.386255076093118, global step: 799\n"
     ]
    },
    {
     "name": "stderr",
     "output_type": "stream",
     "text": [
      " 20%|██        | 4496/21967 [06:48<26:42, 10.90it/s]"
     ]
    },
    {
     "name": "stdout",
     "output_type": "stream",
     "text": [
      "Training loss: 1.3862172805957984, global step: 899\n",
      "Training loss: 1.3862161286891144, global step: 899\n",
      "Training loss: 1.3862151905566236, global step: 899\n"
     ]
    },
    {
     "name": "stderr",
     "output_type": "stream",
     "text": [
      " 20%|██        | 4500/21967 [06:48<26:54, 10.82it/s]"
     ]
    },
    {
     "name": "stdout",
     "output_type": "stream",
     "text": [
      "Training loss: 1.3862141709478233, global step: 899\n",
      "Training loss: 1.3862131562437527, global step: 899\n"
     ]
    },
    {
     "name": "stderr",
     "output_type": "stream",
     "text": [
      " 23%|██▎       | 4996/21967 [07:33<25:56, 10.91it/s]"
     ]
    },
    {
     "name": "stdout",
     "output_type": "stream",
     "text": [
      "Training loss: 1.3861605494110674, global step: 999\n",
      "Training loss: 1.3861605814450069, global step: 999\n",
      "Training loss: 1.3861600269144336, global step: 999\n"
     ]
    },
    {
     "name": "stderr",
     "output_type": "stream",
     "text": [
      " 23%|██▎       | 5000/21967 [07:33<26:09, 10.81it/s]"
     ]
    },
    {
     "name": "stdout",
     "output_type": "stream",
     "text": [
      "Training loss: 1.3861620048371828, global step: 999\n",
      "Training loss: 1.3861606978826415, global step: 999\n"
     ]
    },
    {
     "name": "stderr",
     "output_type": "stream",
     "text": [
      " 25%|██▌       | 5496/21967 [08:18<25:11, 10.90it/s]"
     ]
    },
    {
     "name": "stdout",
     "output_type": "stream",
     "text": [
      "Training loss: 1.3860580236723035, global step: 1099\n",
      "Training loss: 1.386058538197777, global step: 1099\n",
      "Training loss: 1.3860591531168531, global step: 1099\n"
     ]
    },
    {
     "name": "stderr",
     "output_type": "stream",
     "text": [
      " 25%|██▌       | 5500/21967 [08:19<25:22, 10.82it/s]"
     ]
    },
    {
     "name": "stdout",
     "output_type": "stream",
     "text": [
      "Training loss: 1.3860602868648388, global step: 1099\n",
      "Training loss: 1.3860593226025768, global step: 1099\n"
     ]
    },
    {
     "name": "stderr",
     "output_type": "stream",
     "text": [
      " 27%|██▋       | 5996/21967 [09:03<24:25, 10.90it/s]"
     ]
    },
    {
     "name": "stdout",
     "output_type": "stream",
     "text": [
      "Training loss: 1.3859781367466586, global step: 1199\n",
      "Training loss: 1.3859771045547393, global step: 1199\n",
      "Training loss: 1.3859776477525885, global step: 1199\n"
     ]
    },
    {
     "name": "stderr",
     "output_type": "stream",
     "text": [
      " 27%|██▋       | 6000/21967 [09:04<24:35, 10.82it/s]"
     ]
    },
    {
     "name": "stdout",
     "output_type": "stream",
     "text": [
      "Training loss: 1.385976365404393, global step: 1199\n",
      "Training loss: 1.3859739478060873, global step: 1199\n"
     ]
    },
    {
     "name": "stderr",
     "output_type": "stream",
     "text": [
      " 30%|██▉       | 6496/21967 [09:49<23:38, 10.90it/s]"
     ]
    },
    {
     "name": "stdout",
     "output_type": "stream",
     "text": [
      "Training loss: 1.3856652644159613, global step: 1299\n",
      "Training loss: 1.385662724085042, global step: 1299\n",
      "Training loss: 1.3856636923754309, global step: 1299\n"
     ]
    },
    {
     "name": "stderr",
     "output_type": "stream",
     "text": [
      " 30%|██▉       | 6500/21967 [09:49<23:49, 10.82it/s]"
     ]
    },
    {
     "name": "stdout",
     "output_type": "stream",
     "text": [
      "Training loss: 1.385662504749028, global step: 1299\n",
      "Training loss: 1.3856605490568437, global step: 1299\n"
     ]
    },
    {
     "name": "stderr",
     "output_type": "stream",
     "text": [
      " 32%|███▏      | 6996/21967 [10:34<22:53, 10.90it/s]"
     ]
    },
    {
     "name": "stdout",
     "output_type": "stream",
     "text": [
      "Training loss: 1.3847890883194198, global step: 1399\n",
      "Training loss: 1.3847902492838904, global step: 1399\n",
      "Training loss: 1.3847877953722765, global step: 1399\n"
     ]
    },
    {
     "name": "stderr",
     "output_type": "stream",
     "text": [
      " 32%|███▏      | 7000/21967 [10:34<23:03, 10.81it/s]"
     ]
    },
    {
     "name": "stdout",
     "output_type": "stream",
     "text": [
      "Training loss: 1.384779709855227, global step: 1399\n",
      "Training loss: 1.384772740120308, global step: 1399\n"
     ]
    },
    {
     "name": "stderr",
     "output_type": "stream",
     "text": [
      " 34%|███▍      | 7496/21967 [11:19<22:07, 10.90it/s]"
     ]
    },
    {
     "name": "stdout",
     "output_type": "stream",
     "text": [
      "Training loss: 1.383379090237888, global step: 1499\n",
      "Training loss: 1.383375690691372, global step: 1499\n",
      "Training loss: 1.383393050687097, global step: 1499\n"
     ]
    },
    {
     "name": "stderr",
     "output_type": "stream",
     "text": [
      " 34%|███▍      | 7500/21967 [11:20<22:17, 10.82it/s]"
     ]
    },
    {
     "name": "stdout",
     "output_type": "stream",
     "text": [
      "Training loss: 1.3833851117743083, global step: 1499\n",
      "Training loss: 1.3833628170552899, global step: 1499\n"
     ]
    },
    {
     "name": "stderr",
     "output_type": "stream",
     "text": [
      " 36%|███▋      | 7996/21967 [12:05<21:22, 10.90it/s]"
     ]
    },
    {
     "name": "stdout",
     "output_type": "stream",
     "text": [
      "Training loss: 1.3806453690519924, global step: 1599\n",
      "Training loss: 1.3806115026143624, global step: 1599\n",
      "Training loss: 1.3805895751903277, global step: 1599\n"
     ]
    },
    {
     "name": "stderr",
     "output_type": "stream",
     "text": [
      " 36%|███▋      | 8000/21967 [12:05<21:32, 10.81it/s]"
     ]
    },
    {
     "name": "stdout",
     "output_type": "stream",
     "text": [
      "Training loss: 1.3805800780530988, global step: 1599\n",
      "Training loss: 1.3805785718031534, global step: 1599\n"
     ]
    },
    {
     "name": "stderr",
     "output_type": "stream",
     "text": [
      " 39%|███▊      | 8496/21967 [12:50<20:35, 10.90it/s]"
     ]
    },
    {
     "name": "stdout",
     "output_type": "stream",
     "text": [
      "Training loss: 1.3783496565647586, global step: 1699\n",
      "Training loss: 1.3783487465422033, global step: 1699\n",
      "Training loss: 1.3783201939557121, global step: 1699\n"
     ]
    },
    {
     "name": "stderr",
     "output_type": "stream",
     "text": [
      " 39%|███▊      | 8500/21967 [12:50<20:45, 10.81it/s]"
     ]
    },
    {
     "name": "stdout",
     "output_type": "stream",
     "text": [
      "Training loss: 1.37830188178152, global step: 1699\n",
      "Training loss: 1.3783016192070077, global step: 1699\n"
     ]
    },
    {
     "name": "stderr",
     "output_type": "stream",
     "text": [
      " 41%|████      | 8996/21967 [13:35<19:50, 10.90it/s]"
     ]
    },
    {
     "name": "stdout",
     "output_type": "stream",
     "text": [
      "Training loss: 1.3757622013958777, global step: 1799\n",
      "Training loss: 1.3757622551857074, global step: 1799\n",
      "Training loss: 1.3757574335461102, global step: 1799\n"
     ]
    },
    {
     "name": "stderr",
     "output_type": "stream",
     "text": [
      " 41%|████      | 9000/21967 [13:36<19:58, 10.82it/s]"
     ]
    },
    {
     "name": "stdout",
     "output_type": "stream",
     "text": [
      "Training loss: 1.375736137228983, global step: 1799\n",
      "Training loss: 1.3757332166720395, global step: 1799\n"
     ]
    },
    {
     "name": "stderr",
     "output_type": "stream",
     "text": [
      " 43%|████▎     | 9496/21967 [14:20<19:03, 10.91it/s]"
     ]
    },
    {
     "name": "stdout",
     "output_type": "stream",
     "text": [
      "Training loss: 1.372949207682808, global step: 1899\n",
      "Training loss: 1.372935983878831, global step: 1899\n",
      "Training loss: 1.3729364528108223, global step: 1899\n"
     ]
    },
    {
     "name": "stderr",
     "output_type": "stream",
     "text": [
      " 43%|████▎     | 9500/21967 [14:21<19:11, 10.83it/s]"
     ]
    },
    {
     "name": "stdout",
     "output_type": "stream",
     "text": [
      "Training loss: 1.3729081733913566, global step: 1899\n",
      "Training loss: 1.3728790845239975, global step: 1899\n"
     ]
    },
    {
     "name": "stderr",
     "output_type": "stream",
     "text": [
      " 46%|████▌     | 9996/21967 [15:06<18:17, 10.91it/s]"
     ]
    },
    {
     "name": "stdout",
     "output_type": "stream",
     "text": [
      "Training loss: 1.3699106777889123, global step: 1999\n",
      "Training loss: 1.3698984048649425, global step: 1999\n",
      "Training loss: 1.3698676995626744, global step: 1999\n"
     ]
    },
    {
     "name": "stderr",
     "output_type": "stream",
     "text": [
      " 46%|████▌     | 10000/21967 [15:06<18:26, 10.82it/s]"
     ]
    },
    {
     "name": "stdout",
     "output_type": "stream",
     "text": [
      "Training loss: 1.3698873448059496, global step: 1999\n",
      "Training loss: 1.369865070183118, global step: 1999\n"
     ]
    },
    {
     "name": "stderr",
     "output_type": "stream",
     "text": [
      " 48%|████▊     | 10496/21967 [15:51<17:31, 10.91it/s]"
     ]
    },
    {
     "name": "stdout",
     "output_type": "stream",
     "text": [
      "Training loss: 1.3675819425426137, global step: 2099\n",
      "Training loss: 1.3675845374478164, global step: 2099\n",
      "Training loss: 1.3675864973249487, global step: 2099\n"
     ]
    },
    {
     "name": "stderr",
     "output_type": "stream",
     "text": [
      " 48%|████▊     | 10500/21967 [15:51<17:39, 10.83it/s]"
     ]
    },
    {
     "name": "stdout",
     "output_type": "stream",
     "text": [
      "Training loss: 1.3675788667150215, global step: 2099\n",
      "Training loss: 1.3675681447026753, global step: 2099\n"
     ]
    },
    {
     "name": "stderr",
     "output_type": "stream",
     "text": [
      " 50%|█████     | 10996/21967 [16:36<16:46, 10.90it/s]"
     ]
    },
    {
     "name": "stdout",
     "output_type": "stream",
     "text": [
      "Training loss: 1.3657326151805338, global step: 2199\n",
      "Training loss: 1.3657509984049463, global step: 2199\n",
      "Training loss: 1.3657490722188041, global step: 2199\n"
     ]
    },
    {
     "name": "stderr",
     "output_type": "stream",
     "text": [
      " 50%|█████     | 11000/21967 [16:37<16:54, 10.81it/s]"
     ]
    },
    {
     "name": "stdout",
     "output_type": "stream",
     "text": [
      "Training loss: 1.3657625062690255, global step: 2199\n",
      "Training loss: 1.3657669017169463, global step: 2199\n"
     ]
    },
    {
     "name": "stderr",
     "output_type": "stream",
     "text": [
      " 52%|█████▏    | 11496/21967 [17:22<15:59, 10.91it/s]"
     ]
    },
    {
     "name": "stdout",
     "output_type": "stream",
     "text": [
      "Training loss: 1.3632077964921265, global step: 2299\n",
      "Training loss: 1.3631946744919652, global step: 2299\n",
      "Training loss: 1.363202906996621, global step: 2299\n"
     ]
    },
    {
     "name": "stderr",
     "output_type": "stream",
     "text": [
      " 52%|█████▏    | 11500/21967 [17:22<16:07, 10.82it/s]"
     ]
    },
    {
     "name": "stdout",
     "output_type": "stream",
     "text": [
      "Training loss: 1.3631970500776012, global step: 2299\n",
      "Training loss: 1.3631932554540245, global step: 2299\n"
     ]
    },
    {
     "name": "stderr",
     "output_type": "stream",
     "text": [
      " 55%|█████▍    | 11996/21967 [18:07<15:13, 10.91it/s]"
     ]
    },
    {
     "name": "stdout",
     "output_type": "stream",
     "text": [
      "Training loss: 1.3604146541829605, global step: 2399\n",
      "Training loss: 1.3603986662729615, global step: 2399\n",
      "Training loss: 1.3603916678407186, global step: 2399\n"
     ]
    },
    {
     "name": "stderr",
     "output_type": "stream",
     "text": [
      " 55%|█████▍    | 12000/21967 [18:07<15:21, 10.82it/s]"
     ]
    },
    {
     "name": "stdout",
     "output_type": "stream",
     "text": [
      "Training loss: 1.3603832735073806, global step: 2399\n",
      "Training loss: 1.3603567651127049, global step: 2399\n"
     ]
    },
    {
     "name": "stderr",
     "output_type": "stream",
     "text": [
      " 57%|█████▋    | 12496/21967 [18:52<14:27, 10.91it/s]"
     ]
    },
    {
     "name": "stdout",
     "output_type": "stream",
     "text": [
      "Training loss: 1.3579024257446204, global step: 2499\n",
      "Training loss: 1.3578862378638472, global step: 2499\n",
      "Training loss: 1.3578792831712105, global step: 2499\n"
     ]
    },
    {
     "name": "stderr",
     "output_type": "stream",
     "text": [
      " 57%|█████▋    | 12500/21967 [18:52<14:34, 10.83it/s]"
     ]
    },
    {
     "name": "stdout",
     "output_type": "stream",
     "text": [
      "Training loss: 1.357889017938213, global step: 2499\n",
      "Training loss: 1.3578753712101168, global step: 2499\n"
     ]
    },
    {
     "name": "stderr",
     "output_type": "stream",
     "text": [
      " 59%|█████▉    | 12996/21967 [19:37<13:42, 10.91it/s]"
     ]
    },
    {
     "name": "stdout",
     "output_type": "stream",
     "text": [
      "Training loss: 1.3554533312117976, global step: 2599\n",
      "Training loss: 1.3554203986121751, global step: 2599\n",
      "Training loss: 1.355422546155106, global step: 2599\n"
     ]
    },
    {
     "name": "stderr",
     "output_type": "stream",
     "text": [
      " 59%|█████▉    | 13000/21967 [19:38<13:48, 10.82it/s]"
     ]
    },
    {
     "name": "stdout",
     "output_type": "stream",
     "text": [
      "Training loss: 1.3554023804114697, global step: 2599\n",
      "Training loss: 1.3554177438261803, global step: 2599\n"
     ]
    },
    {
     "name": "stderr",
     "output_type": "stream",
     "text": [
      " 61%|██████▏   | 13496/21967 [20:23<12:56, 10.90it/s]"
     ]
    },
    {
     "name": "stdout",
     "output_type": "stream",
     "text": [
      "Training loss: 1.3526210102782332, global step: 2699\n",
      "Training loss: 1.3526164737232493, global step: 2699\n",
      "Training loss: 1.35260192625627, global step: 2699\n"
     ]
    },
    {
     "name": "stderr",
     "output_type": "stream",
     "text": [
      " 61%|██████▏   | 13500/21967 [20:23<13:02, 10.82it/s]"
     ]
    },
    {
     "name": "stdout",
     "output_type": "stream",
     "text": [
      "Training loss: 1.3525999251039387, global step: 2699\n",
      "Training loss: 1.3525887809335606, global step: 2699\n"
     ]
    },
    {
     "name": "stderr",
     "output_type": "stream",
     "text": [
      " 64%|██████▎   | 13996/21967 [21:08<12:10, 10.91it/s]"
     ]
    },
    {
     "name": "stdout",
     "output_type": "stream",
     "text": [
      "Training loss: 1.3507157886228462, global step: 2799\n",
      "Training loss: 1.3507240048371987, global step: 2799\n",
      "Training loss: 1.3507312024466658, global step: 2799\n"
     ]
    },
    {
     "name": "stderr",
     "output_type": "stream",
     "text": [
      " 64%|██████▎   | 14000/21967 [21:08<12:16, 10.82it/s]"
     ]
    },
    {
     "name": "stdout",
     "output_type": "stream",
     "text": [
      "Training loss: 1.350725724401091, global step: 2799\n",
      "Training loss: 1.3507469422613367, global step: 2799\n"
     ]
    },
    {
     "name": "stderr",
     "output_type": "stream",
     "text": [
      " 66%|██████▌   | 14496/21967 [21:53<11:24, 10.91it/s]"
     ]
    },
    {
     "name": "stdout",
     "output_type": "stream",
     "text": [
      "Training loss: 1.348050186419413, global step: 2899\n",
      "Training loss: 1.3480967553723069, global step: 2899\n",
      "Training loss: 1.3480942569338488, global step: 2899\n"
     ]
    },
    {
     "name": "stderr",
     "output_type": "stream",
     "text": [
      " 66%|██████▌   | 14500/21967 [21:53<11:30, 10.82it/s]"
     ]
    },
    {
     "name": "stdout",
     "output_type": "stream",
     "text": [
      "Training loss: 1.3480971560410457, global step: 2899\n",
      "Training loss: 1.3480662830336865, global step: 2899\n"
     ]
    },
    {
     "name": "stderr",
     "output_type": "stream",
     "text": [
      " 68%|██████▊   | 14996/21967 [22:38<10:39, 10.90it/s]"
     ]
    },
    {
     "name": "stdout",
     "output_type": "stream",
     "text": [
      "Training loss: 1.3458701274680391, global step: 2999\n",
      "Training loss: 1.3458891095050527, global step: 2999\n",
      "Training loss: 1.345880807586739, global step: 2999\n"
     ]
    },
    {
     "name": "stderr",
     "output_type": "stream",
     "text": [
      " 68%|██████▊   | 15000/21967 [22:39<10:43, 10.82it/s]"
     ]
    },
    {
     "name": "stdout",
     "output_type": "stream",
     "text": [
      "Training loss: 1.3458697147282908, global step: 2999\n",
      "Training loss: 1.3458523609787791, global step: 2999\n"
     ]
    },
    {
     "name": "stderr",
     "output_type": "stream",
     "text": [
      " 71%|███████   | 15496/21967 [23:24<09:53, 10.91it/s]"
     ]
    },
    {
     "name": "stdout",
     "output_type": "stream",
     "text": [
      "Training loss: 1.3435254238274221, global step: 3099\n",
      "Training loss: 1.343511551083919, global step: 3099\n",
      "Training loss: 1.3434965323307995, global step: 3099\n"
     ]
    },
    {
     "name": "stderr",
     "output_type": "stream",
     "text": [
      " 71%|███████   | 15500/21967 [23:24<09:57, 10.82it/s]"
     ]
    },
    {
     "name": "stdout",
     "output_type": "stream",
     "text": [
      "Training loss: 1.343478026063477, global step: 3099\n",
      "Training loss: 1.3434653893979382, global step: 3099\n"
     ]
    },
    {
     "name": "stderr",
     "output_type": "stream",
     "text": [
      " 73%|███████▎  | 15996/21967 [24:09<09:07, 10.91it/s]"
     ]
    },
    {
     "name": "stdout",
     "output_type": "stream",
     "text": [
      "Training loss: 1.3411863980236631, global step: 3199\n",
      "Training loss: 1.3411711862971705, global step: 3199\n",
      "Training loss: 1.3411922321331802, global step: 3199\n"
     ]
    },
    {
     "name": "stderr",
     "output_type": "stream",
     "text": [
      " 73%|███████▎  | 16000/21967 [24:09<09:11, 10.83it/s]"
     ]
    },
    {
     "name": "stdout",
     "output_type": "stream",
     "text": [
      "Training loss: 1.3411869378794221, global step: 3199\n",
      "Training loss: 1.3412171350813589, global step: 3199\n"
     ]
    },
    {
     "name": "stderr",
     "output_type": "stream",
     "text": [
      " 75%|███████▌  | 16496/21967 [24:54<08:21, 10.91it/s]"
     ]
    },
    {
     "name": "stdout",
     "output_type": "stream",
     "text": [
      "Training loss: 1.3383555433575982, global step: 3299\n",
      "Training loss: 1.3383562362975974, global step: 3299\n",
      "Training loss: 1.3383446538629709, global step: 3299\n"
     ]
    },
    {
     "name": "stderr",
     "output_type": "stream",
     "text": [
      " 75%|███████▌  | 16500/21967 [24:55<08:25, 10.81it/s]"
     ]
    },
    {
     "name": "stdout",
     "output_type": "stream",
     "text": [
      "Training loss: 1.338311770610021, global step: 3299\n",
      "Training loss: 1.3383101004457119, global step: 3299\n"
     ]
    },
    {
     "name": "stderr",
     "output_type": "stream",
     "text": [
      " 77%|███████▋  | 16996/21967 [25:39<07:36, 10.88it/s]"
     ]
    },
    {
     "name": "stdout",
     "output_type": "stream",
     "text": [
      "Training loss: 1.336100009354678, global step: 3399\n",
      "Training loss: 1.3360908991499603, global step: 3399\n",
      "Training loss: 1.3361082210318862, global step: 3399\n"
     ]
    },
    {
     "name": "stderr",
     "output_type": "stream",
     "text": [
      " 77%|███████▋  | 17000/21967 [25:40<07:40, 10.79it/s]"
     ]
    },
    {
     "name": "stdout",
     "output_type": "stream",
     "text": [
      "Training loss: 1.336107021076481, global step: 3399\n",
      "Training loss: 1.3361068060450136, global step: 3399\n"
     ]
    },
    {
     "name": "stderr",
     "output_type": "stream",
     "text": [
      " 80%|███████▉  | 17496/21967 [26:25<06:50, 10.90it/s]"
     ]
    },
    {
     "name": "stdout",
     "output_type": "stream",
     "text": [
      "Training loss: 1.333314203735623, global step: 3499\n",
      "Training loss: 1.3333417404942116, global step: 3499\n",
      "Training loss: 1.3333238143167911, global step: 3499\n"
     ]
    },
    {
     "name": "stderr",
     "output_type": "stream",
     "text": [
      " 80%|███████▉  | 17500/21967 [26:25<06:53, 10.80it/s]"
     ]
    },
    {
     "name": "stdout",
     "output_type": "stream",
     "text": [
      "Training loss: 1.3333009073994257, global step: 3499\n",
      "Training loss: 1.3332780850424795, global step: 3499\n"
     ]
    },
    {
     "name": "stderr",
     "output_type": "stream",
     "text": [
      " 82%|████████▏ | 17996/21967 [27:10<06:04, 10.89it/s]"
     ]
    },
    {
     "name": "stdout",
     "output_type": "stream",
     "text": [
      "Training loss: 1.3302704732363075, global step: 3599\n",
      "Training loss: 1.330268675667176, global step: 3599\n",
      "Training loss: 1.3302512018092507, global step: 3599\n"
     ]
    },
    {
     "name": "stderr",
     "output_type": "stream",
     "text": [
      " 82%|████████▏ | 18000/21967 [27:10<06:07, 10.81it/s]"
     ]
    },
    {
     "name": "stdout",
     "output_type": "stream",
     "text": [
      "Training loss: 1.3302484663218468, global step: 3599\n",
      "Training loss: 1.3302542391542105, global step: 3599\n"
     ]
    },
    {
     "name": "stderr",
     "output_type": "stream",
     "text": [
      " 84%|████████▍ | 18496/21967 [27:55<05:18, 10.89it/s]"
     ]
    },
    {
     "name": "stdout",
     "output_type": "stream",
     "text": [
      "Training loss: 1.3271974427179891, global step: 3699\n",
      "Training loss: 1.3271942534500083, global step: 3699\n",
      "Training loss: 1.3271845728698701, global step: 3699\n"
     ]
    },
    {
     "name": "stderr",
     "output_type": "stream",
     "text": [
      " 84%|████████▍ | 18500/21967 [27:56<05:20, 10.81it/s]"
     ]
    },
    {
     "name": "stdout",
     "output_type": "stream",
     "text": [
      "Training loss: 1.3271701196545922, global step: 3699\n",
      "Training loss: 1.3271850272090804, global step: 3699\n"
     ]
    },
    {
     "name": "stderr",
     "output_type": "stream",
     "text": [
      " 86%|████████▋ | 18996/21967 [28:41<04:32, 10.90it/s]"
     ]
    },
    {
     "name": "stdout",
     "output_type": "stream",
     "text": [
      "Training loss: 1.3241561448505033, global step: 3799\n",
      "Training loss: 1.3241234623910778, global step: 3799\n",
      "Training loss: 1.3240991986810693, global step: 3799\n"
     ]
    },
    {
     "name": "stderr",
     "output_type": "stream",
     "text": [
      " 86%|████████▋ | 19000/21967 [28:41<04:34, 10.81it/s]"
     ]
    },
    {
     "name": "stdout",
     "output_type": "stream",
     "text": [
      "Training loss: 1.3241034745213132, global step: 3799\n",
      "Training loss: 1.3240982158349448, global step: 3799\n"
     ]
    },
    {
     "name": "stderr",
     "output_type": "stream",
     "text": [
      " 89%|████████▉ | 19496/21967 [29:26<03:46, 10.90it/s]"
     ]
    },
    {
     "name": "stdout",
     "output_type": "stream",
     "text": [
      "Training loss: 1.3215530148176817, global step: 3899\n",
      "Training loss: 1.3215438791634389, global step: 3899\n",
      "Training loss: 1.3215293131568844, global step: 3899\n"
     ]
    },
    {
     "name": "stderr",
     "output_type": "stream",
     "text": [
      " 89%|████████▉ | 19500/21967 [29:26<03:48, 10.81it/s]"
     ]
    },
    {
     "name": "stdout",
     "output_type": "stream",
     "text": [
      "Training loss: 1.3215279769748893, global step: 3899\n",
      "Training loss: 1.321529769319419, global step: 3899\n"
     ]
    },
    {
     "name": "stderr",
     "output_type": "stream",
     "text": [
      " 91%|█████████ | 19996/21967 [30:11<03:00, 10.90it/s]"
     ]
    },
    {
     "name": "stdout",
     "output_type": "stream",
     "text": [
      "Training loss: 1.3192881447325708, global step: 3999\n",
      "Training loss: 1.3193064664236591, global step: 3999\n",
      "Training loss: 1.3193003852012581, global step: 3999\n"
     ]
    },
    {
     "name": "stderr",
     "output_type": "stream",
     "text": [
      " 91%|█████████ | 20000/21967 [30:12<03:01, 10.81it/s]"
     ]
    },
    {
     "name": "stdout",
     "output_type": "stream",
     "text": [
      "Training loss: 1.3192933019187667, global step: 3999\n",
      "Training loss: 1.319287563609841, global step: 3999\n"
     ]
    },
    {
     "name": "stderr",
     "output_type": "stream",
     "text": [
      " 93%|█████████▎| 20496/21967 [30:57<02:15, 10.89it/s]"
     ]
    },
    {
     "name": "stdout",
     "output_type": "stream",
     "text": [
      "Training loss: 1.316801900067077, global step: 4099\n",
      "Training loss: 1.316839921520114, global step: 4099\n",
      "Training loss: 1.3168098898787624, global step: 4099\n"
     ]
    },
    {
     "name": "stderr",
     "output_type": "stream",
     "text": [
      " 93%|█████████▎| 20500/21967 [30:57<02:15, 10.80it/s]"
     ]
    },
    {
     "name": "stdout",
     "output_type": "stream",
     "text": [
      "Training loss: 1.3167925510802307, global step: 4099\n",
      "Training loss: 1.3167958050447242, global step: 4099\n"
     ]
    },
    {
     "name": "stderr",
     "output_type": "stream",
     "text": [
      " 96%|█████████▌| 20996/21967 [31:42<01:29, 10.89it/s]"
     ]
    },
    {
     "name": "stdout",
     "output_type": "stream",
     "text": [
      "Training loss: 1.3140647520704423, global step: 4199\n",
      "Training loss: 1.3140590748609327, global step: 4199\n",
      "Training loss: 1.314037492327811, global step: 4199\n"
     ]
    },
    {
     "name": "stderr",
     "output_type": "stream",
     "text": [
      " 96%|█████████▌| 21000/21967 [31:42<01:29, 10.81it/s]"
     ]
    },
    {
     "name": "stdout",
     "output_type": "stream",
     "text": [
      "Training loss: 1.3140158481212534, global step: 4199\n",
      "Training loss: 1.3140003574371928, global step: 4199\n"
     ]
    },
    {
     "name": "stderr",
     "output_type": "stream",
     "text": [
      " 98%|█████████▊| 21496/21967 [32:27<00:43, 10.89it/s]"
     ]
    },
    {
     "name": "stdout",
     "output_type": "stream",
     "text": [
      "Training loss: 1.3117794295970049, global step: 4299\n",
      "Training loss: 1.3117711097057485, global step: 4299\n",
      "Training loss: 1.3117721072961026, global step: 4299\n"
     ]
    },
    {
     "name": "stderr",
     "output_type": "stream",
     "text": [
      " 98%|█████████▊| 21500/21967 [32:28<00:43, 10.81it/s]"
     ]
    },
    {
     "name": "stdout",
     "output_type": "stream",
     "text": [
      "Training loss: 1.3117555055615846, global step: 4299\n",
      "Training loss: 1.3117482319222622, global step: 4299\n"
     ]
    },
    {
     "name": "stderr",
     "output_type": "stream",
     "text": [
      "100%|██████████| 21967/21967 [33:10<00:00, 11.04it/s]\n"
     ]
    },
    {
     "name": "stdout",
     "output_type": "stream",
     "text": [
      "begin evaluation!!!\n"
     ]
    },
    {
     "name": "stderr",
     "output_type": "stream",
     "text": [
      "\r",
      "  0%|          | 0/21967 [00:00<?, ?it/s]"
     ]
    },
    {
     "name": "stdout",
     "output_type": "stream",
     "text": [
      "eval_loss: 1.0590399518650555\n",
      "eval_accuracy: 0.5661559888579387\n",
      "Training Epoch: 2/5\n"
     ]
    },
    {
     "name": "stderr",
     "output_type": "stream",
     "text": [
      "  2%|▏         | 496/21967 [00:42<31:24, 11.40it/s]"
     ]
    },
    {
     "name": "stdout",
     "output_type": "stream",
     "text": [
      "Training loss: 1.095104577806261, global step: 99\n",
      "Training loss: 1.0954998928693034, global step: 99\n",
      "Training loss: 1.0957372260525433, global step: 99\n"
     ]
    },
    {
     "name": "stderr",
     "output_type": "stream",
     "text": [
      "  2%|▏         | 500/21967 [00:43<31:40, 11.30it/s]"
     ]
    },
    {
     "name": "stdout",
     "output_type": "stream",
     "text": [
      "Training loss: 1.0951791920336376, global step: 99\n",
      "Training loss: 1.0948341280998353, global step: 99\n"
     ]
    },
    {
     "name": "stderr",
     "output_type": "stream",
     "text": [
      "  5%|▍         | 996/21967 [01:26<30:37, 11.41it/s]"
     ]
    },
    {
     "name": "stdout",
     "output_type": "stream",
     "text": [
      "Training loss: 1.1162166764388732, global step: 199\n",
      "Training loss: 1.1161378403025937, global step: 199\n",
      "Training loss: 1.1162829406282966, global step: 199\n"
     ]
    },
    {
     "name": "stderr",
     "output_type": "stream",
     "text": [
      "  5%|▍         | 1000/21967 [01:26<30:51, 11.33it/s]"
     ]
    },
    {
     "name": "stdout",
     "output_type": "stream",
     "text": [
      "Training loss: 1.116016734219744, global step: 199\n",
      "Training loss: 1.1157792604960002, global step: 199\n"
     ]
    },
    {
     "name": "stderr",
     "output_type": "stream",
     "text": [
      "  7%|▋         | 1496/21967 [02:09<29:55, 11.40it/s]"
     ]
    },
    {
     "name": "stdout",
     "output_type": "stream",
     "text": [
      "Training loss: 1.1191004942292753, global step: 299\n",
      "Training loss: 1.1193788321140934, global step: 299\n",
      "Training loss: 1.1192188525924542, global step: 299\n"
     ]
    },
    {
     "name": "stderr",
     "output_type": "stream",
     "text": [
      "  7%|▋         | 1500/21967 [02:09<30:09, 11.31it/s]"
     ]
    },
    {
     "name": "stdout",
     "output_type": "stream",
     "text": [
      "Training loss: 1.1191940745500442, global step: 299\n",
      "Training loss: 1.119132471629347, global step: 299\n"
     ]
    },
    {
     "name": "stderr",
     "output_type": "stream",
     "text": [
      "  9%|▉         | 1996/21967 [02:52<29:14, 11.39it/s]"
     ]
    },
    {
     "name": "stdout",
     "output_type": "stream",
     "text": [
      "Training loss: 1.1204094606234616, global step: 399\n",
      "Training loss: 1.1206089018401737, global step: 399\n",
      "Training loss: 1.1203496036197642, global step: 399\n"
     ]
    },
    {
     "name": "stderr",
     "output_type": "stream",
     "text": [
      "  9%|▉         | 2000/21967 [02:53<29:25, 11.31it/s]"
     ]
    },
    {
     "name": "stdout",
     "output_type": "stream",
     "text": [
      "Training loss: 1.1203992864689432, global step: 399\n",
      "Training loss: 1.1203314875172876, global step: 399\n"
     ]
    },
    {
     "name": "stderr",
     "output_type": "stream",
     "text": [
      " 11%|█▏        | 2496/21967 [03:36<28:26, 11.41it/s]"
     ]
    },
    {
     "name": "stdout",
     "output_type": "stream",
     "text": [
      "Training loss: 1.1209303361977747, global step: 499\n",
      "Training loss: 1.120962921064347, global step: 499\n",
      "Training loss: 1.120784536057775, global step: 499\n"
     ]
    },
    {
     "name": "stderr",
     "output_type": "stream",
     "text": [
      " 11%|█▏        | 2500/21967 [03:36<28:40, 11.32it/s]"
     ]
    },
    {
     "name": "stdout",
     "output_type": "stream",
     "text": [
      "Training loss: 1.1211127686658031, global step: 499\n",
      "Training loss: 1.1211956532514777, global step: 499\n"
     ]
    },
    {
     "name": "stderr",
     "output_type": "stream",
     "text": [
      " 14%|█▎        | 2996/21967 [04:19<27:41, 11.41it/s]"
     ]
    },
    {
     "name": "stdout",
     "output_type": "stream",
     "text": [
      "Training loss: 1.1235882077670853, global step: 599\n",
      "Training loss: 1.1236240847884256, global step: 599\n",
      "Training loss: 1.1237257564708238, global step: 599\n"
     ]
    },
    {
     "name": "stderr",
     "output_type": "stream",
     "text": [
      " 14%|█▎        | 3000/21967 [04:19<27:55, 11.32it/s]"
     ]
    },
    {
     "name": "stdout",
     "output_type": "stream",
     "text": [
      "Training loss: 1.1237073473488195, global step: 599\n",
      "Training loss: 1.1236233956696948, global step: 599\n"
     ]
    },
    {
     "name": "stderr",
     "output_type": "stream",
     "text": [
      " 16%|█▌        | 3496/21967 [05:02<26:58, 11.41it/s]"
     ]
    },
    {
     "name": "stdout",
     "output_type": "stream",
     "text": [
      "Training loss: 1.120201675779318, global step: 699\n",
      "Training loss: 1.1201573620876404, global step: 699\n",
      "Training loss: 1.120053079883678, global step: 699\n"
     ]
    },
    {
     "name": "stderr",
     "output_type": "stream",
     "text": [
      " 16%|█▌        | 3500/21967 [05:02<27:11, 11.32it/s]"
     ]
    },
    {
     "name": "stdout",
     "output_type": "stream",
     "text": [
      "Training loss: 1.120182162271083, global step: 699\n",
      "Training loss: 1.1200645852170694, global step: 699\n"
     ]
    },
    {
     "name": "stderr",
     "output_type": "stream",
     "text": [
      " 18%|█▊        | 3996/21967 [05:45<26:15, 11.41it/s]"
     ]
    },
    {
     "name": "stdout",
     "output_type": "stream",
     "text": [
      "Training loss: 1.1184024655177387, global step: 799\n",
      "Training loss: 1.1184403136059329, global step: 799\n",
      "Training loss: 1.118513432791569, global step: 799\n"
     ]
    },
    {
     "name": "stderr",
     "output_type": "stream",
     "text": [
      " 18%|█▊        | 4000/21967 [05:46<26:27, 11.32it/s]"
     ]
    },
    {
     "name": "stdout",
     "output_type": "stream",
     "text": [
      "Training loss: 1.1183744922854293, global step: 799\n",
      "Training loss: 1.1184220104016016, global step: 799\n"
     ]
    },
    {
     "name": "stderr",
     "output_type": "stream",
     "text": [
      " 20%|██        | 4496/21967 [06:29<25:30, 11.41it/s]"
     ]
    },
    {
     "name": "stdout",
     "output_type": "stream",
     "text": [
      "Training loss: 1.1161376636802687, global step: 899\n",
      "Training loss: 1.1160491271759798, global step: 899\n",
      "Training loss: 1.1158439270822318, global step: 899\n"
     ]
    },
    {
     "name": "stderr",
     "output_type": "stream",
     "text": [
      " 20%|██        | 4500/21967 [06:29<25:42, 11.32it/s]"
     ]
    },
    {
     "name": "stdout",
     "output_type": "stream",
     "text": [
      "Training loss: 1.116005065541577, global step: 899\n",
      "Training loss: 1.1159009479514543, global step: 899\n"
     ]
    },
    {
     "name": "stderr",
     "output_type": "stream",
     "text": [
      " 23%|██▎       | 4996/21967 [07:12<24:47, 11.41it/s]"
     ]
    },
    {
     "name": "stdout",
     "output_type": "stream",
     "text": [
      "Training loss: 1.1138821098539564, global step: 999\n",
      "Training loss: 1.1138406209200262, global step: 999\n",
      "Training loss: 1.1137940842842422, global step: 999\n"
     ]
    },
    {
     "name": "stderr",
     "output_type": "stream",
     "text": [
      " 23%|██▎       | 5000/21967 [07:12<24:59, 11.31it/s]"
     ]
    },
    {
     "name": "stdout",
     "output_type": "stream",
     "text": [
      "Training loss: 1.1138042408783657, global step: 999\n",
      "Training loss: 1.1136633097994302, global step: 999\n"
     ]
    },
    {
     "name": "stderr",
     "output_type": "stream",
     "text": [
      " 25%|██▌       | 5496/21967 [07:55<24:03, 11.41it/s]"
     ]
    },
    {
     "name": "stdout",
     "output_type": "stream",
     "text": [
      "Training loss: 1.114993803890539, global step: 1099\n",
      "Training loss: 1.1149930258429293, global step: 1099\n",
      "Training loss: 1.114897708237247, global step: 1099\n"
     ]
    },
    {
     "name": "stderr",
     "output_type": "stream",
     "text": [
      " 25%|██▌       | 5500/21967 [07:55<24:15, 11.32it/s]"
     ]
    },
    {
     "name": "stdout",
     "output_type": "stream",
     "text": [
      "Training loss: 1.1148839247805633, global step: 1099\n",
      "Training loss: 1.1148804530737118, global step: 1099\n"
     ]
    },
    {
     "name": "stderr",
     "output_type": "stream",
     "text": [
      " 27%|██▋       | 5996/21967 [08:38<23:19, 11.41it/s]"
     ]
    },
    {
     "name": "stdout",
     "output_type": "stream",
     "text": [
      "Training loss: 1.1148397877128846, global step: 1199\n",
      "Training loss: 1.114822350492113, global step: 1199\n",
      "Training loss: 1.1147723800891118, global step: 1199\n"
     ]
    },
    {
     "name": "stderr",
     "output_type": "stream",
     "text": [
      " 27%|██▋       | 6000/21967 [08:39<23:31, 11.31it/s]"
     ]
    },
    {
     "name": "stdout",
     "output_type": "stream",
     "text": [
      "Training loss: 1.1147862807010642, global step: 1199\n",
      "Training loss: 1.1148541216344352, global step: 1199\n"
     ]
    },
    {
     "name": "stderr",
     "output_type": "stream",
     "text": [
      " 30%|██▉       | 6496/21967 [09:21<22:36, 11.40it/s]"
     ]
    },
    {
     "name": "stdout",
     "output_type": "stream",
     "text": [
      "Training loss: 1.1127682141013289, global step: 1299\n",
      "Training loss: 1.1127218991206052, global step: 1299\n",
      "Training loss: 1.1126455767935968, global step: 1299\n"
     ]
    },
    {
     "name": "stderr",
     "output_type": "stream",
     "text": [
      " 30%|██▉       | 6500/21967 [09:22<22:46, 11.32it/s]"
     ]
    },
    {
     "name": "stdout",
     "output_type": "stream",
     "text": [
      "Training loss: 1.1125811958595508, global step: 1299\n",
      "Training loss: 1.1125543298107199, global step: 1299\n"
     ]
    },
    {
     "name": "stderr",
     "output_type": "stream",
     "text": [
      " 32%|███▏      | 6996/21967 [10:05<21:52, 11.41it/s]"
     ]
    },
    {
     "name": "stdout",
     "output_type": "stream",
     "text": [
      "Training loss: 1.1116163187660943, global step: 1399\n",
      "Training loss: 1.1116129613522463, global step: 1399\n",
      "Training loss: 1.111587188321215, global step: 1399\n"
     ]
    },
    {
     "name": "stderr",
     "output_type": "stream",
     "text": [
      " 32%|███▏      | 7000/21967 [10:05<22:02, 11.32it/s]"
     ]
    },
    {
     "name": "stdout",
     "output_type": "stream",
     "text": [
      "Training loss: 1.111596442710062, global step: 1399\n",
      "Training loss: 1.1116145095717551, global step: 1399\n"
     ]
    },
    {
     "name": "stderr",
     "output_type": "stream",
     "text": [
      " 34%|███▍      | 7496/21967 [10:48<21:08, 11.41it/s]"
     ]
    },
    {
     "name": "stdout",
     "output_type": "stream",
     "text": [
      "Training loss: 1.1094345538118349, global step: 1499\n",
      "Training loss: 1.1094813843038065, global step: 1499\n",
      "Training loss: 1.109494421360285, global step: 1499\n"
     ]
    },
    {
     "name": "stderr",
     "output_type": "stream",
     "text": [
      " 34%|███▍      | 7500/21967 [10:48<21:18, 11.32it/s]"
     ]
    },
    {
     "name": "stdout",
     "output_type": "stream",
     "text": [
      "Training loss: 1.1095287245443644, global step: 1499\n",
      "Training loss: 1.109465551433571, global step: 1499\n"
     ]
    },
    {
     "name": "stderr",
     "output_type": "stream",
     "text": [
      " 36%|███▋      | 7996/21967 [11:31<20:24, 11.41it/s]"
     ]
    },
    {
     "name": "stdout",
     "output_type": "stream",
     "text": [
      "Training loss: 1.1080479469092062, global step: 1599\n",
      "Training loss: 1.1080802558488463, global step: 1599\n",
      "Training loss: 1.1080629815567251, global step: 1599\n"
     ]
    },
    {
     "name": "stderr",
     "output_type": "stream",
     "text": [
      " 36%|███▋      | 8000/21967 [11:32<20:34, 11.31it/s]"
     ]
    },
    {
     "name": "stdout",
     "output_type": "stream",
     "text": [
      "Training loss: 1.1080565573268009, global step: 1599\n",
      "Training loss: 1.1080670372212376, global step: 1599\n"
     ]
    },
    {
     "name": "stderr",
     "output_type": "stream",
     "text": [
      " 39%|███▊      | 8496/21967 [12:14<19:40, 11.41it/s]"
     ]
    },
    {
     "name": "stdout",
     "output_type": "stream",
     "text": [
      "Training loss: 1.1067109055418067, global step: 1699\n",
      "Training loss: 1.1067219107094346, global step: 1699\n",
      "Training loss: 1.106708758814806, global step: 1699\n"
     ]
    },
    {
     "name": "stderr",
     "output_type": "stream",
     "text": [
      " 39%|███▊      | 8500/21967 [12:15<19:49, 11.32it/s]"
     ]
    },
    {
     "name": "stdout",
     "output_type": "stream",
     "text": [
      "Training loss: 1.1066947133716736, global step: 1699\n",
      "Training loss: 1.1066849987175005, global step: 1699\n"
     ]
    },
    {
     "name": "stderr",
     "output_type": "stream",
     "text": [
      " 41%|████      | 8996/21967 [12:58<18:56, 11.41it/s]"
     ]
    },
    {
     "name": "stdout",
     "output_type": "stream",
     "text": [
      "Training loss: 1.1050760250346008, global step: 1799\n",
      "Training loss: 1.105038916020459, global step: 1799\n",
      "Training loss: 1.10501524793104, global step: 1799\n"
     ]
    },
    {
     "name": "stderr",
     "output_type": "stream",
     "text": [
      " 41%|████      | 9000/21967 [12:58<19:06, 11.31it/s]"
     ]
    },
    {
     "name": "stdout",
     "output_type": "stream",
     "text": [
      "Training loss: 1.1050114853298911, global step: 1799\n",
      "Training loss: 1.105024703689013, global step: 1799\n"
     ]
    },
    {
     "name": "stderr",
     "output_type": "stream",
     "text": [
      " 43%|████▎     | 9496/21967 [13:41<18:14, 11.39it/s]"
     ]
    },
    {
     "name": "stdout",
     "output_type": "stream",
     "text": [
      "Training loss: 1.104065101161764, global step: 1899\n",
      "Training loss: 1.104041949215815, global step: 1899\n",
      "Training loss: 1.1040576691123904, global step: 1899\n"
     ]
    },
    {
     "name": "stderr",
     "output_type": "stream",
     "text": [
      " 43%|████▎     | 9500/21967 [13:41<18:24, 11.29it/s]"
     ]
    },
    {
     "name": "stdout",
     "output_type": "stream",
     "text": [
      "Training loss: 1.104040760188435, global step: 1899\n",
      "Training loss: 1.1040229459651734, global step: 1899\n"
     ]
    },
    {
     "name": "stderr",
     "output_type": "stream",
     "text": [
      " 46%|████▌     | 9996/21967 [14:24<17:30, 11.39it/s]"
     ]
    },
    {
     "name": "stdout",
     "output_type": "stream",
     "text": [
      "Training loss: 1.1022380976542168, global step: 1999\n",
      "Training loss: 1.1021672733494785, global step: 1999\n",
      "Training loss: 1.102263700044476, global step: 1999\n"
     ]
    },
    {
     "name": "stderr",
     "output_type": "stream",
     "text": [
      " 46%|████▌     | 10000/21967 [14:25<17:38, 11.30it/s]"
     ]
    },
    {
     "name": "stdout",
     "output_type": "stream",
     "text": [
      "Training loss: 1.1022293723107672, global step: 1999\n",
      "Training loss: 1.102222176403007, global step: 1999\n"
     ]
    },
    {
     "name": "stderr",
     "output_type": "stream",
     "text": [
      " 48%|████▊     | 10496/21967 [15:07<16:45, 11.41it/s]"
     ]
    },
    {
     "name": "stdout",
     "output_type": "stream",
     "text": [
      "Training loss: 1.101289795985842, global step: 2099\n",
      "Training loss: 1.1012562771935426, global step: 2099\n",
      "Training loss: 1.1012493206130058, global step: 2099\n"
     ]
    },
    {
     "name": "stderr",
     "output_type": "stream",
     "text": [
      " 48%|████▊     | 10500/21967 [15:08<16:53, 11.31it/s]"
     ]
    },
    {
     "name": "stdout",
     "output_type": "stream",
     "text": [
      "Training loss: 1.1012712914385234, global step: 2099\n",
      "Training loss: 1.101315360371187, global step: 2099\n"
     ]
    },
    {
     "name": "stderr",
     "output_type": "stream",
     "text": [
      " 50%|█████     | 10996/21967 [15:51<16:01, 11.41it/s]"
     ]
    },
    {
     "name": "stdout",
     "output_type": "stream",
     "text": [
      "Training loss: 1.0997063562890625, global step: 2199\n",
      "Training loss: 1.0997636556983124, global step: 2199\n",
      "Training loss: 1.0997925516615308, global step: 2199\n"
     ]
    },
    {
     "name": "stderr",
     "output_type": "stream",
     "text": [
      " 50%|█████     | 11000/21967 [15:51<16:09, 11.32it/s]"
     ]
    },
    {
     "name": "stdout",
     "output_type": "stream",
     "text": [
      "Training loss: 1.0997780577272345, global step: 2199\n",
      "Training loss: 1.0998176279171172, global step: 2199\n"
     ]
    },
    {
     "name": "stderr",
     "output_type": "stream",
     "text": [
      " 52%|█████▏    | 11496/21967 [16:34<15:17, 11.41it/s]"
     ]
    },
    {
     "name": "stdout",
     "output_type": "stream",
     "text": [
      "Training loss: 1.0987439496354363, global step: 2299\n",
      "Training loss: 1.098752973555855, global step: 2299\n",
      "Training loss: 1.098747276457287, global step: 2299\n"
     ]
    },
    {
     "name": "stderr",
     "output_type": "stream",
     "text": [
      " 52%|█████▏    | 11500/21967 [16:34<15:24, 11.32it/s]"
     ]
    },
    {
     "name": "stdout",
     "output_type": "stream",
     "text": [
      "Training loss: 1.0987300447669937, global step: 2299\n",
      "Training loss: 1.0987362924197703, global step: 2299\n"
     ]
    },
    {
     "name": "stderr",
     "output_type": "stream",
     "text": [
      " 55%|█████▍    | 11996/21967 [17:17<14:33, 11.41it/s]"
     ]
    },
    {
     "name": "stdout",
     "output_type": "stream",
     "text": [
      "Training loss: 1.0983592760443637, global step: 2399\n",
      "Training loss: 1.0983418853467168, global step: 2399\n",
      "Training loss: 1.098357878862008, global step: 2399\n"
     ]
    },
    {
     "name": "stderr",
     "output_type": "stream",
     "text": [
      " 55%|█████▍    | 12000/21967 [17:18<14:40, 11.32it/s]"
     ]
    },
    {
     "name": "stdout",
     "output_type": "stream",
     "text": [
      "Training loss: 1.0983611848314, global step: 2399\n",
      "Training loss: 1.0983150102876804, global step: 2399\n"
     ]
    },
    {
     "name": "stderr",
     "output_type": "stream",
     "text": [
      " 57%|█████▋    | 12496/21967 [18:00<13:50, 11.41it/s]"
     ]
    },
    {
     "name": "stdout",
     "output_type": "stream",
     "text": [
      "Training loss: 1.0977829994393045, global step: 2499\n",
      "Training loss: 1.097819843779052, global step: 2499\n",
      "Training loss: 1.0978124751404228, global step: 2499\n"
     ]
    },
    {
     "name": "stderr",
     "output_type": "stream",
     "text": [
      " 57%|█████▋    | 12500/21967 [18:01<13:55, 11.32it/s]"
     ]
    },
    {
     "name": "stdout",
     "output_type": "stream",
     "text": [
      "Training loss: 1.0978099972267192, global step: 2499\n",
      "Training loss: 1.0978019571021058, global step: 2499\n"
     ]
    },
    {
     "name": "stderr",
     "output_type": "stream",
     "text": [
      " 59%|█████▉    | 12996/21967 [18:44<13:06, 11.41it/s]"
     ]
    },
    {
     "name": "stdout",
     "output_type": "stream",
     "text": [
      "Training loss: 1.0975358122263839, global step: 2599\n",
      "Training loss: 1.0975682843223136, global step: 2599\n",
      "Training loss: 1.097602595574509, global step: 2599\n"
     ]
    },
    {
     "name": "stderr",
     "output_type": "stream",
     "text": [
      " 59%|█████▉    | 13000/21967 [18:44<13:12, 11.32it/s]"
     ]
    },
    {
     "name": "stdout",
     "output_type": "stream",
     "text": [
      "Training loss: 1.0976110376070272, global step: 2599\n",
      "Training loss: 1.097566636028322, global step: 2599\n"
     ]
    },
    {
     "name": "stderr",
     "output_type": "stream",
     "text": [
      " 61%|██████▏   | 13496/21967 [19:27<12:22, 11.41it/s]"
     ]
    },
    {
     "name": "stdout",
     "output_type": "stream",
     "text": [
      "Training loss: 1.0969458560494858, global step: 2699\n",
      "Training loss: 1.096900187980408, global step: 2699\n",
      "Training loss: 1.0968909277345036, global step: 2699\n"
     ]
    },
    {
     "name": "stderr",
     "output_type": "stream",
     "text": [
      " 61%|██████▏   | 13500/21967 [19:27<12:28, 11.32it/s]"
     ]
    },
    {
     "name": "stdout",
     "output_type": "stream",
     "text": [
      "Training loss: 1.0968806109290279, global step: 2699\n",
      "Training loss: 1.0968751210717416, global step: 2699\n"
     ]
    },
    {
     "name": "stderr",
     "output_type": "stream",
     "text": [
      " 64%|██████▎   | 13996/21967 [20:10<11:39, 11.39it/s]"
     ]
    },
    {
     "name": "stdout",
     "output_type": "stream",
     "text": [
      "Training loss: 1.0967123688545002, global step: 2799\n",
      "Training loss: 1.0966566722200202, global step: 2799\n",
      "Training loss: 1.0966426946609764, global step: 2799\n"
     ]
    },
    {
     "name": "stderr",
     "output_type": "stream",
     "text": [
      " 64%|██████▎   | 14000/21967 [20:10<11:45, 11.29it/s]"
     ]
    },
    {
     "name": "stdout",
     "output_type": "stream",
     "text": [
      "Training loss: 1.0966336510022685, global step: 2799\n",
      "Training loss: 1.0966040270057216, global step: 2799\n"
     ]
    },
    {
     "name": "stderr",
     "output_type": "stream",
     "text": [
      " 66%|██████▌   | 14496/21967 [20:53<10:54, 11.42it/s]"
     ]
    },
    {
     "name": "stdout",
     "output_type": "stream",
     "text": [
      "Training loss: 1.0965437203655986, global step: 2899\n",
      "Training loss: 1.0965626477890917, global step: 2899\n",
      "Training loss: 1.0965312527666224, global step: 2899\n"
     ]
    },
    {
     "name": "stderr",
     "output_type": "stream",
     "text": [
      " 66%|██████▌   | 14500/21967 [20:54<10:59, 11.32it/s]"
     ]
    },
    {
     "name": "stdout",
     "output_type": "stream",
     "text": [
      "Training loss: 1.0965279655417732, global step: 2899\n",
      "Training loss: 1.0965064315066122, global step: 2899\n"
     ]
    },
    {
     "name": "stderr",
     "output_type": "stream",
     "text": [
      " 68%|██████▊   | 14996/21967 [21:37<10:11, 11.40it/s]"
     ]
    },
    {
     "name": "stdout",
     "output_type": "stream",
     "text": [
      "Training loss: 1.0959797861298628, global step: 2999\n",
      "Training loss: 1.0960121762715966, global step: 2999\n",
      "Training loss: 1.0960112813751626, global step: 2999\n"
     ]
    },
    {
     "name": "stderr",
     "output_type": "stream",
     "text": [
      " 68%|██████▊   | 15000/21967 [21:37<10:16, 11.31it/s]"
     ]
    },
    {
     "name": "stdout",
     "output_type": "stream",
     "text": [
      "Training loss: 1.0959762481351363, global step: 2999\n",
      "Training loss: 1.0959432296843852, global step: 2999\n"
     ]
    },
    {
     "name": "stderr",
     "output_type": "stream",
     "text": [
      " 71%|███████   | 15496/21967 [22:20<09:26, 11.41it/s]"
     ]
    },
    {
     "name": "stdout",
     "output_type": "stream",
     "text": [
      "Training loss: 1.0949070291870753, global step: 3099\n",
      "Training loss: 1.094934172764859, global step: 3099\n",
      "Training loss: 1.0949407675489038, global step: 3099\n"
     ]
    },
    {
     "name": "stderr",
     "output_type": "stream",
     "text": [
      " 71%|███████   | 15500/21967 [22:20<09:31, 11.32it/s]"
     ]
    },
    {
     "name": "stdout",
     "output_type": "stream",
     "text": [
      "Training loss: 1.0948958820697645, global step: 3099\n",
      "Training loss: 1.0948664161365058, global step: 3099\n"
     ]
    },
    {
     "name": "stderr",
     "output_type": "stream",
     "text": [
      " 73%|███████▎  | 15996/21967 [23:03<08:43, 11.40it/s]"
     ]
    },
    {
     "name": "stdout",
     "output_type": "stream",
     "text": [
      "Training loss: 1.0945740622453446, global step: 3199\n",
      "Training loss: 1.09458857545665, global step: 3199\n",
      "Training loss: 1.0946013835399846, global step: 3199\n"
     ]
    },
    {
     "name": "stderr",
     "output_type": "stream",
     "text": [
      " 73%|███████▎  | 16000/21967 [23:03<08:47, 11.31it/s]"
     ]
    },
    {
     "name": "stdout",
     "output_type": "stream",
     "text": [
      "Training loss: 1.0945933513247397, global step: 3199\n",
      "Training loss: 1.0945839727483353, global step: 3199\n"
     ]
    },
    {
     "name": "stderr",
     "output_type": "stream",
     "text": [
      " 75%|███████▌  | 16496/21967 [23:46<07:59, 11.40it/s]"
     ]
    },
    {
     "name": "stdout",
     "output_type": "stream",
     "text": [
      "Training loss: 1.0925748966604913, global step: 3299\n",
      "Training loss: 1.0925784821565165, global step: 3299\n",
      "Training loss: 1.0925768453639342, global step: 3299\n"
     ]
    },
    {
     "name": "stderr",
     "output_type": "stream",
     "text": [
      " 75%|███████▌  | 16500/21967 [23:47<08:03, 11.31it/s]"
     ]
    },
    {
     "name": "stdout",
     "output_type": "stream",
     "text": [
      "Training loss: 1.0925754102434457, global step: 3299\n",
      "Training loss: 1.0926000089540693, global step: 3299\n"
     ]
    },
    {
     "name": "stderr",
     "output_type": "stream",
     "text": [
      " 77%|███████▋  | 16996/21967 [24:30<07:15, 11.41it/s]"
     ]
    },
    {
     "name": "stdout",
     "output_type": "stream",
     "text": [
      "Training loss: 1.0911637627436646, global step: 3399\n",
      "Training loss: 1.0911156676725433, global step: 3399\n",
      "Training loss: 1.0911095603575474, global step: 3399\n"
     ]
    },
    {
     "name": "stderr",
     "output_type": "stream",
     "text": [
      " 77%|███████▋  | 17000/21967 [24:30<07:19, 11.31it/s]"
     ]
    },
    {
     "name": "stdout",
     "output_type": "stream",
     "text": [
      "Training loss: 1.091095528222909, global step: 3399\n",
      "Training loss: 1.0911196455078074, global step: 3399\n"
     ]
    },
    {
     "name": "stderr",
     "output_type": "stream",
     "text": [
      " 80%|███████▉  | 17496/21967 [25:13<06:31, 11.41it/s]"
     ]
    },
    {
     "name": "stdout",
     "output_type": "stream",
     "text": [
      "Training loss: 1.0899039942359168, global step: 3499\n",
      "Training loss: 1.0899195964646171, global step: 3499\n",
      "Training loss: 1.0899034920353212, global step: 3499\n"
     ]
    },
    {
     "name": "stderr",
     "output_type": "stream",
     "text": [
      " 80%|███████▉  | 17500/21967 [25:13<06:34, 11.32it/s]"
     ]
    },
    {
     "name": "stdout",
     "output_type": "stream",
     "text": [
      "Training loss: 1.0899069502686574, global step: 3499\n",
      "Training loss: 1.0899087056667474, global step: 3499\n"
     ]
    },
    {
     "name": "stderr",
     "output_type": "stream",
     "text": [
      " 82%|████████▏ | 17996/21967 [25:56<05:48, 11.39it/s]"
     ]
    },
    {
     "name": "stdout",
     "output_type": "stream",
     "text": [
      "Training loss: 1.088887943718277, global step: 3599\n",
      "Training loss: 1.0888930645434525, global step: 3599\n",
      "Training loss: 1.0889005491336883, global step: 3599\n"
     ]
    },
    {
     "name": "stderr",
     "output_type": "stream",
     "text": [
      " 82%|████████▏ | 18000/21967 [25:57<05:50, 11.31it/s]"
     ]
    },
    {
     "name": "stdout",
     "output_type": "stream",
     "text": [
      "Training loss: 1.0888922479840295, global step: 3599\n",
      "Training loss: 1.0888881121573597, global step: 3599\n"
     ]
    },
    {
     "name": "stderr",
     "output_type": "stream",
     "text": [
      " 84%|████████▍ | 18496/21967 [26:39<05:05, 11.38it/s]"
     ]
    },
    {
     "name": "stdout",
     "output_type": "stream",
     "text": [
      "Training loss: 1.087566857051208, global step: 3699\n",
      "Training loss: 1.0876101197624115, global step: 3699\n",
      "Training loss: 1.0876094807746373, global step: 3699\n"
     ]
    },
    {
     "name": "stderr",
     "output_type": "stream",
     "text": [
      " 84%|████████▍ | 18500/21967 [26:40<05:07, 11.28it/s]"
     ]
    },
    {
     "name": "stdout",
     "output_type": "stream",
     "text": [
      "Training loss: 1.087615192860062, global step: 3699\n",
      "Training loss: 1.0876389383754992, global step: 3699\n"
     ]
    },
    {
     "name": "stderr",
     "output_type": "stream",
     "text": [
      " 86%|████████▋ | 18996/21967 [27:23<04:20, 11.40it/s]"
     ]
    },
    {
     "name": "stdout",
     "output_type": "stream",
     "text": [
      "Training loss: 1.086428960119542, global step: 3799\n",
      "Training loss: 1.0864271642257821, global step: 3799\n",
      "Training loss: 1.0864344504780252, global step: 3799\n"
     ]
    },
    {
     "name": "stderr",
     "output_type": "stream",
     "text": [
      " 86%|████████▋ | 19000/21967 [27:23<04:22, 11.31it/s]"
     ]
    },
    {
     "name": "stdout",
     "output_type": "stream",
     "text": [
      "Training loss: 1.08642958584596, global step: 3799\n",
      "Training loss: 1.086438509106363, global step: 3799\n"
     ]
    },
    {
     "name": "stderr",
     "output_type": "stream",
     "text": [
      " 89%|████████▉ | 19496/21967 [28:06<03:36, 11.40it/s]"
     ]
    },
    {
     "name": "stdout",
     "output_type": "stream",
     "text": [
      "Training loss: 1.0850685789821912, global step: 3899\n",
      "Training loss: 1.0850597538140359, global step: 3899\n",
      "Training loss: 1.0850650946987852, global step: 3899\n"
     ]
    },
    {
     "name": "stderr",
     "output_type": "stream",
     "text": [
      " 89%|████████▉ | 19500/21967 [28:06<03:38, 11.31it/s]"
     ]
    },
    {
     "name": "stdout",
     "output_type": "stream",
     "text": [
      "Training loss: 1.0850669891731208, global step: 3899\n",
      "Training loss: 1.0850601617459505, global step: 3899\n"
     ]
    },
    {
     "name": "stderr",
     "output_type": "stream",
     "text": [
      " 91%|█████████ | 19996/21967 [28:49<02:52, 11.41it/s]"
     ]
    },
    {
     "name": "stdout",
     "output_type": "stream",
     "text": [
      "Training loss: 1.0837311961597043, global step: 3999\n",
      "Training loss: 1.0837041596038284, global step: 3999\n",
      "Training loss: 1.0836974927279874, global step: 3999\n"
     ]
    },
    {
     "name": "stderr",
     "output_type": "stream",
     "text": [
      " 91%|█████████ | 20000/21967 [28:50<02:53, 11.32it/s]"
     ]
    },
    {
     "name": "stdout",
     "output_type": "stream",
     "text": [
      "Training loss: 1.0836978757412883, global step: 3999\n",
      "Training loss: 1.0836802362822713, global step: 3999\n"
     ]
    },
    {
     "name": "stderr",
     "output_type": "stream",
     "text": [
      " 93%|█████████▎| 20496/21967 [29:33<02:08, 11.41it/s]"
     ]
    },
    {
     "name": "stdout",
     "output_type": "stream",
     "text": [
      "Training loss: 1.0825099358630053, global step: 4099\n",
      "Training loss: 1.0824840345709301, global step: 4099\n",
      "Training loss: 1.0825238295407267, global step: 4099\n"
     ]
    },
    {
     "name": "stderr",
     "output_type": "stream",
     "text": [
      " 93%|█████████▎| 20500/21967 [29:33<02:09, 11.32it/s]"
     ]
    },
    {
     "name": "stdout",
     "output_type": "stream",
     "text": [
      "Training loss: 1.0825181561860675, global step: 4099\n",
      "Training loss: 1.082514678928813, global step: 4099\n"
     ]
    },
    {
     "name": "stderr",
     "output_type": "stream",
     "text": [
      " 96%|█████████▌| 20996/21967 [30:16<01:25, 11.40it/s]"
     ]
    },
    {
     "name": "stdout",
     "output_type": "stream",
     "text": [
      "Training loss: 1.0814568857059759, global step: 4199\n",
      "Training loss: 1.0814406247527417, global step: 4199\n",
      "Training loss: 1.0814283947183267, global step: 4199\n"
     ]
    },
    {
     "name": "stderr",
     "output_type": "stream",
     "text": [
      " 96%|█████████▌| 21000/21967 [30:16<01:25, 11.31it/s]"
     ]
    },
    {
     "name": "stdout",
     "output_type": "stream",
     "text": [
      "Training loss: 1.0814206016487065, global step: 4199\n",
      "Training loss: 1.0814057845538745, global step: 4199\n"
     ]
    },
    {
     "name": "stderr",
     "output_type": "stream",
     "text": [
      " 98%|█████████▊| 21496/21967 [30:59<00:41, 11.40it/s]"
     ]
    },
    {
     "name": "stdout",
     "output_type": "stream",
     "text": [
      "Training loss: 1.080491063661161, global step: 4299\n",
      "Training loss: 1.080492065726926, global step: 4299\n",
      "Training loss: 1.0804833633496012, global step: 4299\n"
     ]
    },
    {
     "name": "stderr",
     "output_type": "stream",
     "text": [
      " 98%|█████████▊| 21500/21967 [30:59<00:41, 11.31it/s]"
     ]
    },
    {
     "name": "stdout",
     "output_type": "stream",
     "text": [
      "Training loss: 1.0804858694319333, global step: 4299\n",
      "Training loss: 1.080486735811003, global step: 4299\n"
     ]
    },
    {
     "name": "stderr",
     "output_type": "stream",
     "text": [
      "100%|██████████| 21967/21967 [31:40<00:00, 11.56it/s]\n"
     ]
    },
    {
     "name": "stdout",
     "output_type": "stream",
     "text": [
      "begin evaluation!!!\n"
     ]
    },
    {
     "name": "stderr",
     "output_type": "stream",
     "text": [
      "  0%|          | 2/21967 [00:00<30:56, 11.83it/s]"
     ]
    },
    {
     "name": "stdout",
     "output_type": "stream",
     "text": [
      "eval_loss: 0.935278746327982\n",
      "eval_accuracy: 0.6253481894150418\n",
      "Training Epoch: 3/5\n"
     ]
    },
    {
     "name": "stderr",
     "output_type": "stream",
     "text": [
      "  2%|▏         | 496/21967 [00:42<31:23, 11.40it/s]"
     ]
    },
    {
     "name": "stdout",
     "output_type": "stream",
     "text": [
      "Training loss: 0.9294892636814502, global step: 99\n",
      "Training loss: 0.9301172022016779, global step: 99\n",
      "Training loss: 0.9299126110926, global step: 99\n"
     ]
    },
    {
     "name": "stderr",
     "output_type": "stream",
     "text": [
      "  2%|▏         | 500/21967 [00:43<31:38, 11.31it/s]"
     ]
    },
    {
     "name": "stdout",
     "output_type": "stream",
     "text": [
      "Training loss: 0.9289199820005272, global step: 99\n",
      "Training loss: 0.9294375176420193, global step: 99\n"
     ]
    },
    {
     "name": "stderr",
     "output_type": "stream",
     "text": [
      "  5%|▍         | 996/21967 [01:26<30:39, 11.40it/s]"
     ]
    },
    {
     "name": "stdout",
     "output_type": "stream",
     "text": [
      "Training loss: 0.941903462451906, global step: 199\n",
      "Training loss: 0.941816698086549, global step: 199\n",
      "Training loss: 0.9418340607834914, global step: 199\n"
     ]
    },
    {
     "name": "stderr",
     "output_type": "stream",
     "text": [
      "  5%|▍         | 1000/21967 [01:26<30:54, 11.31it/s]"
     ]
    },
    {
     "name": "stdout",
     "output_type": "stream",
     "text": [
      "Training loss: 0.9418348228943372, global step: 199\n",
      "Training loss: 0.9421274301347073, global step: 199\n"
     ]
    },
    {
     "name": "stderr",
     "output_type": "stream",
     "text": [
      "  7%|▋         | 1496/21967 [02:09<30:01, 11.37it/s]"
     ]
    },
    {
     "name": "stdout",
     "output_type": "stream",
     "text": [
      "Training loss: 0.9291015448777572, global step: 299\n",
      "Training loss: 0.9288754749664648, global step: 299\n",
      "Training loss: 0.9285176874560839, global step: 299\n"
     ]
    },
    {
     "name": "stderr",
     "output_type": "stream",
     "text": [
      "  7%|▋         | 1500/21967 [02:09<30:12, 11.29it/s]"
     ]
    },
    {
     "name": "stdout",
     "output_type": "stream",
     "text": [
      "Training loss: 0.928357263512223, global step: 299\n",
      "Training loss: 0.9286732157522078, global step: 299\n"
     ]
    },
    {
     "name": "stderr",
     "output_type": "stream",
     "text": [
      "  9%|▉         | 1996/21967 [02:52<29:12, 11.40it/s]"
     ]
    },
    {
     "name": "stdout",
     "output_type": "stream",
     "text": [
      "Training loss: 0.9248600295985253, global step: 399\n",
      "Training loss: 0.9251616578138544, global step: 399\n",
      "Training loss: 0.9250472232244226, global step: 399\n"
     ]
    },
    {
     "name": "stderr",
     "output_type": "stream",
     "text": [
      "  9%|▉         | 2000/21967 [02:53<29:26, 11.30it/s]"
     ]
    },
    {
     "name": "stdout",
     "output_type": "stream",
     "text": [
      "Training loss: 0.9252290831090094, global step: 399\n",
      "Training loss: 0.9250752509996973, global step: 399\n"
     ]
    },
    {
     "name": "stderr",
     "output_type": "stream",
     "text": [
      " 11%|█▏        | 2496/21967 [03:35<28:23, 11.43it/s]"
     ]
    },
    {
     "name": "stdout",
     "output_type": "stream",
     "text": [
      "Training loss: 0.9207992466991555, global step: 499\n",
      "Training loss: 0.9210562281167278, global step: 499\n",
      "Training loss: 0.9207150602118702, global step: 499\n"
     ]
    },
    {
     "name": "stderr",
     "output_type": "stream",
     "text": [
      " 11%|█▏        | 2500/21967 [03:36<28:38, 11.33it/s]"
     ]
    },
    {
     "name": "stdout",
     "output_type": "stream",
     "text": [
      "Training loss: 0.9207027776359176, global step: 499\n",
      "Training loss: 0.9209241808808389, global step: 499\n"
     ]
    },
    {
     "name": "stderr",
     "output_type": "stream",
     "text": [
      " 14%|█▎        | 2996/21967 [04:19<27:41, 11.42it/s]"
     ]
    },
    {
     "name": "stdout",
     "output_type": "stream",
     "text": [
      "Training loss: 0.9217182465531989, global step: 599\n",
      "Training loss: 0.9215892812383867, global step: 599\n",
      "Training loss: 0.9213003316197469, global step: 599\n"
     ]
    },
    {
     "name": "stderr",
     "output_type": "stream",
     "text": [
      " 14%|█▎        | 3000/21967 [04:19<27:55, 11.32it/s]"
     ]
    },
    {
     "name": "stdout",
     "output_type": "stream",
     "text": [
      "Training loss: 0.9211391736097818, global step: 599\n",
      "Training loss: 0.920876997325193, global step: 599\n"
     ]
    },
    {
     "name": "stderr",
     "output_type": "stream",
     "text": [
      " 16%|█▌        | 3496/21967 [05:02<26:56, 11.43it/s]"
     ]
    },
    {
     "name": "stdout",
     "output_type": "stream",
     "text": [
      "Training loss: 0.921718267742571, global step: 699\n",
      "Training loss: 0.9215377735835021, global step: 699\n",
      "Training loss: 0.9216178554614374, global step: 699\n"
     ]
    },
    {
     "name": "stderr",
     "output_type": "stream",
     "text": [
      " 16%|█▌        | 3500/21967 [05:02<27:10, 11.33it/s]"
     ]
    },
    {
     "name": "stdout",
     "output_type": "stream",
     "text": [
      "Training loss: 0.9216715306908386, global step: 699\n",
      "Training loss: 0.9219475985829678, global step: 699\n"
     ]
    },
    {
     "name": "stderr",
     "output_type": "stream",
     "text": [
      " 18%|█▊        | 3996/21967 [05:45<26:12, 11.43it/s]"
     ]
    },
    {
     "name": "stdout",
     "output_type": "stream",
     "text": [
      "Training loss: 0.9186559016493444, global step: 799\n",
      "Training loss: 0.9186793291611267, global step: 799\n",
      "Training loss: 0.9188621461425002, global step: 799\n"
     ]
    },
    {
     "name": "stderr",
     "output_type": "stream",
     "text": [
      " 18%|█▊        | 4000/21967 [05:45<26:25, 11.33it/s]"
     ]
    },
    {
     "name": "stdout",
     "output_type": "stream",
     "text": [
      "Training loss: 0.9190708227984872, global step: 799\n",
      "Training loss: 0.9189664136639801, global step: 799\n"
     ]
    },
    {
     "name": "stderr",
     "output_type": "stream",
     "text": [
      " 20%|██        | 4496/21967 [06:28<25:29, 11.42it/s]"
     ]
    },
    {
     "name": "stdout",
     "output_type": "stream",
     "text": [
      "Training loss: 0.9186650771121427, global step: 899\n",
      "Training loss: 0.9186971390759076, global step: 899\n",
      "Training loss: 0.9186057757278906, global step: 899\n"
     ]
    },
    {
     "name": "stderr",
     "output_type": "stream",
     "text": [
      " 20%|██        | 4500/21967 [06:29<25:42, 11.33it/s]"
     ]
    },
    {
     "name": "stdout",
     "output_type": "stream",
     "text": [
      "Training loss: 0.918653893061297, global step: 899\n",
      "Training loss: 0.9187546056902496, global step: 899\n"
     ]
    },
    {
     "name": "stderr",
     "output_type": "stream",
     "text": [
      " 23%|██▎       | 4996/21967 [07:11<24:45, 11.42it/s]"
     ]
    },
    {
     "name": "stdout",
     "output_type": "stream",
     "text": [
      "Training loss: 0.9153889751529789, global step: 999\n",
      "Training loss: 0.915317001261169, global step: 999\n",
      "Training loss: 0.9154673870716282, global step: 999\n"
     ]
    },
    {
     "name": "stderr",
     "output_type": "stream",
     "text": [
      " 23%|██▎       | 5000/21967 [07:12<24:58, 11.32it/s]"
     ]
    },
    {
     "name": "stdout",
     "output_type": "stream",
     "text": [
      "Training loss: 0.9154252041311635, global step: 999\n",
      "Training loss: 0.9156001735792372, global step: 999\n"
     ]
    },
    {
     "name": "stderr",
     "output_type": "stream",
     "text": [
      " 25%|██▌       | 5496/21967 [07:55<24:01, 11.42it/s]"
     ]
    },
    {
     "name": "stdout",
     "output_type": "stream",
     "text": [
      "Training loss: 0.9153487424887344, global step: 1099\n",
      "Training loss: 0.915322145536607, global step: 1099\n",
      "Training loss: 0.9153538016713878, global step: 1099\n"
     ]
    },
    {
     "name": "stderr",
     "output_type": "stream",
     "text": [
      " 25%|██▌       | 5500/21967 [07:55<24:13, 11.33it/s]"
     ]
    },
    {
     "name": "stdout",
     "output_type": "stream",
     "text": [
      "Training loss: 0.9154341216248224, global step: 1099\n",
      "Training loss: 0.9155277779837655, global step: 1099\n"
     ]
    },
    {
     "name": "stderr",
     "output_type": "stream",
     "text": [
      " 27%|██▋       | 5996/21967 [08:38<23:18, 11.42it/s]"
     ]
    },
    {
     "name": "stdout",
     "output_type": "stream",
     "text": [
      "Training loss: 0.9162190101226734, global step: 1199\n",
      "Training loss: 0.9161993887802317, global step: 1199\n",
      "Training loss: 0.9161145321506747, global step: 1199\n"
     ]
    },
    {
     "name": "stderr",
     "output_type": "stream",
     "text": [
      " 27%|██▋       | 6000/21967 [08:38<23:29, 11.33it/s]"
     ]
    },
    {
     "name": "stdout",
     "output_type": "stream",
     "text": [
      "Training loss: 0.9160749631095088, global step: 1199\n",
      "Training loss: 0.9160007352214651, global step: 1199\n"
     ]
    },
    {
     "name": "stderr",
     "output_type": "stream",
     "text": [
      " 30%|██▉       | 6496/21967 [09:21<22:33, 11.43it/s]"
     ]
    },
    {
     "name": "stdout",
     "output_type": "stream",
     "text": [
      "Training loss: 0.9142225290257899, global step: 1299\n",
      "Training loss: 0.9142802226806765, global step: 1299\n",
      "Training loss: 0.9142172389765675, global step: 1299\n"
     ]
    },
    {
     "name": "stderr",
     "output_type": "stream",
     "text": [
      " 30%|██▉       | 6500/21967 [09:21<22:46, 11.32it/s]"
     ]
    },
    {
     "name": "stdout",
     "output_type": "stream",
     "text": [
      "Training loss: 0.9142759599160803, global step: 1299\n",
      "Training loss: 0.9142464284122604, global step: 1299\n"
     ]
    },
    {
     "name": "stderr",
     "output_type": "stream",
     "text": [
      " 32%|███▏      | 6996/21967 [10:04<21:50, 11.42it/s]"
     ]
    },
    {
     "name": "stdout",
     "output_type": "stream",
     "text": [
      "Training loss: 0.9138814863272868, global step: 1399\n",
      "Training loss: 0.9138372263760908, global step: 1399\n",
      "Training loss: 0.9138103742959057, global step: 1399\n"
     ]
    },
    {
     "name": "stderr",
     "output_type": "stream",
     "text": [
      " 32%|███▏      | 7000/21967 [10:05<22:04, 11.30it/s]"
     ]
    },
    {
     "name": "stdout",
     "output_type": "stream",
     "text": [
      "Training loss: 0.9138534468877875, global step: 1399\n",
      "Training loss: 0.913806159857776, global step: 1399\n"
     ]
    },
    {
     "name": "stderr",
     "output_type": "stream",
     "text": [
      " 34%|███▍      | 7496/21967 [10:47<21:06, 11.43it/s]"
     ]
    },
    {
     "name": "stdout",
     "output_type": "stream",
     "text": [
      "Training loss: 0.9129016997731273, global step: 1499\n",
      "Training loss: 0.9128202586693206, global step: 1499\n",
      "Training loss: 0.912866439869086, global step: 1499\n"
     ]
    },
    {
     "name": "stderr",
     "output_type": "stream",
     "text": [
      " 34%|███▍      | 7500/21967 [10:48<21:16, 11.33it/s]"
     ]
    },
    {
     "name": "stdout",
     "output_type": "stream",
     "text": [
      "Training loss: 0.9128988504277631, global step: 1499\n",
      "Training loss: 0.912903534744001, global step: 1499\n"
     ]
    },
    {
     "name": "stderr",
     "output_type": "stream",
     "text": [
      " 36%|███▋      | 7996/21967 [11:31<20:23, 11.42it/s]"
     ]
    },
    {
     "name": "stdout",
     "output_type": "stream",
     "text": [
      "Training loss: 0.9127628040500567, global step: 1599\n",
      "Training loss: 0.912826216185867, global step: 1599\n",
      "Training loss: 0.9128428599418115, global step: 1599\n"
     ]
    },
    {
     "name": "stderr",
     "output_type": "stream",
     "text": [
      " 36%|███▋      | 8000/21967 [11:31<20:32, 11.33it/s]"
     ]
    },
    {
     "name": "stdout",
     "output_type": "stream",
     "text": [
      "Training loss: 0.9127911290994124, global step: 1599\n",
      "Training loss: 0.912787858467325, global step: 1599\n"
     ]
    },
    {
     "name": "stderr",
     "output_type": "stream",
     "text": [
      " 39%|███▊      | 8496/21967 [12:14<19:39, 11.42it/s]"
     ]
    },
    {
     "name": "stdout",
     "output_type": "stream",
     "text": [
      "Training loss: 0.9126515047281559, global step: 1699\n",
      "Training loss: 0.912690663145699, global step: 1699\n",
      "Training loss: 0.9127458143379547, global step: 1699\n"
     ]
    },
    {
     "name": "stderr",
     "output_type": "stream",
     "text": [
      " 39%|███▊      | 8500/21967 [12:14<19:48, 11.33it/s]"
     ]
    },
    {
     "name": "stdout",
     "output_type": "stream",
     "text": [
      "Training loss: 0.9127189705909354, global step: 1699\n",
      "Training loss: 0.9126635665565568, global step: 1699\n"
     ]
    },
    {
     "name": "stderr",
     "output_type": "stream",
     "text": [
      " 41%|████      | 8996/21967 [12:57<18:55, 11.42it/s]"
     ]
    },
    {
     "name": "stdout",
     "output_type": "stream",
     "text": [
      "Training loss: 0.911683312360158, global step: 1799\n",
      "Training loss: 0.9116256183645659, global step: 1799\n",
      "Training loss: 0.91158395424809, global step: 1799\n"
     ]
    },
    {
     "name": "stderr",
     "output_type": "stream",
     "text": [
      " 41%|████      | 9000/21967 [12:57<19:04, 11.33it/s]"
     ]
    },
    {
     "name": "stdout",
     "output_type": "stream",
     "text": [
      "Training loss: 0.9115920112757905, global step: 1799\n",
      "Training loss: 0.9116086130929694, global step: 1799\n"
     ]
    },
    {
     "name": "stderr",
     "output_type": "stream",
     "text": [
      " 43%|████▎     | 9496/21967 [13:40<18:12, 11.42it/s]"
     ]
    },
    {
     "name": "stdout",
     "output_type": "stream",
     "text": [
      "Training loss: 0.9094017133605188, global step: 1899\n",
      "Training loss: 0.9093862499411296, global step: 1899\n",
      "Training loss: 0.9093618348409132, global step: 1899\n"
     ]
    },
    {
     "name": "stderr",
     "output_type": "stream",
     "text": [
      " 43%|████▎     | 9500/21967 [13:41<18:20, 11.33it/s]"
     ]
    },
    {
     "name": "stdout",
     "output_type": "stream",
     "text": [
      "Training loss: 0.9092990353142234, global step: 1899\n",
      "Training loss: 0.9093470943258105, global step: 1899\n"
     ]
    },
    {
     "name": "stderr",
     "output_type": "stream",
     "text": [
      " 46%|████▌     | 9996/21967 [14:23<17:28, 11.42it/s]"
     ]
    },
    {
     "name": "stdout",
     "output_type": "stream",
     "text": [
      "Training loss: 0.9097431215572694, global step: 1999\n",
      "Training loss: 0.9098048608017048, global step: 1999\n",
      "Training loss: 0.9097733669364194, global step: 1999\n"
     ]
    },
    {
     "name": "stderr",
     "output_type": "stream",
     "text": [
      " 46%|████▌     | 10000/21967 [14:24<17:36, 11.32it/s]"
     ]
    },
    {
     "name": "stdout",
     "output_type": "stream",
     "text": [
      "Training loss: 0.9097925958294995, global step: 1999\n",
      "Training loss: 0.9097276975936589, global step: 1999\n"
     ]
    },
    {
     "name": "stderr",
     "output_type": "stream",
     "text": [
      " 48%|████▊     | 10496/21967 [15:07<16:45, 11.41it/s]"
     ]
    },
    {
     "name": "stdout",
     "output_type": "stream",
     "text": [
      "Training loss: 0.9095610298910287, global step: 2099\n",
      "Training loss: 0.9095895573812347, global step: 2099\n",
      "Training loss: 0.9096006672709437, global step: 2099\n"
     ]
    },
    {
     "name": "stderr",
     "output_type": "stream",
     "text": [
      " 48%|████▊     | 10500/21967 [15:07<16:52, 11.33it/s]"
     ]
    },
    {
     "name": "stdout",
     "output_type": "stream",
     "text": [
      "Training loss: 0.9096394856056742, global step: 2099\n",
      "Training loss: 0.909642490379584, global step: 2099\n"
     ]
    },
    {
     "name": "stderr",
     "output_type": "stream",
     "text": [
      " 50%|█████     | 10996/21967 [15:50<16:00, 11.42it/s]"
     ]
    },
    {
     "name": "stdout",
     "output_type": "stream",
     "text": [
      "Training loss: 0.9105918614770633, global step: 2199\n",
      "Training loss: 0.910570732609729, global step: 2199\n",
      "Training loss: 0.9105683982352297, global step: 2199\n"
     ]
    },
    {
     "name": "stderr",
     "output_type": "stream",
     "text": [
      " 50%|█████     | 11000/21967 [15:50<16:08, 11.33it/s]"
     ]
    },
    {
     "name": "stdout",
     "output_type": "stream",
     "text": [
      "Training loss: 0.9106104525004635, global step: 2199\n",
      "Training loss: 0.9106208018899975, global step: 2199\n"
     ]
    },
    {
     "name": "stderr",
     "output_type": "stream",
     "text": [
      " 52%|█████▏    | 11496/21967 [16:33<15:16, 11.43it/s]"
     ]
    },
    {
     "name": "stdout",
     "output_type": "stream",
     "text": [
      "Training loss: 0.9100901005359422, global step: 2299\n",
      "Training loss: 0.910106269269566, global step: 2299\n",
      "Training loss: 0.9100871684177615, global step: 2299\n"
     ]
    },
    {
     "name": "stderr",
     "output_type": "stream",
     "text": [
      " 52%|█████▏    | 11500/21967 [16:33<15:23, 11.33it/s]"
     ]
    },
    {
     "name": "stdout",
     "output_type": "stream",
     "text": [
      "Training loss: 0.9100551352445616, global step: 2299\n",
      "Training loss: 0.9100429116398309, global step: 2299\n"
     ]
    },
    {
     "name": "stderr",
     "output_type": "stream",
     "text": [
      " 55%|█████▍    | 11996/21967 [17:16<14:32, 11.43it/s]"
     ]
    },
    {
     "name": "stdout",
     "output_type": "stream",
     "text": [
      "Training loss: 0.9086105465747668, global step: 2399\n",
      "Training loss: 0.9086077449209466, global step: 2399\n",
      "Training loss: 0.9086731408080779, global step: 2399\n"
     ]
    },
    {
     "name": "stderr",
     "output_type": "stream",
     "text": [
      " 55%|█████▍    | 12000/21967 [17:17<14:39, 11.33it/s]"
     ]
    },
    {
     "name": "stdout",
     "output_type": "stream",
     "text": [
      "Training loss: 0.9087188646570221, global step: 2399\n",
      "Training loss: 0.9086810689405848, global step: 2399\n"
     ]
    },
    {
     "name": "stderr",
     "output_type": "stream",
     "text": [
      " 57%|█████▋    | 12496/21967 [17:59<13:49, 11.42it/s]"
     ]
    },
    {
     "name": "stdout",
     "output_type": "stream",
     "text": [
      "Training loss: 0.9072011190813546, global step: 2499\n",
      "Training loss: 0.9071559157500058, global step: 2499\n",
      "Training loss: 0.907136229525143, global step: 2499\n"
     ]
    },
    {
     "name": "stderr",
     "output_type": "stream",
     "text": [
      " 57%|█████▋    | 12500/21967 [18:00<13:55, 11.32it/s]"
     ]
    },
    {
     "name": "stdout",
     "output_type": "stream",
     "text": [
      "Training loss: 0.9071224096724023, global step: 2499\n",
      "Training loss: 0.9071473178683016, global step: 2499\n"
     ]
    },
    {
     "name": "stderr",
     "output_type": "stream",
     "text": [
      " 59%|█████▉    | 12996/21967 [18:43<13:05, 11.42it/s]"
     ]
    },
    {
     "name": "stdout",
     "output_type": "stream",
     "text": [
      "Training loss: 0.9080008958131304, global step: 2599\n",
      "Training loss: 0.9080185127228432, global step: 2599\n",
      "Training loss: 0.9081333923647509, global step: 2599\n"
     ]
    },
    {
     "name": "stderr",
     "output_type": "stream",
     "text": [
      " 59%|█████▉    | 13000/21967 [18:43<13:12, 11.32it/s]"
     ]
    },
    {
     "name": "stdout",
     "output_type": "stream",
     "text": [
      "Training loss: 0.9081477124742954, global step: 2599\n",
      "Training loss: 0.9081133644926426, global step: 2599\n"
     ]
    },
    {
     "name": "stderr",
     "output_type": "stream",
     "text": [
      " 61%|██████▏   | 13496/21967 [19:26<12:21, 11.42it/s]"
     ]
    },
    {
     "name": "stdout",
     "output_type": "stream",
     "text": [
      "Training loss: 0.9076455031048538, global step: 2699\n",
      "Training loss: 0.9076340811145749, global step: 2699\n",
      "Training loss: 0.907618027583544, global step: 2699\n"
     ]
    },
    {
     "name": "stderr",
     "output_type": "stream",
     "text": [
      " 61%|██████▏   | 13500/21967 [19:26<12:27, 11.33it/s]"
     ]
    },
    {
     "name": "stdout",
     "output_type": "stream",
     "text": [
      "Training loss: 0.9076196654938611, global step: 2699\n",
      "Training loss: 0.907576275055814, global step: 2699\n"
     ]
    },
    {
     "name": "stderr",
     "output_type": "stream",
     "text": [
      " 64%|██████▎   | 13996/21967 [20:09<11:37, 11.42it/s]"
     ]
    },
    {
     "name": "stdout",
     "output_type": "stream",
     "text": [
      "Training loss: 0.9087320603197357, global step: 2799\n",
      "Training loss: 0.908747126692339, global step: 2799\n",
      "Training loss: 0.9087148041421738, global step: 2799\n"
     ]
    },
    {
     "name": "stderr",
     "output_type": "stream",
     "text": [
      " 64%|██████▎   | 14000/21967 [20:09<11:43, 11.33it/s]"
     ]
    },
    {
     "name": "stdout",
     "output_type": "stream",
     "text": [
      "Training loss: 0.9087206208940043, global step: 2799\n",
      "Training loss: 0.9087312148004575, global step: 2799\n"
     ]
    },
    {
     "name": "stderr",
     "output_type": "stream",
     "text": [
      " 66%|██████▌   | 14496/21967 [20:52<10:54, 11.42it/s]"
     ]
    },
    {
     "name": "stdout",
     "output_type": "stream",
     "text": [
      "Training loss: 0.909308702451514, global step: 2899\n",
      "Training loss: 0.9092733269817171, global step: 2899\n",
      "Training loss: 0.9092803770595181, global step: 2899\n"
     ]
    },
    {
     "name": "stderr",
     "output_type": "stream",
     "text": [
      " 66%|██████▌   | 14500/21967 [20:53<10:59, 11.33it/s]"
     ]
    },
    {
     "name": "stdout",
     "output_type": "stream",
     "text": [
      "Training loss: 0.9092807706471407, global step: 2899\n",
      "Training loss: 0.9092976225772439, global step: 2899\n"
     ]
    },
    {
     "name": "stderr",
     "output_type": "stream",
     "text": [
      " 68%|██████▊   | 14996/21967 [21:35<10:10, 11.42it/s]"
     ]
    },
    {
     "name": "stdout",
     "output_type": "stream",
     "text": [
      "Training loss: 0.9103342230332051, global step: 2999\n",
      "Training loss: 0.9103270005572625, global step: 2999\n",
      "Training loss: 0.9103306564251842, global step: 2999\n"
     ]
    },
    {
     "name": "stderr",
     "output_type": "stream",
     "text": [
      " 68%|██████▊   | 15000/21967 [21:36<10:15, 11.33it/s]"
     ]
    },
    {
     "name": "stdout",
     "output_type": "stream",
     "text": [
      "Training loss: 0.9103300255925856, global step: 2999\n",
      "Training loss: 0.9103215469283502, global step: 2999\n"
     ]
    },
    {
     "name": "stderr",
     "output_type": "stream",
     "text": [
      " 71%|███████   | 15496/21967 [22:19<09:26, 11.42it/s]"
     ]
    },
    {
     "name": "stdout",
     "output_type": "stream",
     "text": [
      "Training loss: 0.9101742568986911, global step: 3099\n",
      "Training loss: 0.910150309686011, global step: 3099\n",
      "Training loss: 0.9101416900653733, global step: 3099\n"
     ]
    },
    {
     "name": "stderr",
     "output_type": "stream",
     "text": [
      " 71%|███████   | 15500/21967 [22:19<09:30, 11.33it/s]"
     ]
    },
    {
     "name": "stdout",
     "output_type": "stream",
     "text": [
      "Training loss: 0.910166592462425, global step: 3099\n",
      "Training loss: 0.9102230545878939, global step: 3099\n"
     ]
    },
    {
     "name": "stderr",
     "output_type": "stream",
     "text": [
      " 73%|███████▎  | 15996/21967 [23:02<08:42, 11.42it/s]"
     ]
    },
    {
     "name": "stdout",
     "output_type": "stream",
     "text": [
      "Training loss: 0.9096594110213945, global step: 3199\n",
      "Training loss: 0.9096518745125374, global step: 3199\n",
      "Training loss: 0.909645718783946, global step: 3199\n"
     ]
    },
    {
     "name": "stderr",
     "output_type": "stream",
     "text": [
      " 73%|███████▎  | 16000/21967 [23:02<08:46, 11.33it/s]"
     ]
    },
    {
     "name": "stdout",
     "output_type": "stream",
     "text": [
      "Training loss: 0.9096360504407175, global step: 3199\n",
      "Training loss: 0.9096297870334642, global step: 3199\n"
     ]
    },
    {
     "name": "stderr",
     "output_type": "stream",
     "text": [
      " 75%|███████▌  | 16496/21967 [23:45<07:58, 11.43it/s]"
     ]
    },
    {
     "name": "stdout",
     "output_type": "stream",
     "text": [
      "Training loss: 0.9097294830785182, global step: 3299\n",
      "Training loss: 0.9097571716905607, global step: 3299\n",
      "Training loss: 0.9098044997058015, global step: 3299\n"
     ]
    },
    {
     "name": "stderr",
     "output_type": "stream",
     "text": [
      " 75%|███████▌  | 16500/21967 [23:45<08:02, 11.34it/s]"
     ]
    },
    {
     "name": "stdout",
     "output_type": "stream",
     "text": [
      "Training loss: 0.9098440222725532, global step: 3299\n",
      "Training loss: 0.9098083087557495, global step: 3299\n"
     ]
    },
    {
     "name": "stderr",
     "output_type": "stream",
     "text": [
      " 77%|███████▋  | 16996/21967 [24:28<07:15, 11.42it/s]"
     ]
    },
    {
     "name": "stdout",
     "output_type": "stream",
     "text": [
      "Training loss: 0.9096424949167187, global step: 3399\n",
      "Training loss: 0.9096428131029075, global step: 3399\n",
      "Training loss: 0.9096927157654545, global step: 3399\n"
     ]
    },
    {
     "name": "stderr",
     "output_type": "stream",
     "text": [
      " 77%|███████▋  | 17000/21967 [24:29<07:18, 11.33it/s]"
     ]
    },
    {
     "name": "stdout",
     "output_type": "stream",
     "text": [
      "Training loss: 0.9096852263594832, global step: 3399\n",
      "Training loss: 0.9096984577787791, global step: 3399\n"
     ]
    },
    {
     "name": "stderr",
     "output_type": "stream",
     "text": [
      " 80%|███████▉  | 17496/21967 [25:11<06:31, 11.42it/s]"
     ]
    },
    {
     "name": "stdout",
     "output_type": "stream",
     "text": [
      "Training loss: 0.9107394551818381, global step: 3499\n",
      "Training loss: 0.9107517742908082, global step: 3499\n",
      "Training loss: 0.910778277610944, global step: 3499\n"
     ]
    },
    {
     "name": "stderr",
     "output_type": "stream",
     "text": [
      " 80%|███████▉  | 17500/21967 [25:12<06:34, 11.32it/s]"
     ]
    },
    {
     "name": "stdout",
     "output_type": "stream",
     "text": [
      "Training loss: 0.9107660693142566, global step: 3499\n",
      "Training loss: 0.9107478914097019, global step: 3499\n"
     ]
    },
    {
     "name": "stderr",
     "output_type": "stream",
     "text": [
      " 82%|████████▏ | 17996/21967 [25:55<05:47, 11.43it/s]"
     ]
    },
    {
     "name": "stdout",
     "output_type": "stream",
     "text": [
      "Training loss: 0.911335036499831, global step: 3599\n",
      "Training loss: 0.9113596483402013, global step: 3599\n",
      "Training loss: 0.9113411349637448, global step: 3599\n"
     ]
    },
    {
     "name": "stderr",
     "output_type": "stream",
     "text": [
      " 82%|████████▏ | 18000/21967 [25:55<05:49, 11.33it/s]"
     ]
    },
    {
     "name": "stdout",
     "output_type": "stream",
     "text": [
      "Training loss: 0.9113205753815111, global step: 3599\n",
      "Training loss: 0.9112858289297122, global step: 3599\n"
     ]
    },
    {
     "name": "stderr",
     "output_type": "stream",
     "text": [
      " 84%|████████▍ | 18496/21967 [26:38<05:03, 11.42it/s]"
     ]
    },
    {
     "name": "stdout",
     "output_type": "stream",
     "text": [
      "Training loss: 0.9116691297931819, global step: 3699\n",
      "Training loss: 0.9116638748912393, global step: 3699\n",
      "Training loss: 0.9116600342963938, global step: 3699\n"
     ]
    },
    {
     "name": "stderr",
     "output_type": "stream",
     "text": [
      " 84%|████████▍ | 18500/21967 [26:38<05:05, 11.33it/s]"
     ]
    },
    {
     "name": "stdout",
     "output_type": "stream",
     "text": [
      "Training loss: 0.9116524886592646, global step: 3699\n",
      "Training loss: 0.911685611408169, global step: 3699\n"
     ]
    },
    {
     "name": "stderr",
     "output_type": "stream",
     "text": [
      " 86%|████████▋ | 18996/21967 [27:21<04:19, 11.43it/s]"
     ]
    },
    {
     "name": "stdout",
     "output_type": "stream",
     "text": [
      "Training loss: 0.9119939677545736, global step: 3799\n",
      "Training loss: 0.9120107103096214, global step: 3799\n",
      "Training loss: 0.9119916796522876, global step: 3799\n"
     ]
    },
    {
     "name": "stderr",
     "output_type": "stream",
     "text": [
      " 86%|████████▋ | 19000/21967 [27:21<04:21, 11.34it/s]"
     ]
    },
    {
     "name": "stdout",
     "output_type": "stream",
     "text": [
      "Training loss: 0.9119532559582135, global step: 3799\n",
      "Training loss: 0.9119765485750958, global step: 3799\n"
     ]
    },
    {
     "name": "stderr",
     "output_type": "stream",
     "text": [
      " 89%|████████▉ | 19496/21967 [28:04<03:36, 11.42it/s]"
     ]
    },
    {
     "name": "stdout",
     "output_type": "stream",
     "text": [
      "Training loss: 0.9123271740853565, global step: 3899\n",
      "Training loss: 0.9123333876370309, global step: 3899\n",
      "Training loss: 0.9123063070482039, global step: 3899\n"
     ]
    },
    {
     "name": "stderr",
     "output_type": "stream",
     "text": [
      " 89%|████████▉ | 19500/21967 [28:04<03:37, 11.33it/s]"
     ]
    },
    {
     "name": "stdout",
     "output_type": "stream",
     "text": [
      "Training loss: 0.9123031257321499, global step: 3899\n",
      "Training loss: 0.9123660575425004, global step: 3899\n"
     ]
    },
    {
     "name": "stderr",
     "output_type": "stream",
     "text": [
      " 91%|█████████ | 19996/21967 [28:47<02:52, 11.41it/s]"
     ]
    },
    {
     "name": "stdout",
     "output_type": "stream",
     "text": [
      "Training loss: 0.9129601434399506, global step: 3999\n",
      "Training loss: 0.9129817693991313, global step: 3999\n",
      "Training loss: 0.9129759908623569, global step: 3999\n"
     ]
    },
    {
     "name": "stderr",
     "output_type": "stream",
     "text": [
      " 91%|█████████ | 20000/21967 [28:48<02:53, 11.32it/s]"
     ]
    },
    {
     "name": "stdout",
     "output_type": "stream",
     "text": [
      "Training loss: 0.9129755742336945, global step: 3999\n",
      "Training loss: 0.9129830554782074, global step: 3999\n"
     ]
    },
    {
     "name": "stderr",
     "output_type": "stream",
     "text": [
      " 93%|█████████▎| 20496/21967 [29:31<02:08, 11.42it/s]"
     ]
    },
    {
     "name": "stdout",
     "output_type": "stream",
     "text": [
      "Training loss: 0.9127383572732197, global step: 4099\n",
      "Training loss: 0.9127219077476877, global step: 4099\n",
      "Training loss: 0.9126993492490125, global step: 4099\n"
     ]
    },
    {
     "name": "stderr",
     "output_type": "stream",
     "text": [
      " 93%|█████████▎| 20500/21967 [29:31<02:09, 11.32it/s]"
     ]
    },
    {
     "name": "stdout",
     "output_type": "stream",
     "text": [
      "Training loss: 0.9126906238649146, global step: 4099\n",
      "Training loss: 0.9127166001624566, global step: 4099\n"
     ]
    },
    {
     "name": "stderr",
     "output_type": "stream",
     "text": [
      " 96%|█████████▌| 20996/21967 [30:14<01:24, 11.43it/s]"
     ]
    },
    {
     "name": "stdout",
     "output_type": "stream",
     "text": [
      "Training loss: 0.9127239610268782, global step: 4199\n",
      "Training loss: 0.9127292645768511, global step: 4199\n",
      "Training loss: 0.9127392969494521, global step: 4199\n"
     ]
    },
    {
     "name": "stderr",
     "output_type": "stream",
     "text": [
      " 96%|█████████▌| 21000/21967 [30:14<01:25, 11.33it/s]"
     ]
    },
    {
     "name": "stdout",
     "output_type": "stream",
     "text": [
      "Training loss: 0.9127182004808654, global step: 4199\n",
      "Training loss: 0.9127024794289679, global step: 4199\n"
     ]
    },
    {
     "name": "stderr",
     "output_type": "stream",
     "text": [
      " 98%|█████████▊| 21496/21967 [30:57<00:41, 11.42it/s]"
     ]
    },
    {
     "name": "stdout",
     "output_type": "stream",
     "text": [
      "Training loss: 0.9126763803758304, global step: 4299\n",
      "Training loss: 0.9126677990572685, global step: 4299\n",
      "Training loss: 0.9126513107195126, global step: 4299\n"
     ]
    },
    {
     "name": "stderr",
     "output_type": "stream",
     "text": [
      " 98%|█████████▊| 21500/21967 [30:57<00:41, 11.32it/s]"
     ]
    },
    {
     "name": "stdout",
     "output_type": "stream",
     "text": [
      "Training loss: 0.9126691221994178, global step: 4299\n",
      "Training loss: 0.9126859466036324, global step: 4299\n"
     ]
    },
    {
     "name": "stderr",
     "output_type": "stream",
     "text": [
      "100%|██████████| 21967/21967 [31:38<00:00, 11.57it/s]\n"
     ]
    },
    {
     "name": "stdout",
     "output_type": "stream",
     "text": [
      "begin evaluation!!!\n"
     ]
    },
    {
     "name": "stderr",
     "output_type": "stream",
     "text": [
      "  0%|          | 2/21967 [00:00<30:35, 11.97it/s]"
     ]
    },
    {
     "name": "stdout",
     "output_type": "stream",
     "text": [
      "eval_loss: 0.9023001367293693\n",
      "eval_accuracy: 0.6420612813370473\n",
      "Training Epoch: 4/5\n"
     ]
    },
    {
     "name": "stderr",
     "output_type": "stream",
     "text": [
      "  2%|▏         | 496/21967 [00:42<31:23, 11.40it/s]"
     ]
    },
    {
     "name": "stdout",
     "output_type": "stream",
     "text": [
      "Training loss: 0.8075522220345459, global step: 99\n",
      "Training loss: 0.8079307642765343, global step: 99\n",
      "Training loss: 0.8075540547729498, global step: 99\n"
     ]
    },
    {
     "name": "stderr",
     "output_type": "stream",
     "text": [
      "  2%|▏         | 500/21967 [00:43<31:38, 11.30it/s]"
     ]
    },
    {
     "name": "stdout",
     "output_type": "stream",
     "text": [
      "Training loss: 0.8075338329027695, global step: 99\n",
      "Training loss: 0.8087532369640165, global step: 99\n"
     ]
    },
    {
     "name": "stderr",
     "output_type": "stream",
     "text": [
      "  5%|▍         | 996/21967 [01:26<30:36, 11.42it/s]"
     ]
    },
    {
     "name": "stdout",
     "output_type": "stream",
     "text": [
      "Training loss: 0.7894986369389685, global step: 199\n",
      "Training loss: 0.7896746886430316, global step: 199\n",
      "Training loss: 0.7892726784611238, global step: 199\n"
     ]
    },
    {
     "name": "stderr",
     "output_type": "stream",
     "text": [
      "  5%|▍         | 1000/21967 [01:26<30:51, 11.32it/s]"
     ]
    },
    {
     "name": "stdout",
     "output_type": "stream",
     "text": [
      "Training loss: 0.7892973941297294, global step: 199\n",
      "Training loss: 0.7893163523523955, global step: 199\n"
     ]
    },
    {
     "name": "stderr",
     "output_type": "stream",
     "text": [
      "  7%|▋         | 1496/21967 [02:09<29:51, 11.42it/s]"
     ]
    },
    {
     "name": "stdout",
     "output_type": "stream",
     "text": [
      "Training loss: 0.7786497797779615, global step: 299\n",
      "Training loss: 0.7784495138871996, global step: 299\n",
      "Training loss: 0.7785358960424851, global step: 299\n"
     ]
    },
    {
     "name": "stderr",
     "output_type": "stream",
     "text": [
      "  7%|▋         | 1500/21967 [02:09<30:06, 11.33it/s]"
     ]
    },
    {
     "name": "stdout",
     "output_type": "stream",
     "text": [
      "Training loss: 0.7784682307292885, global step: 299\n",
      "Training loss: 0.7783645569527642, global step: 299\n"
     ]
    },
    {
     "name": "stderr",
     "output_type": "stream",
     "text": [
      "  9%|▉         | 1996/21967 [02:52<29:07, 11.43it/s]"
     ]
    },
    {
     "name": "stdout",
     "output_type": "stream",
     "text": [
      "Training loss: 0.7697803878759905, global step: 399\n",
      "Training loss: 0.7699732421132137, global step: 399\n",
      "Training loss: 0.7701885019329693, global step: 399\n"
     ]
    },
    {
     "name": "stderr",
     "output_type": "stream",
     "text": [
      "  9%|▉         | 2000/21967 [02:52<29:22, 11.33it/s]"
     ]
    },
    {
     "name": "stdout",
     "output_type": "stream",
     "text": [
      "Training loss: 0.7701463610655418, global step: 399\n",
      "Training loss: 0.7702027420844583, global step: 399\n"
     ]
    },
    {
     "name": "stderr",
     "output_type": "stream",
     "text": [
      " 11%|█▏        | 2496/21967 [03:35<28:24, 11.43it/s]"
     ]
    },
    {
     "name": "stdout",
     "output_type": "stream",
     "text": [
      "Training loss: 0.7699651038307764, global step: 499\n",
      "Training loss: 0.769715689081633, global step: 499\n",
      "Training loss: 0.769586091221101, global step: 499\n"
     ]
    },
    {
     "name": "stderr",
     "output_type": "stream",
     "text": [
      " 11%|█▏        | 2500/21967 [03:36<28:38, 11.33it/s]"
     ]
    },
    {
     "name": "stdout",
     "output_type": "stream",
     "text": [
      "Training loss: 0.7695648433801661, global step: 499\n",
      "Training loss: 0.7693917130288922, global step: 499\n"
     ]
    },
    {
     "name": "stderr",
     "output_type": "stream",
     "text": [
      " 14%|█▎        | 2996/21967 [04:18<27:40, 11.42it/s]"
     ]
    },
    {
     "name": "stdout",
     "output_type": "stream",
     "text": [
      "Training loss: 0.7699729606639811, global step: 599\n",
      "Training loss: 0.7700077285014033, global step: 599\n",
      "Training loss: 0.769928864655537, global step: 599\n"
     ]
    },
    {
     "name": "stderr",
     "output_type": "stream",
     "text": [
      " 14%|█▎        | 3000/21967 [04:19<27:54, 11.33it/s]"
     ]
    },
    {
     "name": "stdout",
     "output_type": "stream",
     "text": [
      "Training loss: 0.7699409493905622, global step: 599\n",
      "Training loss: 0.7697725509432812, global step: 599\n"
     ]
    },
    {
     "name": "stderr",
     "output_type": "stream",
     "text": [
      " 16%|█▌        | 3496/21967 [05:02<26:57, 11.42it/s]"
     ]
    },
    {
     "name": "stdout",
     "output_type": "stream",
     "text": [
      "Training loss: 0.7693954047721642, global step: 699\n",
      "Training loss: 0.7695808014582024, global step: 699\n",
      "Training loss: 0.7694348325579506, global step: 699\n"
     ]
    },
    {
     "name": "stderr",
     "output_type": "stream",
     "text": [
      " 16%|█▌        | 3500/21967 [05:02<27:10, 11.33it/s]"
     ]
    },
    {
     "name": "stdout",
     "output_type": "stream",
     "text": [
      "Training loss: 0.7693951821206015, global step: 699\n",
      "Training loss: 0.7694838318726775, global step: 699\n"
     ]
    },
    {
     "name": "stderr",
     "output_type": "stream",
     "text": [
      " 18%|█▊        | 3996/21967 [05:45<26:13, 11.42it/s]"
     ]
    },
    {
     "name": "stdout",
     "output_type": "stream",
     "text": [
      "Training loss: 0.7657049685096524, global step: 799\n",
      "Training loss: 0.7655726455359928, global step: 799\n",
      "Training loss: 0.7654864893238716, global step: 799\n"
     ]
    },
    {
     "name": "stderr",
     "output_type": "stream",
     "text": [
      " 18%|█▊        | 4000/21967 [05:45<26:25, 11.33it/s]"
     ]
    },
    {
     "name": "stdout",
     "output_type": "stream",
     "text": [
      "Training loss: 0.7654577663677068, global step: 799\n",
      "Training loss: 0.7653461676361106, global step: 799\n"
     ]
    },
    {
     "name": "stderr",
     "output_type": "stream",
     "text": [
      " 20%|██        | 4496/21967 [06:28<25:29, 11.42it/s]"
     ]
    },
    {
     "name": "stdout",
     "output_type": "stream",
     "text": [
      "Training loss: 0.757794246340877, global step: 899\n",
      "Training loss: 0.7579626552642529, global step: 899\n",
      "Training loss: 0.7578880715999675, global step: 899\n"
     ]
    },
    {
     "name": "stderr",
     "output_type": "stream",
     "text": [
      " 20%|██        | 4500/21967 [06:28<25:41, 11.33it/s]"
     ]
    },
    {
     "name": "stdout",
     "output_type": "stream",
     "text": [
      "Training loss: 0.7578222638597772, global step: 899\n",
      "Training loss: 0.7577596079538675, global step: 899\n"
     ]
    },
    {
     "name": "stderr",
     "output_type": "stream",
     "text": [
      " 23%|██▎       | 4996/21967 [07:11<24:45, 11.42it/s]"
     ]
    },
    {
     "name": "stdout",
     "output_type": "stream",
     "text": [
      "Training loss: 0.7584197630438286, global step: 999\n",
      "Training loss: 0.7583482284902306, global step: 999\n",
      "Training loss: 0.7587064511405648, global step: 999\n"
     ]
    },
    {
     "name": "stderr",
     "output_type": "stream",
     "text": [
      " 23%|██▎       | 5000/21967 [07:11<24:57, 11.33it/s]"
     ]
    },
    {
     "name": "stdout",
     "output_type": "stream",
     "text": [
      "Training loss: 0.7587368221159334, global step: 999\n",
      "Training loss: 0.7586221383880077, global step: 999\n"
     ]
    },
    {
     "name": "stderr",
     "output_type": "stream",
     "text": [
      " 25%|██▌       | 5496/21967 [07:54<24:01, 11.43it/s]"
     ]
    },
    {
     "name": "stdout",
     "output_type": "stream",
     "text": [
      "Training loss: 0.7597546348605878, global step: 1099\n",
      "Training loss: 0.7597044658380475, global step: 1099\n",
      "Training loss: 0.7596039052861893, global step: 1099\n"
     ]
    },
    {
     "name": "stderr",
     "output_type": "stream",
     "text": [
      " 25%|██▌       | 5500/21967 [07:55<24:13, 11.33it/s]"
     ]
    },
    {
     "name": "stdout",
     "output_type": "stream",
     "text": [
      "Training loss: 0.7595694993691036, global step: 1099\n",
      "Training loss: 0.7594920633205607, global step: 1099\n"
     ]
    },
    {
     "name": "stderr",
     "output_type": "stream",
     "text": [
      " 27%|██▋       | 5996/21967 [08:38<23:18, 11.42it/s]"
     ]
    },
    {
     "name": "stdout",
     "output_type": "stream",
     "text": [
      "Training loss: 0.7609171787668346, global step: 1199\n",
      "Training loss: 0.7608354295962108, global step: 1199\n",
      "Training loss: 0.7607649153499755, global step: 1199\n"
     ]
    },
    {
     "name": "stderr",
     "output_type": "stream",
     "text": [
      " 27%|██▋       | 6000/21967 [08:38<23:29, 11.33it/s]"
     ]
    },
    {
     "name": "stdout",
     "output_type": "stream",
     "text": [
      "Training loss: 0.7607287679123157, global step: 1199\n",
      "Training loss: 0.7606704966186084, global step: 1199\n"
     ]
    },
    {
     "name": "stderr",
     "output_type": "stream",
     "text": [
      " 30%|██▉       | 6496/21967 [09:21<22:34, 11.42it/s]"
     ]
    },
    {
     "name": "stdout",
     "output_type": "stream",
     "text": [
      "Training loss: 0.7602940943093541, global step: 1299\n",
      "Training loss: 0.7604055930165002, global step: 1299\n",
      "Training loss: 0.7603789263472135, global step: 1299\n"
     ]
    },
    {
     "name": "stderr",
     "output_type": "stream",
     "text": [
      " 30%|██▉       | 6500/21967 [09:21<22:45, 11.33it/s]"
     ]
    },
    {
     "name": "stdout",
     "output_type": "stream",
     "text": [
      "Training loss: 0.7604059474727626, global step: 1299\n",
      "Training loss: 0.760351792930987, global step: 1299\n"
     ]
    },
    {
     "name": "stderr",
     "output_type": "stream",
     "text": [
      " 32%|███▏      | 6996/21967 [10:04<21:50, 11.43it/s]"
     ]
    },
    {
     "name": "stdout",
     "output_type": "stream",
     "text": [
      "Training loss: 0.7592697313409552, global step: 1399\n",
      "Training loss: 0.759252722902658, global step: 1399\n",
      "Training loss: 0.7592626754478008, global step: 1399\n"
     ]
    },
    {
     "name": "stderr",
     "output_type": "stream",
     "text": [
      " 32%|███▏      | 7000/21967 [10:04<22:02, 11.32it/s]"
     ]
    },
    {
     "name": "stdout",
     "output_type": "stream",
     "text": [
      "Training loss: 0.7592754925595329, global step: 1399\n",
      "Training loss: 0.7592280397046869, global step: 1399\n"
     ]
    },
    {
     "name": "stderr",
     "output_type": "stream",
     "text": [
      " 34%|███▍      | 7496/21967 [10:47<21:07, 11.42it/s]"
     ]
    },
    {
     "name": "stdout",
     "output_type": "stream",
     "text": [
      "Training loss: 0.7594089070394675, global step: 1499\n",
      "Training loss: 0.7593255000318905, global step: 1499\n",
      "Training loss: 0.759322915598278, global step: 1499\n"
     ]
    },
    {
     "name": "stderr",
     "output_type": "stream",
     "text": [
      " 34%|███▍      | 7500/21967 [10:48<21:18, 11.32it/s]"
     ]
    },
    {
     "name": "stdout",
     "output_type": "stream",
     "text": [
      "Training loss: 0.7593590703181262, global step: 1499\n",
      "Training loss: 0.7593577286123718, global step: 1499\n"
     ]
    },
    {
     "name": "stderr",
     "output_type": "stream",
     "text": [
      " 36%|███▋      | 7996/21967 [11:30<20:23, 11.41it/s]"
     ]
    },
    {
     "name": "stdout",
     "output_type": "stream",
     "text": [
      "Training loss: 0.7592353929844152, global step: 1599\n",
      "Training loss: 0.7592017841407738, global step: 1599\n",
      "Training loss: 0.7591526999444699, global step: 1599\n"
     ]
    },
    {
     "name": "stderr",
     "output_type": "stream",
     "text": [
      " 36%|███▋      | 8000/21967 [11:31<20:33, 11.32it/s]"
     ]
    },
    {
     "name": "stdout",
     "output_type": "stream",
     "text": [
      "Training loss: 0.7591021343886108, global step: 1599\n",
      "Training loss: 0.7591273817695385, global step: 1599\n"
     ]
    },
    {
     "name": "stderr",
     "output_type": "stream",
     "text": [
      " 39%|███▊      | 8496/21967 [12:14<19:39, 11.42it/s]"
     ]
    },
    {
     "name": "stdout",
     "output_type": "stream",
     "text": [
      "Training loss: 0.7577268262643185, global step: 1699\n",
      "Training loss: 0.7576987451198248, global step: 1699\n",
      "Training loss: 0.7576932464281817, global step: 1699\n"
     ]
    },
    {
     "name": "stderr",
     "output_type": "stream",
     "text": [
      " 39%|███▊      | 8500/21967 [12:14<19:49, 11.32it/s]"
     ]
    },
    {
     "name": "stdout",
     "output_type": "stream",
     "text": [
      "Training loss: 0.7577371256221914, global step: 1699\n",
      "Training loss: 0.7576788577377921, global step: 1699\n"
     ]
    },
    {
     "name": "stderr",
     "output_type": "stream",
     "text": [
      " 41%|████      | 8996/21967 [12:57<18:56, 11.42it/s]"
     ]
    },
    {
     "name": "stdout",
     "output_type": "stream",
     "text": [
      "Training loss: 0.7559792319799319, global step: 1799\n",
      "Training loss: 0.7560244461521713, global step: 1799\n",
      "Training loss: 0.7559787931154249, global step: 1799\n"
     ]
    },
    {
     "name": "stderr",
     "output_type": "stream",
     "text": [
      " 41%|████      | 9000/21967 [12:57<19:05, 11.32it/s]"
     ]
    },
    {
     "name": "stdout",
     "output_type": "stream",
     "text": [
      "Training loss: 0.7559066327286884, global step: 1799\n",
      "Training loss: 0.7558835819331512, global step: 1799\n"
     ]
    },
    {
     "name": "stderr",
     "output_type": "stream",
     "text": [
      " 43%|████▎     | 9496/21967 [13:40<18:12, 11.41it/s]"
     ]
    },
    {
     "name": "stdout",
     "output_type": "stream",
     "text": [
      "Training loss: 0.7559655431347099, global step: 1899\n",
      "Training loss: 0.7559364322870507, global step: 1899\n",
      "Training loss: 0.755911569494483, global step: 1899\n"
     ]
    },
    {
     "name": "stderr",
     "output_type": "stream",
     "text": [
      " 43%|████▎     | 9500/21967 [13:40<18:21, 11.31it/s]"
     ]
    },
    {
     "name": "stdout",
     "output_type": "stream",
     "text": [
      "Training loss: 0.7559112539960263, global step: 1899\n",
      "Training loss: 0.7559107008607493, global step: 1899\n"
     ]
    },
    {
     "name": "stderr",
     "output_type": "stream",
     "text": [
      " 46%|████▌     | 9996/21967 [14:23<17:26, 11.43it/s]"
     ]
    },
    {
     "name": "stdout",
     "output_type": "stream",
     "text": [
      "Training loss: 0.7549252849075013, global step: 1999\n",
      "Training loss: 0.7549321220982924, global step: 1999\n",
      "Training loss: 0.7549463188951293, global step: 1999\n"
     ]
    },
    {
     "name": "stderr",
     "output_type": "stream",
     "text": [
      " 46%|████▌     | 10000/21967 [14:24<17:35, 11.34it/s]"
     ]
    },
    {
     "name": "stdout",
     "output_type": "stream",
     "text": [
      "Training loss: 0.754918917886608, global step: 1999\n",
      "Training loss: 0.754975531117698, global step: 1999\n"
     ]
    },
    {
     "name": "stderr",
     "output_type": "stream",
     "text": [
      " 48%|████▊     | 10496/21967 [15:06<16:43, 11.43it/s]"
     ]
    },
    {
     "name": "stdout",
     "output_type": "stream",
     "text": [
      "Training loss: 0.7544899106961899, global step: 2099\n",
      "Training loss: 0.7544857048990862, global step: 2099\n",
      "Training loss: 0.7544948706554913, global step: 2099\n"
     ]
    },
    {
     "name": "stderr",
     "output_type": "stream",
     "text": [
      " 48%|████▊     | 10500/21967 [15:07<16:51, 11.34it/s]"
     ]
    },
    {
     "name": "stdout",
     "output_type": "stream",
     "text": [
      "Training loss: 0.7545014289638908, global step: 2099\n",
      "Training loss: 0.7544865828346848, global step: 2099\n"
     ]
    },
    {
     "name": "stderr",
     "output_type": "stream",
     "text": [
      " 50%|█████     | 10996/21967 [15:50<15:58, 11.44it/s]"
     ]
    },
    {
     "name": "stdout",
     "output_type": "stream",
     "text": [
      "Training loss: 0.7540916410806322, global step: 2199\n",
      "Training loss: 0.7540833957171628, global step: 2199\n",
      "Training loss: 0.7540795730577314, global step: 2199\n"
     ]
    },
    {
     "name": "stderr",
     "output_type": "stream",
     "text": [
      " 50%|█████     | 11000/21967 [15:50<16:07, 11.34it/s]"
     ]
    },
    {
     "name": "stdout",
     "output_type": "stream",
     "text": [
      "Training loss: 0.754043038107389, global step: 2199\n",
      "Training loss: 0.7540009880713805, global step: 2199\n"
     ]
    },
    {
     "name": "stderr",
     "output_type": "stream",
     "text": [
      " 52%|█████▏    | 11496/21967 [16:33<15:15, 11.43it/s]"
     ]
    },
    {
     "name": "stdout",
     "output_type": "stream",
     "text": [
      "Training loss: 0.7556691298535132, global step: 2299\n",
      "Training loss: 0.7556434989970523, global step: 2299\n",
      "Training loss: 0.7556115431583736, global step: 2299\n"
     ]
    },
    {
     "name": "stderr",
     "output_type": "stream",
     "text": [
      " 52%|█████▏    | 11500/21967 [16:33<15:23, 11.34it/s]"
     ]
    },
    {
     "name": "stdout",
     "output_type": "stream",
     "text": [
      "Training loss: 0.7556786564121094, global step: 2299\n",
      "Training loss: 0.7556561088543902, global step: 2299\n"
     ]
    },
    {
     "name": "stderr",
     "output_type": "stream",
     "text": [
      " 55%|█████▍    | 11996/21967 [17:16<14:31, 11.44it/s]"
     ]
    },
    {
     "name": "stdout",
     "output_type": "stream",
     "text": [
      "Training loss: 0.7558551541784652, global step: 2399\n",
      "Training loss: 0.7558581811703075, global step: 2399\n",
      "Training loss: 0.7558528013755469, global step: 2399\n"
     ]
    },
    {
     "name": "stderr",
     "output_type": "stream",
     "text": [
      " 55%|█████▍    | 12000/21967 [17:16<14:38, 11.34it/s]"
     ]
    },
    {
     "name": "stdout",
     "output_type": "stream",
     "text": [
      "Training loss: 0.7558217037986584, global step: 2399\n",
      "Training loss: 0.7558051544218399, global step: 2399\n"
     ]
    },
    {
     "name": "stderr",
     "output_type": "stream",
     "text": [
      " 57%|█████▋    | 12496/21967 [17:59<13:48, 11.44it/s]"
     ]
    },
    {
     "name": "stdout",
     "output_type": "stream",
     "text": [
      "Training loss: 0.7557085653884756, global step: 2499\n",
      "Training loss: 0.7556925837412475, global step: 2499\n",
      "Training loss: 0.7556472928311315, global step: 2499\n"
     ]
    },
    {
     "name": "stderr",
     "output_type": "stream",
     "text": [
      " 57%|█████▋    | 12500/21967 [17:59<13:55, 11.34it/s]"
     ]
    },
    {
     "name": "stdout",
     "output_type": "stream",
     "text": [
      "Training loss: 0.755590467021131, global step: 2499\n",
      "Training loss: 0.7556133767667716, global step: 2499\n"
     ]
    },
    {
     "name": "stderr",
     "output_type": "stream",
     "text": [
      " 59%|█████▉    | 12996/21967 [18:42<13:04, 11.43it/s]"
     ]
    },
    {
     "name": "stdout",
     "output_type": "stream",
     "text": [
      "Training loss: 0.7569396744858117, global step: 2599\n",
      "Training loss: 0.7569131365202272, global step: 2599\n",
      "Training loss: 0.7569430086365738, global step: 2599\n"
     ]
    },
    {
     "name": "stderr",
     "output_type": "stream",
     "text": [
      " 59%|█████▉    | 13000/21967 [18:43<13:11, 11.33it/s]"
     ]
    },
    {
     "name": "stdout",
     "output_type": "stream",
     "text": [
      "Training loss: 0.756920866194968, global step: 2599\n",
      "Training loss: 0.7569123203549868, global step: 2599\n"
     ]
    },
    {
     "name": "stderr",
     "output_type": "stream",
     "text": [
      " 61%|██████▏   | 13496/21967 [19:25<12:20, 11.43it/s]"
     ]
    },
    {
     "name": "stdout",
     "output_type": "stream",
     "text": [
      "Training loss: 0.7569049346168595, global step: 2699\n",
      "Training loss: 0.7569173625228036, global step: 2699\n",
      "Training loss: 0.7568933720349015, global step: 2699\n"
     ]
    },
    {
     "name": "stderr",
     "output_type": "stream",
     "text": [
      " 61%|██████▏   | 13500/21967 [19:26<12:26, 11.34it/s]"
     ]
    },
    {
     "name": "stdout",
     "output_type": "stream",
     "text": [
      "Training loss: 0.7568794566130461, global step: 2699\n",
      "Training loss: 0.7568529777689561, global step: 2699\n"
     ]
    },
    {
     "name": "stderr",
     "output_type": "stream",
     "text": [
      " 64%|██████▎   | 13996/21967 [20:09<11:37, 11.42it/s]"
     ]
    },
    {
     "name": "stdout",
     "output_type": "stream",
     "text": [
      "Training loss: 0.7562087978174822, global step: 2799\n",
      "Training loss: 0.7561815825996856, global step: 2799\n",
      "Training loss: 0.7561562622138069, global step: 2799\n"
     ]
    },
    {
     "name": "stderr",
     "output_type": "stream",
     "text": [
      " 64%|██████▎   | 14000/21967 [20:09<11:43, 11.33it/s]"
     ]
    },
    {
     "name": "stdout",
     "output_type": "stream",
     "text": [
      "Training loss: 0.7561206297436922, global step: 2799\n",
      "Training loss: 0.7561065166968038, global step: 2799\n"
     ]
    },
    {
     "name": "stderr",
     "output_type": "stream",
     "text": [
      " 66%|██████▌   | 14496/21967 [20:52<10:53, 11.43it/s]"
     ]
    },
    {
     "name": "stdout",
     "output_type": "stream",
     "text": [
      "Training loss: 0.756241171428225, global step: 2899\n",
      "Training loss: 0.7562283168474385, global step: 2899\n",
      "Training loss: 0.7562011494729435, global step: 2899\n"
     ]
    },
    {
     "name": "stderr",
     "output_type": "stream",
     "text": [
      " 66%|██████▌   | 14500/21967 [20:52<10:58, 11.34it/s]"
     ]
    },
    {
     "name": "stdout",
     "output_type": "stream",
     "text": [
      "Training loss: 0.7561773210216624, global step: 2899\n",
      "Training loss: 0.7561813900705202, global step: 2899\n"
     ]
    },
    {
     "name": "stderr",
     "output_type": "stream",
     "text": [
      " 68%|██████▊   | 14996/21967 [21:35<10:09, 11.43it/s]"
     ]
    },
    {
     "name": "stdout",
     "output_type": "stream",
     "text": [
      "Training loss: 0.7573090150925632, global step: 2999\n",
      "Training loss: 0.7572933883218292, global step: 2999\n",
      "Training loss: 0.7573084201675034, global step: 2999\n"
     ]
    },
    {
     "name": "stderr",
     "output_type": "stream",
     "text": [
      " 68%|██████▊   | 15000/21967 [21:35<10:14, 11.34it/s]"
     ]
    },
    {
     "name": "stdout",
     "output_type": "stream",
     "text": [
      "Training loss: 0.7573184750118862, global step: 2999\n",
      "Training loss: 0.7573109574088046, global step: 2999\n"
     ]
    },
    {
     "name": "stderr",
     "output_type": "stream",
     "text": [
      " 71%|███████   | 15496/21967 [22:18<09:25, 11.43it/s]"
     ]
    },
    {
     "name": "stdout",
     "output_type": "stream",
     "text": [
      "Training loss: 0.757683532069509, global step: 3099\n",
      "Training loss: 0.7576514300341546, global step: 3099\n",
      "Training loss: 0.757643804802393, global step: 3099\n"
     ]
    },
    {
     "name": "stderr",
     "output_type": "stream",
     "text": [
      " 71%|███████   | 15500/21967 [22:18<09:30, 11.34it/s]"
     ]
    },
    {
     "name": "stdout",
     "output_type": "stream",
     "text": [
      "Training loss: 0.7576235493620194, global step: 3099\n",
      "Training loss: 0.7576106774663796, global step: 3099\n"
     ]
    },
    {
     "name": "stderr",
     "output_type": "stream",
     "text": [
      " 73%|███████▎  | 15996/21967 [23:01<08:42, 11.43it/s]"
     ]
    },
    {
     "name": "stdout",
     "output_type": "stream",
     "text": [
      "Training loss: 0.7586766859273117, global step: 3199\n",
      "Training loss: 0.7586465129850837, global step: 3199\n",
      "Training loss: 0.7586281434892783, global step: 3199\n"
     ]
    },
    {
     "name": "stderr",
     "output_type": "stream",
     "text": [
      " 73%|███████▎  | 16000/21967 [23:02<08:46, 11.33it/s]"
     ]
    },
    {
     "name": "stdout",
     "output_type": "stream",
     "text": [
      "Training loss: 0.7585966142837193, global step: 3199\n",
      "Training loss: 0.7586100701533393, global step: 3199\n"
     ]
    },
    {
     "name": "stderr",
     "output_type": "stream",
     "text": [
      " 75%|███████▌  | 16496/21967 [23:44<07:59, 11.42it/s]"
     ]
    },
    {
     "name": "stdout",
     "output_type": "stream",
     "text": [
      "Training loss: 0.7594614058587882, global step: 3299\n",
      "Training loss: 0.7594616085057287, global step: 3299\n",
      "Training loss: 0.7594394895788437, global step: 3299\n"
     ]
    },
    {
     "name": "stderr",
     "output_type": "stream",
     "text": [
      " 75%|███████▌  | 16500/21967 [23:45<08:03, 11.32it/s]"
     ]
    },
    {
     "name": "stdout",
     "output_type": "stream",
     "text": [
      "Training loss: 0.7594419531880385, global step: 3299\n",
      "Training loss: 0.7594996840971397, global step: 3299\n"
     ]
    },
    {
     "name": "stderr",
     "output_type": "stream",
     "text": [
      " 77%|███████▋  | 16996/21967 [24:28<07:15, 11.42it/s]"
     ]
    },
    {
     "name": "stdout",
     "output_type": "stream",
     "text": [
      "Training loss: 0.7614501768905065, global step: 3399\n",
      "Training loss: 0.7614503359037087, global step: 3399\n",
      "Training loss: 0.7614546065070421, global step: 3399\n"
     ]
    },
    {
     "name": "stderr",
     "output_type": "stream",
     "text": [
      " 77%|███████▋  | 17000/21967 [24:28<07:18, 11.32it/s]"
     ]
    },
    {
     "name": "stdout",
     "output_type": "stream",
     "text": [
      "Training loss: 0.7614551386553766, global step: 3399\n",
      "Training loss: 0.7614865333241927, global step: 3399\n"
     ]
    },
    {
     "name": "stderr",
     "output_type": "stream",
     "text": [
      " 80%|███████▉  | 17496/21967 [25:11<06:31, 11.42it/s]"
     ]
    },
    {
     "name": "stdout",
     "output_type": "stream",
     "text": [
      "Training loss: 0.7614399162333786, global step: 3499\n",
      "Training loss: 0.7614251347892663, global step: 3499\n",
      "Training loss: 0.7614380523188029, global step: 3499\n"
     ]
    },
    {
     "name": "stderr",
     "output_type": "stream",
     "text": [
      " 80%|███████▉  | 17500/21967 [25:11<06:34, 11.33it/s]"
     ]
    },
    {
     "name": "stdout",
     "output_type": "stream",
     "text": [
      "Training loss: 0.7614467036421754, global step: 3499\n",
      "Training loss: 0.7614456731081498, global step: 3499\n"
     ]
    },
    {
     "name": "stderr",
     "output_type": "stream",
     "text": [
      " 82%|████████▏ | 17996/21967 [25:54<05:47, 11.43it/s]"
     ]
    },
    {
     "name": "stdout",
     "output_type": "stream",
     "text": [
      "Training loss: 0.7622883257916481, global step: 3599\n",
      "Training loss: 0.7623983552110876, global step: 3599\n",
      "Training loss: 0.7624016949096973, global step: 3599\n"
     ]
    },
    {
     "name": "stderr",
     "output_type": "stream",
     "text": [
      " 82%|████████▏ | 18000/21967 [25:54<05:50, 11.33it/s]"
     ]
    },
    {
     "name": "stdout",
     "output_type": "stream",
     "text": [
      "Training loss: 0.7623942552514934, global step: 3599\n",
      "Training loss: 0.7624139128789128, global step: 3599\n"
     ]
    },
    {
     "name": "stderr",
     "output_type": "stream",
     "text": [
      " 84%|████████▍ | 18496/21967 [26:37<05:03, 11.42it/s]"
     ]
    },
    {
     "name": "stdout",
     "output_type": "stream",
     "text": [
      "Training loss: 0.7625290387422632, global step: 3699\n",
      "Training loss: 0.7624989214672399, global step: 3699\n",
      "Training loss: 0.7625225019208866, global step: 3699\n"
     ]
    },
    {
     "name": "stderr",
     "output_type": "stream",
     "text": [
      " 84%|████████▍ | 18500/21967 [26:38<05:06, 11.33it/s]"
     ]
    },
    {
     "name": "stdout",
     "output_type": "stream",
     "text": [
      "Training loss: 0.7625120688179553, global step: 3699\n",
      "Training loss: 0.7625019835738942, global step: 3699\n"
     ]
    },
    {
     "name": "stderr",
     "output_type": "stream",
     "text": [
      " 86%|████████▋ | 18996/21967 [27:20<04:20, 11.43it/s]"
     ]
    },
    {
     "name": "stdout",
     "output_type": "stream",
     "text": [
      "Training loss: 0.7635080022351028, global step: 3799\n",
      "Training loss: 0.7634943571057097, global step: 3799\n",
      "Training loss: 0.763491282131849, global step: 3799\n"
     ]
    },
    {
     "name": "stderr",
     "output_type": "stream",
     "text": [
      " 86%|████████▋ | 19000/21967 [27:21<04:21, 11.33it/s]"
     ]
    },
    {
     "name": "stdout",
     "output_type": "stream",
     "text": [
      "Training loss: 0.7635246033365354, global step: 3799\n",
      "Training loss: 0.7634938558905943, global step: 3799\n"
     ]
    },
    {
     "name": "stderr",
     "output_type": "stream",
     "text": [
      " 89%|████████▉ | 19496/21967 [28:04<03:36, 11.41it/s]"
     ]
    },
    {
     "name": "stdout",
     "output_type": "stream",
     "text": [
      "Training loss: 0.7639487330526378, global step: 3899\n",
      "Training loss: 0.763923919455253, global step: 3899\n",
      "Training loss: 0.763934508884849, global step: 3899\n"
     ]
    },
    {
     "name": "stderr",
     "output_type": "stream",
     "text": [
      " 89%|████████▉ | 19500/21967 [28:04<03:37, 11.32it/s]"
     ]
    },
    {
     "name": "stdout",
     "output_type": "stream",
     "text": [
      "Training loss: 0.7639085604338834, global step: 3899\n",
      "Training loss: 0.7638812457352263, global step: 3899\n"
     ]
    },
    {
     "name": "stderr",
     "output_type": "stream",
     "text": [
      " 91%|█████████ | 19996/21967 [28:47<02:52, 11.42it/s]"
     ]
    },
    {
     "name": "stdout",
     "output_type": "stream",
     "text": [
      "Training loss: 0.7637557402683064, global step: 3999\n",
      "Training loss: 0.7637621130856046, global step: 3999\n",
      "Training loss: 0.7637686686458605, global step: 3999\n"
     ]
    },
    {
     "name": "stderr",
     "output_type": "stream",
     "text": [
      " 91%|█████████ | 20000/21967 [28:47<02:53, 11.32it/s]"
     ]
    },
    {
     "name": "stdout",
     "output_type": "stream",
     "text": [
      "Training loss: 0.763744673098611, global step: 3999\n",
      "Training loss: 0.7637390738463593, global step: 3999\n"
     ]
    },
    {
     "name": "stderr",
     "output_type": "stream",
     "text": [
      " 93%|█████████▎| 20496/21967 [29:30<02:08, 11.42it/s]"
     ]
    },
    {
     "name": "stdout",
     "output_type": "stream",
     "text": [
      "Training loss: 0.7640638655899527, global step: 4099\n",
      "Training loss: 0.764062936580749, global step: 4099\n",
      "Training loss: 0.7640563090777908, global step: 4099\n"
     ]
    },
    {
     "name": "stderr",
     "output_type": "stream",
     "text": [
      " 93%|█████████▎| 20500/21967 [29:30<02:09, 11.33it/s]"
     ]
    },
    {
     "name": "stdout",
     "output_type": "stream",
     "text": [
      "Training loss: 0.7640544807995737, global step: 4099\n",
      "Training loss: 0.7640385029600695, global step: 4099\n"
     ]
    },
    {
     "name": "stderr",
     "output_type": "stream",
     "text": [
      " 96%|█████████▌| 20996/21967 [30:13<01:25, 11.42it/s]"
     ]
    },
    {
     "name": "stdout",
     "output_type": "stream",
     "text": [
      "Training loss: 0.7644358104507404, global step: 4199\n",
      "Training loss: 0.7644365440633512, global step: 4199\n",
      "Training loss: 0.7644026630703602, global step: 4199\n"
     ]
    },
    {
     "name": "stderr",
     "output_type": "stream",
     "text": [
      " 96%|█████████▌| 21000/21967 [30:14<01:25, 11.32it/s]"
     ]
    },
    {
     "name": "stdout",
     "output_type": "stream",
     "text": [
      "Training loss: 0.7643819063330547, global step: 4199\n",
      "Training loss: 0.7644414191131923, global step: 4199\n"
     ]
    },
    {
     "name": "stderr",
     "output_type": "stream",
     "text": [
      " 98%|█████████▊| 21496/21967 [30:56<00:41, 11.42it/s]"
     ]
    },
    {
     "name": "stdout",
     "output_type": "stream",
     "text": [
      "Training loss: 0.7657993310864449, global step: 4299\n",
      "Training loss: 0.7658200048843096, global step: 4299\n",
      "Training loss: 0.765821280297719, global step: 4299\n"
     ]
    },
    {
     "name": "stderr",
     "output_type": "stream",
     "text": [
      " 98%|█████████▊| 21500/21967 [30:57<00:41, 11.32it/s]"
     ]
    },
    {
     "name": "stdout",
     "output_type": "stream",
     "text": [
      "Training loss: 0.7658154661719965, global step: 4299\n",
      "Training loss: 0.7658493399707215, global step: 4299\n"
     ]
    },
    {
     "name": "stderr",
     "output_type": "stream",
     "text": [
      "100%|██████████| 21967/21967 [31:37<00:00, 11.58it/s]\n"
     ]
    },
    {
     "name": "stdout",
     "output_type": "stream",
     "text": [
      "begin evaluation!!!\n"
     ]
    },
    {
     "name": "stderr",
     "output_type": "stream",
     "text": [
      "  0%|          | 2/21967 [00:00<30:35, 11.96it/s]"
     ]
    },
    {
     "name": "stdout",
     "output_type": "stream",
     "text": [
      "eval_loss: 0.9715902045535177\n",
      "eval_accuracy: 0.6434540389972145\n",
      "Training Epoch: 5/5\n"
     ]
    },
    {
     "name": "stderr",
     "output_type": "stream",
     "text": [
      "  2%|▏         | 496/21967 [00:42<31:28, 11.37it/s]"
     ]
    },
    {
     "name": "stdout",
     "output_type": "stream",
     "text": [
      "Training loss: 0.6800908369172101, global step: 99\n",
      "Training loss: 0.6813815797213465, global step: 99\n",
      "Training loss: 0.6812425279686268, global step: 99\n"
     ]
    },
    {
     "name": "stderr",
     "output_type": "stream",
     "text": [
      "  2%|▏         | 500/21967 [00:43<31:40, 11.30it/s]"
     ]
    },
    {
     "name": "stdout",
     "output_type": "stream",
     "text": [
      "Training loss: 0.6806439015804884, global step: 99\n",
      "Training loss: 0.6807782883440445, global step: 99\n"
     ]
    },
    {
     "name": "stderr",
     "output_type": "stream",
     "text": [
      "  5%|▍         | 996/21967 [01:26<30:35, 11.43it/s]"
     ]
    },
    {
     "name": "stdout",
     "output_type": "stream",
     "text": [
      "Training loss: 0.660864442300482, global step: 199\n",
      "Training loss: 0.660924626504965, global step: 199\n",
      "Training loss: 0.6611297883097094, global step: 199\n"
     ]
    },
    {
     "name": "stderr",
     "output_type": "stream",
     "text": [
      "  5%|▍         | 1000/21967 [01:26<30:49, 11.34it/s]"
     ]
    },
    {
     "name": "stdout",
     "output_type": "stream",
     "text": [
      "Training loss: 0.6610208170876684, global step: 199\n",
      "Training loss: 0.6604822753081182, global step: 199\n"
     ]
    },
    {
     "name": "stderr",
     "output_type": "stream",
     "text": [
      "  7%|▋         | 1496/21967 [02:09<29:53, 11.42it/s]"
     ]
    },
    {
     "name": "stdout",
     "output_type": "stream",
     "text": [
      "Training loss: 0.6407718820902316, global step: 299\n",
      "Training loss: 0.641249715941983, global step: 299\n",
      "Training loss: 0.6422822234732812, global step: 299\n"
     ]
    },
    {
     "name": "stderr",
     "output_type": "stream",
     "text": [
      "  7%|▋         | 1500/21967 [02:09<30:06, 11.33it/s]"
     ]
    },
    {
     "name": "stdout",
     "output_type": "stream",
     "text": [
      "Training loss: 0.6421980398467112, global step: 299\n",
      "Training loss: 0.6422742263434469, global step: 299\n"
     ]
    },
    {
     "name": "stderr",
     "output_type": "stream",
     "text": [
      "  9%|▉         | 1996/21967 [02:52<29:12, 11.40it/s]"
     ]
    },
    {
     "name": "stdout",
     "output_type": "stream",
     "text": [
      "Training loss: 0.6342673623927386, global step: 399\n",
      "Training loss: 0.6341305820797225, global step: 399\n",
      "Training loss: 0.6345321560396524, global step: 399\n"
     ]
    },
    {
     "name": "stderr",
     "output_type": "stream",
     "text": [
      "  9%|▉         | 2000/21967 [02:52<29:26, 11.30it/s]"
     ]
    },
    {
     "name": "stdout",
     "output_type": "stream",
     "text": [
      "Training loss: 0.6345419890447254, global step: 399\n",
      "Training loss: 0.634325928565603, global step: 399\n"
     ]
    },
    {
     "name": "stderr",
     "output_type": "stream",
     "text": [
      " 11%|█▏        | 2496/21967 [03:35<28:23, 11.43it/s]"
     ]
    },
    {
     "name": "stdout",
     "output_type": "stream",
     "text": [
      "Training loss: 0.6296464525123979, global step: 499\n",
      "Training loss: 0.6296133806856979, global step: 499\n",
      "Training loss: 0.6298238880666399, global step: 499\n"
     ]
    },
    {
     "name": "stderr",
     "output_type": "stream",
     "text": [
      " 11%|█▏        | 2500/21967 [03:35<28:37, 11.33it/s]"
     ]
    },
    {
     "name": "stdout",
     "output_type": "stream",
     "text": [
      "Training loss: 0.6296240125301468, global step: 499\n",
      "Training loss: 0.6296185440948087, global step: 499\n"
     ]
    },
    {
     "name": "stderr",
     "output_type": "stream",
     "text": [
      " 14%|█▎        | 2996/21967 [04:18<27:40, 11.42it/s]"
     ]
    },
    {
     "name": "stdout",
     "output_type": "stream",
     "text": [
      "Training loss: 0.6276481094213516, global step: 599\n",
      "Training loss: 0.6275187029696949, global step: 599\n",
      "Training loss: 0.6274944219064225, global step: 599\n"
     ]
    },
    {
     "name": "stderr",
     "output_type": "stream",
     "text": [
      " 14%|█▎        | 3000/21967 [04:19<27:53, 11.33it/s]"
     ]
    },
    {
     "name": "stdout",
     "output_type": "stream",
     "text": [
      "Training loss: 0.627412587245044, global step: 599\n",
      "Training loss: 0.6273873662024864, global step: 599\n"
     ]
    },
    {
     "name": "stderr",
     "output_type": "stream",
     "text": [
      " 16%|█▌        | 3496/21967 [05:01<26:56, 11.43it/s]"
     ]
    },
    {
     "name": "stdout",
     "output_type": "stream",
     "text": [
      "Training loss: 0.6232710677526827, global step: 699\n",
      "Training loss: 0.62317633976959, global step: 699\n",
      "Training loss: 0.6232774765787324, global step: 699\n"
     ]
    },
    {
     "name": "stderr",
     "output_type": "stream",
     "text": [
      " 16%|█▌        | 3500/21967 [05:02<27:10, 11.33it/s]"
     ]
    },
    {
     "name": "stdout",
     "output_type": "stream",
     "text": [
      "Training loss: 0.6231288209358117, global step: 699\n",
      "Training loss: 0.6233355992635492, global step: 699\n"
     ]
    },
    {
     "name": "stderr",
     "output_type": "stream",
     "text": [
      " 18%|█▊        | 3996/21967 [05:45<26:12, 11.43it/s]"
     ]
    },
    {
     "name": "stdout",
     "output_type": "stream",
     "text": [
      "Training loss: 0.6210748641075653, global step: 799\n",
      "Training loss: 0.6211063074199967, global step: 799\n",
      "Training loss: 0.621099174671012, global step: 799\n"
     ]
    },
    {
     "name": "stderr",
     "output_type": "stream",
     "text": [
      " 18%|█▊        | 4000/21967 [05:45<26:25, 11.33it/s]"
     ]
    },
    {
     "name": "stdout",
     "output_type": "stream",
     "text": [
      "Training loss: 0.6210991375483973, global step: 799\n",
      "Training loss: 0.6211090260411204, global step: 799\n"
     ]
    },
    {
     "name": "stderr",
     "output_type": "stream",
     "text": [
      " 20%|██        | 4496/21967 [06:28<25:28, 11.43it/s]"
     ]
    },
    {
     "name": "stdout",
     "output_type": "stream",
     "text": [
      "Training loss: 0.6156006072281142, global step: 899\n",
      "Training loss: 0.6156333065489216, global step: 899\n",
      "Training loss: 0.6157233071110045, global step: 899\n"
     ]
    },
    {
     "name": "stderr",
     "output_type": "stream",
     "text": [
      " 20%|██        | 4500/21967 [06:28<25:40, 11.33it/s]"
     ]
    },
    {
     "name": "stdout",
     "output_type": "stream",
     "text": [
      "Training loss: 0.6157290878085143, global step: 899\n",
      "Training loss: 0.6156890908541636, global step: 899\n"
     ]
    },
    {
     "name": "stderr",
     "output_type": "stream",
     "text": [
      " 23%|██▎       | 4996/21967 [07:11<24:45, 11.43it/s]"
     ]
    },
    {
     "name": "stdout",
     "output_type": "stream",
     "text": [
      "Training loss: 0.6131303543805725, global step: 999\n",
      "Training loss: 0.6130778910022705, global step: 999\n",
      "Training loss: 0.613087631116886, global step: 999\n"
     ]
    },
    {
     "name": "stderr",
     "output_type": "stream",
     "text": [
      " 23%|██▎       | 5000/21967 [07:11<24:57, 11.33it/s]"
     ]
    },
    {
     "name": "stdout",
     "output_type": "stream",
     "text": [
      "Training loss: 0.6130425941953551, global step: 999\n",
      "Training loss: 0.612988499814343, global step: 999\n"
     ]
    },
    {
     "name": "stderr",
     "output_type": "stream",
     "text": [
      " 25%|██▌       | 5496/21967 [07:54<24:01, 11.42it/s]"
     ]
    },
    {
     "name": "stdout",
     "output_type": "stream",
     "text": [
      "Training loss: 0.6130216946943178, global step: 1099\n",
      "Training loss: 0.6130049614127477, global step: 1099\n",
      "Training loss: 0.6130091844766835, global step: 1099\n"
     ]
    },
    {
     "name": "stderr",
     "output_type": "stream",
     "text": [
      " 25%|██▌       | 5500/21967 [07:55<24:13, 11.33it/s]"
     ]
    },
    {
     "name": "stdout",
     "output_type": "stream",
     "text": [
      "Training loss: 0.6130190235524509, global step: 1099\n",
      "Training loss: 0.6130084670314765, global step: 1099\n"
     ]
    },
    {
     "name": "stderr",
     "output_type": "stream",
     "text": [
      " 27%|██▋       | 5996/21967 [08:37<23:17, 11.43it/s]"
     ]
    },
    {
     "name": "stdout",
     "output_type": "stream",
     "text": [
      "Training loss: 0.6120373535507496, global step: 1199\n",
      "Training loss: 0.6119774013641679, global step: 1199\n",
      "Training loss: 0.6119572486178209, global step: 1199\n"
     ]
    },
    {
     "name": "stderr",
     "output_type": "stream",
     "text": [
      " 27%|██▋       | 6000/21967 [08:38<23:29, 11.33it/s]"
     ]
    },
    {
     "name": "stdout",
     "output_type": "stream",
     "text": [
      "Training loss: 0.6119660530432658, global step: 1199\n",
      "Training loss: 0.6119355830856992, global step: 1199\n"
     ]
    },
    {
     "name": "stderr",
     "output_type": "stream",
     "text": [
      " 30%|██▉       | 6496/21967 [09:21<22:34, 11.42it/s]"
     ]
    },
    {
     "name": "stdout",
     "output_type": "stream",
     "text": [
      "Training loss: 0.610572752331866, global step: 1299\n",
      "Training loss: 0.6105849315174924, global step: 1299\n",
      "Training loss: 0.6105599253664471, global step: 1299\n"
     ]
    },
    {
     "name": "stderr",
     "output_type": "stream",
     "text": [
      " 30%|██▉       | 6500/21967 [09:21<22:44, 11.33it/s]"
     ]
    },
    {
     "name": "stdout",
     "output_type": "stream",
     "text": [
      "Training loss: 0.6105523272992217, global step: 1299\n",
      "Training loss: 0.610483072741107, global step: 1299\n"
     ]
    },
    {
     "name": "stderr",
     "output_type": "stream",
     "text": [
      " 32%|███▏      | 6996/21967 [10:04<21:52, 11.41it/s]"
     ]
    },
    {
     "name": "stdout",
     "output_type": "stream",
     "text": [
      "Training loss: 0.6103730963119669, global step: 1399\n",
      "Training loss: 0.6103605185538209, global step: 1399\n",
      "Training loss: 0.6103402158696398, global step: 1399\n"
     ]
    },
    {
     "name": "stderr",
     "output_type": "stream",
     "text": [
      " 32%|███▏      | 7000/21967 [10:04<22:02, 11.32it/s]"
     ]
    },
    {
     "name": "stdout",
     "output_type": "stream",
     "text": [
      "Training loss: 0.6102620427457871, global step: 1399\n",
      "Training loss: 0.61032737532873, global step: 1399\n"
     ]
    },
    {
     "name": "stderr",
     "output_type": "stream",
     "text": [
      " 34%|███▍      | 7496/21967 [10:47<21:07, 11.42it/s]"
     ]
    },
    {
     "name": "stdout",
     "output_type": "stream",
     "text": [
      "Training loss: 0.6103107034195814, global step: 1499\n",
      "Training loss: 0.6102408597379001, global step: 1499\n",
      "Training loss: 0.610204131774653, global step: 1499\n"
     ]
    },
    {
     "name": "stderr",
     "output_type": "stream",
     "text": [
      " 34%|███▍      | 7500/21967 [10:47<21:17, 11.32it/s]"
     ]
    },
    {
     "name": "stdout",
     "output_type": "stream",
     "text": [
      "Training loss: 0.6101368895264093, global step: 1499\n",
      "Training loss: 0.6101974431529158, global step: 1499\n"
     ]
    },
    {
     "name": "stderr",
     "output_type": "stream",
     "text": [
      " 36%|███▋      | 7996/21967 [11:30<20:22, 11.43it/s]"
     ]
    },
    {
     "name": "stdout",
     "output_type": "stream",
     "text": [
      "Training loss: 0.6106402873765768, global step: 1599\n",
      "Training loss: 0.6105772383869106, global step: 1599\n",
      "Training loss: 0.6105525829579238, global step: 1599\n"
     ]
    },
    {
     "name": "stderr",
     "output_type": "stream",
     "text": [
      " 36%|███▋      | 8000/21967 [11:31<20:32, 11.33it/s]"
     ]
    },
    {
     "name": "stdout",
     "output_type": "stream",
     "text": [
      "Training loss: 0.6105482442751405, global step: 1599\n",
      "Training loss: 0.6105248145471524, global step: 1599\n"
     ]
    },
    {
     "name": "stderr",
     "output_type": "stream",
     "text": [
      " 39%|███▊      | 8496/21967 [12:13<19:38, 11.43it/s]"
     ]
    },
    {
     "name": "stdout",
     "output_type": "stream",
     "text": [
      "Training loss: 0.6104419600794102, global step: 1699\n",
      "Training loss: 0.6104575459179539, global step: 1699\n",
      "Training loss: 0.6104052235402287, global step: 1699\n"
     ]
    },
    {
     "name": "stderr",
     "output_type": "stream",
     "text": [
      " 39%|███▊      | 8500/21967 [12:14<19:49, 11.32it/s]"
     ]
    },
    {
     "name": "stdout",
     "output_type": "stream",
     "text": [
      "Training loss: 0.6103390855588646, global step: 1699\n",
      "Training loss: 0.6103455375974023, global step: 1699\n"
     ]
    },
    {
     "name": "stderr",
     "output_type": "stream",
     "text": [
      " 41%|████      | 8996/21967 [12:57<18:55, 11.43it/s]"
     ]
    },
    {
     "name": "stdout",
     "output_type": "stream",
     "text": [
      "Training loss: 0.6086651404780139, global step: 1799\n",
      "Training loss: 0.6086054081353991, global step: 1799\n",
      "Training loss: 0.6086386052832194, global step: 1799\n"
     ]
    },
    {
     "name": "stderr",
     "output_type": "stream",
     "text": [
      " 41%|████      | 9000/21967 [12:57<19:04, 11.33it/s]"
     ]
    },
    {
     "name": "stdout",
     "output_type": "stream",
     "text": [
      "Training loss: 0.6086152336757052, global step: 1799\n",
      "Training loss: 0.6087212252445832, global step: 1799\n"
     ]
    },
    {
     "name": "stderr",
     "output_type": "stream",
     "text": [
      " 43%|████▎     | 9496/21967 [13:40<18:10, 11.43it/s]"
     ]
    },
    {
     "name": "stdout",
     "output_type": "stream",
     "text": [
      "Training loss: 0.6090927967938029, global step: 1899\n",
      "Training loss: 0.6090892787425282, global step: 1899\n",
      "Training loss: 0.609031904943627, global step: 1899\n"
     ]
    },
    {
     "name": "stderr",
     "output_type": "stream",
     "text": [
      " 43%|████▎     | 9500/21967 [13:40<18:20, 11.33it/s]"
     ]
    },
    {
     "name": "stdout",
     "output_type": "stream",
     "text": [
      "Training loss: 0.6089838509214307, global step: 1899\n",
      "Training loss: 0.6089885176368962, global step: 1899\n"
     ]
    },
    {
     "name": "stderr",
     "output_type": "stream",
     "text": [
      " 46%|████▌     | 9996/21967 [14:23<17:27, 11.43it/s]"
     ]
    },
    {
     "name": "stdout",
     "output_type": "stream",
     "text": [
      "Training loss: 0.610258735783059, global step: 1999\n",
      "Training loss: 0.6102954661220211, global step: 1999\n",
      "Training loss: 0.6103896206235324, global step: 1999\n"
     ]
    },
    {
     "name": "stderr",
     "output_type": "stream",
     "text": [
      " 46%|████▌     | 10000/21967 [14:23<17:35, 11.34it/s]"
     ]
    },
    {
     "name": "stdout",
     "output_type": "stream",
     "text": [
      "Training loss: 0.6103595561253075, global step: 1999\n",
      "Training loss: 0.6103466101138308, global step: 1999\n"
     ]
    },
    {
     "name": "stderr",
     "output_type": "stream",
     "text": [
      " 48%|████▊     | 10496/21967 [15:06<16:43, 11.43it/s]"
     ]
    },
    {
     "name": "stdout",
     "output_type": "stream",
     "text": [
      "Training loss: 0.6109661044953139, global step: 2099\n",
      "Training loss: 0.610941104394087, global step: 2099\n",
      "Training loss: 0.6109107168629301, global step: 2099\n"
     ]
    },
    {
     "name": "stderr",
     "output_type": "stream",
     "text": [
      " 48%|████▊     | 10500/21967 [15:06<16:52, 11.33it/s]"
     ]
    },
    {
     "name": "stdout",
     "output_type": "stream",
     "text": [
      "Training loss: 0.6108696109874844, global step: 2099\n",
      "Training loss: 0.6108351400348602, global step: 2099\n"
     ]
    },
    {
     "name": "stderr",
     "output_type": "stream",
     "text": [
      " 50%|█████     | 10996/21967 [15:49<16:00, 11.43it/s]"
     ]
    },
    {
     "name": "stdout",
     "output_type": "stream",
     "text": [
      "Training loss: 0.6086774482484526, global step: 2199\n",
      "Training loss: 0.6087228195196666, global step: 2199\n",
      "Training loss: 0.6087294877264159, global step: 2199\n"
     ]
    },
    {
     "name": "stderr",
     "output_type": "stream",
     "text": [
      " 50%|█████     | 11000/21967 [15:50<16:07, 11.33it/s]"
     ]
    },
    {
     "name": "stdout",
     "output_type": "stream",
     "text": [
      "Training loss: 0.6087623370064795, global step: 2199\n",
      "Training loss: 0.6087773972982528, global step: 2199\n"
     ]
    },
    {
     "name": "stderr",
     "output_type": "stream",
     "text": [
      " 52%|█████▏    | 11496/21967 [16:32<15:15, 11.43it/s]"
     ]
    },
    {
     "name": "stdout",
     "output_type": "stream",
     "text": [
      "Training loss: 0.6087296429791758, global step: 2299\n",
      "Training loss: 0.6087838755287339, global step: 2299\n",
      "Training loss: 0.6087741620942334, global step: 2299\n"
     ]
    },
    {
     "name": "stderr",
     "output_type": "stream",
     "text": [
      " 52%|█████▏    | 11500/21967 [16:33<15:23, 11.34it/s]"
     ]
    },
    {
     "name": "stdout",
     "output_type": "stream",
     "text": [
      "Training loss: 0.6087496054387783, global step: 2299\n",
      "Training loss: 0.6087162465860755, global step: 2299\n"
     ]
    },
    {
     "name": "stderr",
     "output_type": "stream",
     "text": [
      " 55%|█████▍    | 11996/21967 [17:16<14:32, 11.42it/s]"
     ]
    },
    {
     "name": "stdout",
     "output_type": "stream",
     "text": [
      "Training loss: 0.6079441626052244, global step: 2399\n",
      "Training loss: 0.6079038999395567, global step: 2399\n",
      "Training loss: 0.6078868005234085, global step: 2399\n"
     ]
    },
    {
     "name": "stderr",
     "output_type": "stream",
     "text": [
      " 55%|█████▍    | 12000/21967 [17:16<14:39, 11.33it/s]"
     ]
    },
    {
     "name": "stdout",
     "output_type": "stream",
     "text": [
      "Training loss: 0.6078779199969008, global step: 2399\n",
      "Training loss: 0.6079022590975047, global step: 2399\n"
     ]
    },
    {
     "name": "stderr",
     "output_type": "stream",
     "text": [
      " 57%|█████▋    | 12496/21967 [17:59<13:49, 11.42it/s]"
     ]
    },
    {
     "name": "stdout",
     "output_type": "stream",
     "text": [
      "Training loss: 0.6079976837111178, global step: 2499\n",
      "Training loss: 0.6079624420381454, global step: 2499\n",
      "Training loss: 0.6079210310686863, global step: 2499\n"
     ]
    },
    {
     "name": "stderr",
     "output_type": "stream",
     "text": [
      " 57%|█████▋    | 12500/21967 [17:59<13:55, 11.33it/s]"
     ]
    },
    {
     "name": "stdout",
     "output_type": "stream",
     "text": [
      "Training loss: 0.6079079694106582, global step: 2499\n",
      "Training loss: 0.6078944070014938, global step: 2499\n"
     ]
    },
    {
     "name": "stderr",
     "output_type": "stream",
     "text": [
      " 59%|█████▉    | 12996/21967 [18:42<13:05, 11.42it/s]"
     ]
    },
    {
     "name": "stdout",
     "output_type": "stream",
     "text": [
      "Training loss: 0.608552459851542, global step: 2599\n",
      "Training loss: 0.6085539206970557, global step: 2599\n",
      "Training loss: 0.6085705378566875, global step: 2599\n"
     ]
    },
    {
     "name": "stderr",
     "output_type": "stream",
     "text": [
      " 59%|█████▉    | 13000/21967 [18:42<13:11, 11.32it/s]"
     ]
    },
    {
     "name": "stdout",
     "output_type": "stream",
     "text": [
      "Training loss: 0.60855423268298, global step: 2599\n",
      "Training loss: 0.6086113973119163, global step: 2599\n"
     ]
    },
    {
     "name": "stderr",
     "output_type": "stream",
     "text": [
      " 61%|██████▏   | 13496/21967 [19:25<12:23, 11.40it/s]"
     ]
    },
    {
     "name": "stdout",
     "output_type": "stream",
     "text": [
      "Training loss: 0.6076952467335854, global step: 2699\n",
      "Training loss: 0.6076963414724488, global step: 2699\n",
      "Training loss: 0.6077020196272864, global step: 2699\n"
     ]
    },
    {
     "name": "stderr",
     "output_type": "stream",
     "text": [
      " 61%|██████▏   | 13500/21967 [19:26<12:29, 11.29it/s]"
     ]
    },
    {
     "name": "stdout",
     "output_type": "stream",
     "text": [
      "Training loss: 0.6076907318484412, global step: 2699\n",
      "Training loss: 0.6077586772107468, global step: 2699\n"
     ]
    },
    {
     "name": "stderr",
     "output_type": "stream",
     "text": [
      " 64%|██████▎   | 13996/21967 [20:08<11:37, 11.42it/s]"
     ]
    },
    {
     "name": "stdout",
     "output_type": "stream",
     "text": [
      "Training loss: 0.6072725231268239, global step: 2799\n",
      "Training loss: 0.6072599071632867, global step: 2799\n",
      "Training loss: 0.6072770851408713, global step: 2799\n"
     ]
    },
    {
     "name": "stderr",
     "output_type": "stream",
     "text": [
      " 64%|██████▎   | 14000/21967 [20:09<11:43, 11.33it/s]"
     ]
    },
    {
     "name": "stdout",
     "output_type": "stream",
     "text": [
      "Training loss: 0.6073462515372587, global step: 2799\n",
      "Training loss: 0.6073412036712466, global step: 2799\n"
     ]
    },
    {
     "name": "stderr",
     "output_type": "stream",
     "text": [
      " 66%|██████▌   | 14496/21967 [20:52<10:54, 11.42it/s]"
     ]
    },
    {
     "name": "stdout",
     "output_type": "stream",
     "text": [
      "Training loss: 0.608382606666761, global step: 2899\n",
      "Training loss: 0.608347710939043, global step: 2899\n",
      "Training loss: 0.6083420991025336, global step: 2899\n"
     ]
    },
    {
     "name": "stderr",
     "output_type": "stream",
     "text": [
      " 66%|██████▌   | 14500/21967 [20:52<10:59, 11.33it/s]"
     ]
    },
    {
     "name": "stdout",
     "output_type": "stream",
     "text": [
      "Training loss: 0.6083526149323687, global step: 2899\n",
      "Training loss: 0.6083287463873107, global step: 2899\n"
     ]
    },
    {
     "name": "stderr",
     "output_type": "stream",
     "text": [
      " 68%|██████▊   | 14996/21967 [21:35<10:10, 11.42it/s]"
     ]
    },
    {
     "name": "stdout",
     "output_type": "stream",
     "text": [
      "Training loss: 0.6077411754310623, global step: 2999\n",
      "Training loss: 0.607735886731233, global step: 2999\n",
      "Training loss: 0.6077002654373661, global step: 2999\n"
     ]
    },
    {
     "name": "stderr",
     "output_type": "stream",
     "text": [
      " 68%|██████▊   | 15000/21967 [21:35<10:15, 11.32it/s]"
     ]
    },
    {
     "name": "stdout",
     "output_type": "stream",
     "text": [
      "Training loss: 0.6076950628014898, global step: 2999\n",
      "Training loss: 0.6077179409059387, global step: 2999\n"
     ]
    },
    {
     "name": "stderr",
     "output_type": "stream",
     "text": [
      " 71%|███████   | 15496/21967 [22:18<09:27, 11.41it/s]"
     ]
    },
    {
     "name": "stdout",
     "output_type": "stream",
     "text": [
      "Training loss: 0.6083803658313343, global step: 3099\n",
      "Training loss: 0.608427763283279, global step: 3099\n",
      "Training loss: 0.6083968680491131, global step: 3099\n"
     ]
    },
    {
     "name": "stderr",
     "output_type": "stream",
     "text": [
      " 71%|███████   | 15500/21967 [22:18<09:31, 11.32it/s]"
     ]
    },
    {
     "name": "stdout",
     "output_type": "stream",
     "text": [
      "Training loss: 0.6083770710029761, global step: 3099\n",
      "Training loss: 0.60835944272054, global step: 3099\n"
     ]
    },
    {
     "name": "stderr",
     "output_type": "stream",
     "text": [
      " 73%|███████▎  | 15996/21967 [23:01<08:42, 11.42it/s]"
     ]
    },
    {
     "name": "stdout",
     "output_type": "stream",
     "text": [
      "Training loss: 0.609406331426375, global step: 3199\n",
      "Training loss: 0.6093713690113614, global step: 3199\n",
      "Training loss: 0.609374586730376, global step: 3199\n"
     ]
    },
    {
     "name": "stderr",
     "output_type": "stream",
     "text": [
      " 73%|███████▎  | 16000/21967 [23:02<08:47, 11.32it/s]"
     ]
    },
    {
     "name": "stdout",
     "output_type": "stream",
     "text": [
      "Training loss: 0.6093823198683358, global step: 3199\n",
      "Training loss: 0.6093758122854249, global step: 3199\n"
     ]
    },
    {
     "name": "stderr",
     "output_type": "stream",
     "text": [
      " 75%|███████▌  | 16496/21967 [23:44<07:58, 11.43it/s]"
     ]
    },
    {
     "name": "stdout",
     "output_type": "stream",
     "text": [
      "Training loss: 0.6103943559029839, global step: 3299\n",
      "Training loss: 0.6103830322076043, global step: 3299\n",
      "Training loss: 0.610382551031255, global step: 3299\n"
     ]
    },
    {
     "name": "stderr",
     "output_type": "stream",
     "text": [
      " 75%|███████▌  | 16500/21967 [23:45<08:02, 11.34it/s]"
     ]
    },
    {
     "name": "stdout",
     "output_type": "stream",
     "text": [
      "Training loss: 0.6103579262675234, global step: 3299\n",
      "Training loss: 0.6103537491239961, global step: 3299\n"
     ]
    },
    {
     "name": "stderr",
     "output_type": "stream",
     "text": [
      " 77%|███████▋  | 16996/21967 [24:28<07:15, 11.42it/s]"
     ]
    },
    {
     "name": "stdout",
     "output_type": "stream",
     "text": [
      "Training loss: 0.6107601361757775, global step: 3399\n",
      "Training loss: 0.610743767715832, global step: 3399\n",
      "Training loss: 0.6107391130755665, global step: 3399\n"
     ]
    },
    {
     "name": "stderr",
     "output_type": "stream",
     "text": [
      " 77%|███████▋  | 17000/21967 [24:28<07:18, 11.33it/s]"
     ]
    },
    {
     "name": "stdout",
     "output_type": "stream",
     "text": [
      "Training loss: 0.6107326650016843, global step: 3399\n",
      "Training loss: 0.6107562072625787, global step: 3399\n"
     ]
    },
    {
     "name": "stderr",
     "output_type": "stream",
     "text": [
      " 80%|███████▉  | 17496/21967 [25:11<06:31, 11.42it/s]"
     ]
    },
    {
     "name": "stdout",
     "output_type": "stream",
     "text": [
      "Training loss: 0.6115919157089994, global step: 3499\n",
      "Training loss: 0.611598089587561, global step: 3499\n",
      "Training loss: 0.611595655300572, global step: 3499\n"
     ]
    },
    {
     "name": "stderr",
     "output_type": "stream",
     "text": [
      " 80%|███████▉  | 17500/21967 [25:11<06:34, 11.33it/s]"
     ]
    },
    {
     "name": "stdout",
     "output_type": "stream",
     "text": [
      "Training loss: 0.6115804408763535, global step: 3499\n",
      "Training loss: 0.6116048581081013, global step: 3499\n"
     ]
    },
    {
     "name": "stderr",
     "output_type": "stream",
     "text": [
      " 82%|████████▏ | 17996/21967 [25:54<05:47, 11.42it/s]"
     ]
    },
    {
     "name": "stdout",
     "output_type": "stream",
     "text": [
      "Training loss: 0.6122373584451164, global step: 3599\n",
      "Training loss: 0.6122483682424017, global step: 3599\n",
      "Training loss: 0.6122492893005225, global step: 3599\n"
     ]
    },
    {
     "name": "stderr",
     "output_type": "stream",
     "text": [
      " 82%|████████▏ | 18000/21967 [25:54<05:50, 11.33it/s]"
     ]
    },
    {
     "name": "stdout",
     "output_type": "stream",
     "text": [
      "Training loss: 0.6122225868565725, global step: 3599\n",
      "Training loss: 0.6122360022709771, global step: 3599\n"
     ]
    },
    {
     "name": "stderr",
     "output_type": "stream",
     "text": [
      " 84%|████████▍ | 18496/21967 [26:37<05:03, 11.43it/s]"
     ]
    },
    {
     "name": "stdout",
     "output_type": "stream",
     "text": [
      "Training loss: 0.6126250318907193, global step: 3699\n",
      "Training loss: 0.6126027150647048, global step: 3699\n",
      "Training loss: 0.6126426106312352, global step: 3699\n"
     ]
    },
    {
     "name": "stderr",
     "output_type": "stream",
     "text": [
      " 84%|████████▍ | 18500/21967 [26:38<05:06, 11.33it/s]"
     ]
    },
    {
     "name": "stdout",
     "output_type": "stream",
     "text": [
      "Training loss: 0.6126291313559223, global step: 3699\n",
      "Training loss: 0.6126103852528673, global step: 3699\n"
     ]
    },
    {
     "name": "stderr",
     "output_type": "stream",
     "text": [
      " 86%|████████▋ | 18996/21967 [27:20<04:20, 11.41it/s]"
     ]
    },
    {
     "name": "stdout",
     "output_type": "stream",
     "text": [
      "Training loss: 0.6133492111108053, global step: 3799\n",
      "Training loss: 0.6133409727950278, global step: 3799\n",
      "Training loss: 0.6133297192423648, global step: 3799\n"
     ]
    },
    {
     "name": "stderr",
     "output_type": "stream",
     "text": [
      " 86%|████████▋ | 19000/21967 [27:21<04:22, 11.32it/s]"
     ]
    },
    {
     "name": "stdout",
     "output_type": "stream",
     "text": [
      "Training loss: 0.6133136687805107, global step: 3799\n",
      "Training loss: 0.6132876572678936, global step: 3799\n"
     ]
    },
    {
     "name": "stderr",
     "output_type": "stream",
     "text": [
      " 89%|████████▉ | 19496/21967 [28:04<03:36, 11.40it/s]"
     ]
    },
    {
     "name": "stdout",
     "output_type": "stream",
     "text": [
      "Training loss: 0.6150319775556919, global step: 3899\n",
      "Training loss: 0.6150650411524115, global step: 3899\n",
      "Training loss: 0.615055598094501, global step: 3899\n"
     ]
    },
    {
     "name": "stderr",
     "output_type": "stream",
     "text": [
      " 89%|████████▉ | 19500/21967 [28:04<03:38, 11.31it/s]"
     ]
    },
    {
     "name": "stdout",
     "output_type": "stream",
     "text": [
      "Training loss: 0.6150913653365178, global step: 3899\n",
      "Training loss: 0.6150605086843506, global step: 3899\n"
     ]
    },
    {
     "name": "stderr",
     "output_type": "stream",
     "text": [
      " 91%|█████████ | 19996/21967 [28:47<02:52, 11.41it/s]"
     ]
    },
    {
     "name": "stdout",
     "output_type": "stream",
     "text": [
      "Training loss: 0.61555365062491, global step: 3999\n",
      "Training loss: 0.6155338058721663, global step: 3999\n",
      "Training loss: 0.6155118517839496, global step: 3999\n"
     ]
    },
    {
     "name": "stderr",
     "output_type": "stream",
     "text": [
      " 91%|█████████ | 20000/21967 [28:47<02:53, 11.32it/s]"
     ]
    },
    {
     "name": "stdout",
     "output_type": "stream",
     "text": [
      "Training loss: 0.6155300074836684, global step: 3999\n",
      "Training loss: 0.615523449426253, global step: 3999\n"
     ]
    },
    {
     "name": "stderr",
     "output_type": "stream",
     "text": [
      " 93%|█████████▎| 20496/21967 [29:30<02:08, 11.41it/s]"
     ]
    },
    {
     "name": "stdout",
     "output_type": "stream",
     "text": [
      "Training loss: 0.6168699112505182, global step: 4099\n",
      "Training loss: 0.6168801566632897, global step: 4099\n",
      "Training loss: 0.6168747718091153, global step: 4099\n"
     ]
    },
    {
     "name": "stderr",
     "output_type": "stream",
     "text": [
      " 93%|█████████▎| 20500/21967 [29:30<02:09, 11.31it/s]"
     ]
    },
    {
     "name": "stdout",
     "output_type": "stream",
     "text": [
      "Training loss: 0.6168694294083062, global step: 4099\n",
      "Training loss: 0.6168689991358092, global step: 4099\n"
     ]
    },
    {
     "name": "stderr",
     "output_type": "stream",
     "text": [
      " 96%|█████████▌| 20996/21967 [30:13<01:25, 11.41it/s]"
     ]
    },
    {
     "name": "stdout",
     "output_type": "stream",
     "text": [
      "Training loss: 0.6170082021216985, global step: 4199\n",
      "Training loss: 0.6170822529159817, global step: 4199\n",
      "Training loss: 0.6170862101674853, global step: 4199\n"
     ]
    },
    {
     "name": "stderr",
     "output_type": "stream",
     "text": [
      " 96%|█████████▌| 21000/21967 [30:14<01:25, 11.32it/s]"
     ]
    },
    {
     "name": "stdout",
     "output_type": "stream",
     "text": [
      "Training loss: 0.6170897594749463, global step: 4199\n",
      "Training loss: 0.6170683850682761, global step: 4199\n"
     ]
    },
    {
     "name": "stderr",
     "output_type": "stream",
     "text": [
      " 98%|█████████▊| 21496/21967 [30:57<00:41, 11.42it/s]"
     ]
    },
    {
     "name": "stdout",
     "output_type": "stream",
     "text": [
      "Training loss: 0.6173336630660484, global step: 4299\n",
      "Training loss: 0.6173104422901886, global step: 4299\n",
      "Training loss: 0.6173149702395601, global step: 4299\n"
     ]
    },
    {
     "name": "stderr",
     "output_type": "stream",
     "text": [
      " 98%|█████████▊| 21500/21967 [30:57<00:41, 11.33it/s]"
     ]
    },
    {
     "name": "stdout",
     "output_type": "stream",
     "text": [
      "Training loss: 0.617299378065689, global step: 4299\n",
      "Training loss: 0.6172974028671739, global step: 4299\n"
     ]
    },
    {
     "name": "stderr",
     "output_type": "stream",
     "text": [
      "100%|██████████| 21967/21967 [31:37<00:00, 11.58it/s]\n"
     ]
    },
    {
     "name": "stdout",
     "output_type": "stream",
     "text": [
      "begin evaluation!!!\n",
      "eval_loss: 1.0293798595589059\n",
      "eval_accuracy: 0.6511142061281338\n"
     ]
    }
   ],
   "source": [
    "global_step=0\n",
    "model.train()\n",
    "\n",
    "for epoch in range(epoch_num):\n",
    "    train_loss=0\n",
    "    training_case_num=0\n",
    "    training_step_num=0\n",
    "    \n",
    "  \n",
    "  \n",
    "    print(\"Training Epoch: {}/{}\".format(epoch+1, int(epoch_num)))\n",
    "    train_race(train_data,device,n_gpu,model,optimizer,global_step,num_train_steps,train_loss,training_case_num,training_step_num)\n",
    "#     if (global_step+1) % 100 == 0:\n",
    "    model.eval()\n",
    "    val_race(eval_data, device, model, global_step, train_loss, training_step_num)\n",
    "\n",
    "  "
   ]
  },
  {
   "cell_type": "code",
   "execution_count": 26,
   "id": "0656d739",
   "metadata": {},
   "outputs": [],
   "source": [
    "test_path='data/test/middle'\n",
    "is_training_test=False\n",
    "test_input_cloze,test_input_direct=to_input(test_path)\n",
    "test_sequences_cloze=input_to_sequence_cloze(test_input_cloze,max_seq_length,tokenizer,is_training_test)\n",
    "test_sequences_direct=input_to_sequence_question(test_input_direct,max_seq_length,tokenizer,is_training_test)\n",
    "test_sequences=test_sequences_cloze+test_sequences_direct\n",
    "test_batch_size=1\n",
    "\n",
    "test_input_sequence=to_all_tensor(test_sequences,'input_sequence')\n",
    "test_segment_id=to_all_tensor(test_sequences,'segment_id')\n",
    "test_mask_id=to_all_tensor(test_sequences,'mask_id')\n",
    "test_label=torch.tensor([case.label for case in test_sequences],dtype=torch.long)\n",
    "\n",
    "test_dataset=TensorDataset(test_input_sequence,test_segment_id,test_mask_id,test_label)\n",
    "test_sampler=RandomSampler(test_dataset)\n",
    "test_data=DataLoader(test_dataset,sampler=test_sampler, batch_size=batch_size)\n",
    "\n",
    "\n",
    "\n"
   ]
  },
  {
   "cell_type": "code",
   "execution_count": 27,
   "id": "79d03012",
   "metadata": {},
   "outputs": [],
   "source": [
    "test_path2='data/test/high'\n",
    "is_training_test=False\n",
    "test_input2_cloze,test_input2_direct=to_input(test_path2)\n",
    "test_sequences2_cloze=input_to_sequence_cloze(test_input2_cloze,max_seq_length,tokenizer,is_training_test)\n",
    "test_sequences2_direct=input_to_sequence_question(test_input2_direct,max_seq_length,tokenizer,is_training_test)\n",
    "test_sequences2=test_sequences2_cloze+test_sequences2_direct\n",
    "test_batch_size=1\n",
    "\n",
    "test_input_sequence2=to_all_tensor(test_sequences2,'input_sequence')\n",
    "test_segment_id2=to_all_tensor(test_sequences2,'segment_id')\n",
    "test_mask_id2=to_all_tensor(test_sequences2,'mask_id')\n",
    "test_label2=torch.tensor([case.label for case in test_sequences2],dtype=torch.long)\n",
    "\n",
    "test_dataset2=TensorDataset(test_input_sequence2,test_segment_id2,test_mask_id2,test_label2)\n",
    "test_sampler2=RandomSampler(test_dataset2)\n",
    "test_data2=DataLoader(test_dataset2,sampler=test_sampler2, batch_size=batch_size)"
   ]
  },
  {
   "cell_type": "code",
   "execution_count": 32,
   "id": "5e9cad14",
   "metadata": {},
   "outputs": [],
   "source": [
    "test_cloze=test_sequences_cloze+test_sequences2_cloze\n",
    "test_direct=test_sequences_direct+test_sequences2_direct\n",
    "\n",
    "test_input_sequence_cloze=to_all_tensor(test_cloze,'input_sequence')\n",
    "test_segment_id_cloze=to_all_tensor(test_cloze,'segment_id')\n",
    "test_mask_id_cloze=to_all_tensor(test_cloze,'mask_id')\n",
    "test_label_cloze=torch.tensor([case.label for case in test_cloze],dtype=torch.long)\n",
    "\n",
    "test_dataset_cloze=TensorDataset(test_input_sequence_cloze,test_segment_id_cloze,test_mask_id_cloze,test_label_cloze)\n",
    "test_sampler_cloze=RandomSampler(test_dataset_cloze)\n",
    "test_data_cloze=DataLoader(test_dataset_cloze,sampler=test_sampler_cloze, batch_size=batch_size)"
   ]
  },
  {
   "cell_type": "code",
   "execution_count": 33,
   "id": "36838d9e",
   "metadata": {},
   "outputs": [],
   "source": [
    "test_input_sequence_direct=to_all_tensor(test_direct,'input_sequence')\n",
    "test_segment_id_direct=to_all_tensor(test_direct,'segment_id')\n",
    "test_mask_id_direct=to_all_tensor(test_direct,'mask_id')\n",
    "test_label_direct=torch.tensor([case.label for case in test_direct],dtype=torch.long)\n",
    "\n",
    "test_dataset_direct=TensorDataset(test_input_sequence_direct,test_segment_id_direct,test_mask_id_direct,test_label_direct)\n",
    "test_sampler_direct=RandomSampler(test_dataset_direct)\n",
    "test_data_direct=DataLoader(test_dataset_direct,sampler=test_sampler_direct, batch_size=batch_size)"
   ]
  },
  {
   "cell_type": "code",
   "execution_count": 28,
   "id": "26659324",
   "metadata": {},
   "outputs": [],
   "source": [
    "def test_race(test_dataloader,device,model,global_step):\n",
    "    print(\"begin testing!!!\")\n",
    "    test_loss, test_accuracy = 0, 0\n",
    "    nb_test_steps, nb_test_examples = 0, 0\n",
    "    for step, batch in enumerate(test_dataloader):\n",
    "        batch = tuple(t.to(device) for t in batch)\n",
    "        input_ids, segment_ids, input_mask, label_ids = batch\n",
    "\n",
    "        with torch.no_grad():\n",
    "            tmp_test_loss = model(input_ids, segment_ids, input_mask, label_ids)\n",
    "            logits = model(input_ids, segment_ids, input_mask)\n",
    "\n",
    "        logits = logits.detach().cpu().numpy()\n",
    "        label_ids = label_ids.to('cpu').numpy()\n",
    "        tmp_test_accuracy = accuracy(logits, label_ids)\n",
    "\n",
    "        test_loss += tmp_test_loss.mean().item()\n",
    "        test_accuracy += tmp_test_accuracy\n",
    "\n",
    "        nb_test_examples += input_ids.size(0)\n",
    "        nb_test_steps += 1\n",
    "\n",
    "    test_loss = test_loss / nb_test_steps\n",
    "    test_accuracy = test_accuracy / nb_test_examples\n",
    "    print(\"test_loss:\",test_loss)\n",
    "    print(\"test_accuracy:\",test_accuracy)\n",
    "\n",
    "    result = {'dev_test_loss': test_loss,\n",
    "              'dev_test_accuracy': test_accuracy,\n",
    "              'global_step': global_step}\n",
    "\n",
    "    output_test_file = os.path.join('output', \"test_results.txt\")\n",
    "    with open(output_test_file, \"a+\") as writer:\n",
    "        for key in sorted(result.keys()):\n",
    "            writer.write(\"%s = %s\\n\" % (key, str(result[key])))"
   ]
  },
  {
   "cell_type": "code",
   "execution_count": 29,
   "id": "5970c246",
   "metadata": {},
   "outputs": [
    {
     "name": "stdout",
     "output_type": "stream",
     "text": [
      "begin testing!!!\n",
      "test_loss: 1.06701867974397\n",
      "test_accuracy: 0.6288300835654597\n"
     ]
    }
   ],
   "source": [
    "model.eval()\n",
    "test_race(test_data, device, model, global_step)"
   ]
  },
  {
   "cell_type": "code",
   "execution_count": 26,
   "id": "5e4ae14b",
   "metadata": {},
   "outputs": [
    {
     "name": "stdout",
     "output_type": "stream",
     "text": [
      "begin testing!!!\n",
      "test_loss: 1.6619842529042756\n",
      "test_accuracy: 0.548885077186964\n"
     ]
    }
   ],
   "source": [
    "model.eval()\n",
    "test_race(test_data2, device, model, global_step)"
   ]
  },
  {
   "cell_type": "code",
   "execution_count": 34,
   "id": "c31e2eb3",
   "metadata": {},
   "outputs": [
    {
     "name": "stdout",
     "output_type": "stream",
     "text": [
      "begin testing!!!\n",
      "test_loss: 1.1672854568301276\n",
      "test_accuracy: 0.5886363636363636\n"
     ]
    }
   ],
   "source": [
    "model.eval()\n",
    "test_race(test_data_cloze,device,model,global_step)"
   ]
  },
  {
   "cell_type": "code",
   "execution_count": 35,
   "id": "841448be",
   "metadata": {},
   "outputs": [
    {
     "name": "stdout",
     "output_type": "stream",
     "text": [
      "begin testing!!!\n",
      "test_loss: 1.262305076133447\n",
      "test_accuracy: 0.5549258936355711\n"
     ]
    }
   ],
   "source": [
    "model.eval()\n",
    "test_race(test_data_direct,device,model,global_step)"
   ]
  },
  {
   "cell_type": "code",
   "execution_count": null,
   "id": "d166c9bd",
   "metadata": {},
   "outputs": [],
   "source": []
  }
 ],
 "metadata": {
  "kernelspec": {
   "display_name": "Python 3",
   "language": "python",
   "name": "python3"
  },
  "language_info": {
   "codemirror_mode": {
    "name": "ipython",
    "version": 3
   },
   "file_extension": ".py",
   "mimetype": "text/x-python",
   "name": "python",
   "nbconvert_exporter": "python",
   "pygments_lexer": "ipython3",
   "version": "3.8.8"
  }
 },
 "nbformat": 4,
 "nbformat_minor": 5
}
