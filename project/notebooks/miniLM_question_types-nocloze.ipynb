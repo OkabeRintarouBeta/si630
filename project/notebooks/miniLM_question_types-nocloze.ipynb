{
 "cells": [
  {
   "cell_type": "code",
   "execution_count": 5,
   "id": "b295a594",
   "metadata": {},
   "outputs": [
    {
     "name": "stdout",
     "output_type": "stream",
     "text": [
      "Defaulting to user installation because normal site-packages is not writeable\n",
      "Requirement already satisfied: torch in /home/zihuiliu/.local/lib/python3.8/site-packages (1.10.2)\n",
      "Requirement already satisfied: typing-extensions in /sw/arcts/centos7/python3.8-anaconda/2021.05/lib/python3.8/site-packages (from torch) (3.7.4.3)\n"
     ]
    }
   ],
   "source": [
    "!pip install torch"
   ]
  },
  {
   "cell_type": "code",
   "execution_count": 1,
   "id": "6b9f853d",
   "metadata": {
    "scrolled": true
   },
   "outputs": [],
   "source": [
    "import torch"
   ]
  },
  {
   "cell_type": "code",
   "execution_count": 2,
   "id": "0aeb18f7",
   "metadata": {},
   "outputs": [
    {
     "data": {
      "text/plain": [
       "True"
      ]
     },
     "execution_count": 2,
     "metadata": {},
     "output_type": "execute_result"
    }
   ],
   "source": [
    "torch.cuda.is_available()"
   ]
  },
  {
   "cell_type": "code",
   "execution_count": 3,
   "id": "79e57870",
   "metadata": {},
   "outputs": [],
   "source": [
    "device=torch.device(\"cuda\" if torch.cuda.is_available else \"cpu\")"
   ]
  },
  {
   "cell_type": "code",
   "execution_count": 4,
   "id": "cf320beb",
   "metadata": {},
   "outputs": [
    {
     "data": {
      "text/plain": [
       "device(type='cuda')"
      ]
     },
     "execution_count": 4,
     "metadata": {},
     "output_type": "execute_result"
    }
   ],
   "source": [
    "device"
   ]
  },
  {
   "cell_type": "code",
   "execution_count": 4,
   "id": "d7bed128",
   "metadata": {},
   "outputs": [
    {
     "name": "stdout",
     "output_type": "stream",
     "text": [
      "Defaulting to user installation because normal site-packages is not writeable\n",
      "Requirement already satisfied: transformers in /home/zihuiliu/.local/lib/python3.8/site-packages (4.17.0)\n",
      "Requirement already satisfied: filelock in /sw/arcts/centos7/python3.8-anaconda/2021.05/lib/python3.8/site-packages (from transformers) (3.0.12)\n",
      "Requirement already satisfied: pyyaml>=5.1 in /sw/arcts/centos7/python3.8-anaconda/2021.05/lib/python3.8/site-packages (from transformers) (5.4.1)\n",
      "Requirement already satisfied: packaging>=20.0 in /sw/arcts/centos7/python3.8-anaconda/2021.05/lib/python3.8/site-packages (from transformers) (20.9)\n",
      "Requirement already satisfied: regex!=2019.12.17 in /sw/arcts/centos7/python3.8-anaconda/2021.05/lib/python3.8/site-packages (from transformers) (2021.4.4)\n",
      "Requirement already satisfied: tokenizers!=0.11.3,>=0.11.1 in /home/zihuiliu/.local/lib/python3.8/site-packages (from transformers) (0.11.6)\n",
      "Requirement already satisfied: sacremoses in /home/zihuiliu/.local/lib/python3.8/site-packages (from transformers) (0.0.47)\n",
      "Requirement already satisfied: tqdm>=4.27 in /sw/arcts/centos7/python3.8-anaconda/2021.05/lib/python3.8/site-packages (from transformers) (4.59.0)\n",
      "Requirement already satisfied: numpy>=1.17 in /sw/arcts/centos7/python3.8-anaconda/2021.05/lib/python3.8/site-packages (from transformers) (1.20.1)\n",
      "Requirement already satisfied: huggingface-hub<1.0,>=0.1.0 in /home/zihuiliu/.local/lib/python3.8/site-packages (from transformers) (0.4.0)\n",
      "Requirement already satisfied: requests in /sw/arcts/centos7/python3.8-anaconda/2021.05/lib/python3.8/site-packages (from transformers) (2.25.1)\n",
      "Requirement already satisfied: typing-extensions>=3.7.4.3 in /sw/arcts/centos7/python3.8-anaconda/2021.05/lib/python3.8/site-packages (from huggingface-hub<1.0,>=0.1.0->transformers) (3.7.4.3)\n",
      "Requirement already satisfied: pyparsing>=2.0.2 in /sw/arcts/centos7/python3.8-anaconda/2021.05/lib/python3.8/site-packages (from packaging>=20.0->transformers) (2.4.7)\n",
      "Requirement already satisfied: idna<3,>=2.5 in /sw/arcts/centos7/python3.8-anaconda/2021.05/lib/python3.8/site-packages (from requests->transformers) (2.10)\n",
      "Requirement already satisfied: chardet<5,>=3.0.2 in /sw/arcts/centos7/python3.8-anaconda/2021.05/lib/python3.8/site-packages (from requests->transformers) (4.0.0)\n",
      "Requirement already satisfied: certifi>=2017.4.17 in /sw/arcts/centos7/python3.8-anaconda/2021.05/lib/python3.8/site-packages (from requests->transformers) (2020.12.5)\n",
      "Requirement already satisfied: urllib3<1.27,>=1.21.1 in /sw/arcts/centos7/python3.8-anaconda/2021.05/lib/python3.8/site-packages (from requests->transformers) (1.26.4)\n",
      "Requirement already satisfied: click in /sw/arcts/centos7/python3.8-anaconda/2021.05/lib/python3.8/site-packages (from sacremoses->transformers) (7.1.2)\n",
      "Requirement already satisfied: six in /sw/arcts/centos7/python3.8-anaconda/2021.05/lib/python3.8/site-packages (from sacremoses->transformers) (1.15.0)\n",
      "Requirement already satisfied: joblib in /sw/arcts/centos7/python3.8-anaconda/2021.05/lib/python3.8/site-packages (from sacremoses->transformers) (1.0.1)\n"
     ]
    }
   ],
   "source": [
    "!pip install transformers"
   ]
  },
  {
   "cell_type": "code",
   "execution_count": 1,
   "id": "21604650",
   "metadata": {},
   "outputs": [],
   "source": [
    "import logging\n",
    "import os\n",
    "import argparse\n",
    "import random\n",
    "import json\n",
    "import numpy as np\n",
    "import torch\n",
    "import glob\n",
    "from torch.utils.data import TensorDataset, DataLoader, RandomSampler, SequentialSampler\n",
    "# from utiles import read_race_examples,convert_examples_to_features,accuracy,select_field\n",
    "from pytorch_pretrained_bert.tokenization import BertTokenizer\n",
    "from pytorch_pretrained_bert.modeling import BertForMultipleChoice\n",
    "from pytorch_pretrained_bert.optimization import BertAdam\n",
    "from pytorch_pretrained_bert.file_utils import PYTORCH_PRETRAINED_BERT_CACHE\n",
    "from tqdm import tqdm\n",
    "from transformers import BertModel, BertTokenizer\n",
    "\n"
   ]
  },
  {
   "cell_type": "code",
   "execution_count": 2,
   "id": "83f0c306",
   "metadata": {},
   "outputs": [],
   "source": [
    "class RaceSequence(object):\n",
    "    def __init__(self,article,question,option1,option2,option3,option4,label = None):\n",
    "        self.article = article\n",
    "        self.question=question\n",
    "        self.options=[option1,option2,option3,option4]\n",
    "        self.label = label\n",
    "        \n",
    "\n",
    "class InputSequence(object):\n",
    "    def __init__(self,sequence_list,label):\n",
    "        self.choices_sequence = [\n",
    "            {\n",
    "                'input_sequence': input_sequence,\n",
    "                'segment_id': segment_id,\n",
    "                'mask_id': mask_id\n",
    "            }\n",
    "            for input_sequence,segment_id,mask_id in sequence_list\n",
    "        ]\n",
    "        self.label = label\n"
   ]
  },
  {
   "cell_type": "code",
   "execution_count": 3,
   "id": "ce55fcea",
   "metadata": {},
   "outputs": [],
   "source": [
    "def to_input(input_path):\n",
    "    cloze_input_list=[]\n",
    "    direct_input_list=[]\n",
    "    for filename in os.listdir(input_path):\n",
    "        file_path=input_path+\"/\"+filename\n",
    "        # print(file_path)\n",
    "        with open(file_path,'r',encoding='utf-8') as f:\n",
    "            json_text=json.loads(f.read())\n",
    "            correct_answers=json_text['answers']\n",
    "            options_list=json_text['options']\n",
    "            questions_list=json_text['questions']\n",
    "            article=json_text['article']\n",
    "\n",
    "            for i in range(len(questions_list)):\n",
    "                correct_answer=correct_answers[i]\n",
    "                label=ord(correct_answer)-ord('A')\n",
    "                options=options_list[i]\n",
    "                question=questions_list[i]\n",
    "                if '_' in question:\n",
    "                    case=RaceSequence(article,question,options[0],options[1],options[2],options[3],label)\n",
    "                    cloze_input_list.append(case)\n",
    "                else:\n",
    "                    case=RaceSequence(article,question,options[0],options[1],options[2],options[3],label)\n",
    "                    direct_input_list.append(case)\n",
    "    return cloze_input_list,direct_input_list"
   ]
  },
  {
   "cell_type": "code",
   "execution_count": 4,
   "id": "2708b8b4",
   "metadata": {},
   "outputs": [],
   "source": [
    "def input_to_sequence_question(input_list,max_length,tokenizer,is_training):\n",
    "\n",
    "    choice_list = []\n",
    "    for case in input_list:\n",
    "#         print(case.article)\n",
    "        article_token = tokenizer.tokenize(case.article)\n",
    "        question_token = tokenizer.tokenize(case.question)\n",
    "        \n",
    "        sequence_list = []\n",
    "        for option in case.options:\n",
    "            \n",
    "            question_answer_token = question_token + tokenizer.tokenize(option)\n",
    "            \n",
    "            while len(article_token)+len(question_answer_token)>max_length-3:\n",
    "                if  len(article_token)>len(question_answer_token):\n",
    "                    article_token.pop()\n",
    "                else:\n",
    "                    question_answer_token.pop()\n",
    "            \n",
    "            sequence_token = [\"[CLS]\"] + article_token + [\"[SEP]\"] + question_answer_token + [\"[SEP]\"]\n",
    "            segment_id = [0] * (len(article_token) + 2) + [1] * (len(question_answer_token) + 1)\n",
    "            input_sequence = tokenizer.convert_tokens_to_ids(sequence_token)\n",
    "            mask_id = [1] * len(input_sequence)\n",
    "\n",
    "            # Zero-pad up to the sequence length.\n",
    "            for i in range(max_length-len(input_sequence)):\n",
    "                input_sequence+=[0]\n",
    "                mask_id+=[0]\n",
    "                segment_id+=[0]\n",
    "\n",
    "            sequence_list.append((input_sequence,segment_id,mask_id))\n",
    "\n",
    "        label = case.label\n",
    "\n",
    "        choice_list.append(InputSequence(sequence_list,label))\n",
    "\n",
    "    return choice_list\n",
    "\n",
    "\n",
    "\n",
    "\n",
    "\n",
    "\n",
    "def input_to_sequence_cloze(input_list,max_length,tokenizer,is_training):\n",
    "\n",
    "    choice_list = []\n",
    "    for case in input_list:\n",
    "#         print(case.article)\n",
    "        article_token = tokenizer.tokenize(case.article)\n",
    "        question_token = tokenizer.tokenize(case.question)\n",
    "        \n",
    "        sequence_list = []\n",
    "        for option in case.options:\n",
    "            \n",
    "            question_answer_token = question_token + tokenizer.tokenize(option)\n",
    "            \n",
    "            while len(article_token)+len(question_answer_token)>max_length-3:\n",
    "                if  len(article_token)>len(question_answer_token):\n",
    "                    article_token.pop()\n",
    "                else:\n",
    "                    question_answer_token.pop()\n",
    "            \n",
    "            sequence_token = [\"[CLS]\"] + article_token + [\"[SEP]\"] + question_answer_token + [\"[SEP]\"]\n",
    "            segment_id = [0] * (len(article_token) + 2) + [1] * (len(question_answer_token) + 1)\n",
    "            input_sequence = tokenizer.convert_tokens_to_ids(sequence_token)\n",
    "            mask_id = [1] * len(input_sequence)\n",
    "\n",
    "            # Zero-pad up to the sequence length.\n",
    "            for i in range(max_length-len(input_sequence)):\n",
    "                input_sequence+=[0]\n",
    "                mask_id+=[0]\n",
    "                segment_id+=[0]\n",
    "\n",
    "            sequence_list.append((input_sequence,segment_id,mask_id))\n",
    "\n",
    "        label = case.label\n",
    "\n",
    "        choice_list.append(InputSequence(sequence_list,label))\n",
    "\n",
    "    return choice_list\n"
   ]
  },
  {
   "cell_type": "code",
   "execution_count": 5,
   "id": "81bf03cf",
   "metadata": {},
   "outputs": [
    {
     "name": "stdout",
     "output_type": "stream",
     "text": [
      "train_input completed!\n"
     ]
    }
   ],
   "source": [
    "train_middle_path='data/train/middle'\n",
    "train_high_path='data/train/high'\n",
    "\n",
    "max_seq_length=360\n",
    "is_training=True\n",
    "tokenizer = BertTokenizer.from_pretrained(\"bert-base-uncased\")\n",
    "\n",
    "\n",
    "train_input_cloze,train_input_direct=to_input(train_middle_path)\n",
    "train_input_high_cloze,train_input_high_direct=to_input(train_high_path)\n",
    "train_input_cloze+=train_input_high_cloze\n",
    "train_input_direct+=train_input_high_direct\n",
    "print(\"train_input completed!\")\n",
    "input_sequences_question=input_to_sequence_question(train_input_direct, max_seq_length,tokenizer,is_training)\n",
    "input_sequences_cloze=input_to_sequence_cloze(train_input_cloze, max_seq_length,tokenizer,is_training)"
   ]
  },
  {
   "cell_type": "code",
   "execution_count": 6,
   "id": "e8cdc77b",
   "metadata": {},
   "outputs": [],
   "source": [
    "train_input=train_input_cloze+train_input_direct"
   ]
  },
  {
   "cell_type": "code",
   "execution_count": 7,
   "id": "33ef5c60",
   "metadata": {},
   "outputs": [],
   "source": [
    "input_sequences=input_sequences_question+input_sequences_cloze"
   ]
  },
  {
   "cell_type": "code",
   "execution_count": 8,
   "id": "0dfc43e3",
   "metadata": {},
   "outputs": [],
   "source": [
    "eval_middle_path='data/dev/middle'\n",
    "max_seq_length=360\n",
    "is_training=False\n",
    "# tokenizer = BertTokenizer.from_pretrained(\"bert-base-uncased\")\n",
    "\n",
    "eval_input_middle_cloze,eval_input_middle_direct=to_input(eval_middle_path)\n",
    "\n",
    "input_sequences_eval_middle_cloze=input_to_sequence_cloze(eval_input_middle_cloze, max_seq_length,tokenizer,is_training)\n",
    "input_sequences_eval_middle_direct=input_to_sequence_question(eval_input_middle_direct, max_seq_length,tokenizer,is_training)\n",
    "input_sequences_eval_middle=input_sequences_eval_middle_cloze+input_sequences_eval_middle_direct"
   ]
  },
  {
   "cell_type": "code",
   "execution_count": 9,
   "id": "e37fef81",
   "metadata": {},
   "outputs": [],
   "source": [
    "def warmup_linear(x, warmup=0.002):\n",
    "    if x < warmup:\n",
    "        return x/warmup\n",
    "    return 1.0 - x\n",
    "\n",
    "\n",
    "def accuracy(out, labels):\n",
    "    outputs = np.argmax(out, axis=1)\n",
    "    return np.sum(outputs == labels)"
   ]
  },
  {
   "cell_type": "code",
   "execution_count": 10,
   "id": "51190fbe",
   "metadata": {},
   "outputs": [],
   "source": [
    "def to_all_tensor(input_sequences,key):\n",
    "    all_input_sequences=[]\n",
    "    for input_sequence in input_sequences:\n",
    "        lst=[]\n",
    "        for case in input_sequence.choices_sequence:\n",
    "            lst.append(case[key])\n",
    "        all_input_sequences.append(lst)\n",
    "    return torch.tensor(all_input_sequences,dtype=torch.long)"
   ]
  },
  {
   "cell_type": "code",
   "execution_count": 11,
   "id": "6247024a",
   "metadata": {},
   "outputs": [],
   "source": [
    "train_input_sequence=to_all_tensor(input_sequences,'input_sequence')\n",
    "train_segment_id=to_all_tensor(input_sequences,'segment_id')\n",
    "train_mask_id=to_all_tensor(input_sequences,'mask_id')\n",
    "train_label=torch.tensor([case.label for case in input_sequences],dtype=torch.long)"
   ]
  },
  {
   "cell_type": "code",
   "execution_count": 12,
   "id": "5e1fd37d",
   "metadata": {},
   "outputs": [],
   "source": [
    "eval_input_sequence_middle=to_all_tensor(input_sequences_eval_middle,'input_sequence')\n",
    "eval_segment_id_middle=to_all_tensor(input_sequences_eval_middle,'segment_id')\n",
    "eval_mask_id_middle=to_all_tensor(input_sequences_eval_middle,'mask_id')\n",
    "eval_label_middle=torch.tensor([case.label for case in input_sequences_eval_middle],dtype=torch.long)"
   ]
  },
  {
   "cell_type": "code",
   "execution_count": 13,
   "id": "8bb9db17",
   "metadata": {
    "scrolled": true
   },
   "outputs": [
    {
     "data": {
      "text/plain": [
       "torch.Size([1436, 4, 360])"
      ]
     },
     "execution_count": 13,
     "metadata": {},
     "output_type": "execute_result"
    }
   ],
   "source": [
    "eval_input_sequence_middle.shape"
   ]
  },
  {
   "cell_type": "code",
   "execution_count": 14,
   "id": "a1c5b96f",
   "metadata": {},
   "outputs": [
    {
     "data": {
      "text/plain": [
       "torch.Size([87866, 4, 360])"
      ]
     },
     "execution_count": 14,
     "metadata": {},
     "output_type": "execute_result"
    }
   ],
   "source": [
    "train_input_sequence.shape"
   ]
  },
  {
   "cell_type": "code",
   "execution_count": 15,
   "id": "f8719e87",
   "metadata": {},
   "outputs": [],
   "source": [
    "device=torch.device(\"cuda\" if torch.cuda.is_available else \"cpu\")\n",
    "\n",
    "model = BertForMultipleChoice.from_pretrained(\"MiniLM-L6-H384-distilled-from-BERT-Base\",\n",
    "        cache_dir=os.path.join(str(PYTORCH_PRETRAINED_BERT_CACHE), 'distributed_{}'.format(-1)),\n",
    "        num_choices=4).to(device)"
   ]
  },
  {
   "cell_type": "code",
   "execution_count": 16,
   "id": "f58cf0ea",
   "metadata": {},
   "outputs": [],
   "source": [
    "from pytorch_pretrained_bert.optimization import BertAdam, WarmupLinearSchedule\n",
    "\n",
    "\n",
    "learning_rate=2.5e-5\n",
    "warmup_proportion=0.05\n",
    "batch_size=4\n",
    "gradient_accumulation_steps=5\n",
    "# train_batch_size=int(batch_size/gradient_accumulation_steps)\n",
    "train_batch_size=batch_size\n",
    "eval_batch_size=4\n",
    "\n",
    "num_train_steps=len(train_input)\n",
    "\n",
    "n_gpu=torch.cuda.device_count()\n",
    "epoch_num=5\n",
    "\n",
    "\n",
    "device=torch.device(\"cuda\" if torch.cuda.is_available else \"cpu\")\n",
    "\n",
    "model = BertForMultipleChoice.from_pretrained(\"MiniLM-L6-H384-distilled-from-BERT-Base\",\n",
    "        cache_dir=os.path.join(str(PYTORCH_PRETRAINED_BERT_CACHE), 'distributed_{}'.format(-1)),\n",
    "        num_choices=4).to(device)\n",
    "\n",
    "param_optimizer=list(model.named_parameters())\n",
    "no_decay = ['bias', 'LayerNorm.bias', 'LayerNorm.weight']\n",
    "optimizer_grouped_parameters = [\n",
    "        {'params': [p for n, p in param_optimizer if not any(nd in n for nd in no_decay)], 'weight_decay': 0.01},\n",
    "        {'params': [p for n, p in param_optimizer if any(nd in n for nd in no_decay)], 'weight_decay': 0.0}\n",
    "        ]\n",
    "\n",
    "optimizer = BertAdam(optimizer_grouped_parameters,\n",
    "                    lr=learning_rate,\n",
    "                    warmup=warmup_proportion,\n",
    "                    t_total=num_train_steps)\n",
    "\n",
    "# optimizer = BertAdam(model.parameters(),lr=learning_rate,schedule='warmup_linear',warmup=warmup_proportion,t_total=num_train_steps)\n",
    "\n",
    "train_dataset=TensorDataset(train_input_sequence,train_segment_id,train_mask_id,train_label)\n",
    "train_sampler=RandomSampler(train_dataset)\n",
    "train_data=DataLoader(train_dataset,sampler=train_sampler, batch_size=train_batch_size)\n",
    "\n",
    "eval_dataset=TensorDataset(eval_input_sequence_middle,eval_segment_id_middle,eval_mask_id_middle,eval_label_middle)\n",
    "eval_sampler=RandomSampler(eval_dataset)\n",
    "eval_data=DataLoader(eval_dataset,sampler=eval_sampler, batch_size=eval_batch_size)"
   ]
  },
  {
   "cell_type": "code",
   "execution_count": 17,
   "id": "f6b3c385",
   "metadata": {},
   "outputs": [
    {
     "data": {
      "text/plain": [
       "87866"
      ]
     },
     "execution_count": 17,
     "metadata": {},
     "output_type": "execute_result"
    }
   ],
   "source": [
    "num_train_steps"
   ]
  },
  {
   "cell_type": "code",
   "execution_count": 18,
   "id": "14ffeaae",
   "metadata": {},
   "outputs": [],
   "source": [
    "def val_race(eval_dataloader,device,model,global_step,tr_loss,nb_tr_steps):\n",
    "    print(\"begin evaluation!!!\")\n",
    "    eval_loss, eval_accuracy = 0, 0\n",
    "    nb_eval_steps, nb_eval_examples = 0, 0\n",
    "    for step, batch in enumerate(eval_dataloader):\n",
    "        batch = tuple(t.to(device) for t in batch)\n",
    "        input_ids, segment_ids, input_mask, label_ids = batch\n",
    "\n",
    "        with torch.no_grad():\n",
    "            tmp_eval_loss = model(input_ids, segment_ids, input_mask, label_ids)\n",
    "            logits = model(input_ids, segment_ids, input_mask)\n",
    "\n",
    "        logits = logits.detach().cpu().numpy()\n",
    "        label_ids = label_ids.to('cpu').numpy()\n",
    "        tmp_eval_accuracy = accuracy(logits, label_ids)\n",
    "\n",
    "        eval_loss += tmp_eval_loss.mean().item()\n",
    "        eval_accuracy += tmp_eval_accuracy\n",
    "\n",
    "        nb_eval_examples += input_ids.size(0)\n",
    "        nb_eval_steps += 1\n",
    "\n",
    "    eval_loss = eval_loss / nb_eval_steps\n",
    "    eval_accuracy = eval_accuracy / nb_eval_examples\n",
    "    print(\"eval_loss:\",eval_loss)\n",
    "    print(\"eval_accuracy:\",eval_accuracy)\n",
    "\n",
    "    result = {'dev_eval_loss': eval_loss,\n",
    "              'dev_eval_accuracy': eval_accuracy,\n",
    "              'global_step': global_step}\n",
    "\n",
    "    output_eval_file = os.path.join('output', \"eval_results.txt\")\n",
    "    with open(output_eval_file, \"a+\") as writer:\n",
    "        for key in sorted(result.keys()):\n",
    "            writer.write(\"%s = %s\\n\" % (key, str(result[key])))"
   ]
  },
  {
   "cell_type": "code",
   "execution_count": 19,
   "id": "27be166a",
   "metadata": {},
   "outputs": [],
   "source": [
    "def train_race(train_dataloader,device,n_gpu,model,optimizer,global_step,t_total,tr_loss,nb_tr_examples,nb_tr_steps):\n",
    "    for step, data in enumerate(tqdm(train_dataloader)):\n",
    "        data = tuple(t.to(device) for t in data)\n",
    "        input_ids, segment_ids,input_mask, label_ids = data\n",
    "#         print(segment_ids)\n",
    "        loss = model(input_ids, segment_ids, input_mask, label_ids)\n",
    "        \n",
    "        tr_loss += loss.item()\n",
    "        nb_tr_examples += input_ids.size(0)\n",
    "        nb_tr_steps += 1\n",
    "\n",
    "        loss.backward()\n",
    "\n",
    "        \n",
    "         # modify learning rate with special warm up BERT uses\n",
    "        if (step + 1) % gradient_accumulation_steps == 0:\n",
    "            lr_this_step = learning_rate * warmup_linear(global_step / t_total, warmup_proportion)\n",
    "#             print(warmup_proportion)\n",
    "            for param_group in optimizer.param_groups:\n",
    "                param_group['lr'] = lr_this_step\n",
    "            optimizer.step()\n",
    "            optimizer.zero_grad()\n",
    "            global_step += 1\n",
    "#             print(\"Training loss: {}, global step: {}\".format(tr_loss / nb_tr_steps, global_step))\n",
    "\n",
    "        if (global_step+1) % 100 == 0:\n",
    "            print(\"Training loss: {}, global step: {}\".format(tr_loss / nb_tr_steps, global_step))\n",
    "            \n",
    "            "
   ]
  },
  {
   "cell_type": "code",
   "execution_count": 20,
   "id": "42442923",
   "metadata": {},
   "outputs": [
    {
     "data": {
      "text/plain": [
       "1"
      ]
     },
     "execution_count": 20,
     "metadata": {},
     "output_type": "execute_result"
    }
   ],
   "source": [
    "n_gpu"
   ]
  },
  {
   "cell_type": "code",
   "execution_count": 21,
   "id": "61f98ec3",
   "metadata": {
    "scrolled": true
   },
   "outputs": [
    {
     "name": "stderr",
     "output_type": "stream",
     "text": [
      "\r",
      "  0%|          | 0/21967 [00:00<?, ?it/s]"
     ]
    },
    {
     "name": "stdout",
     "output_type": "stream",
     "text": [
      "Training Epoch: 1/5\n"
     ]
    },
    {
     "name": "stderr",
     "output_type": "stream",
     "text": [
      "  0%|          | 3/21967 [00:00<2:04:47,  2.93it/s]/home/zihuiliu/.local/lib/python3.8/site-packages/pytorch_pretrained_bert/optimization.py:275: UserWarning: This overload of add_ is deprecated:\n",
      "\tadd_(Number alpha, Tensor other)\n",
      "Consider using one of the following signatures instead:\n",
      "\tadd_(Tensor other, *, Number alpha) (Triggered internally at  ../torch/csrc/utils/python_arg_parser.cpp:1055.)\n",
      "  next_m.mul_(beta1).add_(1 - beta1, grad)\n",
      "  2%|▏         | 496/21967 [00:45<32:49, 10.90it/s]"
     ]
    },
    {
     "name": "stdout",
     "output_type": "stream",
     "text": [
      "Training loss: 1.386196908083829, global step: 99\n",
      "Training loss: 1.3862000278407527, global step: 99\n",
      "Training loss: 1.3861958390510298, global step: 99\n"
     ]
    },
    {
     "name": "stderr",
     "output_type": "stream",
     "text": [
      "  2%|▏         | 500/21967 [00:45<33:05, 10.81it/s]"
     ]
    },
    {
     "name": "stdout",
     "output_type": "stream",
     "text": [
      "Training loss: 1.3861946848980393, global step: 99\n",
      "Training loss: 1.3861975514578198, global step: 99\n"
     ]
    },
    {
     "name": "stderr",
     "output_type": "stream",
     "text": [
      "  5%|▍         | 996/21967 [01:30<32:03, 10.90it/s]"
     ]
    },
    {
     "name": "stdout",
     "output_type": "stream",
     "text": [
      "Training loss: 1.3862103800078733, global step: 199\n",
      "Training loss: 1.38620531894117, global step: 199\n",
      "Training loss: 1.3862091657988644, global step: 199\n"
     ]
    },
    {
     "name": "stderr",
     "output_type": "stream",
     "text": [
      "  5%|▍         | 1000/21967 [01:31<32:18, 10.82it/s]"
     ]
    },
    {
     "name": "stdout",
     "output_type": "stream",
     "text": [
      "Training loss: 1.3862052647049776, global step: 199\n",
      "Training loss: 1.3862036880668815, global step: 199\n"
     ]
    },
    {
     "name": "stderr",
     "output_type": "stream",
     "text": [
      "  7%|▋         | 1496/21967 [02:16<31:20, 10.88it/s]"
     ]
    },
    {
     "name": "stdout",
     "output_type": "stream",
     "text": [
      "Training loss: 1.3862712727741253, global step: 299\n",
      "Training loss: 1.3862784404486896, global step: 299\n",
      "Training loss: 1.38627644204743, global step: 299\n"
     ]
    },
    {
     "name": "stderr",
     "output_type": "stream",
     "text": [
      "  7%|▋         | 1500/21967 [02:16<31:35, 10.80it/s]"
     ]
    },
    {
     "name": "stdout",
     "output_type": "stream",
     "text": [
      "Training loss: 1.3862820356805747, global step: 299\n",
      "Training loss: 1.38628076640187, global step: 299\n"
     ]
    },
    {
     "name": "stderr",
     "output_type": "stream",
     "text": [
      "  9%|▉         | 1996/21967 [03:01<30:35, 10.88it/s]"
     ]
    },
    {
     "name": "stdout",
     "output_type": "stream",
     "text": [
      "Training loss: 1.3862677176195877, global step: 399\n",
      "Training loss: 1.3862671047031043, global step: 399\n",
      "Training loss: 1.3862685289870038, global step: 399\n"
     ]
    },
    {
     "name": "stderr",
     "output_type": "stream",
     "text": [
      "  9%|▉         | 2000/21967 [03:01<30:49, 10.80it/s]"
     ]
    },
    {
     "name": "stdout",
     "output_type": "stream",
     "text": [
      "Training loss: 1.3862678359698009, global step: 399\n",
      "Training loss: 1.3862677192974233, global step: 399\n"
     ]
    },
    {
     "name": "stderr",
     "output_type": "stream",
     "text": [
      " 11%|█▏        | 2496/21967 [03:46<29:49, 10.88it/s]"
     ]
    },
    {
     "name": "stdout",
     "output_type": "stream",
     "text": [
      "Training loss: 1.386278526625318, global step: 499\n",
      "Training loss: 1.386276373687463, global step: 499\n",
      "Training loss: 1.3862730094228308, global step: 499\n"
     ]
    },
    {
     "name": "stderr",
     "output_type": "stream",
     "text": [
      " 11%|█▏        | 2500/21967 [03:47<30:03, 10.80it/s]"
     ]
    },
    {
     "name": "stdout",
     "output_type": "stream",
     "text": [
      "Training loss: 1.3862724565715194, global step: 499\n",
      "Training loss: 1.3862724552730792, global step: 499\n"
     ]
    },
    {
     "name": "stderr",
     "output_type": "stream",
     "text": [
      " 14%|█▎        | 2996/21967 [04:32<29:04, 10.87it/s]"
     ]
    },
    {
     "name": "stdout",
     "output_type": "stream",
     "text": [
      "Training loss: 1.3862761312812717, global step: 599\n",
      "Training loss: 1.3862768571192177, global step: 599\n",
      "Training loss: 1.3862788637837131, global step: 599\n"
     ]
    },
    {
     "name": "stderr",
     "output_type": "stream",
     "text": [
      " 14%|█▎        | 3000/21967 [04:32<29:17, 10.79it/s]"
     ]
    },
    {
     "name": "stdout",
     "output_type": "stream",
     "text": [
      "Training loss: 1.3862780222819597, global step: 599\n",
      "Training loss: 1.3862803728829307, global step: 599\n"
     ]
    },
    {
     "name": "stderr",
     "output_type": "stream",
     "text": [
      " 16%|█▌        | 3496/21967 [05:17<28:19, 10.87it/s]"
     ]
    },
    {
     "name": "stdout",
     "output_type": "stream",
     "text": [
      "Training loss: 1.3862415932790404, global step: 699\n",
      "Training loss: 1.386243275667219, global step: 699\n",
      "Training loss: 1.3862417311473407, global step: 699\n"
     ]
    },
    {
     "name": "stderr",
     "output_type": "stream",
     "text": [
      " 16%|█▌        | 3500/21967 [05:18<28:30, 10.79it/s]"
     ]
    },
    {
     "name": "stdout",
     "output_type": "stream",
     "text": [
      "Training loss: 1.3862416496475878, global step: 699\n",
      "Training loss: 1.386241212372236, global step: 699\n"
     ]
    },
    {
     "name": "stderr",
     "output_type": "stream",
     "text": [
      " 18%|█▊        | 3996/21967 [06:03<27:31, 10.88it/s]"
     ]
    },
    {
     "name": "stdout",
     "output_type": "stream",
     "text": [
      "Training loss: 1.386201792455585, global step: 799\n",
      "Training loss: 1.3862006980496961, global step: 799\n",
      "Training loss: 1.386200988534274, global step: 799\n"
     ]
    },
    {
     "name": "stderr",
     "output_type": "stream",
     "text": [
      " 18%|█▊        | 4000/21967 [06:03<27:44, 10.79it/s]"
     ]
    },
    {
     "name": "stdout",
     "output_type": "stream",
     "text": [
      "Training loss: 1.3862013440838212, global step: 799\n",
      "Training loss: 1.3861990911300612, global step: 799\n"
     ]
    },
    {
     "name": "stderr",
     "output_type": "stream",
     "text": [
      " 20%|██        | 4496/21967 [06:48<26:46, 10.87it/s]"
     ]
    },
    {
     "name": "stdout",
     "output_type": "stream",
     "text": [
      "Training loss: 1.3861873570485692, global step: 899\n",
      "Training loss: 1.3861878340354594, global step: 899\n",
      "Training loss: 1.3861871871890983, global step: 899\n"
     ]
    },
    {
     "name": "stderr",
     "output_type": "stream",
     "text": [
      " 20%|██        | 4500/21967 [06:48<26:58, 10.80it/s]"
     ]
    },
    {
     "name": "stdout",
     "output_type": "stream",
     "text": [
      "Training loss: 1.3861869084882756, global step: 899\n",
      "Training loss: 1.3861870650159807, global step: 899\n"
     ]
    },
    {
     "name": "stderr",
     "output_type": "stream",
     "text": [
      " 23%|██▎       | 4996/21967 [07:33<26:06, 10.83it/s]"
     ]
    },
    {
     "name": "stdout",
     "output_type": "stream",
     "text": [
      "Training loss: 1.3861404588153292, global step: 999\n",
      "Training loss: 1.3861409901045532, global step: 999\n",
      "Training loss: 1.3861404676210267, global step: 999\n"
     ]
    },
    {
     "name": "stderr",
     "output_type": "stream",
     "text": [
      " 23%|██▎       | 5000/21967 [07:34<26:16, 10.76it/s]"
     ]
    },
    {
     "name": "stdout",
     "output_type": "stream",
     "text": [
      "Training loss: 1.3861398842869972, global step: 999\n",
      "Training loss: 1.386139307648784, global step: 999\n"
     ]
    },
    {
     "name": "stderr",
     "output_type": "stream",
     "text": [
      " 25%|██▌       | 5496/21967 [08:19<25:13, 10.88it/s]"
     ]
    },
    {
     "name": "stdout",
     "output_type": "stream",
     "text": [
      "Training loss: 1.3860338975777944, global step: 1099\n",
      "Training loss: 1.3860325392937556, global step: 1099\n",
      "Training loss: 1.3860310719233113, global step: 1099\n"
     ]
    },
    {
     "name": "stderr",
     "output_type": "stream",
     "text": [
      " 25%|██▌       | 5500/21967 [08:19<25:25, 10.80it/s]"
     ]
    },
    {
     "name": "stdout",
     "output_type": "stream",
     "text": [
      "Training loss: 1.386032858841113, global step: 1099\n",
      "Training loss: 1.3860311783060288, global step: 1099\n"
     ]
    },
    {
     "name": "stderr",
     "output_type": "stream",
     "text": [
      " 27%|██▋       | 5996/21967 [09:04<24:28, 10.88it/s]"
     ]
    },
    {
     "name": "stdout",
     "output_type": "stream",
     "text": [
      "Training loss: 1.3857964194745596, global step: 1199\n",
      "Training loss: 1.385797422575585, global step: 1199\n",
      "Training loss: 1.3857938213827055, global step: 1199\n"
     ]
    },
    {
     "name": "stderr",
     "output_type": "stream",
     "text": [
      " 27%|██▋       | 6000/21967 [09:05<24:38, 10.80it/s]"
     ]
    },
    {
     "name": "stdout",
     "output_type": "stream",
     "text": [
      "Training loss: 1.385797030272266, global step: 1199\n",
      "Training loss: 1.3857978885224271, global step: 1199\n"
     ]
    },
    {
     "name": "stderr",
     "output_type": "stream",
     "text": [
      " 30%|██▉       | 6496/21967 [09:50<23:41, 10.88it/s]"
     ]
    },
    {
     "name": "stdout",
     "output_type": "stream",
     "text": [
      "Training loss: 1.3852572986215146, global step: 1299\n",
      "Training loss: 1.3852594749717584, global step: 1299\n",
      "Training loss: 1.3852598040915276, global step: 1299\n"
     ]
    },
    {
     "name": "stderr",
     "output_type": "stream",
     "text": [
      " 30%|██▉       | 6500/21967 [09:50<23:52, 10.79it/s]"
     ]
    },
    {
     "name": "stdout",
     "output_type": "stream",
     "text": [
      "Training loss: 1.3852630081856276, global step: 1299\n",
      "Training loss: 1.3852630582364234, global step: 1299\n"
     ]
    },
    {
     "name": "stderr",
     "output_type": "stream",
     "text": [
      " 32%|███▏      | 6996/21967 [10:35<22:56, 10.87it/s]"
     ]
    },
    {
     "name": "stdout",
     "output_type": "stream",
     "text": [
      "Training loss: 1.3843612609035718, global step: 1399\n",
      "Training loss: 1.3843465090786273, global step: 1399\n",
      "Training loss: 1.3843365934587843, global step: 1399\n"
     ]
    },
    {
     "name": "stderr",
     "output_type": "stream",
     "text": [
      " 32%|███▏      | 7000/21967 [10:35<23:08, 10.78it/s]"
     ]
    },
    {
     "name": "stdout",
     "output_type": "stream",
     "text": [
      "Training loss: 1.3843252621878552, global step: 1399\n",
      "Training loss: 1.3843147374507545, global step: 1399\n"
     ]
    },
    {
     "name": "stderr",
     "output_type": "stream",
     "text": [
      " 34%|███▍      | 7496/21967 [11:20<22:11, 10.86it/s]"
     ]
    },
    {
     "name": "stdout",
     "output_type": "stream",
     "text": [
      "Training loss: 1.3828960729806403, global step: 1499\n",
      "Training loss: 1.382889565338829, global step: 1499\n",
      "Training loss: 1.3828691732920027, global step: 1499\n"
     ]
    },
    {
     "name": "stderr",
     "output_type": "stream",
     "text": [
      " 34%|███▍      | 7500/21967 [11:21<22:24, 10.76it/s]"
     ]
    },
    {
     "name": "stdout",
     "output_type": "stream",
     "text": [
      "Training loss: 1.3828616263262905, global step: 1499\n",
      "Training loss: 1.3828451897497416, global step: 1499\n"
     ]
    },
    {
     "name": "stderr",
     "output_type": "stream",
     "text": [
      " 36%|███▋      | 7996/21967 [12:06<21:27, 10.85it/s]"
     ]
    },
    {
     "name": "stdout",
     "output_type": "stream",
     "text": [
      "Training loss: 1.380801052760899, global step: 1599\n",
      "Training loss: 1.3807920211848763, global step: 1599\n",
      "Training loss: 1.3807631865045018, global step: 1599\n"
     ]
    },
    {
     "name": "stderr",
     "output_type": "stream",
     "text": [
      " 36%|███▋      | 8000/21967 [12:06<21:36, 10.78it/s]"
     ]
    },
    {
     "name": "stdout",
     "output_type": "stream",
     "text": [
      "Training loss: 1.3807620499306363, global step: 1599\n",
      "Training loss: 1.3807602857467398, global step: 1599\n"
     ]
    },
    {
     "name": "stderr",
     "output_type": "stream",
     "text": [
      " 39%|███▊      | 8496/21967 [12:51<20:39, 10.87it/s]"
     ]
    },
    {
     "name": "stdout",
     "output_type": "stream",
     "text": [
      "Training loss: 1.378408491057182, global step: 1699\n",
      "Training loss: 1.3784055994251803, global step: 1699\n",
      "Training loss: 1.378406825157647, global step: 1699\n"
     ]
    },
    {
     "name": "stderr",
     "output_type": "stream",
     "text": [
      " 39%|███▊      | 8500/21967 [12:52<20:48, 10.79it/s]"
     ]
    },
    {
     "name": "stdout",
     "output_type": "stream",
     "text": [
      "Training loss: 1.3784052973973047, global step: 1699\n",
      "Training loss: 1.3784001149462453, global step: 1699\n"
     ]
    },
    {
     "name": "stderr",
     "output_type": "stream",
     "text": [
      " 41%|████      | 8996/21967 [13:37<19:57, 10.83it/s]"
     ]
    },
    {
     "name": "stdout",
     "output_type": "stream",
     "text": [
      "Training loss: 1.3760889214234195, global step: 1799\n",
      "Training loss: 1.3760625751297333, global step: 1799\n",
      "Training loss: 1.3760411586180599, global step: 1799\n"
     ]
    },
    {
     "name": "stderr",
     "output_type": "stream",
     "text": [
      " 41%|████      | 9000/21967 [13:37<20:04, 10.77it/s]"
     ]
    },
    {
     "name": "stdout",
     "output_type": "stream",
     "text": [
      "Training loss: 1.376022432281802, global step: 1799\n",
      "Training loss: 1.3760186721648304, global step: 1799\n"
     ]
    },
    {
     "name": "stderr",
     "output_type": "stream",
     "text": [
      " 43%|████▎     | 9496/21967 [14:22<19:07, 10.87it/s]"
     ]
    },
    {
     "name": "stdout",
     "output_type": "stream",
     "text": [
      "Training loss: 1.373858451083687, global step: 1899\n",
      "Training loss: 1.3738635055651762, global step: 1899\n",
      "Training loss: 1.3738591049462352, global step: 1899\n"
     ]
    },
    {
     "name": "stderr",
     "output_type": "stream",
     "text": [
      " 43%|████▎     | 9500/21967 [14:23<19:15, 10.79it/s]"
     ]
    },
    {
     "name": "stdout",
     "output_type": "stream",
     "text": [
      "Training loss: 1.373870679675265, global step: 1899\n",
      "Training loss: 1.3738626524616209, global step: 1899\n"
     ]
    },
    {
     "name": "stderr",
     "output_type": "stream",
     "text": [
      " 46%|████▌     | 9996/21967 [15:08<18:21, 10.87it/s]"
     ]
    },
    {
     "name": "stdout",
     "output_type": "stream",
     "text": [
      "Training loss: 1.3711767806536916, global step: 1999\n",
      "Training loss: 1.371157952532524, global step: 1999\n",
      "Training loss: 1.371148528182961, global step: 1999\n"
     ]
    },
    {
     "name": "stderr",
     "output_type": "stream",
     "text": [
      " 46%|████▌     | 10000/21967 [15:08<18:29, 10.78it/s]"
     ]
    },
    {
     "name": "stdout",
     "output_type": "stream",
     "text": [
      "Training loss: 1.3711695912469026, global step: 1999\n",
      "Training loss: 1.3711767876156569, global step: 1999\n"
     ]
    },
    {
     "name": "stderr",
     "output_type": "stream",
     "text": [
      " 48%|████▊     | 10496/21967 [15:53<17:35, 10.86it/s]"
     ]
    },
    {
     "name": "stdout",
     "output_type": "stream",
     "text": [
      "Training loss: 1.369019047989057, global step: 2099\n",
      "Training loss: 1.368986227203206, global step: 2099\n",
      "Training loss: 1.3689809418967012, global step: 2099\n"
     ]
    },
    {
     "name": "stderr",
     "output_type": "stream",
     "text": [
      " 48%|████▊     | 10500/21967 [15:53<17:43, 10.78it/s]"
     ]
    },
    {
     "name": "stdout",
     "output_type": "stream",
     "text": [
      "Training loss: 1.3689781746187082, global step: 2099\n",
      "Training loss: 1.368981167791866, global step: 2099\n"
     ]
    },
    {
     "name": "stderr",
     "output_type": "stream",
     "text": [
      " 50%|█████     | 10996/21967 [16:39<16:49, 10.87it/s]"
     ]
    },
    {
     "name": "stdout",
     "output_type": "stream",
     "text": [
      "Training loss: 1.3665606838131341, global step: 2199\n",
      "Training loss: 1.3665453452778191, global step: 2199\n",
      "Training loss: 1.366533415902037, global step: 2199\n"
     ]
    },
    {
     "name": "stderr",
     "output_type": "stream",
     "text": [
      " 50%|█████     | 11000/21967 [16:39<16:57, 10.78it/s]"
     ]
    },
    {
     "name": "stdout",
     "output_type": "stream",
     "text": [
      "Training loss: 1.366544636401681, global step: 2199\n",
      "Training loss: 1.3665403748536198, global step: 2199\n"
     ]
    },
    {
     "name": "stderr",
     "output_type": "stream",
     "text": [
      " 52%|█████▏    | 11496/21967 [17:24<16:04, 10.86it/s]"
     ]
    },
    {
     "name": "stdout",
     "output_type": "stream",
     "text": [
      "Training loss: 1.3636330814504685, global step: 2299\n",
      "Training loss: 1.3636142434338439, global step: 2299\n",
      "Training loss: 1.363609040245923, global step: 2299\n"
     ]
    },
    {
     "name": "stderr",
     "output_type": "stream",
     "text": [
      " 52%|█████▏    | 11500/21967 [17:24<16:11, 10.78it/s]"
     ]
    },
    {
     "name": "stdout",
     "output_type": "stream",
     "text": [
      "Training loss: 1.3635927565482662, global step: 2299\n",
      "Training loss: 1.3635774222143071, global step: 2299\n"
     ]
    },
    {
     "name": "stderr",
     "output_type": "stream",
     "text": [
      " 55%|█████▍    | 11996/21967 [18:09<15:16, 10.87it/s]"
     ]
    },
    {
     "name": "stdout",
     "output_type": "stream",
     "text": [
      "Training loss: 1.3614349135660837, global step: 2399\n",
      "Training loss: 1.3614152246970024, global step: 2399\n",
      "Training loss: 1.3614211326501187, global step: 2399\n"
     ]
    },
    {
     "name": "stderr",
     "output_type": "stream",
     "text": [
      " 55%|█████▍    | 12000/21967 [18:10<15:23, 10.80it/s]"
     ]
    },
    {
     "name": "stdout",
     "output_type": "stream",
     "text": [
      "Training loss: 1.3614371982608802, global step: 2399\n",
      "Training loss: 1.3614322409072273, global step: 2399\n"
     ]
    },
    {
     "name": "stderr",
     "output_type": "stream",
     "text": [
      " 57%|█████▋    | 12496/21967 [18:55<14:30, 10.88it/s]"
     ]
    },
    {
     "name": "stdout",
     "output_type": "stream",
     "text": [
      "Training loss: 1.358735440320232, global step: 2499\n",
      "Training loss: 1.3587229267506837, global step: 2499\n",
      "Training loss: 1.3587152950761985, global step: 2499\n"
     ]
    },
    {
     "name": "stderr",
     "output_type": "stream",
     "text": [
      " 57%|█████▋    | 12500/21967 [18:55<14:36, 10.80it/s]"
     ]
    },
    {
     "name": "stdout",
     "output_type": "stream",
     "text": [
      "Training loss: 1.3586970331344934, global step: 2499\n",
      "Training loss: 1.358671561042083, global step: 2499\n"
     ]
    },
    {
     "name": "stderr",
     "output_type": "stream",
     "text": [
      " 59%|█████▉    | 12996/21967 [19:40<13:44, 10.88it/s]"
     ]
    },
    {
     "name": "stdout",
     "output_type": "stream",
     "text": [
      "Training loss: 1.3563953831958147, global step: 2599\n",
      "Training loss: 1.3563606534399741, global step: 2599\n",
      "Training loss: 1.356387493664864, global step: 2599\n"
     ]
    },
    {
     "name": "stderr",
     "output_type": "stream",
     "text": [
      " 59%|█████▉    | 13000/21967 [19:41<13:50, 10.80it/s]"
     ]
    },
    {
     "name": "stdout",
     "output_type": "stream",
     "text": [
      "Training loss: 1.356397564520486, global step: 2599\n",
      "Training loss: 1.356388856662366, global step: 2599\n"
     ]
    },
    {
     "name": "stderr",
     "output_type": "stream",
     "text": [
      " 61%|██████▏   | 13496/21967 [20:26<12:58, 10.88it/s]"
     ]
    },
    {
     "name": "stdout",
     "output_type": "stream",
     "text": [
      "Training loss: 1.353597883111064, global step: 2699\n",
      "Training loss: 1.3536144565762185, global step: 2699\n",
      "Training loss: 1.3536385832658173, global step: 2699\n"
     ]
    },
    {
     "name": "stderr",
     "output_type": "stream",
     "text": [
      " 61%|██████▏   | 13500/21967 [20:26<13:03, 10.81it/s]"
     ]
    },
    {
     "name": "stdout",
     "output_type": "stream",
     "text": [
      "Training loss: 1.3536555279818512, global step: 2699\n",
      "Training loss: 1.3536560806011886, global step: 2699\n"
     ]
    },
    {
     "name": "stderr",
     "output_type": "stream",
     "text": [
      " 64%|██████▎   | 13996/21967 [21:11<12:12, 10.88it/s]"
     ]
    },
    {
     "name": "stdout",
     "output_type": "stream",
     "text": [
      "Training loss: 1.3512217696967743, global step: 2799\n",
      "Training loss: 1.3512553221057162, global step: 2799\n",
      "Training loss: 1.3512593562870254, global step: 2799\n"
     ]
    },
    {
     "name": "stderr",
     "output_type": "stream",
     "text": [
      " 64%|██████▎   | 14000/21967 [21:11<12:17, 10.80it/s]"
     ]
    },
    {
     "name": "stdout",
     "output_type": "stream",
     "text": [
      "Training loss: 1.3512381823305777, global step: 2799\n",
      "Training loss: 1.3512229047440505, global step: 2799\n"
     ]
    },
    {
     "name": "stderr",
     "output_type": "stream",
     "text": [
      " 66%|██████▌   | 14496/21967 [21:56<11:24, 10.91it/s]"
     ]
    },
    {
     "name": "stdout",
     "output_type": "stream",
     "text": [
      "Training loss: 1.3488424493181743, global step: 2899\n",
      "Training loss: 1.3488272736568587, global step: 2899\n",
      "Training loss: 1.3488238527173377, global step: 2899\n"
     ]
    },
    {
     "name": "stderr",
     "output_type": "stream",
     "text": [
      " 66%|██████▌   | 14500/21967 [21:57<11:29, 10.84it/s]"
     ]
    },
    {
     "name": "stdout",
     "output_type": "stream",
     "text": [
      "Training loss: 1.3488243927477408, global step: 2899\n",
      "Training loss: 1.348800159937859, global step: 2899\n"
     ]
    },
    {
     "name": "stderr",
     "output_type": "stream",
     "text": [
      " 68%|██████▊   | 14996/21967 [22:42<10:40, 10.89it/s]"
     ]
    },
    {
     "name": "stdout",
     "output_type": "stream",
     "text": [
      "Training loss: 1.3469059358958047, global step: 2999\n",
      "Training loss: 1.346923711531065, global step: 2999\n",
      "Training loss: 1.3469182772263453, global step: 2999\n"
     ]
    },
    {
     "name": "stderr",
     "output_type": "stream",
     "text": [
      " 68%|██████▊   | 15000/21967 [22:42<10:45, 10.80it/s]"
     ]
    },
    {
     "name": "stdout",
     "output_type": "stream",
     "text": [
      "Training loss: 1.3469083218562443, global step: 2999\n",
      "Training loss: 1.3468920816873835, global step: 2999\n"
     ]
    },
    {
     "name": "stderr",
     "output_type": "stream",
     "text": [
      " 71%|███████   | 15496/21967 [23:27<09:54, 10.89it/s]"
     ]
    },
    {
     "name": "stdout",
     "output_type": "stream",
     "text": [
      "Training loss: 1.3444050350932393, global step: 3099\n",
      "Training loss: 1.3444119302856903, global step: 3099\n",
      "Training loss: 1.3444033304575898, global step: 3099\n"
     ]
    },
    {
     "name": "stderr",
     "output_type": "stream",
     "text": [
      " 71%|███████   | 15500/21967 [23:28<09:58, 10.80it/s]"
     ]
    },
    {
     "name": "stdout",
     "output_type": "stream",
     "text": [
      "Training loss: 1.3444124346110786, global step: 3099\n",
      "Training loss: 1.3443991606162744, global step: 3099\n"
     ]
    },
    {
     "name": "stderr",
     "output_type": "stream",
     "text": [
      " 73%|███████▎  | 15996/21967 [24:13<09:08, 10.89it/s]"
     ]
    },
    {
     "name": "stdout",
     "output_type": "stream",
     "text": [
      "Training loss: 1.342022253912514, global step: 3199\n",
      "Training loss: 1.3420155920343537, global step: 3199\n",
      "Training loss: 1.342028321840245, global step: 3199\n"
     ]
    },
    {
     "name": "stderr",
     "output_type": "stream",
     "text": [
      " 73%|███████▎  | 16000/21967 [24:13<09:12, 10.80it/s]"
     ]
    },
    {
     "name": "stdout",
     "output_type": "stream",
     "text": [
      "Training loss: 1.3420337522599173, global step: 3199\n",
      "Training loss: 1.34201516990878, global step: 3199\n"
     ]
    },
    {
     "name": "stderr",
     "output_type": "stream",
     "text": [
      " 75%|███████▌  | 16496/21967 [24:58<08:23, 10.88it/s]"
     ]
    },
    {
     "name": "stdout",
     "output_type": "stream",
     "text": [
      "Training loss: 1.3399153566353246, global step: 3299\n",
      "Training loss: 1.339901499583898, global step: 3299\n",
      "Training loss: 1.3399116122745027, global step: 3299\n"
     ]
    },
    {
     "name": "stderr",
     "output_type": "stream",
     "text": [
      " 75%|███████▌  | 16500/21967 [24:58<08:26, 10.79it/s]"
     ]
    },
    {
     "name": "stdout",
     "output_type": "stream",
     "text": [
      "Training loss: 1.33989425059347, global step: 3299\n",
      "Training loss: 1.3399075122918278, global step: 3299\n"
     ]
    },
    {
     "name": "stderr",
     "output_type": "stream",
     "text": [
      " 77%|███████▋  | 16996/21967 [25:43<07:37, 10.86it/s]"
     ]
    },
    {
     "name": "stdout",
     "output_type": "stream",
     "text": [
      "Training loss: 1.3380242167623229, global step: 3399\n",
      "Training loss: 1.3380274894160926, global step: 3399\n",
      "Training loss: 1.3380080850017613, global step: 3399\n"
     ]
    },
    {
     "name": "stderr",
     "output_type": "stream",
     "text": [
      " 77%|███████▋  | 17000/21967 [25:44<07:40, 10.79it/s]"
     ]
    },
    {
     "name": "stdout",
     "output_type": "stream",
     "text": [
      "Training loss: 1.3379964253729633, global step: 3399\n",
      "Training loss: 1.3380048505887823, global step: 3399\n"
     ]
    },
    {
     "name": "stderr",
     "output_type": "stream",
     "text": [
      " 80%|███████▉  | 17496/21967 [26:29<06:50, 10.88it/s]"
     ]
    },
    {
     "name": "stdout",
     "output_type": "stream",
     "text": [
      "Training loss: 1.3352147093974853, global step: 3499\n",
      "Training loss: 1.3351719153727306, global step: 3499\n",
      "Training loss: 1.3351919337252913, global step: 3499\n"
     ]
    },
    {
     "name": "stderr",
     "output_type": "stream",
     "text": [
      " 80%|███████▉  | 17500/21967 [26:29<06:53, 10.80it/s]"
     ]
    },
    {
     "name": "stdout",
     "output_type": "stream",
     "text": [
      "Training loss: 1.3351726635876677, global step: 3499\n",
      "Training loss: 1.3351834406954362, global step: 3499\n"
     ]
    },
    {
     "name": "stderr",
     "output_type": "stream",
     "text": [
      " 82%|████████▏ | 17996/21967 [27:14<06:05, 10.88it/s]"
     ]
    },
    {
     "name": "stdout",
     "output_type": "stream",
     "text": [
      "Training loss: 1.3323867417302653, global step: 3599\n",
      "Training loss: 1.3323899052141241, global step: 3599\n",
      "Training loss: 1.332382635503383, global step: 3599\n"
     ]
    },
    {
     "name": "stderr",
     "output_type": "stream",
     "text": [
      " 82%|████████▏ | 18000/21967 [27:14<06:07, 10.79it/s]"
     ]
    },
    {
     "name": "stdout",
     "output_type": "stream",
     "text": [
      "Training loss: 1.332353512453813, global step: 3599\n",
      "Training loss: 1.3323443519207456, global step: 3599\n"
     ]
    },
    {
     "name": "stderr",
     "output_type": "stream",
     "text": [
      " 84%|████████▍ | 18496/21967 [27:59<05:18, 10.89it/s]"
     ]
    },
    {
     "name": "stdout",
     "output_type": "stream",
     "text": [
      "Training loss: 1.3298592791940174, global step: 3699\n",
      "Training loss: 1.3298635884964756, global step: 3699\n",
      "Training loss: 1.3298444906112188, global step: 3699\n"
     ]
    },
    {
     "name": "stderr",
     "output_type": "stream",
     "text": [
      " 84%|████████▍ | 18500/21967 [28:00<05:21, 10.80it/s]"
     ]
    },
    {
     "name": "stdout",
     "output_type": "stream",
     "text": [
      "Training loss: 1.3298421369454503, global step: 3699\n",
      "Training loss: 1.3298428412050587, global step: 3699\n"
     ]
    },
    {
     "name": "stderr",
     "output_type": "stream",
     "text": [
      " 86%|████████▋ | 18996/21967 [28:45<04:33, 10.87it/s]"
     ]
    },
    {
     "name": "stdout",
     "output_type": "stream",
     "text": [
      "Training loss: 1.32779079598168, global step: 3799\n",
      "Training loss: 1.3278099788844298, global step: 3799\n",
      "Training loss: 1.327794638804312, global step: 3799\n"
     ]
    },
    {
     "name": "stderr",
     "output_type": "stream",
     "text": [
      " 86%|████████▋ | 19000/21967 [28:45<04:34, 10.79it/s]"
     ]
    },
    {
     "name": "stdout",
     "output_type": "stream",
     "text": [
      "Training loss: 1.3277867722290417, global step: 3799\n",
      "Training loss: 1.3277742616615393, global step: 3799\n"
     ]
    },
    {
     "name": "stderr",
     "output_type": "stream",
     "text": [
      " 89%|████████▉ | 19496/21967 [29:30<03:47, 10.87it/s]"
     ]
    },
    {
     "name": "stdout",
     "output_type": "stream",
     "text": [
      "Training loss: 1.3255792230879782, global step: 3899\n",
      "Training loss: 1.3255679354157222, global step: 3899\n",
      "Training loss: 1.3255686495660812, global step: 3899\n"
     ]
    },
    {
     "name": "stderr",
     "output_type": "stream",
     "text": [
      " 89%|████████▉ | 19500/21967 [29:31<03:48, 10.80it/s]"
     ]
    },
    {
     "name": "stdout",
     "output_type": "stream",
     "text": [
      "Training loss: 1.3255703398473129, global step: 3899\n",
      "Training loss: 1.3255719529848184, global step: 3899\n"
     ]
    },
    {
     "name": "stderr",
     "output_type": "stream",
     "text": [
      " 91%|█████████ | 19996/21967 [30:16<03:01, 10.88it/s]"
     ]
    },
    {
     "name": "stdout",
     "output_type": "stream",
     "text": [
      "Training loss: 1.3233222981785857, global step: 3999\n",
      "Training loss: 1.3233027266672692, global step: 3999\n",
      "Training loss: 1.3233044706637092, global step: 3999\n"
     ]
    },
    {
     "name": "stderr",
     "output_type": "stream",
     "text": [
      " 91%|█████████ | 20000/21967 [30:16<03:02, 10.79it/s]"
     ]
    },
    {
     "name": "stdout",
     "output_type": "stream",
     "text": [
      "Training loss: 1.3233187993337707, global step: 3999\n",
      "Training loss: 1.3233262205387366, global step: 3999\n"
     ]
    },
    {
     "name": "stderr",
     "output_type": "stream",
     "text": [
      " 93%|█████████▎| 20496/21967 [31:01<02:15, 10.89it/s]"
     ]
    },
    {
     "name": "stdout",
     "output_type": "stream",
     "text": [
      "Training loss: 1.3210905400564916, global step: 4099\n",
      "Training loss: 1.3210735325261682, global step: 4099\n",
      "Training loss: 1.3210736167409358, global step: 4099\n"
     ]
    },
    {
     "name": "stderr",
     "output_type": "stream",
     "text": [
      " 93%|█████████▎| 20500/21967 [31:01<02:15, 10.80it/s]"
     ]
    },
    {
     "name": "stdout",
     "output_type": "stream",
     "text": [
      "Training loss: 1.321079251600226, global step: 4099\n",
      "Training loss: 1.321071424529729, global step: 4099\n"
     ]
    },
    {
     "name": "stderr",
     "output_type": "stream",
     "text": [
      " 96%|█████████▌| 20996/21967 [31:46<01:29, 10.88it/s]"
     ]
    },
    {
     "name": "stdout",
     "output_type": "stream",
     "text": [
      "Training loss: 1.318960559626482, global step: 4199\n",
      "Training loss: 1.3189576530392952, global step: 4199\n",
      "Training loss: 1.3189466170494333, global step: 4199\n"
     ]
    },
    {
     "name": "stderr",
     "output_type": "stream",
     "text": [
      " 96%|█████████▌| 21000/21967 [31:47<01:29, 10.79it/s]"
     ]
    },
    {
     "name": "stdout",
     "output_type": "stream",
     "text": [
      "Training loss: 1.3189548179471773, global step: 4199\n",
      "Training loss: 1.3189526827847755, global step: 4199\n"
     ]
    },
    {
     "name": "stderr",
     "output_type": "stream",
     "text": [
      " 98%|█████████▊| 21496/21967 [32:32<00:43, 10.87it/s]"
     ]
    },
    {
     "name": "stdout",
     "output_type": "stream",
     "text": [
      "Training loss: 1.316666915117793, global step: 4299\n",
      "Training loss: 1.3166755286011058, global step: 4299\n",
      "Training loss: 1.3166690410256536, global step: 4299\n"
     ]
    },
    {
     "name": "stderr",
     "output_type": "stream",
     "text": [
      " 98%|█████████▊| 21500/21967 [32:32<00:43, 10.78it/s]"
     ]
    },
    {
     "name": "stdout",
     "output_type": "stream",
     "text": [
      "Training loss: 1.3166727403317267, global step: 4299\n",
      "Training loss: 1.3166757644767058, global step: 4299\n"
     ]
    },
    {
     "name": "stderr",
     "output_type": "stream",
     "text": [
      "100%|██████████| 21967/21967 [33:15<00:00, 11.01it/s]\n"
     ]
    },
    {
     "name": "stdout",
     "output_type": "stream",
     "text": [
      "begin evaluation!!!\n"
     ]
    },
    {
     "name": "stderr",
     "output_type": "stream",
     "text": [
      "  0%|          | 2/21967 [00:00<30:41, 11.93it/s]"
     ]
    },
    {
     "name": "stdout",
     "output_type": "stream",
     "text": [
      "eval_loss: 1.0693431068678751\n",
      "eval_accuracy: 0.552924791086351\n",
      "Training Epoch: 2/5\n"
     ]
    },
    {
     "name": "stderr",
     "output_type": "stream",
     "text": [
      "  2%|▏         | 496/21967 [00:42<31:24, 11.40it/s]"
     ]
    },
    {
     "name": "stdout",
     "output_type": "stream",
     "text": [
      "Training loss: 1.1485672004295118, global step: 99\n",
      "Training loss: 1.1487851349576828, global step: 99\n",
      "Training loss: 1.1486916573234727, global step: 99\n"
     ]
    },
    {
     "name": "stderr",
     "output_type": "stream",
     "text": [
      "  2%|▏         | 500/21967 [00:43<31:38, 11.31it/s]"
     ]
    },
    {
     "name": "stdout",
     "output_type": "stream",
     "text": [
      "Training loss: 1.1492088642943814, global step: 99\n",
      "Training loss: 1.1495520741284968, global step: 99\n"
     ]
    },
    {
     "name": "stderr",
     "output_type": "stream",
     "text": [
      "  5%|▍         | 996/21967 [01:26<30:41, 11.39it/s]"
     ]
    },
    {
     "name": "stdout",
     "output_type": "stream",
     "text": [
      "Training loss: 1.14648760892638, global step: 199\n",
      "Training loss: 1.14665507486307, global step: 199\n",
      "Training loss: 1.1467477833495336, global step: 199\n"
     ]
    },
    {
     "name": "stderr",
     "output_type": "stream",
     "text": [
      "  5%|▍         | 1000/21967 [01:26<30:55, 11.30it/s]"
     ]
    },
    {
     "name": "stdout",
     "output_type": "stream",
     "text": [
      "Training loss: 1.1468860891037331, global step: 199\n",
      "Training loss: 1.1466815144092113, global step: 199\n"
     ]
    },
    {
     "name": "stderr",
     "output_type": "stream",
     "text": [
      "  7%|▋         | 1496/21967 [02:09<29:57, 11.39it/s]"
     ]
    },
    {
     "name": "stdout",
     "output_type": "stream",
     "text": [
      "Training loss: 1.1457320263154531, global step: 299\n",
      "Training loss: 1.1457920634252503, global step: 299\n",
      "Training loss: 1.1458901030346802, global step: 299\n"
     ]
    },
    {
     "name": "stderr",
     "output_type": "stream",
     "text": [
      "  7%|▋         | 1500/21967 [02:10<30:11, 11.30it/s]"
     ]
    },
    {
     "name": "stdout",
     "output_type": "stream",
     "text": [
      "Training loss: 1.1461644644173825, global step: 299\n",
      "Training loss: 1.1459693132916478, global step: 299\n"
     ]
    },
    {
     "name": "stderr",
     "output_type": "stream",
     "text": [
      "  9%|▉         | 1996/21967 [02:52<29:09, 11.41it/s]"
     ]
    },
    {
     "name": "stdout",
     "output_type": "stream",
     "text": [
      "Training loss: 1.140994157378835, global step: 399\n",
      "Training loss: 1.1411852016895712, global step: 399\n",
      "Training loss: 1.14118085038262, global step: 399\n"
     ]
    },
    {
     "name": "stderr",
     "output_type": "stream",
     "text": [
      "  9%|▉         | 2000/21967 [02:53<29:23, 11.33it/s]"
     ]
    },
    {
     "name": "stdout",
     "output_type": "stream",
     "text": [
      "Training loss: 1.1414640078375171, global step: 399\n",
      "Training loss: 1.1414963388931996, global step: 399\n"
     ]
    },
    {
     "name": "stderr",
     "output_type": "stream",
     "text": [
      " 11%|█▏        | 2496/21967 [03:36<28:25, 11.41it/s]"
     ]
    },
    {
     "name": "stdout",
     "output_type": "stream",
     "text": [
      "Training loss: 1.1359131876356854, global step: 499\n",
      "Training loss: 1.1357150064924588, global step: 499\n",
      "Training loss: 1.1359221144203764, global step: 499\n"
     ]
    },
    {
     "name": "stderr",
     "output_type": "stream",
     "text": [
      " 11%|█▏        | 2500/21967 [03:36<28:38, 11.33it/s]"
     ]
    },
    {
     "name": "stdout",
     "output_type": "stream",
     "text": [
      "Training loss: 1.1359141573512717, global step: 499\n",
      "Training loss: 1.1359985694259394, global step: 499\n"
     ]
    },
    {
     "name": "stderr",
     "output_type": "stream",
     "text": [
      " 14%|█▎        | 2996/21967 [04:19<27:43, 11.40it/s]"
     ]
    },
    {
     "name": "stdout",
     "output_type": "stream",
     "text": [
      "Training loss: 1.134722914266865, global step: 599\n",
      "Training loss: 1.1348149963320098, global step: 599\n",
      "Training loss: 1.1348036397416312, global step: 599\n"
     ]
    },
    {
     "name": "stderr",
     "output_type": "stream",
     "text": [
      " 14%|█▎        | 3000/21967 [04:19<28:00, 11.28it/s]"
     ]
    },
    {
     "name": "stdout",
     "output_type": "stream",
     "text": [
      "Training loss: 1.1346744568577363, global step: 599\n",
      "Training loss: 1.1347450708828197, global step: 599\n"
     ]
    },
    {
     "name": "stderr",
     "output_type": "stream",
     "text": [
      " 16%|█▌        | 3496/21967 [05:02<26:58, 11.41it/s]"
     ]
    },
    {
     "name": "stdout",
     "output_type": "stream",
     "text": [
      "Training loss: 1.133261774567746, global step: 699\n",
      "Training loss: 1.1333468774934587, global step: 699\n",
      "Training loss: 1.133362390290576, global step: 699\n"
     ]
    },
    {
     "name": "stderr",
     "output_type": "stream",
     "text": [
      " 16%|█▌        | 3500/21967 [05:03<27:11, 11.32it/s]"
     ]
    },
    {
     "name": "stdout",
     "output_type": "stream",
     "text": [
      "Training loss: 1.1335157825605675, global step: 699\n",
      "Training loss: 1.1334685820337704, global step: 699\n"
     ]
    },
    {
     "name": "stderr",
     "output_type": "stream",
     "text": [
      " 18%|█▊        | 3996/21967 [05:45<26:14, 11.42it/s]"
     ]
    },
    {
     "name": "stdout",
     "output_type": "stream",
     "text": [
      "Training loss: 1.132012925021938, global step: 799\n",
      "Training loss: 1.1320172644167155, global step: 799\n",
      "Training loss: 1.132128233559316, global step: 799\n"
     ]
    },
    {
     "name": "stderr",
     "output_type": "stream",
     "text": [
      " 18%|█▊        | 4000/21967 [05:46<26:30, 11.30it/s]"
     ]
    },
    {
     "name": "stdout",
     "output_type": "stream",
     "text": [
      "Training loss: 1.1322086177143889, global step: 799\n",
      "Training loss: 1.132199252786771, global step: 799\n"
     ]
    },
    {
     "name": "stderr",
     "output_type": "stream",
     "text": [
      " 20%|██        | 4496/21967 [06:29<25:36, 11.37it/s]"
     ]
    },
    {
     "name": "stdout",
     "output_type": "stream",
     "text": [
      "Training loss: 1.1314145535893647, global step: 899\n",
      "Training loss: 1.13136352020982, global step: 899\n",
      "Training loss: 1.1314172381085768, global step: 899\n"
     ]
    },
    {
     "name": "stderr",
     "output_type": "stream",
     "text": [
      " 20%|██        | 4500/21967 [06:29<25:47, 11.29it/s]"
     ]
    },
    {
     "name": "stdout",
     "output_type": "stream",
     "text": [
      "Training loss: 1.1314173823975362, global step: 899\n",
      "Training loss: 1.131360771050451, global step: 899\n"
     ]
    },
    {
     "name": "stderr",
     "output_type": "stream",
     "text": [
      " 23%|██▎       | 4996/21967 [07:12<24:46, 11.41it/s]"
     ]
    },
    {
     "name": "stdout",
     "output_type": "stream",
     "text": [
      "Training loss: 1.1311142901788365, global step: 999\n",
      "Training loss: 1.1311997270093763, global step: 999\n",
      "Training loss: 1.1312241056531054, global step: 999\n"
     ]
    },
    {
     "name": "stderr",
     "output_type": "stream",
     "text": [
      " 23%|██▎       | 5000/21967 [07:12<24:58, 11.32it/s]"
     ]
    },
    {
     "name": "stdout",
     "output_type": "stream",
     "text": [
      "Training loss: 1.1312424977626405, global step: 999\n",
      "Training loss: 1.13133265244398, global step: 999\n"
     ]
    },
    {
     "name": "stderr",
     "output_type": "stream",
     "text": [
      " 25%|██▌       | 5496/21967 [07:55<24:02, 11.42it/s]"
     ]
    },
    {
     "name": "stdout",
     "output_type": "stream",
     "text": [
      "Training loss: 1.1294667058987873, global step: 1099\n",
      "Training loss: 1.1294225408970833, global step: 1099\n",
      "Training loss: 1.1294332072992683, global step: 1099\n"
     ]
    },
    {
     "name": "stderr",
     "output_type": "stream",
     "text": [
      " 25%|██▌       | 5500/21967 [07:55<24:13, 11.33it/s]"
     ]
    },
    {
     "name": "stdout",
     "output_type": "stream",
     "text": [
      "Training loss: 1.1294862203416542, global step: 1099\n",
      "Training loss: 1.1296280797616334, global step: 1099\n"
     ]
    },
    {
     "name": "stderr",
     "output_type": "stream",
     "text": [
      " 27%|██▋       | 5996/21967 [08:38<23:19, 11.41it/s]"
     ]
    },
    {
     "name": "stdout",
     "output_type": "stream",
     "text": [
      "Training loss: 1.1276209469110992, global step: 1199\n",
      "Training loss: 1.1276119164476361, global step: 1199\n",
      "Training loss: 1.1275728747723242, global step: 1199\n"
     ]
    },
    {
     "name": "stderr",
     "output_type": "stream",
     "text": [
      " 27%|██▋       | 6000/21967 [08:39<23:30, 11.32it/s]"
     ]
    },
    {
     "name": "stdout",
     "output_type": "stream",
     "text": [
      "Training loss: 1.1276937882332414, global step: 1199\n",
      "Training loss: 1.127682324406365, global step: 1199\n"
     ]
    },
    {
     "name": "stderr",
     "output_type": "stream",
     "text": [
      " 30%|██▉       | 6496/21967 [09:22<22:35, 11.41it/s]"
     ]
    },
    {
     "name": "stdout",
     "output_type": "stream",
     "text": [
      "Training loss: 1.1257779950747773, global step: 1299\n",
      "Training loss: 1.1257725961510954, global step: 1299\n",
      "Training loss: 1.1258119911973763, global step: 1299\n"
     ]
    },
    {
     "name": "stderr",
     "output_type": "stream",
     "text": [
      " 30%|██▉       | 6500/21967 [09:22<22:45, 11.32it/s]"
     ]
    },
    {
     "name": "stdout",
     "output_type": "stream",
     "text": [
      "Training loss: 1.1257502702579347, global step: 1299\n",
      "Training loss: 1.1257726110633768, global step: 1299\n"
     ]
    },
    {
     "name": "stderr",
     "output_type": "stream",
     "text": [
      " 32%|███▏      | 6996/21967 [10:05<21:51, 11.41it/s]"
     ]
    },
    {
     "name": "stdout",
     "output_type": "stream",
     "text": [
      "Training loss: 1.1244027497322753, global step: 1399\n",
      "Training loss: 1.1244747042634646, global step: 1399\n",
      "Training loss: 1.124532048591413, global step: 1399\n"
     ]
    },
    {
     "name": "stderr",
     "output_type": "stream",
     "text": [
      " 32%|███▏      | 7000/21967 [10:05<22:02, 11.32it/s]"
     ]
    },
    {
     "name": "stdout",
     "output_type": "stream",
     "text": [
      "Training loss: 1.1245389351587733, global step: 1399\n",
      "Training loss: 1.1245451063931133, global step: 1399\n"
     ]
    },
    {
     "name": "stderr",
     "output_type": "stream",
     "text": [
      " 34%|███▍      | 7496/21967 [10:48<21:07, 11.42it/s]"
     ]
    },
    {
     "name": "stdout",
     "output_type": "stream",
     "text": [
      "Training loss: 1.1215039517558998, global step: 1499\n",
      "Training loss: 1.12144654776738, global step: 1499\n",
      "Training loss: 1.1214361740709766, global step: 1499\n"
     ]
    },
    {
     "name": "stderr",
     "output_type": "stream",
     "text": [
      " 34%|███▍      | 7500/21967 [10:48<21:16, 11.33it/s]"
     ]
    },
    {
     "name": "stdout",
     "output_type": "stream",
     "text": [
      "Training loss: 1.1214688974269933, global step: 1499\n",
      "Training loss: 1.1214071264929384, global step: 1499\n"
     ]
    },
    {
     "name": "stderr",
     "output_type": "stream",
     "text": [
      " 36%|███▋      | 7996/21967 [11:31<20:23, 11.42it/s]"
     ]
    },
    {
     "name": "stdout",
     "output_type": "stream",
     "text": [
      "Training loss: 1.1203808248173528, global step: 1599\n",
      "Training loss: 1.1203712335451803, global step: 1599\n",
      "Training loss: 1.1204197624575067, global step: 1599\n"
     ]
    },
    {
     "name": "stderr",
     "output_type": "stream",
     "text": [
      " 36%|███▋      | 8000/21967 [11:32<20:33, 11.32it/s]"
     ]
    },
    {
     "name": "stdout",
     "output_type": "stream",
     "text": [
      "Training loss: 1.1204030999457815, global step: 1599\n",
      "Training loss: 1.1203214022919958, global step: 1599\n"
     ]
    },
    {
     "name": "stderr",
     "output_type": "stream",
     "text": [
      " 39%|███▊      | 8496/21967 [12:15<19:40, 11.41it/s]"
     ]
    },
    {
     "name": "stdout",
     "output_type": "stream",
     "text": [
      "Training loss: 1.120544850354408, global step: 1699\n",
      "Training loss: 1.120475241453115, global step: 1699\n",
      "Training loss: 1.1204835696105777, global step: 1699\n"
     ]
    },
    {
     "name": "stderr",
     "output_type": "stream",
     "text": [
      " 39%|███▊      | 8500/21967 [12:15<19:49, 11.32it/s]"
     ]
    },
    {
     "name": "stdout",
     "output_type": "stream",
     "text": [
      "Training loss: 1.1204630533322275, global step: 1699\n",
      "Training loss: 1.1204735088055942, global step: 1699\n"
     ]
    },
    {
     "name": "stderr",
     "output_type": "stream",
     "text": [
      " 41%|████      | 8996/21967 [12:58<18:55, 11.42it/s]"
     ]
    },
    {
     "name": "stdout",
     "output_type": "stream",
     "text": [
      "Training loss: 1.1196044610284182, global step: 1799\n",
      "Training loss: 1.1195738728014482, global step: 1799\n",
      "Training loss: 1.1195265466824127, global step: 1799\n"
     ]
    },
    {
     "name": "stderr",
     "output_type": "stream",
     "text": [
      " 41%|████      | 9000/21967 [12:58<19:04, 11.33it/s]"
     ]
    },
    {
     "name": "stdout",
     "output_type": "stream",
     "text": [
      "Training loss: 1.1195012927634977, global step: 1799\n",
      "Training loss: 1.1194616705377918, global step: 1799\n"
     ]
    },
    {
     "name": "stderr",
     "output_type": "stream",
     "text": [
      " 43%|████▎     | 9496/21967 [13:41<18:12, 11.41it/s]"
     ]
    },
    {
     "name": "stdout",
     "output_type": "stream",
     "text": [
      "Training loss: 1.1180780641699288, global step: 1899\n",
      "Training loss: 1.118131416445722, global step: 1899\n",
      "Training loss: 1.1181188912781161, global step: 1899\n"
     ]
    },
    {
     "name": "stderr",
     "output_type": "stream",
     "text": [
      " 43%|████▎     | 9500/21967 [13:41<18:21, 11.32it/s]"
     ]
    },
    {
     "name": "stdout",
     "output_type": "stream",
     "text": [
      "Training loss: 1.1180921257919676, global step: 1899\n",
      "Training loss: 1.11807150064531, global step: 1899\n"
     ]
    },
    {
     "name": "stderr",
     "output_type": "stream",
     "text": [
      " 46%|████▌     | 9996/21967 [14:24<17:28, 11.42it/s]"
     ]
    },
    {
     "name": "stdout",
     "output_type": "stream",
     "text": [
      "Training loss: 1.1178202091797762, global step: 1999\n",
      "Training loss: 1.1178198524278586, global step: 1999\n",
      "Training loss: 1.1178197201426725, global step: 1999\n"
     ]
    },
    {
     "name": "stderr",
     "output_type": "stream",
     "text": [
      " 46%|████▌     | 10000/21967 [14:25<17:36, 11.33it/s]"
     ]
    },
    {
     "name": "stdout",
     "output_type": "stream",
     "text": [
      "Training loss: 1.1178096652785094, global step: 1999\n",
      "Training loss: 1.1177572238602058, global step: 1999\n"
     ]
    },
    {
     "name": "stderr",
     "output_type": "stream",
     "text": [
      " 48%|████▊     | 10496/21967 [15:07<16:45, 11.41it/s]"
     ]
    },
    {
     "name": "stdout",
     "output_type": "stream",
     "text": [
      "Training loss: 1.1161757904370664, global step: 2099\n",
      "Training loss: 1.1161434762506381, global step: 2099\n",
      "Training loss: 1.116132596530914, global step: 2099\n"
     ]
    },
    {
     "name": "stderr",
     "output_type": "stream",
     "text": [
      " 48%|████▊     | 10500/21967 [15:08<16:52, 11.32it/s]"
     ]
    },
    {
     "name": "stdout",
     "output_type": "stream",
     "text": [
      "Training loss: 1.1161144857484173, global step: 2099\n",
      "Training loss: 1.1161566258075748, global step: 2099\n"
     ]
    },
    {
     "name": "stderr",
     "output_type": "stream",
     "text": [
      " 50%|█████     | 10996/21967 [15:51<16:00, 11.42it/s]"
     ]
    },
    {
     "name": "stdout",
     "output_type": "stream",
     "text": [
      "Training loss: 1.1143038936870757, global step: 2199\n",
      "Training loss: 1.1143012247849546, global step: 2199\n",
      "Training loss: 1.1142817418095827, global step: 2199\n"
     ]
    },
    {
     "name": "stderr",
     "output_type": "stream",
     "text": [
      " 50%|█████     | 11000/21967 [15:51<16:07, 11.33it/s]"
     ]
    },
    {
     "name": "stdout",
     "output_type": "stream",
     "text": [
      "Training loss: 1.1143035370057812, global step: 2199\n",
      "Training loss: 1.1143141115323578, global step: 2199\n"
     ]
    },
    {
     "name": "stderr",
     "output_type": "stream",
     "text": [
      " 52%|█████▏    | 11496/21967 [16:34<15:16, 11.42it/s]"
     ]
    },
    {
     "name": "stdout",
     "output_type": "stream",
     "text": [
      "Training loss: 1.1142365205295712, global step: 2299\n",
      "Training loss: 1.1142093366078083, global step: 2299\n",
      "Training loss: 1.1142192958419381, global step: 2299\n"
     ]
    },
    {
     "name": "stderr",
     "output_type": "stream",
     "text": [
      " 52%|█████▏    | 11500/21967 [16:34<15:24, 11.33it/s]"
     ]
    },
    {
     "name": "stdout",
     "output_type": "stream",
     "text": [
      "Training loss: 1.1142466492947027, global step: 2299\n",
      "Training loss: 1.1142433761827262, global step: 2299\n"
     ]
    },
    {
     "name": "stderr",
     "output_type": "stream",
     "text": [
      " 55%|█████▍    | 11996/21967 [17:17<14:33, 11.42it/s]"
     ]
    },
    {
     "name": "stdout",
     "output_type": "stream",
     "text": [
      "Training loss: 1.1134295320886034, global step: 2399\n",
      "Training loss: 1.113435172966845, global step: 2399\n",
      "Training loss: 1.1134558475938172, global step: 2399\n"
     ]
    },
    {
     "name": "stderr",
     "output_type": "stream",
     "text": [
      " 55%|█████▍    | 12000/21967 [17:18<14:40, 11.33it/s]"
     ]
    },
    {
     "name": "stdout",
     "output_type": "stream",
     "text": [
      "Training loss: 1.113440449394759, global step: 2399\n",
      "Training loss: 1.1134320837672587, global step: 2399\n"
     ]
    },
    {
     "name": "stderr",
     "output_type": "stream",
     "text": [
      " 57%|█████▋    | 12496/21967 [18:00<13:50, 11.41it/s]"
     ]
    },
    {
     "name": "stdout",
     "output_type": "stream",
     "text": [
      "Training loss: 1.1121093428805142, global step: 2499\n",
      "Training loss: 1.1120941836026792, global step: 2499\n",
      "Training loss: 1.1121190953759792, global step: 2499\n"
     ]
    },
    {
     "name": "stderr",
     "output_type": "stream",
     "text": [
      " 57%|█████▋    | 12500/21967 [18:01<13:56, 11.32it/s]"
     ]
    },
    {
     "name": "stdout",
     "output_type": "stream",
     "text": [
      "Training loss: 1.112090760018992, global step: 2499\n",
      "Training loss: 1.1121357956133573, global step: 2499\n"
     ]
    },
    {
     "name": "stderr",
     "output_type": "stream",
     "text": [
      " 59%|█████▉    | 12996/21967 [18:44<13:06, 11.41it/s]"
     ]
    },
    {
     "name": "stdout",
     "output_type": "stream",
     "text": [
      "Training loss: 1.1097531767522615, global step: 2599\n",
      "Training loss: 1.1098143460567857, global step: 2599\n",
      "Training loss: 1.1098046395387375, global step: 2599\n"
     ]
    },
    {
     "name": "stderr",
     "output_type": "stream",
     "text": [
      " 59%|█████▉    | 13000/21967 [18:44<13:12, 11.32it/s]"
     ]
    },
    {
     "name": "stdout",
     "output_type": "stream",
     "text": [
      "Training loss: 1.1097600379940693, global step: 2599\n",
      "Training loss: 1.1098146337033676, global step: 2599\n"
     ]
    },
    {
     "name": "stderr",
     "output_type": "stream",
     "text": [
      " 61%|██████▏   | 13496/21967 [19:27<12:22, 11.41it/s]"
     ]
    },
    {
     "name": "stdout",
     "output_type": "stream",
     "text": [
      "Training loss: 1.108556348105279, global step: 2699\n",
      "Training loss: 1.108591059078178, global step: 2699\n",
      "Training loss: 1.1085876320223989, global step: 2699\n"
     ]
    },
    {
     "name": "stderr",
     "output_type": "stream",
     "text": [
      " 61%|██████▏   | 13500/21967 [19:27<12:28, 11.31it/s]"
     ]
    },
    {
     "name": "stdout",
     "output_type": "stream",
     "text": [
      "Training loss: 1.108556707544068, global step: 2699\n",
      "Training loss: 1.1085181848253443, global step: 2699\n"
     ]
    },
    {
     "name": "stderr",
     "output_type": "stream",
     "text": [
      " 64%|██████▎   | 13996/21967 [20:10<11:38, 11.42it/s]"
     ]
    },
    {
     "name": "stdout",
     "output_type": "stream",
     "text": [
      "Training loss: 1.1065626474992425, global step: 2799\n",
      "Training loss: 1.1065912950665788, global step: 2799\n",
      "Training loss: 1.1065991536935773, global step: 2799\n"
     ]
    },
    {
     "name": "stderr",
     "output_type": "stream",
     "text": [
      " 64%|██████▎   | 14000/21967 [20:11<11:43, 11.32it/s]"
     ]
    },
    {
     "name": "stdout",
     "output_type": "stream",
     "text": [
      "Training loss: 1.1065879503153515, global step: 2799\n",
      "Training loss: 1.106563530961857, global step: 2799\n"
     ]
    },
    {
     "name": "stderr",
     "output_type": "stream",
     "text": [
      " 66%|██████▌   | 14496/21967 [20:53<10:54, 11.41it/s]"
     ]
    },
    {
     "name": "stdout",
     "output_type": "stream",
     "text": [
      "Training loss: 1.104618978587748, global step: 2899\n",
      "Training loss: 1.104599881572875, global step: 2899\n",
      "Training loss: 1.1046331099276214, global step: 2899\n"
     ]
    },
    {
     "name": "stderr",
     "output_type": "stream",
     "text": [
      " 66%|██████▌   | 14500/21967 [20:54<10:59, 11.32it/s]"
     ]
    },
    {
     "name": "stdout",
     "output_type": "stream",
     "text": [
      "Training loss: 1.1046048492462508, global step: 2899\n",
      "Training loss: 1.1046109063914007, global step: 2899\n"
     ]
    },
    {
     "name": "stderr",
     "output_type": "stream",
     "text": [
      " 68%|██████▊   | 14996/21967 [21:37<10:11, 11.41it/s]"
     ]
    },
    {
     "name": "stdout",
     "output_type": "stream",
     "text": [
      "Training loss: 1.1042799416155606, global step: 2999\n",
      "Training loss: 1.104267028508925, global step: 2999\n",
      "Training loss: 1.1042754975175304, global step: 2999\n"
     ]
    },
    {
     "name": "stderr",
     "output_type": "stream",
     "text": [
      " 68%|██████▊   | 15000/21967 [21:37<10:15, 11.32it/s]"
     ]
    },
    {
     "name": "stdout",
     "output_type": "stream",
     "text": [
      "Training loss: 1.1042737907352869, global step: 2999\n",
      "Training loss: 1.1042637487259839, global step: 2999\n"
     ]
    },
    {
     "name": "stderr",
     "output_type": "stream",
     "text": [
      " 71%|███████   | 15496/21967 [22:20<09:27, 11.41it/s]"
     ]
    },
    {
     "name": "stdout",
     "output_type": "stream",
     "text": [
      "Training loss: 1.1018566567336563, global step: 3099\n",
      "Training loss: 1.1018467974687014, global step: 3099\n",
      "Training loss: 1.1018223447844528, global step: 3099\n"
     ]
    },
    {
     "name": "stderr",
     "output_type": "stream",
     "text": [
      " 71%|███████   | 15500/21967 [22:20<09:31, 11.32it/s]"
     ]
    },
    {
     "name": "stdout",
     "output_type": "stream",
     "text": [
      "Training loss: 1.1018125232963396, global step: 3099\n",
      "Training loss: 1.1017743258037769, global step: 3099\n"
     ]
    },
    {
     "name": "stderr",
     "output_type": "stream",
     "text": [
      " 73%|███████▎  | 15996/21967 [23:03<08:43, 11.41it/s]"
     ]
    },
    {
     "name": "stdout",
     "output_type": "stream",
     "text": [
      "Training loss: 1.1006110237702313, global step: 3199\n",
      "Training loss: 1.1006070885040606, global step: 3199\n",
      "Training loss: 1.1005843701515823, global step: 3199\n"
     ]
    },
    {
     "name": "stderr",
     "output_type": "stream",
     "text": [
      " 73%|███████▎  | 16000/21967 [23:04<08:47, 11.32it/s]"
     ]
    },
    {
     "name": "stdout",
     "output_type": "stream",
     "text": [
      "Training loss: 1.100618603285707, global step: 3199\n",
      "Training loss: 1.1006124674532516, global step: 3199\n"
     ]
    },
    {
     "name": "stderr",
     "output_type": "stream",
     "text": [
      " 75%|███████▌  | 16496/21967 [23:46<07:59, 11.41it/s]"
     ]
    },
    {
     "name": "stdout",
     "output_type": "stream",
     "text": [
      "Training loss: 1.099345647488337, global step: 3299\n",
      "Training loss: 1.0993233402354496, global step: 3299\n",
      "Training loss: 1.0993298367438131, global step: 3299\n"
     ]
    },
    {
     "name": "stderr",
     "output_type": "stream",
     "text": [
      " 75%|███████▌  | 16500/21967 [23:47<08:03, 11.31it/s]"
     ]
    },
    {
     "name": "stdout",
     "output_type": "stream",
     "text": [
      "Training loss: 1.0993274079028557, global step: 3299\n",
      "Training loss: 1.0993381022117277, global step: 3299\n"
     ]
    },
    {
     "name": "stderr",
     "output_type": "stream",
     "text": [
      " 77%|███████▋  | 16996/21967 [24:30<07:15, 11.41it/s]"
     ]
    },
    {
     "name": "stdout",
     "output_type": "stream",
     "text": [
      "Training loss: 1.098221053839361, global step: 3399\n",
      "Training loss: 1.0982659817492437, global step: 3399\n",
      "Training loss: 1.098297518986551, global step: 3399\n"
     ]
    },
    {
     "name": "stderr",
     "output_type": "stream",
     "text": [
      " 77%|███████▋  | 17000/21967 [24:30<07:18, 11.32it/s]"
     ]
    },
    {
     "name": "stdout",
     "output_type": "stream",
     "text": [
      "Training loss: 1.098283558259895, global step: 3399\n",
      "Training loss: 1.0982562896924704, global step: 3399\n"
     ]
    },
    {
     "name": "stderr",
     "output_type": "stream",
     "text": [
      " 80%|███████▉  | 17496/21967 [25:13<06:31, 11.42it/s]"
     ]
    },
    {
     "name": "stdout",
     "output_type": "stream",
     "text": [
      "Training loss: 1.0969068482062516, global step: 3499\n",
      "Training loss: 1.096897400143992, global step: 3499\n",
      "Training loss: 1.09688424730414, global step: 3499\n"
     ]
    },
    {
     "name": "stderr",
     "output_type": "stream",
     "text": [
      " 80%|███████▉  | 17500/21967 [25:13<06:34, 11.32it/s]"
     ]
    },
    {
     "name": "stdout",
     "output_type": "stream",
     "text": [
      "Training loss: 1.0968644993024386, global step: 3499\n",
      "Training loss: 1.0968657378534146, global step: 3499\n"
     ]
    },
    {
     "name": "stderr",
     "output_type": "stream",
     "text": [
      " 82%|████████▏ | 17996/21967 [25:56<05:47, 11.42it/s]"
     ]
    },
    {
     "name": "stdout",
     "output_type": "stream",
     "text": [
      "Training loss: 1.0948771683432454, global step: 3599\n",
      "Training loss: 1.0948824055872115, global step: 3599\n",
      "Training loss: 1.0948678114788197, global step: 3599\n"
     ]
    },
    {
     "name": "stderr",
     "output_type": "stream",
     "text": [
      " 82%|████████▏ | 18000/21967 [25:57<05:50, 11.32it/s]"
     ]
    },
    {
     "name": "stdout",
     "output_type": "stream",
     "text": [
      "Training loss: 1.0949409866494622, global step: 3599\n",
      "Training loss: 1.0949807900231086, global step: 3599\n"
     ]
    },
    {
     "name": "stderr",
     "output_type": "stream",
     "text": [
      " 84%|████████▍ | 18496/21967 [26:39<05:05, 11.37it/s]"
     ]
    },
    {
     "name": "stdout",
     "output_type": "stream",
     "text": [
      "Training loss: 1.0950875181818562, global step: 3699\n",
      "Training loss: 1.0950917256206507, global step: 3699\n",
      "Training loss: 1.0950879448925204, global step: 3699\n"
     ]
    },
    {
     "name": "stderr",
     "output_type": "stream",
     "text": [
      " 84%|████████▍ | 18500/21967 [26:40<05:07, 11.28it/s]"
     ]
    },
    {
     "name": "stdout",
     "output_type": "stream",
     "text": [
      "Training loss: 1.0950508648472252, global step: 3699\n",
      "Training loss: 1.0950424503207794, global step: 3699\n"
     ]
    },
    {
     "name": "stderr",
     "output_type": "stream",
     "text": [
      " 86%|████████▋ | 18996/21967 [27:23<04:20, 11.41it/s]"
     ]
    },
    {
     "name": "stdout",
     "output_type": "stream",
     "text": [
      "Training loss: 1.093321621483111, global step: 3799\n",
      "Training loss: 1.0933164369427084, global step: 3799\n",
      "Training loss: 1.0933461639065927, global step: 3799\n"
     ]
    },
    {
     "name": "stderr",
     "output_type": "stream",
     "text": [
      " 86%|████████▋ | 19000/21967 [27:23<04:22, 11.32it/s]"
     ]
    },
    {
     "name": "stdout",
     "output_type": "stream",
     "text": [
      "Training loss: 1.093322886188371, global step: 3799\n",
      "Training loss: 1.093396027615443, global step: 3799\n"
     ]
    },
    {
     "name": "stderr",
     "output_type": "stream",
     "text": [
      " 89%|████████▉ | 19496/21967 [28:06<03:36, 11.41it/s]"
     ]
    },
    {
     "name": "stdout",
     "output_type": "stream",
     "text": [
      "Training loss: 1.0923783489613081, global step: 3899\n",
      "Training loss: 1.0923630406519809, global step: 3899\n",
      "Training loss: 1.0923574020572213, global step: 3899\n"
     ]
    },
    {
     "name": "stderr",
     "output_type": "stream",
     "text": [
      " 89%|████████▉ | 19500/21967 [28:06<03:37, 11.32it/s]"
     ]
    },
    {
     "name": "stdout",
     "output_type": "stream",
     "text": [
      "Training loss: 1.092360790699326, global step: 3899\n",
      "Training loss: 1.0923594097541451, global step: 3899\n"
     ]
    },
    {
     "name": "stderr",
     "output_type": "stream",
     "text": [
      " 91%|█████████ | 19996/21967 [28:49<02:52, 11.41it/s]"
     ]
    },
    {
     "name": "stdout",
     "output_type": "stream",
     "text": [
      "Training loss: 1.0914891235148438, global step: 3999\n",
      "Training loss: 1.0914883994752407, global step: 3999\n",
      "Training loss: 1.0914876612186755, global step: 3999\n"
     ]
    },
    {
     "name": "stderr",
     "output_type": "stream",
     "text": [
      " 91%|█████████ | 20000/21967 [28:50<02:53, 11.32it/s]"
     ]
    },
    {
     "name": "stdout",
     "output_type": "stream",
     "text": [
      "Training loss: 1.091484491602786, global step: 3999\n",
      "Training loss: 1.0915286478434356, global step: 3999\n"
     ]
    },
    {
     "name": "stderr",
     "output_type": "stream",
     "text": [
      " 93%|█████████▎| 20496/21967 [29:32<02:08, 11.41it/s]"
     ]
    },
    {
     "name": "stdout",
     "output_type": "stream",
     "text": [
      "Training loss: 1.0906718504329982, global step: 4099\n",
      "Training loss: 1.090644578445793, global step: 4099\n",
      "Training loss: 1.0906644413245796, global step: 4099\n"
     ]
    },
    {
     "name": "stderr",
     "output_type": "stream",
     "text": [
      " 93%|█████████▎| 20500/21967 [29:33<02:09, 11.32it/s]"
     ]
    },
    {
     "name": "stdout",
     "output_type": "stream",
     "text": [
      "Training loss: 1.0906595466546702, global step: 4099\n",
      "Training loss: 1.0906749045760453, global step: 4099\n"
     ]
    },
    {
     "name": "stderr",
     "output_type": "stream",
     "text": [
      " 96%|█████████▌| 20996/21967 [30:16<01:25, 11.40it/s]"
     ]
    },
    {
     "name": "stdout",
     "output_type": "stream",
     "text": [
      "Training loss: 1.0891867254327723, global step: 4199\n",
      "Training loss: 1.0891819437783, global step: 4199\n",
      "Training loss: 1.089190388985371, global step: 4199\n"
     ]
    },
    {
     "name": "stderr",
     "output_type": "stream",
     "text": [
      " 96%|█████████▌| 21000/21967 [30:16<01:25, 11.31it/s]"
     ]
    },
    {
     "name": "stdout",
     "output_type": "stream",
     "text": [
      "Training loss: 1.0892114785994582, global step: 4199\n",
      "Training loss: 1.08919829446802, global step: 4199\n"
     ]
    },
    {
     "name": "stderr",
     "output_type": "stream",
     "text": [
      " 98%|█████████▊| 21496/21967 [30:59<00:41, 11.41it/s]"
     ]
    },
    {
     "name": "stdout",
     "output_type": "stream",
     "text": [
      "Training loss: 1.0884877190676698, global step: 4299\n",
      "Training loss: 1.088497404840258, global step: 4299\n",
      "Training loss: 1.088490614266447, global step: 4299\n"
     ]
    },
    {
     "name": "stderr",
     "output_type": "stream",
     "text": [
      " 98%|█████████▊| 21500/21967 [30:59<00:41, 11.32it/s]"
     ]
    },
    {
     "name": "stdout",
     "output_type": "stream",
     "text": [
      "Training loss: 1.0884963110926618, global step: 4299\n",
      "Training loss: 1.0884714590533622, global step: 4299\n"
     ]
    },
    {
     "name": "stderr",
     "output_type": "stream",
     "text": [
      "100%|██████████| 21967/21967 [31:40<00:00, 11.56it/s]\n"
     ]
    },
    {
     "name": "stdout",
     "output_type": "stream",
     "text": [
      "begin evaluation!!!\n"
     ]
    },
    {
     "name": "stderr",
     "output_type": "stream",
     "text": [
      "  0%|          | 2/21967 [00:00<30:40, 11.94it/s]"
     ]
    },
    {
     "name": "stdout",
     "output_type": "stream",
     "text": [
      "eval_loss: 0.9555869180511963\n",
      "eval_accuracy: 0.6149025069637883\n",
      "Training Epoch: 3/5\n"
     ]
    },
    {
     "name": "stderr",
     "output_type": "stream",
     "text": [
      "  2%|▏         | 496/21967 [00:42<31:20, 11.42it/s]"
     ]
    },
    {
     "name": "stdout",
     "output_type": "stream",
     "text": [
      "Training loss: 0.9643881308008926, global step: 99\n",
      "Training loss: 0.9636914741187808, global step: 99\n",
      "Training loss: 0.9636307750009675, global step: 99\n"
     ]
    },
    {
     "name": "stderr",
     "output_type": "stream",
     "text": [
      "  2%|▏         | 500/21967 [00:43<31:38, 11.31it/s]"
     ]
    },
    {
     "name": "stdout",
     "output_type": "stream",
     "text": [
      "Training loss: 0.9640705804808073, global step: 99\n",
      "Training loss: 0.9642016330140387, global step: 99\n"
     ]
    },
    {
     "name": "stderr",
     "output_type": "stream",
     "text": [
      "  5%|▍         | 996/21967 [01:26<30:38, 11.41it/s]"
     ]
    },
    {
     "name": "stdout",
     "output_type": "stream",
     "text": [
      "Training loss: 0.9657971262183022, global step: 199\n",
      "Training loss: 0.9658543607407066, global step: 199\n",
      "Training loss: 0.9652671609653035, global step: 199\n"
     ]
    },
    {
     "name": "stderr",
     "output_type": "stream",
     "text": [
      "  5%|▍         | 1000/21967 [01:26<30:53, 11.31it/s]"
     ]
    },
    {
     "name": "stdout",
     "output_type": "stream",
     "text": [
      "Training loss: 0.9654725836757907, global step: 199\n",
      "Training loss: 0.9647381619230524, global step: 199\n"
     ]
    },
    {
     "name": "stderr",
     "output_type": "stream",
     "text": [
      "  7%|▋         | 1496/21967 [02:09<29:53, 11.41it/s]"
     ]
    },
    {
     "name": "stdout",
     "output_type": "stream",
     "text": [
      "Training loss: 0.9528627257981029, global step: 299\n",
      "Training loss: 0.9525738144442838, global step: 299\n",
      "Training loss: 0.9528281602986112, global step: 299\n"
     ]
    },
    {
     "name": "stderr",
     "output_type": "stream",
     "text": [
      "  7%|▋         | 1500/21967 [02:09<30:14, 11.28it/s]"
     ]
    },
    {
     "name": "stdout",
     "output_type": "stream",
     "text": [
      "Training loss: 0.9528684890934718, global step: 299\n",
      "Training loss: 0.9526751079485367, global step: 299\n"
     ]
    },
    {
     "name": "stderr",
     "output_type": "stream",
     "text": [
      "  9%|▉         | 1996/21967 [02:52<29:08, 11.42it/s]"
     ]
    },
    {
     "name": "stdout",
     "output_type": "stream",
     "text": [
      "Training loss: 0.9526329025290066, global step: 399\n",
      "Training loss: 0.9529610883317634, global step: 399\n",
      "Training loss: 0.9529801430735638, global step: 399\n"
     ]
    },
    {
     "name": "stderr",
     "output_type": "stream",
     "text": [
      "  9%|▉         | 2000/21967 [02:52<29:22, 11.33it/s]"
     ]
    },
    {
     "name": "stdout",
     "output_type": "stream",
     "text": [
      "Training loss: 0.9530192042315925, global step: 399\n",
      "Training loss: 0.953404467752303, global step: 399\n"
     ]
    },
    {
     "name": "stderr",
     "output_type": "stream",
     "text": [
      " 11%|█▏        | 2496/21967 [03:35<28:24, 11.42it/s]"
     ]
    },
    {
     "name": "stdout",
     "output_type": "stream",
     "text": [
      "Training loss: 0.9455959177626397, global step: 499\n",
      "Training loss: 0.945541068404101, global step: 499\n",
      "Training loss: 0.9454408991167342, global step: 499\n"
     ]
    },
    {
     "name": "stderr",
     "output_type": "stream",
     "text": [
      " 11%|█▏        | 2500/21967 [03:36<28:37, 11.33it/s]"
     ]
    },
    {
     "name": "stdout",
     "output_type": "stream",
     "text": [
      "Training loss: 0.9457952037238903, global step: 499\n",
      "Training loss: 0.9455599206752804, global step: 499\n"
     ]
    },
    {
     "name": "stderr",
     "output_type": "stream",
     "text": [
      " 14%|█▎        | 2996/21967 [04:19<27:40, 11.42it/s]"
     ]
    },
    {
     "name": "stdout",
     "output_type": "stream",
     "text": [
      "Training loss: 0.941433026712506, global step: 599\n",
      "Training loss: 0.9414631126296815, global step: 599\n",
      "Training loss: 0.9413583227319839, global step: 599\n"
     ]
    },
    {
     "name": "stderr",
     "output_type": "stream",
     "text": [
      " 14%|█▎        | 3000/21967 [04:19<27:53, 11.33it/s]"
     ]
    },
    {
     "name": "stdout",
     "output_type": "stream",
     "text": [
      "Training loss: 0.9412442135976863, global step: 599\n",
      "Training loss: 0.9414581686839655, global step: 599\n"
     ]
    },
    {
     "name": "stderr",
     "output_type": "stream",
     "text": [
      " 16%|█▌        | 3496/21967 [05:02<26:58, 11.41it/s]"
     ]
    },
    {
     "name": "stdout",
     "output_type": "stream",
     "text": [
      "Training loss: 0.9398645661739321, global step: 699\n",
      "Training loss: 0.9397530547349588, global step: 699\n",
      "Training loss: 0.9399630536424081, global step: 699\n"
     ]
    },
    {
     "name": "stderr",
     "output_type": "stream",
     "text": [
      " 16%|█▌        | 3500/21967 [05:02<27:09, 11.33it/s]"
     ]
    },
    {
     "name": "stdout",
     "output_type": "stream",
     "text": [
      "Training loss: 0.940003618144304, global step: 699\n",
      "Training loss: 0.9399436105465371, global step: 699\n"
     ]
    },
    {
     "name": "stderr",
     "output_type": "stream",
     "text": [
      " 18%|█▊        | 3996/21967 [05:45<26:15, 11.41it/s]"
     ]
    },
    {
     "name": "stdout",
     "output_type": "stream",
     "text": [
      "Training loss: 0.9409058207060876, global step: 799\n",
      "Training loss: 0.9407890633781543, global step: 799\n",
      "Training loss: 0.9405974177496863, global step: 799\n"
     ]
    },
    {
     "name": "stderr",
     "output_type": "stream",
     "text": [
      " 18%|█▊        | 4000/21967 [05:45<26:31, 11.29it/s]"
     ]
    },
    {
     "name": "stdout",
     "output_type": "stream",
     "text": [
      "Training loss: 0.9405679808964039, global step: 799\n",
      "Training loss: 0.9405062745704178, global step: 799\n"
     ]
    },
    {
     "name": "stderr",
     "output_type": "stream",
     "text": [
      " 20%|██        | 4496/21967 [06:28<25:24, 11.46it/s]"
     ]
    },
    {
     "name": "stdout",
     "output_type": "stream",
     "text": [
      "Training loss: 0.9394779324846485, global step: 899\n",
      "Training loss: 0.939515398349613, global step: 899\n",
      "Training loss: 0.9395650966046968, global step: 899\n"
     ]
    },
    {
     "name": "stderr",
     "output_type": "stream",
     "text": [
      " 20%|██        | 4500/21967 [06:29<25:35, 11.37it/s]"
     ]
    },
    {
     "name": "stdout",
     "output_type": "stream",
     "text": [
      "Training loss: 0.9395762811741627, global step: 899\n",
      "Training loss: 0.9395223133453106, global step: 899\n"
     ]
    },
    {
     "name": "stderr",
     "output_type": "stream",
     "text": [
      " 23%|██▎       | 4996/21967 [07:11<24:40, 11.46it/s]"
     ]
    },
    {
     "name": "stdout",
     "output_type": "stream",
     "text": [
      "Training loss: 0.9399811563922001, global step: 999\n",
      "Training loss: 0.9399607826525374, global step: 999\n",
      "Training loss: 0.939886929359595, global step: 999\n"
     ]
    },
    {
     "name": "stderr",
     "output_type": "stream",
     "text": [
      " 23%|██▎       | 5000/21967 [07:12<24:51, 11.37it/s]"
     ]
    },
    {
     "name": "stdout",
     "output_type": "stream",
     "text": [
      "Training loss: 0.9398165755570174, global step: 999\n",
      "Training loss: 0.9397871120035303, global step: 999\n"
     ]
    },
    {
     "name": "stderr",
     "output_type": "stream",
     "text": [
      " 25%|██▌       | 5496/21967 [07:54<24:03, 11.41it/s]"
     ]
    },
    {
     "name": "stdout",
     "output_type": "stream",
     "text": [
      "Training loss: 0.9389292333542867, global step: 1099\n",
      "Training loss: 0.9388524324381032, global step: 1099\n",
      "Training loss: 0.9388004654389209, global step: 1099\n"
     ]
    },
    {
     "name": "stderr",
     "output_type": "stream",
     "text": [
      " 25%|██▌       | 5500/21967 [07:55<24:14, 11.32it/s]"
     ]
    },
    {
     "name": "stdout",
     "output_type": "stream",
     "text": [
      "Training loss: 0.9387744339159257, global step: 1099\n",
      "Training loss: 0.9386978546676744, global step: 1099\n"
     ]
    },
    {
     "name": "stderr",
     "output_type": "stream",
     "text": [
      " 27%|██▋       | 5996/21967 [08:38<23:19, 11.41it/s]"
     ]
    },
    {
     "name": "stdout",
     "output_type": "stream",
     "text": [
      "Training loss: 0.9373909157605297, global step: 1199\n",
      "Training loss: 0.9373848994502958, global step: 1199\n",
      "Training loss: 0.9374487428834771, global step: 1199\n"
     ]
    },
    {
     "name": "stderr",
     "output_type": "stream",
     "text": [
      " 27%|██▋       | 6000/21967 [08:38<23:30, 11.32it/s]"
     ]
    },
    {
     "name": "stdout",
     "output_type": "stream",
     "text": [
      "Training loss: 0.9373933696512552, global step: 1199\n",
      "Training loss: 0.9373163927460109, global step: 1199\n"
     ]
    },
    {
     "name": "stderr",
     "output_type": "stream",
     "text": [
      " 30%|██▉       | 6496/21967 [09:21<22:33, 11.43it/s]"
     ]
    },
    {
     "name": "stdout",
     "output_type": "stream",
     "text": [
      "Training loss: 0.9345927553206934, global step: 1299\n",
      "Training loss: 0.9346446079067803, global step: 1299\n",
      "Training loss: 0.9346153494621426, global step: 1299\n"
     ]
    },
    {
     "name": "stderr",
     "output_type": "stream",
     "text": [
      " 30%|██▉       | 6500/21967 [09:21<22:44, 11.34it/s]"
     ]
    },
    {
     "name": "stdout",
     "output_type": "stream",
     "text": [
      "Training loss: 0.9347913453424801, global step: 1299\n",
      "Training loss: 0.9348808329779976, global step: 1299\n"
     ]
    },
    {
     "name": "stderr",
     "output_type": "stream",
     "text": [
      " 32%|███▏      | 6996/21967 [10:04<21:55, 11.38it/s]"
     ]
    },
    {
     "name": "stdout",
     "output_type": "stream",
     "text": [
      "Training loss: 0.93411369840265, global step: 1399\n",
      "Training loss: 0.9340586721435991, global step: 1399\n",
      "Training loss: 0.9340080525766011, global step: 1399\n"
     ]
    },
    {
     "name": "stderr",
     "output_type": "stream",
     "text": [
      " 32%|███▏      | 7000/21967 [10:04<22:04, 11.30it/s]"
     ]
    },
    {
     "name": "stdout",
     "output_type": "stream",
     "text": [
      "Training loss: 0.9339996641142457, global step: 1399\n",
      "Training loss: 0.933931305799604, global step: 1399\n"
     ]
    },
    {
     "name": "stderr",
     "output_type": "stream",
     "text": [
      " 34%|███▍      | 7496/21967 [10:47<21:07, 11.42it/s]"
     ]
    },
    {
     "name": "stdout",
     "output_type": "stream",
     "text": [
      "Training loss: 0.9343129639862338, global step: 1499\n",
      "Training loss: 0.9342792098472051, global step: 1499\n",
      "Training loss: 0.9343288035503551, global step: 1499\n"
     ]
    },
    {
     "name": "stderr",
     "output_type": "stream",
     "text": [
      " 34%|███▍      | 7500/21967 [10:48<21:17, 11.32it/s]"
     ]
    },
    {
     "name": "stdout",
     "output_type": "stream",
     "text": [
      "Training loss: 0.934286323625661, global step: 1499\n",
      "Training loss: 0.9343091785417929, global step: 1499\n"
     ]
    },
    {
     "name": "stderr",
     "output_type": "stream",
     "text": [
      " 36%|███▋      | 7996/21967 [11:31<20:22, 11.43it/s]"
     ]
    },
    {
     "name": "stdout",
     "output_type": "stream",
     "text": [
      "Training loss: 0.9349877724140938, global step: 1599\n",
      "Training loss: 0.9349621834541825, global step: 1599\n",
      "Training loss: 0.9349841102678224, global step: 1599\n"
     ]
    },
    {
     "name": "stderr",
     "output_type": "stream",
     "text": [
      " 36%|███▋      | 8000/21967 [11:31<20:32, 11.33it/s]"
     ]
    },
    {
     "name": "stdout",
     "output_type": "stream",
     "text": [
      "Training loss: 0.9349496299542988, global step: 1599\n",
      "Training loss: 0.934910853173207, global step: 1599\n"
     ]
    },
    {
     "name": "stderr",
     "output_type": "stream",
     "text": [
      " 39%|███▊      | 8496/21967 [12:14<19:39, 11.42it/s]"
     ]
    },
    {
     "name": "stdout",
     "output_type": "stream",
     "text": [
      "Training loss: 0.9337886787718573, global step: 1699\n",
      "Training loss: 0.933795029315887, global step: 1699\n",
      "Training loss: 0.933799770442692, global step: 1699\n"
     ]
    },
    {
     "name": "stderr",
     "output_type": "stream",
     "text": [
      " 39%|███▊      | 8500/21967 [12:14<19:48, 11.33it/s]"
     ]
    },
    {
     "name": "stdout",
     "output_type": "stream",
     "text": [
      "Training loss: 0.9337670237262562, global step: 1699\n",
      "Training loss: 0.9337826888911415, global step: 1699\n"
     ]
    },
    {
     "name": "stderr",
     "output_type": "stream",
     "text": [
      " 41%|████      | 8996/21967 [12:57<19:00, 11.38it/s]"
     ]
    },
    {
     "name": "stdout",
     "output_type": "stream",
     "text": [
      "Training loss: 0.9324978111377022, global step: 1799\n",
      "Training loss: 0.932449395325666, global step: 1799\n",
      "Training loss: 0.9324051277641391, global step: 1799\n"
     ]
    },
    {
     "name": "stderr",
     "output_type": "stream",
     "text": [
      " 41%|████      | 9000/21967 [12:57<19:08, 11.29it/s]"
     ]
    },
    {
     "name": "stdout",
     "output_type": "stream",
     "text": [
      "Training loss: 0.9324379765726071, global step: 1799\n",
      "Training loss: 0.9324061227990318, global step: 1799\n"
     ]
    },
    {
     "name": "stderr",
     "output_type": "stream",
     "text": [
      " 43%|████▎     | 9496/21967 [13:40<18:11, 11.42it/s]"
     ]
    },
    {
     "name": "stdout",
     "output_type": "stream",
     "text": [
      "Training loss: 0.9315433529653381, global step: 1899\n",
      "Training loss: 0.9315062929109592, global step: 1899\n",
      "Training loss: 0.9315009898970639, global step: 1899\n"
     ]
    },
    {
     "name": "stderr",
     "output_type": "stream",
     "text": [
      " 43%|████▎     | 9500/21967 [13:41<18:20, 11.33it/s]"
     ]
    },
    {
     "name": "stdout",
     "output_type": "stream",
     "text": [
      "Training loss: 0.9314987366788825, global step: 1899\n",
      "Training loss: 0.9315007180548088, global step: 1899\n"
     ]
    },
    {
     "name": "stderr",
     "output_type": "stream",
     "text": [
      " 46%|████▌     | 9996/21967 [14:23<17:27, 11.42it/s]"
     ]
    },
    {
     "name": "stdout",
     "output_type": "stream",
     "text": [
      "Training loss: 0.931667662749981, global step: 1999\n",
      "Training loss: 0.9316405990355167, global step: 1999\n",
      "Training loss: 0.9316368387523706, global step: 1999\n"
     ]
    },
    {
     "name": "stderr",
     "output_type": "stream",
     "text": [
      " 46%|████▌     | 10000/21967 [14:24<17:36, 11.33it/s]"
     ]
    },
    {
     "name": "stdout",
     "output_type": "stream",
     "text": [
      "Training loss: 0.9316493206226926, global step: 1999\n",
      "Training loss: 0.9317008158890041, global step: 1999\n"
     ]
    },
    {
     "name": "stderr",
     "output_type": "stream",
     "text": [
      " 48%|████▊     | 10496/21967 [15:07<16:44, 11.42it/s]"
     ]
    },
    {
     "name": "stdout",
     "output_type": "stream",
     "text": [
      "Training loss: 0.9317874244390754, global step: 2099\n",
      "Training loss: 0.9317826013756553, global step: 2099\n",
      "Training loss: 0.9317629345231957, global step: 2099\n"
     ]
    },
    {
     "name": "stderr",
     "output_type": "stream",
     "text": [
      " 48%|████▊     | 10500/21967 [15:07<16:52, 11.32it/s]"
     ]
    },
    {
     "name": "stdout",
     "output_type": "stream",
     "text": [
      "Training loss: 0.9317631481187324, global step: 2099\n",
      "Training loss: 0.9317206626637162, global step: 2099\n"
     ]
    },
    {
     "name": "stderr",
     "output_type": "stream",
     "text": [
      " 50%|█████     | 10996/21967 [15:50<16:04, 11.37it/s]"
     ]
    },
    {
     "name": "stdout",
     "output_type": "stream",
     "text": [
      "Training loss: 0.9316706853692994, global step: 2199\n",
      "Training loss: 0.9316742561605789, global step: 2199\n",
      "Training loss: 0.9316790013329228, global step: 2199\n"
     ]
    },
    {
     "name": "stderr",
     "output_type": "stream",
     "text": [
      " 50%|█████     | 11000/21967 [15:50<16:08, 11.32it/s]"
     ]
    },
    {
     "name": "stdout",
     "output_type": "stream",
     "text": [
      "Training loss: 0.9318094128496561, global step: 2199\n",
      "Training loss: 0.9318330637072203, global step: 2199\n"
     ]
    },
    {
     "name": "stderr",
     "output_type": "stream",
     "text": [
      " 52%|█████▏    | 11496/21967 [16:33<15:17, 11.42it/s]"
     ]
    },
    {
     "name": "stdout",
     "output_type": "stream",
     "text": [
      "Training loss: 0.9309799632205814, global step: 2299\n",
      "Training loss: 0.9309784152007758, global step: 2299\n",
      "Training loss: 0.9309460004251957, global step: 2299\n"
     ]
    },
    {
     "name": "stderr",
     "output_type": "stream",
     "text": [
      " 52%|█████▏    | 11500/21967 [16:33<15:24, 11.33it/s]"
     ]
    },
    {
     "name": "stdout",
     "output_type": "stream",
     "text": [
      "Training loss: 0.9309647928182717, global step: 2299\n",
      "Training loss: 0.9309824196030051, global step: 2299\n"
     ]
    },
    {
     "name": "stderr",
     "output_type": "stream",
     "text": [
      " 55%|█████▍    | 11996/21967 [17:16<14:34, 11.40it/s]"
     ]
    },
    {
     "name": "stdout",
     "output_type": "stream",
     "text": [
      "Training loss: 0.9307363777893094, global step: 2399\n",
      "Training loss: 0.9307373525495926, global step: 2399\n",
      "Training loss: 0.9307653578115501, global step: 2399\n"
     ]
    },
    {
     "name": "stderr",
     "output_type": "stream",
     "text": [
      " 55%|█████▍    | 12000/21967 [17:17<14:41, 11.31it/s]"
     ]
    },
    {
     "name": "stdout",
     "output_type": "stream",
     "text": [
      "Training loss: 0.9307573812442892, global step: 2399\n",
      "Training loss: 0.9307807662460404, global step: 2399\n"
     ]
    },
    {
     "name": "stderr",
     "output_type": "stream",
     "text": [
      " 57%|█████▋    | 12496/21967 [18:00<13:49, 11.42it/s]"
     ]
    },
    {
     "name": "stdout",
     "output_type": "stream",
     "text": [
      "Training loss: 0.9302286797866863, global step: 2499\n",
      "Training loss: 0.9302212970412399, global step: 2499\n",
      "Training loss: 0.9301961138731214, global step: 2499\n"
     ]
    },
    {
     "name": "stderr",
     "output_type": "stream",
     "text": [
      " 57%|█████▋    | 12500/21967 [18:00<13:55, 11.33it/s]"
     ]
    },
    {
     "name": "stdout",
     "output_type": "stream",
     "text": [
      "Training loss: 0.9301876158802714, global step: 2499\n",
      "Training loss: 0.9301760985473316, global step: 2499\n"
     ]
    },
    {
     "name": "stderr",
     "output_type": "stream",
     "text": [
      " 59%|█████▉    | 12996/21967 [18:43<13:05, 11.41it/s]"
     ]
    },
    {
     "name": "stdout",
     "output_type": "stream",
     "text": [
      "Training loss: 0.9289402693813927, global step: 2599\n",
      "Training loss: 0.9289489314481777, global step: 2599\n",
      "Training loss: 0.9290087995472446, global step: 2599\n"
     ]
    },
    {
     "name": "stderr",
     "output_type": "stream",
     "text": [
      " 59%|█████▉    | 13000/21967 [18:43<13:12, 11.32it/s]"
     ]
    },
    {
     "name": "stdout",
     "output_type": "stream",
     "text": [
      "Training loss: 0.9290108515818378, global step: 2599\n",
      "Training loss: 0.9289649236021349, global step: 2599\n"
     ]
    },
    {
     "name": "stderr",
     "output_type": "stream",
     "text": [
      " 61%|██████▏   | 13496/21967 [19:26<12:22, 11.41it/s]"
     ]
    },
    {
     "name": "stdout",
     "output_type": "stream",
     "text": [
      "Training loss: 0.9293322697927794, global step: 2699\n",
      "Training loss: 0.9293355364849317, global step: 2699\n",
      "Training loss: 0.9293563503145756, global step: 2699\n"
     ]
    },
    {
     "name": "stderr",
     "output_type": "stream",
     "text": [
      " 61%|██████▏   | 13500/21967 [19:26<12:28, 11.32it/s]"
     ]
    },
    {
     "name": "stdout",
     "output_type": "stream",
     "text": [
      "Training loss: 0.9293293938369711, global step: 2699\n",
      "Training loss: 0.9293198606086418, global step: 2699\n"
     ]
    },
    {
     "name": "stderr",
     "output_type": "stream",
     "text": [
      " 64%|██████▎   | 13996/21967 [20:09<11:38, 11.41it/s]"
     ]
    },
    {
     "name": "stdout",
     "output_type": "stream",
     "text": [
      "Training loss: 0.9290234560608097, global step: 2799\n",
      "Training loss: 0.9290098317950181, global step: 2799\n",
      "Training loss: 0.9289989028760235, global step: 2799\n"
     ]
    },
    {
     "name": "stderr",
     "output_type": "stream",
     "text": [
      " 64%|██████▎   | 14000/21967 [20:10<11:43, 11.32it/s]"
     ]
    },
    {
     "name": "stdout",
     "output_type": "stream",
     "text": [
      "Training loss: 0.9290167350321475, global step: 2799\n",
      "Training loss: 0.9289968878885526, global step: 2799\n"
     ]
    },
    {
     "name": "stderr",
     "output_type": "stream",
     "text": [
      " 66%|██████▌   | 14496/21967 [20:53<10:54, 11.42it/s]"
     ]
    },
    {
     "name": "stdout",
     "output_type": "stream",
     "text": [
      "Training loss: 0.9289259991396209, global step: 2899\n",
      "Training loss: 0.9289126842443073, global step: 2899\n",
      "Training loss: 0.9289118157122935, global step: 2899\n"
     ]
    },
    {
     "name": "stderr",
     "output_type": "stream",
     "text": [
      " 66%|██████▌   | 14500/21967 [20:53<10:59, 11.33it/s]"
     ]
    },
    {
     "name": "stdout",
     "output_type": "stream",
     "text": [
      "Training loss: 0.9288740171987298, global step: 2899\n",
      "Training loss: 0.9288844763646825, global step: 2899\n"
     ]
    },
    {
     "name": "stderr",
     "output_type": "stream",
     "text": [
      " 68%|██████▊   | 14996/21967 [21:36<10:10, 11.41it/s]"
     ]
    },
    {
     "name": "stdout",
     "output_type": "stream",
     "text": [
      "Training loss: 0.9286122648039831, global step: 2999\n",
      "Training loss: 0.9285988685187816, global step: 2999\n",
      "Training loss: 0.9286131956288837, global step: 2999\n"
     ]
    },
    {
     "name": "stderr",
     "output_type": "stream",
     "text": [
      " 68%|██████▊   | 15000/21967 [21:36<10:15, 11.32it/s]"
     ]
    },
    {
     "name": "stdout",
     "output_type": "stream",
     "text": [
      "Training loss: 0.9286591254938744, global step: 2999\n",
      "Training loss: 0.9286666945218086, global step: 2999\n"
     ]
    },
    {
     "name": "stderr",
     "output_type": "stream",
     "text": [
      " 71%|███████   | 15496/21967 [22:19<09:26, 11.42it/s]"
     ]
    },
    {
     "name": "stdout",
     "output_type": "stream",
     "text": [
      "Training loss: 0.9280620354304355, global step: 3099\n",
      "Training loss: 0.928053962311981, global step: 3099\n",
      "Training loss: 0.928015885223779, global step: 3099\n"
     ]
    },
    {
     "name": "stderr",
     "output_type": "stream",
     "text": [
      " 71%|███████   | 15500/21967 [22:19<09:31, 11.32it/s]"
     ]
    },
    {
     "name": "stdout",
     "output_type": "stream",
     "text": [
      "Training loss: 0.9279896968436989, global step: 3099\n",
      "Training loss: 0.9279701451296437, global step: 3099\n"
     ]
    },
    {
     "name": "stderr",
     "output_type": "stream",
     "text": [
      " 73%|███████▎  | 15996/21967 [23:02<08:43, 11.41it/s]"
     ]
    },
    {
     "name": "stdout",
     "output_type": "stream",
     "text": [
      "Training loss: 0.9283905249148393, global step: 3199\n",
      "Training loss: 0.9283834739925191, global step: 3199\n",
      "Training loss: 0.9283683369610468, global step: 3199\n"
     ]
    },
    {
     "name": "stderr",
     "output_type": "stream",
     "text": [
      " 73%|███████▎  | 16000/21967 [23:03<08:47, 11.32it/s]"
     ]
    },
    {
     "name": "stdout",
     "output_type": "stream",
     "text": [
      "Training loss: 0.9283458295194771, global step: 3199\n",
      "Training loss: 0.9283382161018349, global step: 3199\n"
     ]
    },
    {
     "name": "stderr",
     "output_type": "stream",
     "text": [
      " 75%|███████▌  | 16496/21967 [23:45<07:59, 11.40it/s]"
     ]
    },
    {
     "name": "stdout",
     "output_type": "stream",
     "text": [
      "Training loss: 0.9290540649226738, global step: 3299\n",
      "Training loss: 0.9290366647394679, global step: 3299\n",
      "Training loss: 0.9290618175281542, global step: 3299\n"
     ]
    },
    {
     "name": "stderr",
     "output_type": "stream",
     "text": [
      " 75%|███████▌  | 16500/21967 [23:46<08:03, 11.31it/s]"
     ]
    },
    {
     "name": "stdout",
     "output_type": "stream",
     "text": [
      "Training loss: 0.9291076961286516, global step: 3299\n",
      "Training loss: 0.9290985098043509, global step: 3299\n"
     ]
    },
    {
     "name": "stderr",
     "output_type": "stream",
     "text": [
      " 77%|███████▋  | 16996/21967 [24:29<07:15, 11.41it/s]"
     ]
    },
    {
     "name": "stdout",
     "output_type": "stream",
     "text": [
      "Training loss: 0.9292277544574655, global step: 3399\n",
      "Training loss: 0.929226520397409, global step: 3399\n",
      "Training loss: 0.9292537366278019, global step: 3399\n"
     ]
    },
    {
     "name": "stderr",
     "output_type": "stream",
     "text": [
      " 77%|███████▋  | 17000/21967 [24:29<07:19, 11.31it/s]"
     ]
    },
    {
     "name": "stdout",
     "output_type": "stream",
     "text": [
      "Training loss: 0.9292358034435567, global step: 3399\n",
      "Training loss: 0.9292438702855161, global step: 3399\n"
     ]
    },
    {
     "name": "stderr",
     "output_type": "stream",
     "text": [
      " 80%|███████▉  | 17496/21967 [25:12<06:31, 11.41it/s]"
     ]
    },
    {
     "name": "stdout",
     "output_type": "stream",
     "text": [
      "Training loss: 0.9285573210566171, global step: 3499\n",
      "Training loss: 0.9286116973944536, global step: 3499\n",
      "Training loss: 0.9286023268335927, global step: 3499\n"
     ]
    },
    {
     "name": "stderr",
     "output_type": "stream",
     "text": [
      " 80%|███████▉  | 17500/21967 [25:12<06:34, 11.31it/s]"
     ]
    },
    {
     "name": "stdout",
     "output_type": "stream",
     "text": [
      "Training loss: 0.9285588202746183, global step: 3499\n",
      "Training loss: 0.928527881564263, global step: 3499\n"
     ]
    },
    {
     "name": "stderr",
     "output_type": "stream",
     "text": [
      " 82%|████████▏ | 17996/21967 [25:55<05:48, 11.41it/s]"
     ]
    },
    {
     "name": "stdout",
     "output_type": "stream",
     "text": [
      "Training loss: 0.9277335261865503, global step: 3599\n",
      "Training loss: 0.9277048077828441, global step: 3599\n",
      "Training loss: 0.9277166156761149, global step: 3599\n"
     ]
    },
    {
     "name": "stderr",
     "output_type": "stream",
     "text": [
      " 82%|████████▏ | 18000/21967 [25:56<05:50, 11.32it/s]"
     ]
    },
    {
     "name": "stdout",
     "output_type": "stream",
     "text": [
      "Training loss: 0.9277329101909338, global step: 3599\n",
      "Training loss: 0.9277331744945178, global step: 3599\n"
     ]
    },
    {
     "name": "stderr",
     "output_type": "stream",
     "text": [
      " 84%|████████▍ | 18496/21967 [26:38<05:04, 11.41it/s]"
     ]
    },
    {
     "name": "stdout",
     "output_type": "stream",
     "text": [
      "Training loss: 0.9271021829835948, global step: 3699\n",
      "Training loss: 0.9270977324328408, global step: 3699\n",
      "Training loss: 0.9270961068346255, global step: 3699\n"
     ]
    },
    {
     "name": "stderr",
     "output_type": "stream",
     "text": [
      " 84%|████████▍ | 18500/21967 [26:39<05:06, 11.32it/s]"
     ]
    },
    {
     "name": "stdout",
     "output_type": "stream",
     "text": [
      "Training loss: 0.9270791448515799, global step: 3699\n",
      "Training loss: 0.9270949760467319, global step: 3699\n"
     ]
    },
    {
     "name": "stderr",
     "output_type": "stream",
     "text": [
      " 86%|████████▋ | 18996/21967 [27:22<04:20, 11.41it/s]"
     ]
    },
    {
     "name": "stdout",
     "output_type": "stream",
     "text": [
      "Training loss: 0.9273663980117062, global step: 3799\n",
      "Training loss: 0.9273927839350126, global step: 3799\n",
      "Training loss: 0.9273757145131156, global step: 3799\n"
     ]
    },
    {
     "name": "stderr",
     "output_type": "stream",
     "text": [
      " 86%|████████▋ | 19000/21967 [27:22<04:22, 11.32it/s]"
     ]
    },
    {
     "name": "stdout",
     "output_type": "stream",
     "text": [
      "Training loss: 0.9273838314663763, global step: 3799\n",
      "Training loss: 0.9273575014169608, global step: 3799\n"
     ]
    },
    {
     "name": "stderr",
     "output_type": "stream",
     "text": [
      " 89%|████████▉ | 19496/21967 [28:05<03:36, 11.42it/s]"
     ]
    },
    {
     "name": "stdout",
     "output_type": "stream",
     "text": [
      "Training loss: 0.9270614842698647, global step: 3899\n",
      "Training loss: 0.9270430457375861, global step: 3899\n",
      "Training loss: 0.9270432668118476, global step: 3899\n"
     ]
    },
    {
     "name": "stderr",
     "output_type": "stream",
     "text": [
      " 89%|████████▉ | 19500/21967 [28:05<03:37, 11.32it/s]"
     ]
    },
    {
     "name": "stdout",
     "output_type": "stream",
     "text": [
      "Training loss: 0.9270203924117021, global step: 3899\n",
      "Training loss: 0.9269849637279609, global step: 3899\n"
     ]
    },
    {
     "name": "stderr",
     "output_type": "stream",
     "text": [
      " 91%|█████████ | 19996/21967 [28:48<02:52, 11.41it/s]"
     ]
    },
    {
     "name": "stdout",
     "output_type": "stream",
     "text": [
      "Training loss: 0.9267742369848435, global step: 3999\n",
      "Training loss: 0.9267437085578232, global step: 3999\n",
      "Training loss: 0.9267103737090229, global step: 3999\n"
     ]
    },
    {
     "name": "stderr",
     "output_type": "stream",
     "text": [
      " 91%|█████████ | 20000/21967 [28:49<02:53, 11.32it/s]"
     ]
    },
    {
     "name": "stdout",
     "output_type": "stream",
     "text": [
      "Training loss: 0.9266856295131247, global step: 3999\n",
      "Training loss: 0.9267211967006366, global step: 3999\n"
     ]
    },
    {
     "name": "stderr",
     "output_type": "stream",
     "text": [
      " 93%|█████████▎| 20496/21967 [29:31<02:08, 11.42it/s]"
     ]
    },
    {
     "name": "stdout",
     "output_type": "stream",
     "text": [
      "Training loss: 0.9266937554066182, global step: 4099\n",
      "Training loss: 0.9266870419644212, global step: 4099\n",
      "Training loss: 0.9266705046673094, global step: 4099\n"
     ]
    },
    {
     "name": "stderr",
     "output_type": "stream",
     "text": [
      " 93%|█████████▎| 20500/21967 [29:32<02:09, 11.32it/s]"
     ]
    },
    {
     "name": "stdout",
     "output_type": "stream",
     "text": [
      "Training loss: 0.9266709543912527, global step: 4099\n",
      "Training loss: 0.926665450687055, global step: 4099\n"
     ]
    },
    {
     "name": "stderr",
     "output_type": "stream",
     "text": [
      " 96%|█████████▌| 20996/21967 [30:15<01:25, 11.41it/s]"
     ]
    },
    {
     "name": "stdout",
     "output_type": "stream",
     "text": [
      "Training loss: 0.9266766318239167, global step: 4199\n",
      "Training loss: 0.9267037025354569, global step: 4199\n",
      "Training loss: 0.9266838864616501, global step: 4199\n"
     ]
    },
    {
     "name": "stderr",
     "output_type": "stream",
     "text": [
      " 96%|█████████▌| 21000/21967 [30:15<01:25, 11.32it/s]"
     ]
    },
    {
     "name": "stdout",
     "output_type": "stream",
     "text": [
      "Training loss: 0.9266934100572555, global step: 4199\n",
      "Training loss: 0.9266741433418988, global step: 4199\n"
     ]
    },
    {
     "name": "stderr",
     "output_type": "stream",
     "text": [
      " 98%|█████████▊| 21496/21967 [30:58<00:41, 11.41it/s]"
     ]
    },
    {
     "name": "stdout",
     "output_type": "stream",
     "text": [
      "Training loss: 0.9263640859550129, global step: 4299\n",
      "Training loss: 0.9263668499225324, global step: 4299\n",
      "Training loss: 0.9263574993832683, global step: 4299\n"
     ]
    },
    {
     "name": "stderr",
     "output_type": "stream",
     "text": [
      " 98%|█████████▊| 21500/21967 [30:58<00:41, 11.32it/s]"
     ]
    },
    {
     "name": "stdout",
     "output_type": "stream",
     "text": [
      "Training loss: 0.9263731339775356, global step: 4299\n",
      "Training loss: 0.9263590373025381, global step: 4299\n"
     ]
    },
    {
     "name": "stderr",
     "output_type": "stream",
     "text": [
      "100%|██████████| 21967/21967 [31:39<00:00, 11.57it/s]\n"
     ]
    },
    {
     "name": "stdout",
     "output_type": "stream",
     "text": [
      "begin evaluation!!!\n"
     ]
    },
    {
     "name": "stderr",
     "output_type": "stream",
     "text": [
      "  0%|          | 2/21967 [00:00<30:35, 11.97it/s]"
     ]
    },
    {
     "name": "stdout",
     "output_type": "stream",
     "text": [
      "eval_loss: 0.9332886192127855\n",
      "eval_accuracy: 0.6260445682451253\n",
      "Training Epoch: 4/5\n"
     ]
    },
    {
     "name": "stderr",
     "output_type": "stream",
     "text": [
      "  2%|▏         | 496/21967 [00:42<31:21, 11.41it/s]"
     ]
    },
    {
     "name": "stdout",
     "output_type": "stream",
     "text": [
      "Training loss: 0.8483146449080622, global step: 99\n",
      "Training loss: 0.8475336383337215, global step: 99\n",
      "Training loss: 0.8477877277873411, global step: 99\n"
     ]
    },
    {
     "name": "stderr",
     "output_type": "stream",
     "text": [
      "  2%|▏         | 500/21967 [00:43<31:36, 11.32it/s]"
     ]
    },
    {
     "name": "stdout",
     "output_type": "stream",
     "text": [
      "Training loss: 0.8482023379559737, global step: 99\n",
      "Training loss: 0.8473317241053543, global step: 99\n"
     ]
    },
    {
     "name": "stderr",
     "output_type": "stream",
     "text": [
      "  5%|▍         | 996/21967 [01:26<30:34, 11.43it/s]"
     ]
    },
    {
     "name": "stdout",
     "output_type": "stream",
     "text": [
      "Training loss: 0.8263807259986748, global step: 199\n",
      "Training loss: 0.8265074087927738, global step: 199\n",
      "Training loss: 0.8259694317174532, global step: 199\n"
     ]
    },
    {
     "name": "stderr",
     "output_type": "stream",
     "text": [
      "  5%|▍         | 1000/21967 [01:26<30:47, 11.35it/s]"
     ]
    },
    {
     "name": "stdout",
     "output_type": "stream",
     "text": [
      "Training loss: 0.8258540846915068, global step: 199\n",
      "Training loss: 0.8258391120904559, global step: 199\n"
     ]
    },
    {
     "name": "stderr",
     "output_type": "stream",
     "text": [
      "  7%|▋         | 1496/21967 [02:09<29:52, 11.42it/s]"
     ]
    },
    {
     "name": "stdout",
     "output_type": "stream",
     "text": [
      "Training loss: 0.8024396130871214, global step: 299\n",
      "Training loss: 0.8023591022440456, global step: 299\n",
      "Training loss: 0.8021978556353327, global step: 299\n"
     ]
    },
    {
     "name": "stderr",
     "output_type": "stream",
     "text": [
      "  7%|▋         | 1500/21967 [02:09<30:08, 11.32it/s]"
     ]
    },
    {
     "name": "stdout",
     "output_type": "stream",
     "text": [
      "Training loss: 0.8020616799632762, global step: 299\n",
      "Training loss: 0.8018623765028661, global step: 299\n"
     ]
    },
    {
     "name": "stderr",
     "output_type": "stream",
     "text": [
      "  9%|▉         | 1996/21967 [02:52<29:10, 11.41it/s]"
     ]
    },
    {
     "name": "stdout",
     "output_type": "stream",
     "text": [
      "Training loss: 0.790739426603144, global step: 399\n",
      "Training loss: 0.7905732684382396, global step: 399\n",
      "Training loss: 0.7903960245956644, global step: 399\n"
     ]
    },
    {
     "name": "stderr",
     "output_type": "stream",
     "text": [
      "  9%|▉         | 2000/21967 [02:52<29:23, 11.32it/s]"
     ]
    },
    {
     "name": "stdout",
     "output_type": "stream",
     "text": [
      "Training loss: 0.7903974781724604, global step: 399\n",
      "Training loss: 0.7905878834594124, global step: 399\n"
     ]
    },
    {
     "name": "stderr",
     "output_type": "stream",
     "text": [
      " 11%|█▏        | 2496/21967 [03:35<28:25, 11.41it/s]"
     ]
    },
    {
     "name": "stdout",
     "output_type": "stream",
     "text": [
      "Training loss: 0.7914791276137193, global step: 499\n",
      "Training loss: 0.7912843601049807, global step: 499\n",
      "Training loss: 0.7912294278574028, global step: 499\n"
     ]
    },
    {
     "name": "stderr",
     "output_type": "stream",
     "text": [
      " 11%|█▏        | 2500/21967 [03:36<28:39, 11.32it/s]"
     ]
    },
    {
     "name": "stdout",
     "output_type": "stream",
     "text": [
      "Training loss: 0.7909980727802571, global step: 499\n",
      "Training loss: 0.791249411387079, global step: 499\n"
     ]
    },
    {
     "name": "stderr",
     "output_type": "stream",
     "text": [
      " 14%|█▎        | 2996/21967 [04:19<27:47, 11.38it/s]"
     ]
    },
    {
     "name": "stdout",
     "output_type": "stream",
     "text": [
      "Training loss: 0.7877103800330317, global step: 599\n",
      "Training loss: 0.7876462802273508, global step: 599\n",
      "Training loss: 0.7875959991297504, global step: 599\n"
     ]
    },
    {
     "name": "stderr",
     "output_type": "stream",
     "text": [
      " 14%|█▎        | 3000/21967 [04:19<28:00, 11.29it/s]"
     ]
    },
    {
     "name": "stdout",
     "output_type": "stream",
     "text": [
      "Training loss: 0.7874568966568372, global step: 599\n",
      "Training loss: 0.7873543834064693, global step: 599\n"
     ]
    },
    {
     "name": "stderr",
     "output_type": "stream",
     "text": [
      " 16%|█▌        | 3496/21967 [05:02<26:57, 11.42it/s]"
     ]
    },
    {
     "name": "stdout",
     "output_type": "stream",
     "text": [
      "Training loss: 0.7893910218110156, global step: 699\n",
      "Training loss: 0.7892914508252024, global step: 699\n",
      "Training loss: 0.7894302295083604, global step: 699\n"
     ]
    },
    {
     "name": "stderr",
     "output_type": "stream",
     "text": [
      " 16%|█▌        | 3500/21967 [05:02<27:10, 11.32it/s]"
     ]
    },
    {
     "name": "stdout",
     "output_type": "stream",
     "text": [
      "Training loss: 0.7894449763164018, global step: 699\n",
      "Training loss: 0.7892744722066777, global step: 699\n"
     ]
    },
    {
     "name": "stderr",
     "output_type": "stream",
     "text": [
      " 18%|█▊        | 3996/21967 [05:45<26:14, 11.42it/s]"
     ]
    },
    {
     "name": "stdout",
     "output_type": "stream",
     "text": [
      "Training loss: 0.7828674671317081, global step: 799\n",
      "Training loss: 0.7829377728895899, global step: 799\n",
      "Training loss: 0.7829974390607591, global step: 799\n"
     ]
    },
    {
     "name": "stderr",
     "output_type": "stream",
     "text": [
      " 18%|█▊        | 4000/21967 [05:45<26:26, 11.32it/s]"
     ]
    },
    {
     "name": "stdout",
     "output_type": "stream",
     "text": [
      "Training loss: 0.7830750871681026, global step: 799\n",
      "Training loss: 0.7829034249507875, global step: 799\n"
     ]
    },
    {
     "name": "stderr",
     "output_type": "stream",
     "text": [
      " 20%|██        | 4496/21967 [06:28<25:30, 11.41it/s]"
     ]
    },
    {
     "name": "stdout",
     "output_type": "stream",
     "text": [
      "Training loss: 0.7832970864868809, global step: 899\n",
      "Training loss: 0.7834358821011743, global step: 899\n",
      "Training loss: 0.7835594375989752, global step: 899\n"
     ]
    },
    {
     "name": "stderr",
     "output_type": "stream",
     "text": [
      " 20%|██        | 4500/21967 [06:29<25:42, 11.32it/s]"
     ]
    },
    {
     "name": "stdout",
     "output_type": "stream",
     "text": [
      "Training loss: 0.7834840646178638, global step: 899\n",
      "Training loss: 0.7835309602197853, global step: 899\n"
     ]
    },
    {
     "name": "stderr",
     "output_type": "stream",
     "text": [
      " 23%|██▎       | 4996/21967 [07:12<24:52, 11.37it/s]"
     ]
    },
    {
     "name": "stdout",
     "output_type": "stream",
     "text": [
      "Training loss: 0.7798343738730255, global step: 999\n",
      "Training loss: 0.7799792441106428, global step: 999\n",
      "Training loss: 0.780077900541922, global step: 999\n"
     ]
    },
    {
     "name": "stderr",
     "output_type": "stream",
     "text": [
      " 23%|██▎       | 5000/21967 [07:12<25:02, 11.30it/s]"
     ]
    },
    {
     "name": "stdout",
     "output_type": "stream",
     "text": [
      "Training loss: 0.780088402701038, global step: 999\n",
      "Training loss: 0.7800264623550619, global step: 999\n"
     ]
    },
    {
     "name": "stderr",
     "output_type": "stream",
     "text": [
      " 25%|██▌       | 5496/21967 [07:55<24:03, 11.41it/s]"
     ]
    },
    {
     "name": "stdout",
     "output_type": "stream",
     "text": [
      "Training loss: 0.7796312879392194, global step: 1099\n",
      "Training loss: 0.7795954532437521, global step: 1099\n",
      "Training loss: 0.7795214427319777, global step: 1099\n"
     ]
    },
    {
     "name": "stderr",
     "output_type": "stream",
     "text": [
      " 25%|██▌       | 5500/21967 [07:55<24:14, 11.32it/s]"
     ]
    },
    {
     "name": "stdout",
     "output_type": "stream",
     "text": [
      "Training loss: 0.7795717574039589, global step: 1099\n",
      "Training loss: 0.7795303717197501, global step: 1099\n"
     ]
    },
    {
     "name": "stderr",
     "output_type": "stream",
     "text": [
      " 27%|██▋       | 5996/21967 [08:38<23:18, 11.42it/s]"
     ]
    },
    {
     "name": "stdout",
     "output_type": "stream",
     "text": [
      "Training loss: 0.7810052842887474, global step: 1199\n",
      "Training loss: 0.7809264509593994, global step: 1199\n",
      "Training loss: 0.7808071050671955, global step: 1199\n"
     ]
    },
    {
     "name": "stderr",
     "output_type": "stream",
     "text": [
      " 27%|██▋       | 6000/21967 [08:38<23:29, 11.33it/s]"
     ]
    },
    {
     "name": "stdout",
     "output_type": "stream",
     "text": [
      "Training loss: 0.7808421213207309, global step: 1199\n",
      "Training loss: 0.780933592393749, global step: 1199\n"
     ]
    },
    {
     "name": "stderr",
     "output_type": "stream",
     "text": [
      " 30%|██▉       | 6496/21967 [09:21<22:36, 11.41it/s]"
     ]
    },
    {
     "name": "stdout",
     "output_type": "stream",
     "text": [
      "Training loss: 0.7819322825643199, global step: 1299\n",
      "Training loss: 0.7819524068320703, global step: 1299\n",
      "Training loss: 0.7820173978906028, global step: 1299\n"
     ]
    },
    {
     "name": "stderr",
     "output_type": "stream",
     "text": [
      " 30%|██▉       | 6500/21967 [09:22<22:46, 11.32it/s]"
     ]
    },
    {
     "name": "stdout",
     "output_type": "stream",
     "text": [
      "Training loss: 0.7820107417285618, global step: 1299\n",
      "Training loss: 0.7819633767437112, global step: 1299\n"
     ]
    },
    {
     "name": "stderr",
     "output_type": "stream",
     "text": [
      " 32%|███▏      | 6996/21967 [10:05<21:52, 11.41it/s]"
     ]
    },
    {
     "name": "stdout",
     "output_type": "stream",
     "text": [
      "Training loss: 0.7784571918913212, global step: 1399\n",
      "Training loss: 0.7784443501025101, global step: 1399\n",
      "Training loss: 0.7784102962660336, global step: 1399\n"
     ]
    },
    {
     "name": "stderr",
     "output_type": "stream",
     "text": [
      " 32%|███▏      | 7000/21967 [10:05<22:02, 11.32it/s]"
     ]
    },
    {
     "name": "stdout",
     "output_type": "stream",
     "text": [
      "Training loss: 0.7783621812752861, global step: 1399\n",
      "Training loss: 0.7785038424274298, global step: 1399\n"
     ]
    },
    {
     "name": "stderr",
     "output_type": "stream",
     "text": [
      " 34%|███▍      | 7496/21967 [10:48<21:08, 11.41it/s]"
     ]
    },
    {
     "name": "stdout",
     "output_type": "stream",
     "text": [
      "Training loss: 0.7777775939024011, global step: 1499\n",
      "Training loss: 0.7777322640238362, global step: 1499\n",
      "Training loss: 0.7777041798593283, global step: 1499\n"
     ]
    },
    {
     "name": "stderr",
     "output_type": "stream",
     "text": [
      " 34%|███▍      | 7500/21967 [10:48<21:18, 11.32it/s]"
     ]
    },
    {
     "name": "stdout",
     "output_type": "stream",
     "text": [
      "Training loss: 0.77766638134085, global step: 1499\n",
      "Training loss: 0.7776523182861723, global step: 1499\n"
     ]
    },
    {
     "name": "stderr",
     "output_type": "stream",
     "text": [
      " 36%|███▋      | 7996/21967 [11:31<20:23, 11.42it/s]"
     ]
    },
    {
     "name": "stdout",
     "output_type": "stream",
     "text": [
      "Training loss: 0.7790095805585399, global step: 1599\n",
      "Training loss: 0.7789793688604858, global step: 1599\n",
      "Training loss: 0.7788957822016861, global step: 1599\n"
     ]
    },
    {
     "name": "stderr",
     "output_type": "stream",
     "text": [
      " 36%|███▋      | 8000/21967 [11:31<20:33, 11.33it/s]"
     ]
    },
    {
     "name": "stdout",
     "output_type": "stream",
     "text": [
      "Training loss: 0.7789127185747329, global step: 1599\n",
      "Training loss: 0.778872002395803, global step: 1599\n"
     ]
    },
    {
     "name": "stderr",
     "output_type": "stream",
     "text": [
      " 39%|███▊      | 8496/21967 [12:14<19:39, 11.42it/s]"
     ]
    },
    {
     "name": "stdout",
     "output_type": "stream",
     "text": [
      "Training loss: 0.7810297938818556, global step: 1699\n",
      "Training loss: 0.7809582522735609, global step: 1699\n",
      "Training loss: 0.7809267296708772, global step: 1699\n"
     ]
    },
    {
     "name": "stderr",
     "output_type": "stream",
     "text": [
      " 39%|███▊      | 8500/21967 [12:15<19:48, 11.33it/s]"
     ]
    },
    {
     "name": "stdout",
     "output_type": "stream",
     "text": [
      "Training loss: 0.7809425429597205, global step: 1699\n",
      "Training loss: 0.7810380538399653, global step: 1699\n"
     ]
    },
    {
     "name": "stderr",
     "output_type": "stream",
     "text": [
      " 41%|████      | 8996/21967 [12:58<18:56, 11.42it/s]"
     ]
    },
    {
     "name": "stdout",
     "output_type": "stream",
     "text": [
      "Training loss: 0.7807169958016731, global step: 1799\n",
      "Training loss: 0.7806378294750133, global step: 1799\n",
      "Training loss: 0.780681769476672, global step: 1799\n"
     ]
    },
    {
     "name": "stderr",
     "output_type": "stream",
     "text": [
      " 41%|████      | 9000/21967 [12:58<19:05, 11.32it/s]"
     ]
    },
    {
     "name": "stdout",
     "output_type": "stream",
     "text": [
      "Training loss: 0.7806591945342743, global step: 1799\n",
      "Training loss: 0.7805915198158251, global step: 1799\n"
     ]
    },
    {
     "name": "stderr",
     "output_type": "stream",
     "text": [
      " 43%|████▎     | 9496/21967 [13:41<18:12, 11.41it/s]"
     ]
    },
    {
     "name": "stdout",
     "output_type": "stream",
     "text": [
      "Training loss: 0.7800542004084241, global step: 1899\n",
      "Training loss: 0.7800993323863072, global step: 1899\n",
      "Training loss: 0.7802281897642838, global step: 1899\n"
     ]
    },
    {
     "name": "stderr",
     "output_type": "stream",
     "text": [
      " 43%|████▎     | 9500/21967 [13:41<18:21, 11.32it/s]"
     ]
    },
    {
     "name": "stdout",
     "output_type": "stream",
     "text": [
      "Training loss: 0.7801964450580009, global step: 1899\n",
      "Training loss: 0.7801440521373781, global step: 1899\n"
     ]
    },
    {
     "name": "stderr",
     "output_type": "stream",
     "text": [
      " 46%|████▌     | 9996/21967 [14:24<17:28, 11.42it/s]"
     ]
    },
    {
     "name": "stdout",
     "output_type": "stream",
     "text": [
      "Training loss: 0.7802542971585481, global step: 1999\n",
      "Training loss: 0.7802489550005612, global step: 1999\n",
      "Training loss: 0.7802464194614726, global step: 1999\n"
     ]
    },
    {
     "name": "stderr",
     "output_type": "stream",
     "text": [
      " 46%|████▌     | 10000/21967 [14:24<17:37, 11.32it/s]"
     ]
    },
    {
     "name": "stdout",
     "output_type": "stream",
     "text": [
      "Training loss: 0.780263810760736, global step: 1999\n",
      "Training loss: 0.7802586501782512, global step: 1999\n"
     ]
    },
    {
     "name": "stderr",
     "output_type": "stream",
     "text": [
      " 48%|████▊     | 10496/21967 [15:07<16:44, 11.42it/s]"
     ]
    },
    {
     "name": "stdout",
     "output_type": "stream",
     "text": [
      "Training loss: 0.7799258418764126, global step: 2099\n",
      "Training loss: 0.7798948405766502, global step: 2099\n",
      "Training loss: 0.7798874688829304, global step: 2099\n"
     ]
    },
    {
     "name": "stderr",
     "output_type": "stream",
     "text": [
      " 48%|████▊     | 10500/21967 [15:08<16:52, 11.33it/s]"
     ]
    },
    {
     "name": "stdout",
     "output_type": "stream",
     "text": [
      "Training loss: 0.7799181563693748, global step: 2099\n",
      "Training loss: 0.7798999785742795, global step: 2099\n"
     ]
    },
    {
     "name": "stderr",
     "output_type": "stream",
     "text": [
      " 50%|█████     | 10996/21967 [15:51<16:00, 11.42it/s]"
     ]
    },
    {
     "name": "stdout",
     "output_type": "stream",
     "text": [
      "Training loss: 0.7796015261939255, global step: 2199\n",
      "Training loss: 0.7795967486875962, global step: 2199\n",
      "Training loss: 0.7796170684294548, global step: 2199\n"
     ]
    },
    {
     "name": "stderr",
     "output_type": "stream",
     "text": [
      " 50%|█████     | 11000/21967 [15:51<16:08, 11.32it/s]"
     ]
    },
    {
     "name": "stdout",
     "output_type": "stream",
     "text": [
      "Training loss: 0.7796361192567269, global step: 2199\n",
      "Training loss: 0.7796980026881698, global step: 2199\n"
     ]
    },
    {
     "name": "stderr",
     "output_type": "stream",
     "text": [
      " 52%|█████▏    | 11496/21967 [16:34<15:18, 11.40it/s]"
     ]
    },
    {
     "name": "stdout",
     "output_type": "stream",
     "text": [
      "Training loss: 0.7783896445576223, global step: 2299\n",
      "Training loss: 0.7783786129428313, global step: 2299\n",
      "Training loss: 0.7783784272538113, global step: 2299\n"
     ]
    },
    {
     "name": "stderr",
     "output_type": "stream",
     "text": [
      " 52%|█████▏    | 11500/21967 [16:34<15:24, 11.32it/s]"
     ]
    },
    {
     "name": "stdout",
     "output_type": "stream",
     "text": [
      "Training loss: 0.7783840062392117, global step: 2299\n",
      "Training loss: 0.7783516389494373, global step: 2299\n"
     ]
    },
    {
     "name": "stderr",
     "output_type": "stream",
     "text": [
      " 55%|█████▍    | 11996/21967 [17:17<14:33, 11.42it/s]"
     ]
    },
    {
     "name": "stdout",
     "output_type": "stream",
     "text": [
      "Training loss: 0.778609391692529, global step: 2399\n",
      "Training loss: 0.7786654150404987, global step: 2399\n",
      "Training loss: 0.7786430246609677, global step: 2399\n"
     ]
    },
    {
     "name": "stderr",
     "output_type": "stream",
     "text": [
      " 55%|█████▍    | 12000/21967 [17:17<14:40, 11.32it/s]"
     ]
    },
    {
     "name": "stdout",
     "output_type": "stream",
     "text": [
      "Training loss: 0.7786750616845344, global step: 2399\n",
      "Training loss: 0.7787015499325218, global step: 2399\n"
     ]
    },
    {
     "name": "stderr",
     "output_type": "stream",
     "text": [
      " 57%|█████▋    | 12496/21967 [18:00<13:49, 11.41it/s]"
     ]
    },
    {
     "name": "stdout",
     "output_type": "stream",
     "text": [
      "Training loss: 0.7773492679837308, global step: 2499\n",
      "Training loss: 0.7773497470122928, global step: 2499\n",
      "Training loss: 0.7773049076327292, global step: 2499\n"
     ]
    },
    {
     "name": "stderr",
     "output_type": "stream",
     "text": [
      " 57%|█████▋    | 12500/21967 [18:01<13:56, 11.32it/s]"
     ]
    },
    {
     "name": "stdout",
     "output_type": "stream",
     "text": [
      "Training loss: 0.7773286422025972, global step: 2499\n",
      "Training loss: 0.7772841646766846, global step: 2499\n"
     ]
    },
    {
     "name": "stderr",
     "output_type": "stream",
     "text": [
      " 59%|█████▉    | 12996/21967 [18:44<13:06, 11.41it/s]"
     ]
    },
    {
     "name": "stdout",
     "output_type": "stream",
     "text": [
      "Training loss: 0.777775556688699, global step: 2599\n",
      "Training loss: 0.7777674439144684, global step: 2599\n",
      "Training loss: 0.7777082705309557, global step: 2599\n"
     ]
    },
    {
     "name": "stderr",
     "output_type": "stream",
     "text": [
      " 59%|█████▉    | 13000/21967 [18:44<13:14, 11.28it/s]"
     ]
    },
    {
     "name": "stdout",
     "output_type": "stream",
     "text": [
      "Training loss: 0.777669134055439, global step: 2599\n",
      "Training loss: 0.777650051691744, global step: 2599\n"
     ]
    },
    {
     "name": "stderr",
     "output_type": "stream",
     "text": [
      " 61%|██████▏   | 13496/21967 [19:27<12:24, 11.38it/s]"
     ]
    },
    {
     "name": "stdout",
     "output_type": "stream",
     "text": [
      "Training loss: 0.7789908042876998, global step: 2699\n",
      "Training loss: 0.7789348859884627, global step: 2699\n",
      "Training loss: 0.778943796227801, global step: 2699\n"
     ]
    },
    {
     "name": "stderr",
     "output_type": "stream",
     "text": [
      " 61%|██████▏   | 13500/21967 [19:27<12:29, 11.29it/s]"
     ]
    },
    {
     "name": "stdout",
     "output_type": "stream",
     "text": [
      "Training loss: 0.7789271957057674, global step: 2699\n",
      "Training loss: 0.7789239559762557, global step: 2699\n"
     ]
    },
    {
     "name": "stderr",
     "output_type": "stream",
     "text": [
      " 64%|██████▎   | 13996/21967 [20:10<11:37, 11.43it/s]"
     ]
    },
    {
     "name": "stdout",
     "output_type": "stream",
     "text": [
      "Training loss: 0.7779785705873727, global step: 2799\n",
      "Training loss: 0.7779757215376402, global step: 2799\n",
      "Training loss: 0.7779734312973074, global step: 2799\n"
     ]
    },
    {
     "name": "stderr",
     "output_type": "stream",
     "text": [
      " 64%|██████▎   | 14000/21967 [20:10<11:42, 11.33it/s]"
     ]
    },
    {
     "name": "stdout",
     "output_type": "stream",
     "text": [
      "Training loss: 0.7780003793743402, global step: 2799\n",
      "Training loss: 0.777956929716495, global step: 2799\n"
     ]
    },
    {
     "name": "stderr",
     "output_type": "stream",
     "text": [
      " 66%|██████▌   | 14496/21967 [20:53<10:54, 11.41it/s]"
     ]
    },
    {
     "name": "stdout",
     "output_type": "stream",
     "text": [
      "Training loss: 0.77863731554675, global step: 2899\n",
      "Training loss: 0.778619329448694, global step: 2899\n",
      "Training loss: 0.7785970474518948, global step: 2899\n"
     ]
    },
    {
     "name": "stderr",
     "output_type": "stream",
     "text": [
      " 66%|██████▌   | 14500/21967 [20:54<10:59, 11.32it/s]"
     ]
    },
    {
     "name": "stdout",
     "output_type": "stream",
     "text": [
      "Training loss: 0.7785984169738888, global step: 2899\n",
      "Training loss: 0.7786340238825471, global step: 2899\n"
     ]
    },
    {
     "name": "stderr",
     "output_type": "stream",
     "text": [
      " 68%|██████▊   | 14996/21967 [21:36<10:10, 11.41it/s]"
     ]
    },
    {
     "name": "stdout",
     "output_type": "stream",
     "text": [
      "Training loss: 0.7794153006142114, global step: 2999\n",
      "Training loss: 0.7793968416095909, global step: 2999\n",
      "Training loss: 0.7793683525123747, global step: 2999\n"
     ]
    },
    {
     "name": "stderr",
     "output_type": "stream",
     "text": [
      " 68%|██████▊   | 15000/21967 [21:37<10:15, 11.32it/s]"
     ]
    },
    {
     "name": "stdout",
     "output_type": "stream",
     "text": [
      "Training loss: 0.7793406798173133, global step: 2999\n",
      "Training loss: 0.7793836138273035, global step: 2999\n"
     ]
    },
    {
     "name": "stderr",
     "output_type": "stream",
     "text": [
      " 71%|███████   | 15496/21967 [22:20<09:29, 11.37it/s]"
     ]
    },
    {
     "name": "stdout",
     "output_type": "stream",
     "text": [
      "Training loss: 0.7801597554834392, global step: 3099\n",
      "Training loss: 0.7801261245156518, global step: 3099\n",
      "Training loss: 0.7801161584878965, global step: 3099\n"
     ]
    },
    {
     "name": "stderr",
     "output_type": "stream",
     "text": [
      " 71%|███████   | 15500/21967 [22:20<09:32, 11.29it/s]"
     ]
    },
    {
     "name": "stdout",
     "output_type": "stream",
     "text": [
      "Training loss: 0.7801045654179628, global step: 3099\n",
      "Training loss: 0.7800750831766455, global step: 3099\n"
     ]
    },
    {
     "name": "stderr",
     "output_type": "stream",
     "text": [
      " 73%|███████▎  | 15996/21967 [23:03<08:42, 11.42it/s]"
     ]
    },
    {
     "name": "stdout",
     "output_type": "stream",
     "text": [
      "Training loss: 0.7806179147704833, global step: 3199\n",
      "Training loss: 0.7805798814760262, global step: 3199\n",
      "Training loss: 0.7805850077762507, global step: 3199\n"
     ]
    },
    {
     "name": "stderr",
     "output_type": "stream",
     "text": [
      " 73%|███████▎  | 16000/21967 [23:03<08:46, 11.33it/s]"
     ]
    },
    {
     "name": "stdout",
     "output_type": "stream",
     "text": [
      "Training loss: 0.7805384800718218, global step: 3199\n",
      "Training loss: 0.7806345468039894, global step: 3199\n"
     ]
    },
    {
     "name": "stderr",
     "output_type": "stream",
     "text": [
      " 75%|███████▌  | 16496/21967 [23:46<07:59, 11.42it/s]"
     ]
    },
    {
     "name": "stdout",
     "output_type": "stream",
     "text": [
      "Training loss: 0.7801276053130913, global step: 3299\n",
      "Training loss: 0.7801054292223807, global step: 3299\n",
      "Training loss: 0.780083933742162, global step: 3299\n"
     ]
    },
    {
     "name": "stderr",
     "output_type": "stream",
     "text": [
      " 75%|███████▌  | 16500/21967 [23:46<08:02, 11.33it/s]"
     ]
    },
    {
     "name": "stdout",
     "output_type": "stream",
     "text": [
      "Training loss: 0.7800868415345813, global step: 3299\n",
      "Training loss: 0.7800607028569359, global step: 3299\n"
     ]
    },
    {
     "name": "stderr",
     "output_type": "stream",
     "text": [
      " 77%|███████▋  | 16996/21967 [24:29<07:15, 11.41it/s]"
     ]
    },
    {
     "name": "stdout",
     "output_type": "stream",
     "text": [
      "Training loss: 0.7804313557055073, global step: 3399\n",
      "Training loss: 0.7804109743190184, global step: 3399\n",
      "Training loss: 0.7804218114846527, global step: 3399\n"
     ]
    },
    {
     "name": "stderr",
     "output_type": "stream",
     "text": [
      " 77%|███████▋  | 17000/21967 [24:30<07:18, 11.32it/s]"
     ]
    },
    {
     "name": "stdout",
     "output_type": "stream",
     "text": [
      "Training loss: 0.7803929785782587, global step: 3399\n",
      "Training loss: 0.7803819728778826, global step: 3399\n"
     ]
    },
    {
     "name": "stderr",
     "output_type": "stream",
     "text": [
      " 80%|███████▉  | 17496/21967 [25:13<06:31, 11.42it/s]"
     ]
    },
    {
     "name": "stdout",
     "output_type": "stream",
     "text": [
      "Training loss: 0.7804076771803891, global step: 3499\n",
      "Training loss: 0.7804195255754786, global step: 3499\n",
      "Training loss: 0.7803940294120588, global step: 3499\n"
     ]
    },
    {
     "name": "stderr",
     "output_type": "stream",
     "text": [
      " 80%|███████▉  | 17500/21967 [25:13<06:34, 11.32it/s]"
     ]
    },
    {
     "name": "stdout",
     "output_type": "stream",
     "text": [
      "Training loss: 0.7803868661886748, global step: 3499\n",
      "Training loss: 0.7804139598292007, global step: 3499\n"
     ]
    },
    {
     "name": "stderr",
     "output_type": "stream",
     "text": [
      " 82%|████████▏ | 17996/21967 [25:56<05:47, 11.42it/s]"
     ]
    },
    {
     "name": "stdout",
     "output_type": "stream",
     "text": [
      "Training loss: 0.7807985878140138, global step: 3599\n",
      "Training loss: 0.7807858125919147, global step: 3599\n",
      "Training loss: 0.7807894557905259, global step: 3599\n"
     ]
    },
    {
     "name": "stderr",
     "output_type": "stream",
     "text": [
      " 82%|████████▏ | 18000/21967 [25:56<05:50, 11.32it/s]"
     ]
    },
    {
     "name": "stdout",
     "output_type": "stream",
     "text": [
      "Training loss: 0.780769607399603, global step: 3599\n",
      "Training loss: 0.7807968032238574, global step: 3599\n"
     ]
    },
    {
     "name": "stderr",
     "output_type": "stream",
     "text": [
      " 84%|████████▍ | 18496/21967 [26:39<05:04, 11.42it/s]"
     ]
    },
    {
     "name": "stdout",
     "output_type": "stream",
     "text": [
      "Training loss: 0.7807471386244091, global step: 3699\n",
      "Training loss: 0.7807263813475153, global step: 3699\n",
      "Training loss: 0.7807213304068763, global step: 3699\n"
     ]
    },
    {
     "name": "stderr",
     "output_type": "stream",
     "text": [
      " 84%|████████▍ | 18500/21967 [26:39<05:06, 11.32it/s]"
     ]
    },
    {
     "name": "stdout",
     "output_type": "stream",
     "text": [
      "Training loss: 0.7807223273930117, global step: 3699\n",
      "Training loss: 0.7807099952531534, global step: 3699\n"
     ]
    },
    {
     "name": "stderr",
     "output_type": "stream",
     "text": [
      " 86%|████████▋ | 18996/21967 [27:22<04:20, 11.41it/s]"
     ]
    },
    {
     "name": "stdout",
     "output_type": "stream",
     "text": [
      "Training loss: 0.7818956863039737, global step: 3799\n",
      "Training loss: 0.7818954950337523, global step: 3799\n",
      "Training loss: 0.7818781721907502, global step: 3799\n"
     ]
    },
    {
     "name": "stderr",
     "output_type": "stream",
     "text": [
      " 86%|████████▋ | 19000/21967 [27:23<04:22, 11.32it/s]"
     ]
    },
    {
     "name": "stdout",
     "output_type": "stream",
     "text": [
      "Training loss: 0.781927172947152, global step: 3799\n",
      "Training loss: 0.7819003731249746, global step: 3799\n"
     ]
    },
    {
     "name": "stderr",
     "output_type": "stream",
     "text": [
      " 89%|████████▉ | 19496/21967 [28:06<03:36, 11.42it/s]"
     ]
    },
    {
     "name": "stdout",
     "output_type": "stream",
     "text": [
      "Training loss: 0.7836500176296419, global step: 3899\n",
      "Training loss: 0.7836413982935136, global step: 3899\n",
      "Training loss: 0.7836389350322709, global step: 3899\n"
     ]
    },
    {
     "name": "stderr",
     "output_type": "stream",
     "text": [
      " 89%|████████▉ | 19500/21967 [28:06<03:37, 11.33it/s]"
     ]
    },
    {
     "name": "stdout",
     "output_type": "stream",
     "text": [
      "Training loss: 0.7836696757023488, global step: 3899\n",
      "Training loss: 0.7836484179485859, global step: 3899\n"
     ]
    },
    {
     "name": "stderr",
     "output_type": "stream",
     "text": [
      " 91%|█████████ | 19996/21967 [28:49<02:52, 11.41it/s]"
     ]
    },
    {
     "name": "stdout",
     "output_type": "stream",
     "text": [
      "Training loss: 0.7834276501261439, global step: 3999\n",
      "Training loss: 0.7834166868571514, global step: 3999\n",
      "Training loss: 0.7834204785943234, global step: 3999\n"
     ]
    },
    {
     "name": "stderr",
     "output_type": "stream",
     "text": [
      " 91%|█████████ | 20000/21967 [28:49<02:53, 11.31it/s]"
     ]
    },
    {
     "name": "stdout",
     "output_type": "stream",
     "text": [
      "Training loss: 0.783406651262791, global step: 3999\n",
      "Training loss: 0.7833866618975411, global step: 3999\n"
     ]
    },
    {
     "name": "stderr",
     "output_type": "stream",
     "text": [
      " 93%|█████████▎| 20496/21967 [29:32<02:08, 11.41it/s]"
     ]
    },
    {
     "name": "stdout",
     "output_type": "stream",
     "text": [
      "Training loss: 0.7838743193277957, global step: 4099\n",
      "Training loss: 0.7838994432591289, global step: 4099\n",
      "Training loss: 0.7839416959170775, global step: 4099\n"
     ]
    },
    {
     "name": "stderr",
     "output_type": "stream",
     "text": [
      " 93%|█████████▎| 20500/21967 [29:32<02:09, 11.32it/s]"
     ]
    },
    {
     "name": "stdout",
     "output_type": "stream",
     "text": [
      "Training loss: 0.7839278288151565, global step: 4099\n",
      "Training loss: 0.7839305981398463, global step: 4099\n"
     ]
    },
    {
     "name": "stderr",
     "output_type": "stream",
     "text": [
      " 96%|█████████▌| 20996/21967 [30:15<01:25, 11.42it/s]"
     ]
    },
    {
     "name": "stdout",
     "output_type": "stream",
     "text": [
      "Training loss: 0.7845949846165927, global step: 4199\n",
      "Training loss: 0.7845853522648946, global step: 4199\n",
      "Training loss: 0.7845554522012639, global step: 4199\n"
     ]
    },
    {
     "name": "stderr",
     "output_type": "stream",
     "text": [
      " 96%|█████████▌| 21000/21967 [30:16<01:25, 11.33it/s]"
     ]
    },
    {
     "name": "stdout",
     "output_type": "stream",
     "text": [
      "Training loss: 0.7845276841945552, global step: 4199\n",
      "Training loss: 0.7845409684249484, global step: 4199\n"
     ]
    },
    {
     "name": "stderr",
     "output_type": "stream",
     "text": [
      " 98%|█████████▊| 21496/21967 [30:59<00:41, 11.42it/s]"
     ]
    },
    {
     "name": "stdout",
     "output_type": "stream",
     "text": [
      "Training loss: 0.7845242800815176, global step: 4299\n",
      "Training loss: 0.7845092213911367, global step: 4299\n",
      "Training loss: 0.784487094414723, global step: 4299\n"
     ]
    },
    {
     "name": "stderr",
     "output_type": "stream",
     "text": [
      " 98%|█████████▊| 21500/21967 [30:59<00:41, 11.33it/s]"
     ]
    },
    {
     "name": "stdout",
     "output_type": "stream",
     "text": [
      "Training loss: 0.784490119647298, global step: 4299\n",
      "Training loss: 0.7845406640528559, global step: 4299\n"
     ]
    },
    {
     "name": "stderr",
     "output_type": "stream",
     "text": [
      "100%|██████████| 21967/21967 [31:39<00:00, 11.56it/s]\n"
     ]
    },
    {
     "name": "stdout",
     "output_type": "stream",
     "text": [
      "begin evaluation!!!\n"
     ]
    },
    {
     "name": "stderr",
     "output_type": "stream",
     "text": [
      "  0%|          | 2/21967 [00:00<30:31, 11.99it/s]"
     ]
    },
    {
     "name": "stdout",
     "output_type": "stream",
     "text": [
      "eval_loss: 0.9454379104036309\n",
      "eval_accuracy: 0.6420612813370473\n",
      "Training Epoch: 5/5\n"
     ]
    },
    {
     "name": "stderr",
     "output_type": "stream",
     "text": [
      "  2%|▏         | 496/21967 [00:42<31:19, 11.42it/s]"
     ]
    },
    {
     "name": "stdout",
     "output_type": "stream",
     "text": [
      "Training loss: 0.6769843051040715, global step: 99\n",
      "Training loss: 0.6763129995707723, global step: 99\n",
      "Training loss: 0.6754648662781272, global step: 99\n"
     ]
    },
    {
     "name": "stderr",
     "output_type": "stream",
     "text": [
      "  2%|▏         | 500/21967 [00:43<31:35, 11.32it/s]"
     ]
    },
    {
     "name": "stdout",
     "output_type": "stream",
     "text": [
      "Training loss: 0.6764640828564643, global step: 99\n",
      "Training loss: 0.675547497794928, global step: 99\n"
     ]
    },
    {
     "name": "stderr",
     "output_type": "stream",
     "text": [
      "  5%|▍         | 996/21967 [01:26<30:36, 11.42it/s]"
     ]
    },
    {
     "name": "stdout",
     "output_type": "stream",
     "text": [
      "Training loss: 0.6792481447546626, global step: 199\n",
      "Training loss: 0.6795255453194899, global step: 199\n",
      "Training loss: 0.679136546793858, global step: 199\n"
     ]
    },
    {
     "name": "stderr",
     "output_type": "stream",
     "text": [
      "  5%|▍         | 1000/21967 [01:26<30:51, 11.32it/s]"
     ]
    },
    {
     "name": "stdout",
     "output_type": "stream",
     "text": [
      "Training loss: 0.6790664712889102, global step: 199\n",
      "Training loss: 0.6784746232326025, global step: 199\n"
     ]
    },
    {
     "name": "stderr",
     "output_type": "stream",
     "text": [
      "  7%|▋         | 1496/21967 [02:09<29:53, 11.42it/s]"
     ]
    },
    {
     "name": "stdout",
     "output_type": "stream",
     "text": [
      "Training loss: 0.6673637293951966, global step: 299\n",
      "Training loss: 0.6674941382844021, global step: 299\n",
      "Training loss: 0.6677879893688178, global step: 299\n"
     ]
    },
    {
     "name": "stderr",
     "output_type": "stream",
     "text": [
      "  7%|▋         | 1500/21967 [02:09<30:08, 11.32it/s]"
     ]
    },
    {
     "name": "stdout",
     "output_type": "stream",
     "text": [
      "Training loss: 0.6681541313376222, global step: 299\n",
      "Training loss: 0.6680795500543294, global step: 299\n"
     ]
    },
    {
     "name": "stderr",
     "output_type": "stream",
     "text": [
      "  9%|▉         | 1996/21967 [02:52<29:09, 11.42it/s]"
     ]
    },
    {
     "name": "stdout",
     "output_type": "stream",
     "text": [
      "Training loss: 0.6597630208895021, global step: 399\n",
      "Training loss: 0.6596995943593597, global step: 399\n",
      "Training loss: 0.6600708415583485, global step: 399\n"
     ]
    },
    {
     "name": "stderr",
     "output_type": "stream",
     "text": [
      "  9%|▉         | 2000/21967 [02:52<29:23, 11.32it/s]"
     ]
    },
    {
     "name": "stdout",
     "output_type": "stream",
     "text": [
      "Training loss: 0.660065573078018, global step: 399\n",
      "Training loss: 0.6601916295758123, global step: 399\n"
     ]
    },
    {
     "name": "stderr",
     "output_type": "stream",
     "text": [
      " 11%|█▏        | 2496/21967 [03:35<28:25, 11.42it/s]"
     ]
    },
    {
     "name": "stdout",
     "output_type": "stream",
     "text": [
      "Training loss: 0.6554229830221865, global step: 499\n",
      "Training loss: 0.6553490144709567, global step: 499\n",
      "Training loss: 0.655415649098763, global step: 499\n"
     ]
    },
    {
     "name": "stderr",
     "output_type": "stream",
     "text": [
      " 11%|█▏        | 2500/21967 [03:36<28:38, 11.33it/s]"
     ]
    },
    {
     "name": "stdout",
     "output_type": "stream",
     "text": [
      "Training loss: 0.6554128729750971, global step: 499\n",
      "Training loss: 0.6552406817312394, global step: 499\n"
     ]
    },
    {
     "name": "stderr",
     "output_type": "stream",
     "text": [
      " 14%|█▎        | 2996/21967 [04:19<27:41, 11.42it/s]"
     ]
    },
    {
     "name": "stdout",
     "output_type": "stream",
     "text": [
      "Training loss: 0.6518412031914311, global step: 599\n",
      "Training loss: 0.6519019763406306, global step: 599\n",
      "Training loss: 0.6518655086345138, global step: 599\n"
     ]
    },
    {
     "name": "stderr",
     "output_type": "stream",
     "text": [
      " 14%|█▎        | 3000/21967 [04:19<27:55, 11.32it/s]"
     ]
    },
    {
     "name": "stdout",
     "output_type": "stream",
     "text": [
      "Training loss: 0.6522349156287087, global step: 599\n",
      "Training loss: 0.6523826720240231, global step: 599\n"
     ]
    },
    {
     "name": "stderr",
     "output_type": "stream",
     "text": [
      " 16%|█▌        | 3496/21967 [05:02<26:58, 11.41it/s]"
     ]
    },
    {
     "name": "stdout",
     "output_type": "stream",
     "text": [
      "Training loss: 0.6538439195480554, global step: 699\n",
      "Training loss: 0.6538541731722994, global step: 699\n",
      "Training loss: 0.6537238253104216, global step: 699\n"
     ]
    },
    {
     "name": "stderr",
     "output_type": "stream",
     "text": [
      " 16%|█▌        | 3500/21967 [05:02<27:10, 11.32it/s]"
     ]
    },
    {
     "name": "stdout",
     "output_type": "stream",
     "text": [
      "Training loss: 0.6536321371225049, global step: 699\n",
      "Training loss: 0.6536455254679188, global step: 699\n"
     ]
    },
    {
     "name": "stderr",
     "output_type": "stream",
     "text": [
      " 18%|█▊        | 3996/21967 [05:45<26:14, 11.41it/s]"
     ]
    },
    {
     "name": "stdout",
     "output_type": "stream",
     "text": [
      "Training loss: 0.6534866486611929, global step: 799\n",
      "Training loss: 0.6534905479675545, global step: 799\n",
      "Training loss: 0.6533927326732564, global step: 799\n"
     ]
    },
    {
     "name": "stderr",
     "output_type": "stream",
     "text": [
      " 18%|█▊        | 4000/21967 [05:45<26:26, 11.32it/s]"
     ]
    },
    {
     "name": "stdout",
     "output_type": "stream",
     "text": [
      "Training loss: 0.6534674361077002, global step: 799\n",
      "Training loss: 0.6535186450034156, global step: 799\n"
     ]
    },
    {
     "name": "stderr",
     "output_type": "stream",
     "text": [
      " 20%|██        | 4496/21967 [06:28<25:36, 11.37it/s]"
     ]
    },
    {
     "name": "stdout",
     "output_type": "stream",
     "text": [
      "Training loss: 0.6524958516167554, global step: 899\n",
      "Training loss: 0.6524079581867619, global step: 899\n",
      "Training loss: 0.6524104011788292, global step: 899\n"
     ]
    },
    {
     "name": "stderr",
     "output_type": "stream",
     "text": [
      " 20%|██        | 4500/21967 [06:29<25:46, 11.29it/s]"
     ]
    },
    {
     "name": "stdout",
     "output_type": "stream",
     "text": [
      "Training loss: 0.6524682209544173, global step: 899\n",
      "Training loss: 0.6524068259276578, global step: 899\n"
     ]
    },
    {
     "name": "stderr",
     "output_type": "stream",
     "text": [
      " 23%|██▎       | 4996/21967 [07:12<24:46, 11.42it/s]"
     ]
    },
    {
     "name": "stdout",
     "output_type": "stream",
     "text": [
      "Training loss: 0.6502461442617593, global step: 999\n",
      "Training loss: 0.6502171307582232, global step: 999\n",
      "Training loss: 0.6502494930118405, global step: 999\n"
     ]
    },
    {
     "name": "stderr",
     "output_type": "stream",
     "text": [
      " 23%|██▎       | 5000/21967 [07:12<24:58, 11.32it/s]"
     ]
    },
    {
     "name": "stdout",
     "output_type": "stream",
     "text": [
      "Training loss: 0.6502706586212224, global step: 999\n",
      "Training loss: 0.6501833505769787, global step: 999\n"
     ]
    },
    {
     "name": "stderr",
     "output_type": "stream",
     "text": [
      " 25%|██▌       | 5496/21967 [07:55<24:03, 11.41it/s]"
     ]
    },
    {
     "name": "stdout",
     "output_type": "stream",
     "text": [
      "Training loss: 0.6461925078841017, global step: 1099\n",
      "Training loss: 0.6462290740291977, global step: 1099\n",
      "Training loss: 0.6462005058248244, global step: 1099\n"
     ]
    },
    {
     "name": "stderr",
     "output_type": "stream",
     "text": [
      " 25%|██▌       | 5500/21967 [07:55<24:13, 11.33it/s]"
     ]
    },
    {
     "name": "stdout",
     "output_type": "stream",
     "text": [
      "Training loss: 0.6462888683830366, global step: 1099\n",
      "Training loss: 0.6463796178264782, global step: 1099\n"
     ]
    },
    {
     "name": "stderr",
     "output_type": "stream",
     "text": [
      " 27%|██▋       | 5996/21967 [08:38<23:18, 11.42it/s]"
     ]
    },
    {
     "name": "stdout",
     "output_type": "stream",
     "text": [
      "Training loss: 0.6439611465416172, global step: 1199\n",
      "Training loss: 0.6439114002500964, global step: 1199\n",
      "Training loss: 0.6438209100177442, global step: 1199\n"
     ]
    },
    {
     "name": "stderr",
     "output_type": "stream",
     "text": [
      " 27%|██▋       | 6000/21967 [08:38<23:29, 11.33it/s]"
     ]
    },
    {
     "name": "stdout",
     "output_type": "stream",
     "text": [
      "Training loss: 0.6437219838826368, global step: 1199\n",
      "Training loss: 0.643660379712493, global step: 1199\n"
     ]
    },
    {
     "name": "stderr",
     "output_type": "stream",
     "text": [
      " 30%|██▉       | 6496/21967 [09:21<22:43, 11.34it/s]"
     ]
    },
    {
     "name": "stdout",
     "output_type": "stream",
     "text": [
      "Training loss: 0.6432064434073957, global step: 1299\n",
      "Training loss: 0.6431425408563569, global step: 1299\n",
      "Training loss: 0.6431273929893022, global step: 1299\n"
     ]
    },
    {
     "name": "stderr",
     "output_type": "stream",
     "text": [
      " 30%|██▉       | 6500/21967 [09:22<22:54, 11.25it/s]"
     ]
    },
    {
     "name": "stdout",
     "output_type": "stream",
     "text": [
      "Training loss: 0.643146564796806, global step: 1299\n",
      "Training loss: 0.6431995622053769, global step: 1299\n"
     ]
    },
    {
     "name": "stderr",
     "output_type": "stream",
     "text": [
      " 32%|███▏      | 6996/21967 [10:05<21:51, 11.41it/s]"
     ]
    },
    {
     "name": "stdout",
     "output_type": "stream",
     "text": [
      "Training loss: 0.6433402909228899, global step: 1399\n",
      "Training loss: 0.6433799577882383, global step: 1399\n",
      "Training loss: 0.6433491456367361, global step: 1399\n"
     ]
    },
    {
     "name": "stderr",
     "output_type": "stream",
     "text": [
      " 32%|███▏      | 7000/21967 [10:05<22:01, 11.32it/s]"
     ]
    },
    {
     "name": "stdout",
     "output_type": "stream",
     "text": [
      "Training loss: 0.6434607043440865, global step: 1399\n",
      "Training loss: 0.6433943987672063, global step: 1399\n"
     ]
    },
    {
     "name": "stderr",
     "output_type": "stream",
     "text": [
      " 34%|███▍      | 7496/21967 [10:48<21:07, 11.41it/s]"
     ]
    },
    {
     "name": "stdout",
     "output_type": "stream",
     "text": [
      "Training loss: 0.6408950541589069, global step: 1499\n",
      "Training loss: 0.6409157854053261, global step: 1499\n",
      "Training loss: 0.6408497144749377, global step: 1499\n"
     ]
    },
    {
     "name": "stderr",
     "output_type": "stream",
     "text": [
      " 34%|███▍      | 7500/21967 [10:48<21:17, 11.32it/s]"
     ]
    },
    {
     "name": "stdout",
     "output_type": "stream",
     "text": [
      "Training loss: 0.6408740129778532, global step: 1499\n",
      "Training loss: 0.6407936660563324, global step: 1499\n"
     ]
    },
    {
     "name": "stderr",
     "output_type": "stream",
     "text": [
      " 36%|███▋      | 7996/21967 [11:31<20:24, 11.41it/s]"
     ]
    },
    {
     "name": "stdout",
     "output_type": "stream",
     "text": [
      "Training loss: 0.6412743062090206, global step: 1599\n",
      "Training loss: 0.6413184030494793, global step: 1599\n",
      "Training loss: 0.641252346704095, global step: 1599\n"
     ]
    },
    {
     "name": "stderr",
     "output_type": "stream",
     "text": [
      " 36%|███▋      | 8000/21967 [11:31<20:33, 11.33it/s]"
     ]
    },
    {
     "name": "stdout",
     "output_type": "stream",
     "text": [
      "Training loss: 0.6414229391239026, global step: 1599\n",
      "Training loss: 0.6415123199273387, global step: 1599\n"
     ]
    },
    {
     "name": "stderr",
     "output_type": "stream",
     "text": [
      " 39%|███▊      | 8496/21967 [12:14<19:39, 11.42it/s]"
     ]
    },
    {
     "name": "stdout",
     "output_type": "stream",
     "text": [
      "Training loss: 0.6410730284487411, global step: 1699\n",
      "Training loss: 0.6410285185562887, global step: 1699\n",
      "Training loss: 0.6410175975998194, global step: 1699\n"
     ]
    },
    {
     "name": "stderr",
     "output_type": "stream",
     "text": [
      " 39%|███▊      | 8500/21967 [12:15<19:49, 11.33it/s]"
     ]
    },
    {
     "name": "stdout",
     "output_type": "stream",
     "text": [
      "Training loss: 0.6410080467887898, global step: 1699\n",
      "Training loss: 0.6410321276932442, global step: 1699\n"
     ]
    },
    {
     "name": "stderr",
     "output_type": "stream",
     "text": [
      " 41%|████      | 8996/21967 [12:58<18:56, 11.42it/s]"
     ]
    },
    {
     "name": "stdout",
     "output_type": "stream",
     "text": [
      "Training loss: 0.6385592927468248, global step: 1799\n",
      "Training loss: 0.6385061136948892, global step: 1799\n",
      "Training loss: 0.6384907038107567, global step: 1799\n"
     ]
    },
    {
     "name": "stderr",
     "output_type": "stream",
     "text": [
      " 41%|████      | 9000/21967 [12:58<19:05, 11.32it/s]"
     ]
    },
    {
     "name": "stdout",
     "output_type": "stream",
     "text": [
      "Training loss: 0.638545035819568, global step: 1799\n",
      "Training loss: 0.6385054294935736, global step: 1799\n"
     ]
    },
    {
     "name": "stderr",
     "output_type": "stream",
     "text": [
      " 43%|████▎     | 9496/21967 [13:41<18:12, 11.42it/s]"
     ]
    },
    {
     "name": "stdout",
     "output_type": "stream",
     "text": [
      "Training loss: 0.6374111625146202, global step: 1899\n",
      "Training loss: 0.6373819745402793, global step: 1899\n",
      "Training loss: 0.6373454229846872, global step: 1899\n"
     ]
    },
    {
     "name": "stderr",
     "output_type": "stream",
     "text": [
      " 43%|████▎     | 9500/21967 [13:41<18:20, 11.33it/s]"
     ]
    },
    {
     "name": "stdout",
     "output_type": "stream",
     "text": [
      "Training loss: 0.6373104500326127, global step: 1899\n",
      "Training loss: 0.6372974686123508, global step: 1899\n"
     ]
    },
    {
     "name": "stderr",
     "output_type": "stream",
     "text": [
      " 46%|████▌     | 9996/21967 [14:24<17:28, 11.42it/s]"
     ]
    },
    {
     "name": "stdout",
     "output_type": "stream",
     "text": [
      "Training loss: 0.6362191608808786, global step: 1999\n",
      "Training loss: 0.6362434069526994, global step: 1999\n",
      "Training loss: 0.6361856575371213, global step: 1999\n"
     ]
    },
    {
     "name": "stderr",
     "output_type": "stream",
     "text": [
      " 46%|████▌     | 10000/21967 [14:24<17:36, 11.32it/s]"
     ]
    },
    {
     "name": "stdout",
     "output_type": "stream",
     "text": [
      "Training loss: 0.6361783487712683, global step: 1999\n",
      "Training loss: 0.6361529364029669, global step: 1999\n"
     ]
    },
    {
     "name": "stderr",
     "output_type": "stream",
     "text": [
      " 48%|████▊     | 10496/21967 [15:07<16:45, 11.41it/s]"
     ]
    },
    {
     "name": "stdout",
     "output_type": "stream",
     "text": [
      "Training loss: 0.6370028342662548, global step: 2099\n",
      "Training loss: 0.6369484086338095, global step: 2099\n",
      "Training loss: 0.6369763379721802, global step: 2099\n"
     ]
    },
    {
     "name": "stderr",
     "output_type": "stream",
     "text": [
      " 48%|████▊     | 10500/21967 [15:08<16:57, 11.27it/s]"
     ]
    },
    {
     "name": "stdout",
     "output_type": "stream",
     "text": [
      "Training loss: 0.637016868780829, global step: 2099\n",
      "Training loss: 0.6370226480435349, global step: 2099\n"
     ]
    },
    {
     "name": "stderr",
     "output_type": "stream",
     "text": [
      " 50%|█████     | 10996/21967 [15:50<16:01, 11.41it/s]"
     ]
    },
    {
     "name": "stdout",
     "output_type": "stream",
     "text": [
      "Training loss: 0.6368494773288683, global step: 2199\n",
      "Training loss: 0.6368495615633024, global step: 2199\n",
      "Training loss: 0.6368626744732073, global step: 2199\n"
     ]
    },
    {
     "name": "stderr",
     "output_type": "stream",
     "text": [
      " 50%|█████     | 11000/21967 [15:51<16:08, 11.32it/s]"
     ]
    },
    {
     "name": "stdout",
     "output_type": "stream",
     "text": [
      "Training loss: 0.6368333382509476, global step: 2199\n",
      "Training loss: 0.6368229348074125, global step: 2199\n"
     ]
    },
    {
     "name": "stderr",
     "output_type": "stream",
     "text": [
      " 52%|█████▏    | 11496/21967 [16:34<15:17, 11.42it/s]"
     ]
    },
    {
     "name": "stdout",
     "output_type": "stream",
     "text": [
      "Training loss: 0.6358533492636724, global step: 2299\n",
      "Training loss: 0.6358759126601004, global step: 2299\n",
      "Training loss: 0.6358855337915801, global step: 2299\n"
     ]
    },
    {
     "name": "stderr",
     "output_type": "stream",
     "text": [
      " 52%|█████▏    | 11500/21967 [16:34<15:24, 11.33it/s]"
     ]
    },
    {
     "name": "stdout",
     "output_type": "stream",
     "text": [
      "Training loss: 0.635870350654219, global step: 2299\n",
      "Training loss: 0.6358798539940003, global step: 2299\n"
     ]
    },
    {
     "name": "stderr",
     "output_type": "stream",
     "text": [
      " 55%|█████▍    | 11996/21967 [17:17<14:33, 11.42it/s]"
     ]
    },
    {
     "name": "stdout",
     "output_type": "stream",
     "text": [
      "Training loss: 0.6360495785038519, global step: 2399\n",
      "Training loss: 0.6360585757585726, global step: 2399\n",
      "Training loss: 0.6360305519314989, global step: 2399\n"
     ]
    },
    {
     "name": "stderr",
     "output_type": "stream",
     "text": [
      " 55%|█████▍    | 12000/21967 [17:17<14:39, 11.33it/s]"
     ]
    },
    {
     "name": "stdout",
     "output_type": "stream",
     "text": [
      "Training loss: 0.6360724289390173, global step: 2399\n",
      "Training loss: 0.6360744106927062, global step: 2399\n"
     ]
    },
    {
     "name": "stderr",
     "output_type": "stream",
     "text": [
      " 57%|█████▋    | 12496/21967 [18:00<13:49, 11.41it/s]"
     ]
    },
    {
     "name": "stdout",
     "output_type": "stream",
     "text": [
      "Training loss: 0.6351216485585217, global step: 2499\n",
      "Training loss: 0.6351372963752897, global step: 2499\n",
      "Training loss: 0.635119791732572, global step: 2499\n"
     ]
    },
    {
     "name": "stderr",
     "output_type": "stream",
     "text": [
      " 57%|█████▋    | 12500/21967 [18:00<13:56, 11.32it/s]"
     ]
    },
    {
     "name": "stdout",
     "output_type": "stream",
     "text": [
      "Training loss: 0.6350852517163863, global step: 2499\n",
      "Training loss: 0.6350783392492956, global step: 2499\n"
     ]
    },
    {
     "name": "stderr",
     "output_type": "stream",
     "text": [
      " 59%|█████▉    | 12996/21967 [18:43<13:05, 11.42it/s]"
     ]
    },
    {
     "name": "stdout",
     "output_type": "stream",
     "text": [
      "Training loss: 0.6343692394778657, global step: 2599\n",
      "Training loss: 0.6343573566605935, global step: 2599\n",
      "Training loss: 0.6343317570073007, global step: 2599\n"
     ]
    },
    {
     "name": "stderr",
     "output_type": "stream",
     "text": [
      " 59%|█████▉    | 13000/21967 [18:44<13:11, 11.32it/s]"
     ]
    },
    {
     "name": "stdout",
     "output_type": "stream",
     "text": [
      "Training loss: 0.6342883655199331, global step: 2599\n",
      "Training loss: 0.6342691105009641, global step: 2599\n"
     ]
    },
    {
     "name": "stderr",
     "output_type": "stream",
     "text": [
      " 61%|██████▏   | 13496/21967 [19:27<12:21, 11.42it/s]"
     ]
    },
    {
     "name": "stdout",
     "output_type": "stream",
     "text": [
      "Training loss: 0.6347711119159336, global step: 2699\n",
      "Training loss: 0.6347429730712268, global step: 2699\n",
      "Training loss: 0.6347851551155391, global step: 2699\n"
     ]
    },
    {
     "name": "stderr",
     "output_type": "stream",
     "text": [
      " 61%|██████▏   | 13500/21967 [19:27<12:27, 11.32it/s]"
     ]
    },
    {
     "name": "stdout",
     "output_type": "stream",
     "text": [
      "Training loss: 0.634794396561533, global step: 2699\n",
      "Training loss: 0.6348719374457871, global step: 2699\n"
     ]
    },
    {
     "name": "stderr",
     "output_type": "stream",
     "text": [
      " 64%|██████▎   | 13996/21967 [20:10<11:38, 11.42it/s]"
     ]
    },
    {
     "name": "stdout",
     "output_type": "stream",
     "text": [
      "Training loss: 0.6361777385587299, global step: 2799\n",
      "Training loss: 0.6361716188390645, global step: 2799\n",
      "Training loss: 0.6361690538819189, global step: 2799\n"
     ]
    },
    {
     "name": "stderr",
     "output_type": "stream",
     "text": [
      " 64%|██████▎   | 14000/21967 [20:10<11:43, 11.32it/s]"
     ]
    },
    {
     "name": "stdout",
     "output_type": "stream",
     "text": [
      "Training loss: 0.6361700707562797, global step: 2799\n",
      "Training loss: 0.6361432632077659, global step: 2799\n"
     ]
    },
    {
     "name": "stderr",
     "output_type": "stream",
     "text": [
      " 66%|██████▌   | 14496/21967 [20:53<10:51, 11.46it/s]"
     ]
    },
    {
     "name": "stdout",
     "output_type": "stream",
     "text": [
      "Training loss: 0.6355976351890192, global step: 2899\n",
      "Training loss: 0.6355810186783739, global step: 2899\n",
      "Training loss: 0.6355844543718527, global step: 2899\n"
     ]
    },
    {
     "name": "stderr",
     "output_type": "stream",
     "text": [
      " 66%|██████▌   | 14500/21967 [20:53<11:00, 11.31it/s]"
     ]
    },
    {
     "name": "stdout",
     "output_type": "stream",
     "text": [
      "Training loss: 0.635647770843968, global step: 2899\n",
      "Training loss: 0.6356217809107482, global step: 2899\n"
     ]
    },
    {
     "name": "stderr",
     "output_type": "stream",
     "text": [
      " 68%|██████▊   | 14996/21967 [21:36<10:10, 11.42it/s]"
     ]
    },
    {
     "name": "stdout",
     "output_type": "stream",
     "text": [
      "Training loss: 0.636192964780554, global step: 2999\n",
      "Training loss: 0.6361991890469069, global step: 2999\n",
      "Training loss: 0.6361911171574858, global step: 2999\n"
     ]
    },
    {
     "name": "stderr",
     "output_type": "stream",
     "text": [
      " 68%|██████▊   | 15000/21967 [21:37<10:15, 11.32it/s]"
     ]
    },
    {
     "name": "stdout",
     "output_type": "stream",
     "text": [
      "Training loss: 0.6361822047020772, global step: 2999\n",
      "Training loss: 0.636151245208449, global step: 2999\n"
     ]
    },
    {
     "name": "stderr",
     "output_type": "stream",
     "text": [
      " 71%|███████   | 15496/21967 [22:20<09:26, 11.41it/s]"
     ]
    },
    {
     "name": "stdout",
     "output_type": "stream",
     "text": [
      "Training loss: 0.6361386885024756, global step: 3099\n",
      "Training loss: 0.6361163405622005, global step: 3099\n",
      "Training loss: 0.6361306335296809, global step: 3099\n"
     ]
    },
    {
     "name": "stderr",
     "output_type": "stream",
     "text": [
      " 71%|███████   | 15500/21967 [22:20<09:31, 11.33it/s]"
     ]
    },
    {
     "name": "stdout",
     "output_type": "stream",
     "text": [
      "Training loss: 0.6361742906935178, global step: 3099\n",
      "Training loss: 0.6361988027451131, global step: 3099\n"
     ]
    },
    {
     "name": "stderr",
     "output_type": "stream",
     "text": [
      " 73%|███████▎  | 15996/21967 [23:03<08:42, 11.42it/s]"
     ]
    },
    {
     "name": "stdout",
     "output_type": "stream",
     "text": [
      "Training loss: 0.6370273190531874, global step: 3199\n",
      "Training loss: 0.6369963548391945, global step: 3199\n",
      "Training loss: 0.6369643847124705, global step: 3199\n"
     ]
    },
    {
     "name": "stderr",
     "output_type": "stream",
     "text": [
      " 73%|███████▎  | 16000/21967 [23:03<08:46, 11.33it/s]"
     ]
    },
    {
     "name": "stdout",
     "output_type": "stream",
     "text": [
      "Training loss: 0.6369937033234319, global step: 3199\n",
      "Training loss: 0.6370121743816726, global step: 3199\n"
     ]
    },
    {
     "name": "stderr",
     "output_type": "stream",
     "text": [
      " 75%|███████▌  | 16496/21967 [23:46<08:00, 11.38it/s]"
     ]
    },
    {
     "name": "stdout",
     "output_type": "stream",
     "text": [
      "Training loss: 0.6377089029036589, global step: 3299\n",
      "Training loss: 0.637710058206118, global step: 3299\n",
      "Training loss: 0.6377164172763706, global step: 3299\n"
     ]
    },
    {
     "name": "stderr",
     "output_type": "stream",
     "text": [
      " 75%|███████▌  | 16500/21967 [23:46<08:03, 11.30it/s]"
     ]
    },
    {
     "name": "stdout",
     "output_type": "stream",
     "text": [
      "Training loss: 0.6377242819098944, global step: 3299\n",
      "Training loss: 0.6377335577494281, global step: 3299\n"
     ]
    },
    {
     "name": "stderr",
     "output_type": "stream",
     "text": [
      " 77%|███████▋  | 16996/21967 [24:29<07:15, 11.42it/s]"
     ]
    },
    {
     "name": "stdout",
     "output_type": "stream",
     "text": [
      "Training loss: 0.6389599745609545, global step: 3399\n",
      "Training loss: 0.6389770640097183, global step: 3399\n",
      "Training loss: 0.6389568082784924, global step: 3399\n"
     ]
    },
    {
     "name": "stderr",
     "output_type": "stream",
     "text": [
      " 77%|███████▋  | 17000/21967 [24:30<07:18, 11.33it/s]"
     ]
    },
    {
     "name": "stdout",
     "output_type": "stream",
     "text": [
      "Training loss: 0.6389522478380287, global step: 3399\n",
      "Training loss: 0.6389563008982077, global step: 3399\n"
     ]
    },
    {
     "name": "stderr",
     "output_type": "stream",
     "text": [
      " 80%|███████▉  | 17496/21967 [25:12<06:31, 11.42it/s]"
     ]
    },
    {
     "name": "stdout",
     "output_type": "stream",
     "text": [
      "Training loss: 0.6392497708907584, global step: 3499\n",
      "Training loss: 0.6392199083463049, global step: 3499\n",
      "Training loss: 0.6392272597840648, global step: 3499\n"
     ]
    },
    {
     "name": "stderr",
     "output_type": "stream",
     "text": [
      " 80%|███████▉  | 17500/21967 [25:13<06:34, 11.33it/s]"
     ]
    },
    {
     "name": "stdout",
     "output_type": "stream",
     "text": [
      "Training loss: 0.6392067034906276, global step: 3499\n",
      "Training loss: 0.6391835146357372, global step: 3499\n"
     ]
    },
    {
     "name": "stderr",
     "output_type": "stream",
     "text": [
      " 82%|████████▏ | 17996/21967 [25:56<05:47, 11.42it/s]"
     ]
    },
    {
     "name": "stdout",
     "output_type": "stream",
     "text": [
      "Training loss: 0.6398078115456682, global step: 3599\n",
      "Training loss: 0.6397926483196079, global step: 3599\n",
      "Training loss: 0.6397674257666305, global step: 3599\n"
     ]
    },
    {
     "name": "stderr",
     "output_type": "stream",
     "text": [
      " 82%|████████▏ | 18000/21967 [25:56<05:50, 11.32it/s]"
     ]
    },
    {
     "name": "stdout",
     "output_type": "stream",
     "text": [
      "Training loss: 0.6397602975164414, global step: 3599\n",
      "Training loss: 0.6397590885554888, global step: 3599\n"
     ]
    },
    {
     "name": "stderr",
     "output_type": "stream",
     "text": [
      " 84%|████████▍ | 18496/21967 [26:39<05:05, 11.38it/s]"
     ]
    },
    {
     "name": "stdout",
     "output_type": "stream",
     "text": [
      "Training loss: 0.6401337008907179, global step: 3699\n",
      "Training loss: 0.6401377886641089, global step: 3699\n",
      "Training loss: 0.6401503816656432, global step: 3699\n"
     ]
    },
    {
     "name": "stderr",
     "output_type": "stream",
     "text": [
      " 84%|████████▍ | 18500/21967 [26:39<05:06, 11.29it/s]"
     ]
    },
    {
     "name": "stdout",
     "output_type": "stream",
     "text": [
      "Training loss: 0.6401624370217106, global step: 3699\n",
      "Training loss: 0.640173245669543, global step: 3699\n"
     ]
    },
    {
     "name": "stderr",
     "output_type": "stream",
     "text": [
      " 86%|████████▋ | 18996/21967 [27:22<04:20, 11.41it/s]"
     ]
    },
    {
     "name": "stdout",
     "output_type": "stream",
     "text": [
      "Training loss: 0.6411906288862699, global step: 3799\n",
      "Training loss: 0.6411889711181932, global step: 3799\n",
      "Training loss: 0.6411710679880154, global step: 3799\n"
     ]
    },
    {
     "name": "stderr",
     "output_type": "stream",
     "text": [
      " 86%|████████▋ | 19000/21967 [27:23<04:22, 11.32it/s]"
     ]
    },
    {
     "name": "stdout",
     "output_type": "stream",
     "text": [
      "Training loss: 0.6411652143102237, global step: 3799\n",
      "Training loss: 0.6411441556438376, global step: 3799\n"
     ]
    },
    {
     "name": "stderr",
     "output_type": "stream",
     "text": [
      " 89%|████████▉ | 19496/21967 [28:05<03:36, 11.42it/s]"
     ]
    },
    {
     "name": "stdout",
     "output_type": "stream",
     "text": [
      "Training loss: 0.642248035460915, global step: 3899\n",
      "Training loss: 0.642230991076112, global step: 3899\n",
      "Training loss: 0.6422645281641569, global step: 3899\n"
     ]
    },
    {
     "name": "stderr",
     "output_type": "stream",
     "text": [
      " 89%|████████▉ | 19500/21967 [28:06<03:37, 11.33it/s]"
     ]
    },
    {
     "name": "stdout",
     "output_type": "stream",
     "text": [
      "Training loss: 0.6422928452349134, global step: 3899\n",
      "Training loss: 0.642268248086136, global step: 3899\n"
     ]
    },
    {
     "name": "stderr",
     "output_type": "stream",
     "text": [
      " 91%|█████████ | 19996/21967 [28:49<02:52, 11.42it/s]"
     ]
    },
    {
     "name": "stdout",
     "output_type": "stream",
     "text": [
      "Training loss: 0.6421968977817314, global step: 3999\n",
      "Training loss: 0.6421775400523446, global step: 3999\n",
      "Training loss: 0.6421672354927405, global step: 3999\n"
     ]
    },
    {
     "name": "stderr",
     "output_type": "stream",
     "text": [
      " 91%|█████████ | 20000/21967 [28:49<02:53, 11.33it/s]"
     ]
    },
    {
     "name": "stdout",
     "output_type": "stream",
     "text": [
      "Training loss: 0.6421533331685927, global step: 3999\n",
      "Training loss: 0.6421606341812129, global step: 3999\n"
     ]
    },
    {
     "name": "stderr",
     "output_type": "stream",
     "text": [
      " 93%|█████████▎| 20496/21967 [29:32<02:09, 11.36it/s]"
     ]
    },
    {
     "name": "stdout",
     "output_type": "stream",
     "text": [
      "Training loss: 0.6426903840471591, global step: 4099\n",
      "Training loss: 0.6426631931775699, global step: 4099\n",
      "Training loss: 0.6426465090787873, global step: 4099\n"
     ]
    },
    {
     "name": "stderr",
     "output_type": "stream",
     "text": [
      " 93%|█████████▎| 20500/21967 [29:32<02:10, 11.28it/s]"
     ]
    },
    {
     "name": "stdout",
     "output_type": "stream",
     "text": [
      "Training loss: 0.6426319632110744, global step: 4099\n",
      "Training loss: 0.6426074385689892, global step: 4099\n"
     ]
    },
    {
     "name": "stderr",
     "output_type": "stream",
     "text": [
      " 96%|█████████▌| 20996/21967 [30:15<01:25, 11.41it/s]"
     ]
    },
    {
     "name": "stdout",
     "output_type": "stream",
     "text": [
      "Training loss: 0.64329140796203, global step: 4199\n",
      "Training loss: 0.643272462714254, global step: 4199\n",
      "Training loss: 0.6432846159952865, global step: 4199\n"
     ]
    },
    {
     "name": "stderr",
     "output_type": "stream",
     "text": [
      " 96%|█████████▌| 21000/21967 [30:15<01:25, 11.32it/s]"
     ]
    },
    {
     "name": "stdout",
     "output_type": "stream",
     "text": [
      "Training loss: 0.6432706654513873, global step: 4199\n",
      "Training loss: 0.6432596707279152, global step: 4199\n"
     ]
    },
    {
     "name": "stderr",
     "output_type": "stream",
     "text": [
      " 98%|█████████▊| 21496/21967 [30:58<00:41, 11.41it/s]"
     ]
    },
    {
     "name": "stdout",
     "output_type": "stream",
     "text": [
      "Training loss: 0.6437818262391798, global step: 4299\n",
      "Training loss: 0.643841081334003, global step: 4299\n",
      "Training loss: 0.6438560926990715, global step: 4299\n"
     ]
    },
    {
     "name": "stderr",
     "output_type": "stream",
     "text": [
      " 98%|█████████▊| 21500/21967 [30:59<00:41, 11.32it/s]"
     ]
    },
    {
     "name": "stdout",
     "output_type": "stream",
     "text": [
      "Training loss: 0.6438407353321108, global step: 4299\n",
      "Training loss: 0.6438331290234317, global step: 4299\n"
     ]
    },
    {
     "name": "stderr",
     "output_type": "stream",
     "text": [
      "100%|██████████| 21967/21967 [31:39<00:00, 11.56it/s]\n"
     ]
    },
    {
     "name": "stdout",
     "output_type": "stream",
     "text": [
      "begin evaluation!!!\n",
      "eval_loss: 1.070097763822894\n",
      "eval_accuracy: 0.6204735376044568\n"
     ]
    }
   ],
   "source": [
    "global_step=0\n",
    "model.train()\n",
    "\n",
    "for epoch in range(epoch_num):\n",
    "    train_loss=0\n",
    "    training_case_num=0\n",
    "    training_step_num=0\n",
    "    \n",
    "  \n",
    "  \n",
    "    print(\"Training Epoch: {}/{}\".format(epoch+1, int(epoch_num)))\n",
    "    train_race(train_data,device,n_gpu,model,optimizer,global_step,num_train_steps,train_loss,training_case_num,training_step_num)\n",
    "#     if (global_step+1) % 100 == 0:\n",
    "    model.eval()\n",
    "    val_race(eval_data, device, model, global_step, train_loss, training_step_num)\n",
    "\n",
    "  "
   ]
  },
  {
   "cell_type": "code",
   "execution_count": 22,
   "id": "0656d739",
   "metadata": {},
   "outputs": [],
   "source": [
    "test_path='data/test/middle'\n",
    "is_training_test=False\n",
    "test_input_cloze,test_input_direct=to_input(test_path)\n",
    "test_sequences_cloze=input_to_sequence_cloze(test_input_cloze,max_seq_length,tokenizer,is_training_test)\n",
    "test_sequences_direct=input_to_sequence_question(test_input_direct,max_seq_length,tokenizer,is_training_test)\n",
    "test_sequences=test_sequences_cloze+test_sequences_direct\n",
    "test_batch_size=1\n",
    "\n",
    "test_input_sequence=to_all_tensor(test_sequences,'input_sequence')\n",
    "test_segment_id=to_all_tensor(test_sequences,'segment_id')\n",
    "test_mask_id=to_all_tensor(test_sequences,'mask_id')\n",
    "test_label=torch.tensor([case.label for case in test_sequences],dtype=torch.long)\n",
    "\n",
    "test_dataset=TensorDataset(test_input_sequence,test_segment_id,test_mask_id,test_label)\n",
    "test_sampler=RandomSampler(test_dataset)\n",
    "test_data=DataLoader(test_dataset,sampler=test_sampler, batch_size=batch_size)\n",
    "\n",
    "\n",
    "\n"
   ]
  },
  {
   "cell_type": "code",
   "execution_count": 23,
   "id": "79d03012",
   "metadata": {},
   "outputs": [],
   "source": [
    "test_path2='data/test/high'\n",
    "is_training_test=False\n",
    "test_input2_cloze,test_input2_direct=to_input(test_path2)\n",
    "test_sequences2_cloze=input_to_sequence_cloze(test_input2_cloze,max_seq_length,tokenizer,is_training_test)\n",
    "test_sequences2_direct=input_to_sequence_question(test_input2_direct,max_seq_length,tokenizer,is_training_test)\n",
    "test_sequences2=test_sequences2_cloze+test_sequences2_direct\n",
    "test_batch_size=1\n",
    "\n",
    "test_input_sequence2=to_all_tensor(test_sequences2,'input_sequence')\n",
    "test_segment_id2=to_all_tensor(test_sequences2,'segment_id')\n",
    "test_mask_id2=to_all_tensor(test_sequences2,'mask_id')\n",
    "test_label2=torch.tensor([case.label for case in test_sequences2],dtype=torch.long)\n",
    "\n",
    "test_dataset2=TensorDataset(test_input_sequence2,test_segment_id2,test_mask_id2,test_label2)\n",
    "test_sampler2=RandomSampler(test_dataset2)\n",
    "test_data2=DataLoader(test_dataset2,sampler=test_sampler2, batch_size=batch_size)"
   ]
  },
  {
   "cell_type": "code",
   "execution_count": 24,
   "id": "5e9cad14",
   "metadata": {},
   "outputs": [],
   "source": [
    "test_cloze=test_sequences_cloze+test_sequences2_cloze\n",
    "test_direct=test_sequences_direct+test_sequences2_direct\n",
    "\n",
    "test_input_sequence_cloze=to_all_tensor(test_cloze,'input_sequence')\n",
    "test_segment_id_cloze=to_all_tensor(test_cloze,'segment_id')\n",
    "test_mask_id_cloze=to_all_tensor(test_cloze,'mask_id')\n",
    "test_label_cloze=torch.tensor([case.label for case in test_cloze],dtype=torch.long)\n",
    "\n",
    "test_dataset_cloze=TensorDataset(test_input_sequence_cloze,test_segment_id_cloze,test_mask_id_cloze,test_label_cloze)\n",
    "test_sampler_cloze=RandomSampler(test_dataset_cloze)\n",
    "test_data_cloze=DataLoader(test_dataset_cloze,sampler=test_sampler_cloze, batch_size=batch_size)"
   ]
  },
  {
   "cell_type": "code",
   "execution_count": 25,
   "id": "36838d9e",
   "metadata": {},
   "outputs": [],
   "source": [
    "test_input_sequence_direct=to_all_tensor(test_direct,'input_sequence')\n",
    "test_segment_id_direct=to_all_tensor(test_direct,'segment_id')\n",
    "test_mask_id_direct=to_all_tensor(test_direct,'mask_id')\n",
    "test_label_direct=torch.tensor([case.label for case in test_direct],dtype=torch.long)\n",
    "\n",
    "test_dataset_direct=TensorDataset(test_input_sequence_direct,test_segment_id_direct,test_mask_id_direct,test_label_direct)\n",
    "test_sampler_direct=RandomSampler(test_dataset_direct)\n",
    "test_data_direct=DataLoader(test_dataset_direct,sampler=test_sampler_direct, batch_size=batch_size)"
   ]
  },
  {
   "cell_type": "code",
   "execution_count": 26,
   "id": "26659324",
   "metadata": {},
   "outputs": [],
   "source": [
    "def test_race(test_dataloader,device,model,global_step):\n",
    "    print(\"begin testing!!!\")\n",
    "    test_loss, test_accuracy = 0, 0\n",
    "    nb_test_steps, nb_test_examples = 0, 0\n",
    "    for step, batch in enumerate(test_dataloader):\n",
    "        batch = tuple(t.to(device) for t in batch)\n",
    "        input_ids, segment_ids, input_mask, label_ids = batch\n",
    "\n",
    "        with torch.no_grad():\n",
    "            tmp_test_loss = model(input_ids, segment_ids, input_mask, label_ids)\n",
    "            logits = model(input_ids, segment_ids, input_mask)\n",
    "\n",
    "        logits = logits.detach().cpu().numpy()\n",
    "        label_ids = label_ids.to('cpu').numpy()\n",
    "        tmp_test_accuracy = accuracy(logits, label_ids)\n",
    "\n",
    "        test_loss += tmp_test_loss.mean().item()\n",
    "        test_accuracy += tmp_test_accuracy\n",
    "\n",
    "        nb_test_examples += input_ids.size(0)\n",
    "        nb_test_steps += 1\n",
    "\n",
    "    test_loss = test_loss / nb_test_steps\n",
    "    test_accuracy = test_accuracy / nb_test_examples\n",
    "    print(\"test_loss:\",test_loss)\n",
    "    print(\"test_accuracy:\",test_accuracy)\n",
    "\n",
    "    result = {'dev_test_loss': test_loss,\n",
    "              'dev_test_accuracy': test_accuracy,\n",
    "              'global_step': global_step}\n",
    "\n",
    "    output_test_file = os.path.join('output', \"test_results.txt\")\n",
    "    with open(output_test_file, \"a+\") as writer:\n",
    "        for key in sorted(result.keys()):\n",
    "            writer.write(\"%s = %s\\n\" % (key, str(result[key])))"
   ]
  },
  {
   "cell_type": "code",
   "execution_count": 27,
   "id": "5970c246",
   "metadata": {},
   "outputs": [
    {
     "name": "stdout",
     "output_type": "stream",
     "text": [
      "begin testing!!!\n",
      "test_loss: 1.0364469541548065\n",
      "test_accuracy: 0.6511142061281338\n"
     ]
    }
   ],
   "source": [
    "model.eval()\n",
    "test_race(test_data, device, model, global_step)"
   ]
  },
  {
   "cell_type": "code",
   "execution_count": 28,
   "id": "5e4ae14b",
   "metadata": {},
   "outputs": [
    {
     "name": "stdout",
     "output_type": "stream",
     "text": [
      "begin testing!!!\n",
      "test_loss: 1.3302887053596122\n",
      "test_accuracy: 0.5363064608347627\n"
     ]
    }
   ],
   "source": [
    "model.eval()\n",
    "test_race(test_data2, device, model, global_step)"
   ]
  },
  {
   "cell_type": "code",
   "execution_count": 29,
   "id": "c31e2eb3",
   "metadata": {},
   "outputs": [
    {
     "name": "stdout",
     "output_type": "stream",
     "text": [
      "begin testing!!!\n",
      "test_loss: 1.23762812618392\n",
      "test_accuracy: 0.5821969696969697\n"
     ]
    }
   ],
   "source": [
    "model.eval()\n",
    "test_race(test_data_cloze,device,model,global_step)"
   ]
  },
  {
   "cell_type": "code",
   "execution_count": 30,
   "id": "841448be",
   "metadata": {},
   "outputs": [
    {
     "name": "stdout",
     "output_type": "stream",
     "text": [
      "begin testing!!!\n",
      "test_loss: 1.2497517436106758\n",
      "test_accuracy: 0.5553618134263295\n"
     ]
    }
   ],
   "source": [
    "model.eval()\n",
    "test_race(test_data_direct,device,model,global_step)"
   ]
  },
  {
   "cell_type": "code",
   "execution_count": null,
   "id": "d166c9bd",
   "metadata": {},
   "outputs": [],
   "source": []
  }
 ],
 "metadata": {
  "kernelspec": {
   "display_name": "Python 3",
   "language": "python",
   "name": "python3"
  },
  "language_info": {
   "codemirror_mode": {
    "name": "ipython",
    "version": 3
   },
   "file_extension": ".py",
   "mimetype": "text/x-python",
   "name": "python",
   "nbconvert_exporter": "python",
   "pygments_lexer": "ipython3",
   "version": "3.8.8"
  }
 },
 "nbformat": 4,
 "nbformat_minor": 5
}
