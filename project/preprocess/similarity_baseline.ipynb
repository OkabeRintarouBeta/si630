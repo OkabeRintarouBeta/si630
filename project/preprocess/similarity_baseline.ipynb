{
 "cells": [
  {
   "cell_type": "code",
   "execution_count": 1,
   "id": "beb4d7c2",
   "metadata": {},
   "outputs": [],
   "source": [
    "import pandas as pd\n",
    "import numpy as np\n",
    "import os\n",
    "import json"
   ]
  },
  {
   "cell_type": "code",
   "execution_count": 2,
   "id": "ab659067",
   "metadata": {},
   "outputs": [
    {
     "name": "stdout",
     "output_type": "stream",
     "text": [
      "Loading Glove Model\n",
      "400001 words loaded!\n"
     ]
    }
   ],
   "source": [
    "glove_path='../glove.6B/glove.6B.50d.txt'\n",
    "\n",
    "def load_glove_model(File):\n",
    "    print(\"Loading Glove Model\")\n",
    "    glove_model = {}\n",
    "    with open(File,'r') as f:\n",
    "        for line in f:\n",
    "            split_line = line.split()\n",
    "            word = split_line[0]\n",
    "            embedding = np.array(split_line[1:], dtype=np.float64)\n",
    "            glove_model[word] = embedding\n",
    "    print(f\"{len(glove_model)} words loaded!\")\n",
    "    return glove_model\n",
    "\n",
    "\n",
    "glove_model=load_glove_model(glove_path)"
   ]
  },
  {
   "cell_type": "code",
   "execution_count": 3,
   "id": "0036856f",
   "metadata": {},
   "outputs": [
    {
     "data": {
      "text/plain": [
       "array([-0.38497 ,  0.80092 ,  0.064106, -0.28355 , -0.026759, -0.34532 ,\n",
       "       -0.64253 , -0.11729 , -0.33257 ,  0.55243 , -0.087813,  0.9035  ,\n",
       "        0.47102 ,  0.56657 ,  0.6985  , -0.35229 , -0.86542 ,  0.90573 ,\n",
       "        0.03576 , -0.071705, -0.12327 ,  0.54923 ,  0.47005 ,  0.35572 ,\n",
       "        1.2611  , -0.67581 , -0.94983 ,  0.68666 ,  0.3871  , -1.3492  ,\n",
       "        0.63512 ,  0.46416 , -0.48814 ,  0.83827 , -0.9246  , -0.33722 ,\n",
       "        0.53741 , -1.0616  , -0.081403, -0.67111 ,  0.30923 , -0.3923  ,\n",
       "       -0.55002 , -0.68827 ,  0.58049 , -0.11626 ,  0.013139, -0.57654 ,\n",
       "        0.048833,  0.67204 ])"
      ]
     },
     "execution_count": 3,
     "metadata": {},
     "output_type": "execute_result"
    }
   ],
   "source": [
    "glove_model['hello']"
   ]
  },
  {
   "cell_type": "code",
   "execution_count": 4,
   "id": "dfb1808c",
   "metadata": {},
   "outputs": [],
   "source": [
    "from nltk.tokenize import sent_tokenize,word_tokenize\n",
    "\n",
    "\n",
    "\n",
    "\n",
    "def to_embedding(sentence):\n",
    "    total_embed=np.zeros(50)\n",
    "    word_list=word_tokenize(sentence)\n",
    "    for word in word_list:\n",
    "        if word in glove_model:\n",
    "            embed=glove_model[word]\n",
    "        elif word.lower() in glove_model:\n",
    "            embed=glove_model[word.lower()]\n",
    "        else:\n",
    "            embed=np.zeros(50)\n",
    "        total_embed+=embed\n",
    "    return total_embed\n",
    "\n",
    "def compare_ans(pred,correct):\n",
    "    if (correct=='A' and pred==0) or (correct=='B' and pred==1) or (correct=='C' and pred==2) or (correct=='D' and pred==3):\n",
    "        return True\n",
    "    return False"
   ]
  },
  {
   "cell_type": "code",
   "execution_count": 5,
   "id": "16f05884",
   "metadata": {},
   "outputs": [],
   "source": [
    "from sklearn.metrics.pairwise import cosine_similarity\n",
    "\n",
    "def generate_answer(answers_list,options_list,questions_list,article,question_num):\n",
    "    sentence_embed_list=[]\n",
    "    correct=0\n",
    "    wrong=0\n",
    "    \n",
    "    sentence_list = sent_tokenize(article)\n",
    "    for i in range(len(sentence_list)):\n",
    "        sentence_group=sentence_list[i]\n",
    "        sentence_embed=to_embedding(sentence_group)\n",
    "        sentence_embed_list.append(sentence_embed)\n",
    "    \n",
    "    \n",
    "    \n",
    "    \n",
    "    for i in range(question_num):\n",
    "        similarity_list=[]\n",
    "        question=questions_list[i]\n",
    "        for option in options_list[i]:\n",
    "            option_embed=to_embedding(option+question)\n",
    "            max_similarity=0\n",
    "            for sentence_embed in sentence_embed_list:\n",
    "                similarity=cosine_similarity(np.reshape(option_embed,(1,-1)),np.reshape(sentence_embed,(1,-1)))[0][0]\n",
    "                max_similarity=max(abs(similarity),max_similarity)\n",
    "                \n",
    "            similarity_list.append(max_similarity)\n",
    "        \n",
    "        max_value=max(similarity_list)\n",
    "        max_idx=similarity_list.index(max_value)\n",
    "        \n",
    "        \n",
    "#         print(max_idx,answers_list[i])\n",
    "        if compare_ans(max_idx,answers_list[i]):\n",
    "            correct+=1\n",
    "        else:\n",
    "            wrong+=1\n",
    "    return correct,wrong"
   ]
  },
  {
   "cell_type": "code",
   "execution_count": 6,
   "id": "979518ec",
   "metadata": {},
   "outputs": [],
   "source": [
    "train_middle_data_path='../data/test/middle'\n",
    "train_high_data_path='../data/test/high'\n",
    "\n",
    "\n",
    "total_correct=0\n",
    "total_wrong=0\n",
    "\n",
    "for filename in os.listdir(train_middle_data_path):\n",
    "    file_path=train_middle_data_path+\"/\"+filename\n",
    "    with open(file_path,'r') as f:\n",
    "        json_text=json.loads(f.read())\n",
    "        correct_answers=json_text['answers']\n",
    "        options_list=json_text['options']\n",
    "        questions_list=json_text['questions']\n",
    "        article=json_text['article']\n",
    "        correct,wrong=generate_answer(correct_answers,options_list,questions_list,article,len(correct_answers))\n",
    "        total_correct+=correct\n",
    "        total_wrong+=wrong"
   ]
  },
  {
   "cell_type": "code",
   "execution_count": 7,
   "id": "994b7a9d",
   "metadata": {},
   "outputs": [
    {
     "data": {
      "text/plain": [
       "433"
      ]
     },
     "execution_count": 7,
     "metadata": {},
     "output_type": "execute_result"
    }
   ],
   "source": [
    "total_correct"
   ]
  },
  {
   "cell_type": "code",
   "execution_count": 8,
   "id": "b108ee7c",
   "metadata": {},
   "outputs": [
    {
     "data": {
      "text/plain": [
       "1003"
      ]
     },
     "execution_count": 8,
     "metadata": {},
     "output_type": "execute_result"
    }
   ],
   "source": [
    "total_wrong"
   ]
  },
  {
   "cell_type": "code",
   "execution_count": 10,
   "id": "3e0fc41c",
   "metadata": {},
   "outputs": [
    {
     "data": {
      "text/plain": [
       "0.30153203342618384"
      ]
     },
     "execution_count": 10,
     "metadata": {},
     "output_type": "execute_result"
    }
   ],
   "source": [
    "(total_correct)/(total_correct+total_wrong)"
   ]
  },
  {
   "cell_type": "code",
   "execution_count": 11,
   "id": "4471403e",
   "metadata": {},
   "outputs": [],
   "source": [
    "train_middle_data_path='../data/test/middle'\n",
    "train_high_data_path='../data/test/high'\n",
    "\n",
    "\n",
    "total_correct=0\n",
    "total_wrong=0\n",
    "\n",
    "for filename in os.listdir(train_high_data_path):\n",
    "    file_path=train_high_data_path+\"/\"+filename\n",
    "#     print(file_path)\n",
    "    with open(file_path,'r') as f:\n",
    "        \n",
    "        json_text=json.loads(f.read())\n",
    "        correct_answers=json_text['answers']\n",
    "        options_list=json_text['options']\n",
    "        questions_list=json_text['questions']\n",
    "        article=json_text['article']\n",
    "        correct,wrong=generate_answer(correct_answers,options_list,questions_list,article,len(correct_answers))\n",
    "        total_correct+=correct\n",
    "        total_wrong+=wrong"
   ]
  },
  {
   "cell_type": "code",
   "execution_count": 12,
   "id": "ee416822",
   "metadata": {},
   "outputs": [
    {
     "data": {
      "text/plain": [
       "0.2718696397941681"
      ]
     },
     "execution_count": 12,
     "metadata": {},
     "output_type": "execute_result"
    }
   ],
   "source": [
    "(total_correct)/(total_correct+total_wrong)"
   ]
  },
  {
   "cell_type": "code",
   "execution_count": 31,
   "id": "97355a6e",
   "metadata": {},
   "outputs": [],
   "source": [
    "from numpy import random\n",
    "\n",
    "correct_ans=0\n",
    "wrong_ans=0\n",
    "\n",
    "test_middle_data_path='../data/test/middle'\n",
    "test_high_data_path='../data/test/high'\n",
    "\n",
    "\n",
    "for filename in os.listdir(test_middle_data_path):\n",
    "    file_path=train_middle_data_path+\"/\"+filename\n",
    "    with open(file_path,'r') as f:\n",
    "        json_text=json.loads(f.read())\n",
    "        correct_answers=json_text['answers']\n",
    "        options_list=json_text['options']\n",
    "        questions_list=json_text['questions']\n",
    "        article=json_text['article']\n",
    "\n",
    "        for i in range(len(questions_list)):\n",
    "            correct_answer=correct_answers[i]\n",
    "            \n",
    "            pred=random.randint(1,5)\n",
    "#             print(correct_ans,pred)\n",
    "            if correct_answer=='A' and pred==1 or correct_answer=='B' and pred==2 or correct_answer=='C' and pred==3 or correct_answer=='D' and pred==4:\n",
    "                correct_ans+=1\n",
    "            else:\n",
    "                wrong_ans+=1\n",
    "                "
   ]
  },
  {
   "cell_type": "code",
   "execution_count": 33,
   "id": "d95b5f47",
   "metadata": {},
   "outputs": [
    {
     "data": {
      "text/plain": [
       "0.2562674094707521"
      ]
     },
     "execution_count": 33,
     "metadata": {},
     "output_type": "execute_result"
    }
   ],
   "source": [
    "correct_ans/(correct_ans+wrong_ans)"
   ]
  },
  {
   "cell_type": "code",
   "execution_count": 34,
   "id": "961cea98",
   "metadata": {},
   "outputs": [
    {
     "data": {
      "text/plain": [
       "0.2567181246426529"
      ]
     },
     "execution_count": 34,
     "metadata": {},
     "output_type": "execute_result"
    }
   ],
   "source": [
    "from numpy import random\n",
    "\n",
    "correct_ans=0\n",
    "wrong_ans=0\n",
    "\n",
    "test_middle_data_path='../data/test/middle'\n",
    "test_high_data_path='../data/test/high'\n",
    "\n",
    "\n",
    "for filename in os.listdir(test_high_data_path):\n",
    "    file_path=train_high_data_path+\"/\"+filename\n",
    "    with open(file_path,'r') as f:\n",
    "        json_text=json.loads(f.read())\n",
    "        correct_answers=json_text['answers']\n",
    "        options_list=json_text['options']\n",
    "        questions_list=json_text['questions']\n",
    "        article=json_text['article']\n",
    "\n",
    "        for i in range(len(questions_list)):\n",
    "            correct_answer=correct_answers[i]\n",
    "            \n",
    "            pred=random.randint(1,5)\n",
    "#             print(correct_ans,pred)\n",
    "            if correct_answer=='A' and pred==1 or correct_answer=='B' and pred==2 or correct_answer=='C' and pred==3 or correct_answer=='D' and pred==4:\n",
    "                correct_ans+=1\n",
    "            else:\n",
    "                wrong_ans+=1\n",
    "                \n",
    "correct_ans/(correct_ans+wrong_ans)"
   ]
  },
  {
   "cell_type": "code",
   "execution_count": 47,
   "id": "acc2fa3d",
   "metadata": {},
   "outputs": [],
   "source": [
    "import seaborn as sns\n",
    "import matplotlib.pyplot as plt"
   ]
  },
  {
   "cell_type": "code",
   "execution_count": 51,
   "id": "2b5b8bb2",
   "metadata": {},
   "outputs": [
    {
     "data": {
      "image/png": "[encoded data removed]",
      "text/plain": [
       "<Figure size 432x288 with 1 Axes>"
      ]
     },
     "metadata": {},
     "output_type": "display_data"
    }
   ],
   "source": [
    "accuracy=[25.63,25.67,26.04,27.16,30.15,27.19]\n",
    "method=['Random Guess','Random Guess','Choose Majority','Choose Majority','Compare Similarity','Compare Similarity']\n",
    "category=['Middle','High','Middle','High','Middle','High']\n",
    "data=list(zip(accuracy,method,category))\n",
    "\n",
    "choices_df=pd.DataFrame(data,columns=['Accuracy','Method','Category'])\n",
    "ax = sns.barplot(x=\"Method\", y=\"Accuracy\", hue=\"Category\", data=choices_df)\n",
    "ax.set_ylim(24,31)\n",
    "sns.set(font_scale = 1)\n",
    "\n",
    "ax.set_xlabel(\"Method\",size=1.5)\n",
    "plt.legend(bbox_to_anchor=(1.02, 1), loc='upper left', borderaxespad=0)\n",
    "for container in ax.containers:\n",
    "    ax.bar_label(container)"
   ]
  },
  {
   "cell_type": "code",
   "execution_count": null,
   "id": "b0443b65",
   "metadata": {},
   "outputs": [],
   "source": []
  }
 ],
 "metadata": {
  "kernelspec": {
   "display_name": "Python 3 (ipykernel)",
   "language": "python",
   "name": "python3"
  },
  "language_info": {
   "codemirror_mode": {
    "name": "ipython",
    "version": 3
   },
   "file_extension": ".py",
   "mimetype": "text/x-python",
   "name": "python",
   "nbconvert_exporter": "python",
   "pygments_lexer": "ipython3",
   "version": "3.7.11"
  }
 },
 "nbformat": 4,
 "nbformat_minor": 5
}
